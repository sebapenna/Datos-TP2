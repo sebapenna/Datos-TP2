{
 "cells": [
  {
   "cell_type": "code",
   "execution_count": 81,
   "metadata": {
    "_cell_guid": "b1076dfc-b9ad-4769-8c92-a6c4dae69d19",
    "_uuid": "8f2839f25d086af736a60e9eeb907d3b93b6e0e5"
   },
   "outputs": [],
   "source": [
    "import pandas as pd\n",
    "import numpy as np\n",
    "import scipy\n",
    "import sklearn \n",
    "import datetime as dt\n",
    "import xgboost as XGB\n",
    "from sklearn.neighbors import KNeighborsClassifier\n",
    "from sklearn.ensemble import RandomForestRegressor\n",
    "from sklearn.feature_selection import SelectFromModel\n",
    "\n",
    "\n",
    "from sklearn.model_selection import GridSearchCV, cross_validate, RandomizedSearchCV\n",
    "from sklearn.utils import shuffle\n",
    "\n",
    "from sklearn import metrics\n",
    "from sklearn.model_selection import train_test_split\n",
    "pd.set_option('display.float_format', lambda x: '%.3f' % x)\n",
    "\n",
    "\n",
    "# pd.options.display.float_format = '{:20,.0f}'.format # suprimimos la notacion cientifica en los outputs"
   ]
  },
  {
   "cell_type": "code",
   "execution_count": 82,
   "metadata": {
    "_cell_guid": "79c7e3d0-c299-4dcb-8224-4455121ee9b0",
    "_uuid": "d629ff2d2480ee46fbb7e2d37f6b5fab8052498a"
   },
   "outputs": [],
   "source": [
    "path = 'data/'\n",
    "features = pd.read_csv(path + 'features.csv')\n",
    "test = pd.read_csv(path + 'testModified.csv')"
   ]
  },
  {
   "cell_type": "code",
   "execution_count": 83,
   "metadata": {},
   "outputs": [],
   "source": [
    "x = features.drop('precio',1)\n",
    "y = features['precio']\n",
    "tst_sz = 0.3 # Mejor valor\n",
    "seed = 139\n",
    "# x_train, x_test, y_train, y_test = train_test_split(x, y, test_size=tst_sz,random_state=seed)\n",
    "x, y = shuffle(x, y, random_state=seed)"
   ]
  },
  {
   "cell_type": "code",
   "execution_count": 84,
   "metadata": {},
   "outputs": [],
   "source": [
    "n_estimators = [int(x) for x in np.linspace(start = 200, stop = 2000, num = 10)] # Numero de arboles\n",
    "max_features = ['auto', 'sqrt'] # Numero de features a considerar en cada split\n",
    "max_depth = [int(x) for x in np.linspace(10, 110, num = 11)] # Cantidad maxima de niveles en el arbol\n",
    "max_depth.append(None)\n",
    "min_samples_split = [2, 5, 10] # Numero minimo de muestras para splitear nodo\n",
    "min_samples_leaf = [1, 2, 4] # Numero minimo de muestras requeridas en cada nodo hoja\n",
    "bootstrap = [True, False] # Metodo seleccion muestras para entrenar cada arbol"
   ]
  },
  {
   "cell_type": "code",
   "execution_count": 85,
   "metadata": {},
   "outputs": [],
   "source": [
    "random_grid = {'n_estimators': n_estimators,\n",
    "               'max_features': max_features,\n",
    "               'max_depth': max_depth,\n",
    "               'min_samples_split': min_samples_split,\n",
    "               'min_samples_leaf': min_samples_leaf,\n",
    "               'bootstrap': bootstrap}"
   ]
  },
  {
   "cell_type": "markdown",
   "metadata": {},
   "source": [
    "rf = RandomForestRegressor()\n",
    "rf_random = RandomizedSearchCV(estimator = rf, param_distributions = random_grid, n_iter = 100, cv = 3, verbose=100, random_state=42, n_jobs = -1)\n",
    "rf_random.fit(x, y)"
   ]
  },
  {
   "cell_type": "markdown",
   "metadata": {},
   "source": [
    "scoring = {'abs_error': 'neg_mean_absolute_error'}\n",
    "scores = cross_validate(rf_random.best_estimator_, x, y, cv=10, scoring=scoring, return_train_score=True, verbose=30, n_jobs=-1)\n",
    "print(\"MAE :\", abs(scores['test_abs_error'].mean()))"
   ]
  },
  {
   "cell_type": "markdown",
   "metadata": {},
   "source": [
    "sel = SelectFromModel(RandomForestRegressor(n_estimators=200, max_features='auto', max_depth=100, min_samples_split=5, min_samples_leaf=3, bootstrap=True))\n",
    "sel.fit(x, y)"
   ]
  },
  {
   "cell_type": "markdown",
   "metadata": {},
   "source": [
    "x.columns[sel.get_support()]"
   ]
  },
  {
   "cell_type": "code",
   "execution_count": 86,
   "metadata": {},
   "outputs": [],
   "source": [
    "rf_model = RandomForestRegressor(n_estimators=200, max_features='auto', max_depth=100, min_samples_split=5, min_samples_leaf=3, bootstrap=True)"
   ]
  },
  {
   "cell_type": "code",
   "execution_count": 87,
   "metadata": {},
   "outputs": [
    {
     "name": "stderr",
     "output_type": "stream",
     "text": [
      "[Parallel(n_jobs=2)]: Using backend LokyBackend with 2 concurrent workers.\n",
      "[Parallel(n_jobs=2)]: Done   1 tasks      | elapsed:  4.4min\n",
      "[Parallel(n_jobs=2)]: Done   2 out of   4 | elapsed:  4.4min remaining:  4.4min\n"
     ]
    },
    {
     "name": "stdout",
     "output_type": "stream",
     "text": [
      "MAE : 657027.9793820439\n"
     ]
    },
    {
     "name": "stderr",
     "output_type": "stream",
     "text": [
      "[Parallel(n_jobs=2)]: Done   4 out of   4 | elapsed:  9.8min remaining:    0.0s\n",
      "[Parallel(n_jobs=2)]: Done   4 out of   4 | elapsed:  9.8min finished\n"
     ]
    }
   ],
   "source": [
    "scoring = {'abs_error': 'neg_mean_absolute_error'}\n",
    "scores = cross_validate(rf_model, x, y, cv=4, scoring=scoring, return_train_score=True, verbose=30, n_jobs=2)\n",
    "print(\"MAE :\", abs(scores['test_abs_error'].mean()))"
   ]
  },
  {
   "cell_type": "code",
   "execution_count": 88,
   "metadata": {},
   "outputs": [],
   "source": [
    "rf_model.fit(x,y)\n",
    "rf_predict = rf_model.predict(test.drop(['id'], axis=1))"
   ]
  },
  {
   "cell_type": "code",
   "execution_count": 89,
   "metadata": {},
   "outputs": [],
   "source": [
    "res = pd.DataFrame(rf_predict, index=test.id, columns=['precio'])"
   ]
  },
  {
   "cell_type": "code",
   "execution_count": 90,
   "metadata": {},
   "outputs": [],
   "source": [
    "res = res.rename({'precio':'target'}, axis=1)"
   ]
  },
  {
   "cell_type": "code",
   "execution_count": 91,
   "metadata": {},
   "outputs": [],
   "source": [
    "res.to_csv(\"predictions/rf_predictions.csv\", header = True)"
   ]
  },
  {
   "cell_type": "code",
   "execution_count": 92,
   "metadata": {},
   "outputs": [
    {
     "data": {
      "text/plain": [
       "(60000, 1)"
      ]
     },
     "execution_count": 92,
     "metadata": {},
     "output_type": "execute_result"
    }
   ],
   "source": [
    "res.shape"
   ]
  },
  {
   "cell_type": "code",
   "execution_count": 93,
   "metadata": {},
   "outputs": [
    {
     "data": {
      "text/html": [
       "<div>\n",
       "<style scoped>\n",
       "    .dataframe tbody tr th:only-of-type {\n",
       "        vertical-align: middle;\n",
       "    }\n",
       "\n",
       "    .dataframe tbody tr th {\n",
       "        vertical-align: top;\n",
       "    }\n",
       "\n",
       "    .dataframe thead th {\n",
       "        text-align: right;\n",
       "    }\n",
       "</style>\n",
       "<table border=\"1\" class=\"dataframe\">\n",
       "  <thead>\n",
       "    <tr style=\"text-align: right;\">\n",
       "      <th></th>\n",
       "      <th>target</th>\n",
       "    </tr>\n",
       "    <tr>\n",
       "      <th>id</th>\n",
       "      <th></th>\n",
       "    </tr>\n",
       "  </thead>\n",
       "  <tbody>\n",
       "    <tr>\n",
       "      <th>4941</th>\n",
       "      <td>5306295.699</td>\n",
       "    </tr>\n",
       "    <tr>\n",
       "      <th>51775</th>\n",
       "      <td>1099183.366</td>\n",
       "    </tr>\n",
       "    <tr>\n",
       "      <th>115253</th>\n",
       "      <td>2329376.034</td>\n",
       "    </tr>\n",
       "    <tr>\n",
       "      <th>299321</th>\n",
       "      <td>1464009.519</td>\n",
       "    </tr>\n",
       "    <tr>\n",
       "      <th>173570</th>\n",
       "      <td>744980.206</td>\n",
       "    </tr>\n",
       "    <tr>\n",
       "      <th>30862</th>\n",
       "      <td>1792473.705</td>\n",
       "    </tr>\n",
       "    <tr>\n",
       "      <th>244471</th>\n",
       "      <td>2137816.298</td>\n",
       "    </tr>\n",
       "    <tr>\n",
       "      <th>127794</th>\n",
       "      <td>548334.860</td>\n",
       "    </tr>\n",
       "    <tr>\n",
       "      <th>71558</th>\n",
       "      <td>2613294.451</td>\n",
       "    </tr>\n",
       "    <tr>\n",
       "      <th>218011</th>\n",
       "      <td>1902360.089</td>\n",
       "    </tr>\n",
       "    <tr>\n",
       "      <th>148208</th>\n",
       "      <td>3337354.881</td>\n",
       "    </tr>\n",
       "    <tr>\n",
       "      <th>155735</th>\n",
       "      <td>565058.739</td>\n",
       "    </tr>\n",
       "    <tr>\n",
       "      <th>100698</th>\n",
       "      <td>5164432.646</td>\n",
       "    </tr>\n",
       "    <tr>\n",
       "      <th>241403</th>\n",
       "      <td>1588251.176</td>\n",
       "    </tr>\n",
       "    <tr>\n",
       "      <th>195272</th>\n",
       "      <td>3287842.360</td>\n",
       "    </tr>\n",
       "    <tr>\n",
       "      <th>238663</th>\n",
       "      <td>1645089.928</td>\n",
       "    </tr>\n",
       "    <tr>\n",
       "      <th>262957</th>\n",
       "      <td>6217682.099</td>\n",
       "    </tr>\n",
       "    <tr>\n",
       "      <th>207082</th>\n",
       "      <td>1850093.217</td>\n",
       "    </tr>\n",
       "    <tr>\n",
       "      <th>298896</th>\n",
       "      <td>488187.716</td>\n",
       "    </tr>\n",
       "    <tr>\n",
       "      <th>220946</th>\n",
       "      <td>715117.458</td>\n",
       "    </tr>\n",
       "    <tr>\n",
       "      <th>74581</th>\n",
       "      <td>1559846.107</td>\n",
       "    </tr>\n",
       "    <tr>\n",
       "      <th>253578</th>\n",
       "      <td>4992286.437</td>\n",
       "    </tr>\n",
       "    <tr>\n",
       "      <th>47620</th>\n",
       "      <td>2795204.505</td>\n",
       "    </tr>\n",
       "    <tr>\n",
       "      <th>92772</th>\n",
       "      <td>2394804.122</td>\n",
       "    </tr>\n",
       "    <tr>\n",
       "      <th>116904</th>\n",
       "      <td>2519379.981</td>\n",
       "    </tr>\n",
       "    <tr>\n",
       "      <th>208352</th>\n",
       "      <td>2798285.138</td>\n",
       "    </tr>\n",
       "    <tr>\n",
       "      <th>76044</th>\n",
       "      <td>1502270.720</td>\n",
       "    </tr>\n",
       "    <tr>\n",
       "      <th>202667</th>\n",
       "      <td>795708.751</td>\n",
       "    </tr>\n",
       "    <tr>\n",
       "      <th>62134</th>\n",
       "      <td>4961474.105</td>\n",
       "    </tr>\n",
       "    <tr>\n",
       "      <th>277353</th>\n",
       "      <td>2900318.993</td>\n",
       "    </tr>\n",
       "    <tr>\n",
       "      <th>...</th>\n",
       "      <td>...</td>\n",
       "    </tr>\n",
       "    <tr>\n",
       "      <th>129589</th>\n",
       "      <td>4927170.774</td>\n",
       "    </tr>\n",
       "    <tr>\n",
       "      <th>85388</th>\n",
       "      <td>562901.794</td>\n",
       "    </tr>\n",
       "    <tr>\n",
       "      <th>50185</th>\n",
       "      <td>2754241.172</td>\n",
       "    </tr>\n",
       "    <tr>\n",
       "      <th>61187</th>\n",
       "      <td>2875448.664</td>\n",
       "    </tr>\n",
       "    <tr>\n",
       "      <th>190799</th>\n",
       "      <td>3209606.837</td>\n",
       "    </tr>\n",
       "    <tr>\n",
       "      <th>163414</th>\n",
       "      <td>2287798.280</td>\n",
       "    </tr>\n",
       "    <tr>\n",
       "      <th>12355</th>\n",
       "      <td>5271084.260</td>\n",
       "    </tr>\n",
       "    <tr>\n",
       "      <th>255748</th>\n",
       "      <td>1610943.684</td>\n",
       "    </tr>\n",
       "    <tr>\n",
       "      <th>176567</th>\n",
       "      <td>1050562.380</td>\n",
       "    </tr>\n",
       "    <tr>\n",
       "      <th>220463</th>\n",
       "      <td>3183556.127</td>\n",
       "    </tr>\n",
       "    <tr>\n",
       "      <th>260742</th>\n",
       "      <td>2026568.173</td>\n",
       "    </tr>\n",
       "    <tr>\n",
       "      <th>167651</th>\n",
       "      <td>1076008.531</td>\n",
       "    </tr>\n",
       "    <tr>\n",
       "      <th>282440</th>\n",
       "      <td>2413494.533</td>\n",
       "    </tr>\n",
       "    <tr>\n",
       "      <th>168663</th>\n",
       "      <td>1828382.759</td>\n",
       "    </tr>\n",
       "    <tr>\n",
       "      <th>166605</th>\n",
       "      <td>1874822.708</td>\n",
       "    </tr>\n",
       "    <tr>\n",
       "      <th>207997</th>\n",
       "      <td>1764407.892</td>\n",
       "    </tr>\n",
       "    <tr>\n",
       "      <th>268896</th>\n",
       "      <td>1715188.573</td>\n",
       "    </tr>\n",
       "    <tr>\n",
       "      <th>149564</th>\n",
       "      <td>2849152.275</td>\n",
       "    </tr>\n",
       "    <tr>\n",
       "      <th>53975</th>\n",
       "      <td>432878.947</td>\n",
       "    </tr>\n",
       "    <tr>\n",
       "      <th>54441</th>\n",
       "      <td>1244855.980</td>\n",
       "    </tr>\n",
       "    <tr>\n",
       "      <th>205625</th>\n",
       "      <td>4336508.625</td>\n",
       "    </tr>\n",
       "    <tr>\n",
       "      <th>284266</th>\n",
       "      <td>1588809.305</td>\n",
       "    </tr>\n",
       "    <tr>\n",
       "      <th>70244</th>\n",
       "      <td>5121057.860</td>\n",
       "    </tr>\n",
       "    <tr>\n",
       "      <th>59776</th>\n",
       "      <td>2648948.145</td>\n",
       "    </tr>\n",
       "    <tr>\n",
       "      <th>79100</th>\n",
       "      <td>3501315.748</td>\n",
       "    </tr>\n",
       "    <tr>\n",
       "      <th>75094</th>\n",
       "      <td>3956089.796</td>\n",
       "    </tr>\n",
       "    <tr>\n",
       "      <th>171847</th>\n",
       "      <td>943805.154</td>\n",
       "    </tr>\n",
       "    <tr>\n",
       "      <th>138313</th>\n",
       "      <td>1292757.579</td>\n",
       "    </tr>\n",
       "    <tr>\n",
       "      <th>271268</th>\n",
       "      <td>1509313.757</td>\n",
       "    </tr>\n",
       "    <tr>\n",
       "      <th>72612</th>\n",
       "      <td>2838520.052</td>\n",
       "    </tr>\n",
       "  </tbody>\n",
       "</table>\n",
       "<p>60000 rows × 1 columns</p>\n",
       "</div>"
      ],
      "text/plain": [
       "            target\n",
       "id                \n",
       "4941   5306295.699\n",
       "51775  1099183.366\n",
       "115253 2329376.034\n",
       "299321 1464009.519\n",
       "173570  744980.206\n",
       "...            ...\n",
       "75094  3956089.796\n",
       "171847  943805.154\n",
       "138313 1292757.579\n",
       "271268 1509313.757\n",
       "72612  2838520.052\n",
       "\n",
       "[60000 rows x 1 columns]"
      ]
     },
     "execution_count": 93,
     "metadata": {},
     "output_type": "execute_result"
    }
   ],
   "source": [
    "res"
   ]
  },
  {
   "cell_type": "code",
   "execution_count": null,
   "metadata": {},
   "outputs": [],
   "source": []
  }
 ],
 "metadata": {
  "kernelspec": {
   "display_name": "Python 3",
   "language": "python",
   "name": "python3"
  },
  "language_info": {
   "codemirror_mode": {
    "name": "ipython",
    "version": 3
   },
   "file_extension": ".py",
   "mimetype": "text/x-python",
   "name": "python",
   "nbconvert_exporter": "python",
   "pygments_lexer": "ipython3",
   "version": "3.7.3"
  }
 },
 "nbformat": 4,
 "nbformat_minor": 4
}
