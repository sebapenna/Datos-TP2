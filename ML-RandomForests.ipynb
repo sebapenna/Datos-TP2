{
 "cells": [
  {
   "cell_type": "code",
   "execution_count": 49,
   "metadata": {
    "_cell_guid": "b1076dfc-b9ad-4769-8c92-a6c4dae69d19",
    "_uuid": "8f2839f25d086af736a60e9eeb907d3b93b6e0e5"
   },
   "outputs": [],
   "source": [
    "import pandas as pd\n",
    "import numpy as np\n",
    "import scipy\n",
    "import sklearn \n",
    "import datetime as dt\n",
    "import xgboost as XGB\n",
    "from sklearn.neighbors import KNeighborsClassifier\n",
    "from sklearn.ensemble import RandomForestRegressor\n",
    "from sklearn.feature_selection import SelectFromModel\n",
    "\n",
    "\n",
    "from sklearn.model_selection import GridSearchCV, cross_validate, RandomizedSearchCV\n",
    "from sklearn.utils import shuffle\n",
    "\n",
    "from sklearn import metrics\n",
    "from sklearn.model_selection import train_test_split\n",
    "pd.set_option('display.float_format', lambda x: '%.3f' % x)\n",
    "\n",
    "\n",
    "# pd.options.display.float_format = '{:20,.0f}'.format # suprimimos la notacion cientifica en los outputs"
   ]
  },
  {
   "cell_type": "code",
   "execution_count": 50,
   "metadata": {
    "_cell_guid": "79c7e3d0-c299-4dcb-8224-4455121ee9b0",
    "_uuid": "d629ff2d2480ee46fbb7e2d37f6b5fab8052498a"
   },
   "outputs": [],
   "source": [
    "path = 'data/'\n",
    "features = pd.read_csv(path + 'features.csv')\n",
    "test = pd.read_csv(path + 'testModified.csv')"
   ]
  },
  {
   "cell_type": "code",
   "execution_count": 51,
   "metadata": {},
   "outputs": [],
   "source": [
    "x = features.drop('precio',1)\n",
    "y = features['precio']\n",
    "# tst_sz = 0.3 # Mejor valor\n",
    "# seed = 139\n",
    "# # x_train, x_test, y_train, y_test = train_test_split(x, y, test_size=tst_sz,random_state=seed)\n",
    "# x, y = shuffle(x, y, random_state=seed)"
   ]
  },
  {
   "cell_type": "code",
   "execution_count": 52,
   "metadata": {},
   "outputs": [],
   "source": [
    "n_estimators = [int(x) for x in np.linspace(start = 200, stop = 2000, num = 10)] # Numero de arboles\n",
    "max_features = ['auto', 'sqrt'] # Numero de features a considerar en cada split\n",
    "max_depth = [int(x) for x in np.linspace(10, 110, num = 11)] # Cantidad maxima de niveles en el arbol\n",
    "max_depth.append(None)\n",
    "min_samples_split = [10,20,30] # Numero minimo de muestras para splitear nodo\n",
    "min_samples_leaf = [4,6,8] # Numero minimo de muestras requeridas en cada nodo hoja\n",
    "bootstrap = [True, False] # Metodo seleccion muestras para entrenar cada arbol"
   ]
  },
  {
   "cell_type": "code",
   "execution_count": 53,
   "metadata": {},
   "outputs": [],
   "source": [
    "random_grid = {'n_estimators': n_estimators,\n",
    "               'max_features': max_features,\n",
    "               'max_depth': max_depth,\n",
    "               'min_samples_split': min_samples_split,\n",
    "               'min_samples_leaf': min_samples_leaf,\n",
    "               'bootstrap': bootstrap}"
   ]
  },
  {
   "cell_type": "code",
   "execution_count": 55,
   "metadata": {},
   "outputs": [],
   "source": [
    "tst_sz = 0.04 \n",
    "seed = 139\n",
    "x_train, x_test, y_train, y_test = train_test_split(x, y, test_size=tst_sz,random_state=seed)\n",
    "# values = {}\n",
    "# i = 1\n",
    "# params = {}\n",
    "# for n_est in n_estimators:\n",
    "#     for m_depth in max_depth:\n",
    "#             rf = RandomForestRegressor(n_estimators=n_est, max_features='auto', max_depth=m_depth, min_samples_split=10, min_samples_leaf=8, bootstrap=True)\n",
    "#             rf.fit(x_train, y_train)\n",
    "#             pred_rf = rf.predict(x_test)\n",
    "#             params[i] = [n_est,m_depth]\n",
    "#             values[i] = metrics.mean_absolute_error(y_test,pred_rf)\n",
    "#             print(params[i], \" = \", values[i])\n",
    "#             i = i + 1"
   ]
  },
  {
   "cell_type": "raw",
   "metadata": {},
   "source": [
    "rf = RandomForestRegressor()\n",
    "rf_random = RandomizedSearchCV(estimator = rf, param_distributions = random_grid, n_iter = 5, cv = 3, verbose=50, random_state=42, n_jobs = 2)\n",
    "rf_random.fit(x, y)"
   ]
  },
  {
   "cell_type": "raw",
   "metadata": {},
   "source": [
    "scoring = {'abs_error': 'neg_mean_absolute_error'}\n",
    "scores = cross_validate(rf_random.best_estimator_, x, y, cv=10, scoring=scoring, return_train_score=True, verbose=30, n_jobs=2)\n",
    "print(\"MAE :\", abs(scores['test_abs_error'].mean()))"
   ]
  },
  {
   "cell_type": "raw",
   "metadata": {},
   "source": [
    "sel = SelectFromModel(RandomForestRegressor(n_estimators=200, max_features='auto', max_depth=100, min_samples_split=5, min_samples_leaf=3, bootstrap=True))\n",
    "sel.fit(x, y)"
   ]
  },
  {
   "cell_type": "raw",
   "metadata": {},
   "source": [
    "x.columns[sel.get_support()]"
   ]
  },
  {
   "cell_type": "raw",
   "metadata": {},
   "source": [
    "rf_model = RandomForestRegressor(n_estimators=200, max_features='auto', max_depth=100, min_samples_split=5, min_samples_leaf=3, bootstrap=True)"
   ]
  },
  {
   "cell_type": "raw",
   "metadata": {},
   "source": [
    "scoring = {'abs_error': 'neg_mean_absolute_error'}\n",
    "scores = cross_validate(rf_model, x, y, cv=4, scoring=scoring, return_train_score=True, verbose=30, n_jobs=2)\n",
    "print(\"MAE :\", abs(scores['test_abs_error'].mean()))"
   ]
  },
  {
   "cell_type": "raw",
   "metadata": {},
   "source": [
    "rf_random.best_estimator_.fit(x,y)\n",
    "rf_predict = rf_model.predict(test.drop(['id'], axis=1))"
   ]
  },
  {
   "cell_type": "code",
   "execution_count": 57,
   "metadata": {},
   "outputs": [],
   "source": [
    "rf = RandomForestRegressor(n_estimators=200, max_features='auto', max_depth=10, min_samples_split=10, min_samples_leaf=8, bootstrap=True)\n",
    "rf.fit(x_train, y_train)\n",
    "rf_predict = rf.predict(test.drop(['id'], axis=1))"
   ]
  },
  {
   "cell_type": "code",
   "execution_count": 58,
   "metadata": {},
   "outputs": [],
   "source": [
    "res = pd.DataFrame(rf_predict, index=test.id, columns=['precio'])"
   ]
  },
  {
   "cell_type": "code",
   "execution_count": 59,
   "metadata": {},
   "outputs": [],
   "source": [
    "res = res.rename({'precio':'target'}, axis=1)"
   ]
  },
  {
   "cell_type": "code",
   "execution_count": 60,
   "metadata": {},
   "outputs": [],
   "source": [
    "res.to_csv(\"predictions/rf_predictions.csv\", header = True)"
   ]
  },
  {
   "cell_type": "code",
   "execution_count": 61,
   "metadata": {},
   "outputs": [
    {
     "data": {
      "text/plain": [
       "(60000, 1)"
      ]
     },
     "execution_count": 61,
     "metadata": {},
     "output_type": "execute_result"
    }
   ],
   "source": [
    "res.shape"
   ]
  },
  {
   "cell_type": "code",
   "execution_count": 62,
   "metadata": {},
   "outputs": [
    {
     "data": {
      "text/html": [
       "<div>\n",
       "<style scoped>\n",
       "    .dataframe tbody tr th:only-of-type {\n",
       "        vertical-align: middle;\n",
       "    }\n",
       "\n",
       "    .dataframe tbody tr th {\n",
       "        vertical-align: top;\n",
       "    }\n",
       "\n",
       "    .dataframe thead th {\n",
       "        text-align: right;\n",
       "    }\n",
       "</style>\n",
       "<table border=\"1\" class=\"dataframe\">\n",
       "  <thead>\n",
       "    <tr style=\"text-align: right;\">\n",
       "      <th></th>\n",
       "      <th>target</th>\n",
       "    </tr>\n",
       "    <tr>\n",
       "      <th>id</th>\n",
       "      <th></th>\n",
       "    </tr>\n",
       "  </thead>\n",
       "  <tbody>\n",
       "    <tr>\n",
       "      <th>4941</th>\n",
       "      <td>3605315.748</td>\n",
       "    </tr>\n",
       "    <tr>\n",
       "      <th>51775</th>\n",
       "      <td>860693.852</td>\n",
       "    </tr>\n",
       "    <tr>\n",
       "      <th>115253</th>\n",
       "      <td>1148615.537</td>\n",
       "    </tr>\n",
       "    <tr>\n",
       "      <th>299321</th>\n",
       "      <td>974570.875</td>\n",
       "    </tr>\n",
       "    <tr>\n",
       "      <th>173570</th>\n",
       "      <td>580286.277</td>\n",
       "    </tr>\n",
       "    <tr>\n",
       "      <th>30862</th>\n",
       "      <td>1527112.143</td>\n",
       "    </tr>\n",
       "    <tr>\n",
       "      <th>244471</th>\n",
       "      <td>2037703.431</td>\n",
       "    </tr>\n",
       "    <tr>\n",
       "      <th>127794</th>\n",
       "      <td>499515.726</td>\n",
       "    </tr>\n",
       "    <tr>\n",
       "      <th>71558</th>\n",
       "      <td>3089255.933</td>\n",
       "    </tr>\n",
       "    <tr>\n",
       "      <th>218011</th>\n",
       "      <td>1212131.529</td>\n",
       "    </tr>\n",
       "    <tr>\n",
       "      <th>148208</th>\n",
       "      <td>2462401.107</td>\n",
       "    </tr>\n",
       "    <tr>\n",
       "      <th>155735</th>\n",
       "      <td>519475.582</td>\n",
       "    </tr>\n",
       "    <tr>\n",
       "      <th>100698</th>\n",
       "      <td>3063238.933</td>\n",
       "    </tr>\n",
       "    <tr>\n",
       "      <th>241403</th>\n",
       "      <td>1716159.142</td>\n",
       "    </tr>\n",
       "    <tr>\n",
       "      <th>195272</th>\n",
       "      <td>1961988.556</td>\n",
       "    </tr>\n",
       "    <tr>\n",
       "      <th>238663</th>\n",
       "      <td>1229763.591</td>\n",
       "    </tr>\n",
       "    <tr>\n",
       "      <th>262957</th>\n",
       "      <td>4299529.383</td>\n",
       "    </tr>\n",
       "    <tr>\n",
       "      <th>207082</th>\n",
       "      <td>1935309.283</td>\n",
       "    </tr>\n",
       "    <tr>\n",
       "      <th>298896</th>\n",
       "      <td>446378.803</td>\n",
       "    </tr>\n",
       "    <tr>\n",
       "      <th>220946</th>\n",
       "      <td>541185.592</td>\n",
       "    </tr>\n",
       "    <tr>\n",
       "      <th>74581</th>\n",
       "      <td>1214168.245</td>\n",
       "    </tr>\n",
       "    <tr>\n",
       "      <th>253578</th>\n",
       "      <td>2000485.237</td>\n",
       "    </tr>\n",
       "    <tr>\n",
       "      <th>47620</th>\n",
       "      <td>2172642.305</td>\n",
       "    </tr>\n",
       "    <tr>\n",
       "      <th>92772</th>\n",
       "      <td>2526773.709</td>\n",
       "    </tr>\n",
       "    <tr>\n",
       "      <th>116904</th>\n",
       "      <td>2349367.519</td>\n",
       "    </tr>\n",
       "    <tr>\n",
       "      <th>208352</th>\n",
       "      <td>2277477.807</td>\n",
       "    </tr>\n",
       "    <tr>\n",
       "      <th>76044</th>\n",
       "      <td>1625349.850</td>\n",
       "    </tr>\n",
       "    <tr>\n",
       "      <th>202667</th>\n",
       "      <td>571419.073</td>\n",
       "    </tr>\n",
       "    <tr>\n",
       "      <th>62134</th>\n",
       "      <td>3507321.395</td>\n",
       "    </tr>\n",
       "    <tr>\n",
       "      <th>277353</th>\n",
       "      <td>2506176.322</td>\n",
       "    </tr>\n",
       "    <tr>\n",
       "      <th>...</th>\n",
       "      <td>...</td>\n",
       "    </tr>\n",
       "    <tr>\n",
       "      <th>129589</th>\n",
       "      <td>3672640.597</td>\n",
       "    </tr>\n",
       "    <tr>\n",
       "      <th>85388</th>\n",
       "      <td>541185.592</td>\n",
       "    </tr>\n",
       "    <tr>\n",
       "      <th>50185</th>\n",
       "      <td>1968670.394</td>\n",
       "    </tr>\n",
       "    <tr>\n",
       "      <th>61187</th>\n",
       "      <td>2693546.767</td>\n",
       "    </tr>\n",
       "    <tr>\n",
       "      <th>190799</th>\n",
       "      <td>1870555.139</td>\n",
       "    </tr>\n",
       "    <tr>\n",
       "      <th>163414</th>\n",
       "      <td>1487869.280</td>\n",
       "    </tr>\n",
       "    <tr>\n",
       "      <th>12355</th>\n",
       "      <td>2757968.493</td>\n",
       "    </tr>\n",
       "    <tr>\n",
       "      <th>255748</th>\n",
       "      <td>1781526.648</td>\n",
       "    </tr>\n",
       "    <tr>\n",
       "      <th>176567</th>\n",
       "      <td>1123348.582</td>\n",
       "    </tr>\n",
       "    <tr>\n",
       "      <th>220463</th>\n",
       "      <td>1339016.437</td>\n",
       "    </tr>\n",
       "    <tr>\n",
       "      <th>260742</th>\n",
       "      <td>1104001.309</td>\n",
       "    </tr>\n",
       "    <tr>\n",
       "      <th>167651</th>\n",
       "      <td>869279.916</td>\n",
       "    </tr>\n",
       "    <tr>\n",
       "      <th>282440</th>\n",
       "      <td>1976803.061</td>\n",
       "    </tr>\n",
       "    <tr>\n",
       "      <th>168663</th>\n",
       "      <td>2366308.819</td>\n",
       "    </tr>\n",
       "    <tr>\n",
       "      <th>166605</th>\n",
       "      <td>2054351.504</td>\n",
       "    </tr>\n",
       "    <tr>\n",
       "      <th>207997</th>\n",
       "      <td>1933975.597</td>\n",
       "    </tr>\n",
       "    <tr>\n",
       "      <th>268896</th>\n",
       "      <td>1772102.629</td>\n",
       "    </tr>\n",
       "    <tr>\n",
       "      <th>149564</th>\n",
       "      <td>2650849.145</td>\n",
       "    </tr>\n",
       "    <tr>\n",
       "      <th>53975</th>\n",
       "      <td>499515.726</td>\n",
       "    </tr>\n",
       "    <tr>\n",
       "      <th>54441</th>\n",
       "      <td>715013.505</td>\n",
       "    </tr>\n",
       "    <tr>\n",
       "      <th>205625</th>\n",
       "      <td>4212573.058</td>\n",
       "    </tr>\n",
       "    <tr>\n",
       "      <th>284266</th>\n",
       "      <td>689206.508</td>\n",
       "    </tr>\n",
       "    <tr>\n",
       "      <th>70244</th>\n",
       "      <td>2782365.065</td>\n",
       "    </tr>\n",
       "    <tr>\n",
       "      <th>59776</th>\n",
       "      <td>2460059.871</td>\n",
       "    </tr>\n",
       "    <tr>\n",
       "      <th>79100</th>\n",
       "      <td>2297935.835</td>\n",
       "    </tr>\n",
       "    <tr>\n",
       "      <th>75094</th>\n",
       "      <td>3356863.787</td>\n",
       "    </tr>\n",
       "    <tr>\n",
       "      <th>171847</th>\n",
       "      <td>659805.694</td>\n",
       "    </tr>\n",
       "    <tr>\n",
       "      <th>138313</th>\n",
       "      <td>1356848.961</td>\n",
       "    </tr>\n",
       "    <tr>\n",
       "      <th>271268</th>\n",
       "      <td>1545301.250</td>\n",
       "    </tr>\n",
       "    <tr>\n",
       "      <th>72612</th>\n",
       "      <td>1981500.143</td>\n",
       "    </tr>\n",
       "  </tbody>\n",
       "</table>\n",
       "<p>60000 rows × 1 columns</p>\n",
       "</div>"
      ],
      "text/plain": [
       "            target\n",
       "id                \n",
       "4941   3605315.748\n",
       "51775   860693.852\n",
       "115253 1148615.537\n",
       "299321  974570.875\n",
       "173570  580286.277\n",
       "...            ...\n",
       "75094  3356863.787\n",
       "171847  659805.694\n",
       "138313 1356848.961\n",
       "271268 1545301.250\n",
       "72612  1981500.143\n",
       "\n",
       "[60000 rows x 1 columns]"
      ]
     },
     "execution_count": 62,
     "metadata": {},
     "output_type": "execute_result"
    }
   ],
   "source": [
    "res"
   ]
  },
  {
   "cell_type": "code",
   "execution_count": null,
   "metadata": {},
   "outputs": [],
   "source": []
  }
 ],
 "metadata": {
  "kernelspec": {
   "display_name": "Python 3",
   "language": "python",
   "name": "python3"
  },
  "language_info": {
   "codemirror_mode": {
    "name": "ipython",
    "version": 3
   },
   "file_extension": ".py",
   "mimetype": "text/x-python",
   "name": "python",
   "nbconvert_exporter": "python",
   "pygments_lexer": "ipython3",
   "version": "3.7.3"
  }
 },
 "nbformat": 4,
 "nbformat_minor": 4
}
