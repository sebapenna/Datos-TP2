{
 "cells": [
  {
   "cell_type": "code",
   "execution_count": 1,
   "metadata": {
    "_cell_guid": "b1076dfc-b9ad-4769-8c92-a6c4dae69d19",
    "_uuid": "8f2839f25d086af736a60e9eeb907d3b93b6e0e5"
   },
   "outputs": [],
   "source": [
    "import pandas as pd\n",
    "import numpy as np\n",
    "import scipy\n",
    "import sklearn \n",
    "import datetime as dt\n",
    "import xgboost as XGB\n",
    "from sklearn.neighbors import KNeighborsClassifier\n",
    "from sklearn.ensemble import RandomForestRegressor\n",
    "from sklearn.feature_selection import SelectFromModel\n",
    "\n",
    "\n",
    "from sklearn.model_selection import GridSearchCV, cross_validate, RandomizedSearchCV\n",
    "from sklearn.utils import shuffle\n",
    "\n",
    "from sklearn import metrics\n",
    "from sklearn.model_selection import train_test_split\n",
    "pd.set_option('display.float_format', lambda x: '%.3f' % x)\n",
    "\n",
    "\n",
    "# pd.options.display.float_format = '{:20,.0f}'.format # suprimimos la notacion cientifica en los outputs"
   ]
  },
  {
   "cell_type": "code",
   "execution_count": 2,
   "metadata": {
    "_cell_guid": "79c7e3d0-c299-4dcb-8224-4455121ee9b0",
    "_uuid": "d629ff2d2480ee46fbb7e2d37f6b5fab8052498a"
   },
   "outputs": [],
   "source": [
    "path = 'data/'\n",
    "features = pd.read_csv(path + 'features.csv')\n",
    "test = pd.read_csv(path + 'testModified.csv')"
   ]
  },
  {
   "cell_type": "code",
   "execution_count": 3,
   "metadata": {},
   "outputs": [],
   "source": [
    "x = features.drop('precio',1)\n",
    "y = features['precio']"
   ]
  },
  {
   "cell_type": "code",
   "execution_count": 6,
   "metadata": {},
   "outputs": [],
   "source": [
    "tst_sz = 0.3 # Mejor valor\n",
    "seed = 139\n",
    "x, y = shuffle(x, y, random_state=seed)"
   ]
  },
  {
   "cell_type": "raw",
   "metadata": {},
   "source": [
    "n_estimators = [int(x) for x in np.linspace(start = 200, stop = 2000, num = 10)] # Numero de arboles\n",
    "max_features = ['auto', 'sqrt'] # Numero de features a considerar en cada split\n",
    "max_depth = [int(x) for x in np.linspace(10, 110, num = 11)] # Cantidad maxima de niveles en el arbol\n",
    "max_depth.append(None)\n",
    "min_samples_split = [10,20,30] # Numero minimo de muestras para splitear nodo\n",
    "min_samples_leaf = [4,6,8] # Numero minimo de muestras requeridas en cada nodo hoja\n",
    "bootstrap = [True, False] # Metodo seleccion muestras para entrenar cada arbol\n",
    "random_grid = {'n_estimators': n_estimators,\n",
    "               'max_features': max_features,\n",
    "               'max_depth': max_depth,\n",
    "               'min_samples_split': min_samples_split,\n",
    "               'min_samples_leaf': min_samples_leaf,\n",
    "               'bootstrap': bootstrap}"
   ]
  },
  {
   "cell_type": "markdown",
   "metadata": {},
   "source": [
    "tst_sz = 0.3 \n",
    "seed = 139\n",
    "x_train, x_test, y_train, y_test = train_test_split(x, y, test_size=tst_sz,random_state=seed)"
   ]
  },
  {
   "cell_type": "raw",
   "metadata": {},
   "source": [
    "for i in [200]:\n",
    "#     for m_depth in max_depth:\n",
    "        rf = RandomForestRegressor(n_estimators=i, max_features='auto', max_depth=10, min_samples_split=10, min_samples_leaf=8, bootstrap=False)\n",
    "        rf.fit(x_train, y_train)\n",
    "        pred_rf = rf.predict(x_test)\n",
    "        print(i, \" = \", metrics.mean_absolute_error(y_test,pred_rf))"
   ]
  },
  {
   "cell_type": "raw",
   "metadata": {},
   "source": [
    "rf = RandomForestRegressor()\n",
    "rf_random = RandomizedSearchCV(estimator = rf, param_distributions = random_grid, n_iter = 5, cv = 3, verbose=50, random_state=42, n_jobs = 2)\n",
    "rf_random.fit(x, y)"
   ]
  },
  {
   "cell_type": "code",
   "execution_count": 8,
   "metadata": {},
   "outputs": [
    {
     "name": "stderr",
     "output_type": "stream",
     "text": [
      "[Parallel(n_jobs=-1)]: Using backend LokyBackend with 4 concurrent workers.\n",
      "[Parallel(n_jobs=-1)]: Done   1 tasks      | elapsed: 16.1min\n",
      "[Parallel(n_jobs=-1)]: Done   2 out of   5 | elapsed: 16.2min remaining: 24.3min\n",
      "[Parallel(n_jobs=-1)]: Done   3 out of   5 | elapsed: 16.2min remaining: 10.8min\n"
     ]
    },
    {
     "name": "stdout",
     "output_type": "stream",
     "text": [
      "MAE : 708451.9583211022\n"
     ]
    },
    {
     "name": "stderr",
     "output_type": "stream",
     "text": [
      "[Parallel(n_jobs=-1)]: Done   5 out of   5 | elapsed: 27.4min remaining:    0.0s\n",
      "[Parallel(n_jobs=-1)]: Done   5 out of   5 | elapsed: 27.4min finished\n"
     ]
    }
   ],
   "source": [
    "scoring = {'abs_error': 'neg_mean_absolute_error'}\n",
    "# for i in [300,400,500]:\n",
    "model = RandomForestRegressor(n_estimators=200, max_features='auto', max_depth=10, min_samples_split=10, min_samples_leaf=8, bootstrap=False)\n",
    "scoring = {'abs_error': 'neg_mean_absolute_error'}\n",
    "scores = cross_validate(model, x, y, cv=5, scoring=scoring, return_train_score=True, verbose=30, n_jobs=-1)\n",
    "print(\"MAE :\", abs(scores['test_abs_error'].mean()))"
   ]
  },
  {
   "cell_type": "raw",
   "metadata": {},
   "source": [
    "sel = SelectFromModel(RandomForestRegressor(n_estimators=200, max_features='auto', max_depth=100, min_samples_split=5, min_samples_leaf=3, bootstrap=True))\n",
    "sel.fit(x, y)"
   ]
  },
  {
   "cell_type": "raw",
   "metadata": {},
   "source": [
    "x.columns[sel.get_support()]"
   ]
  },
  {
   "cell_type": "code",
   "execution_count": null,
   "metadata": {},
   "outputs": [],
   "source": [
    "# rf = RandomForestRegressor(n_estimators=200, max_features='auto', max_depth=10, min_samples_split=10, min_samples_leaf=8, bootstrap=True)\n",
    "rf.fit(x_test, y_test)\n",
    "rf_predict = rf.predict(test.drop(['id'], axis=1))"
   ]
  },
  {
   "cell_type": "code",
   "execution_count": null,
   "metadata": {},
   "outputs": [],
   "source": [
    "res = pd.DataFrame(rf_predict, index=test.id, columns=['precio'])"
   ]
  },
  {
   "cell_type": "code",
   "execution_count": null,
   "metadata": {},
   "outputs": [],
   "source": [
    "res = res.rename({'precio':'target'}, axis=1)"
   ]
  },
  {
   "cell_type": "code",
   "execution_count": null,
   "metadata": {},
   "outputs": [],
   "source": [
    "res.to_csv(\"predictions/rf_predictions.csv\", header = True)"
   ]
  },
  {
   "cell_type": "code",
   "execution_count": null,
   "metadata": {},
   "outputs": [],
   "source": [
    "res.shape"
   ]
  },
  {
   "cell_type": "code",
   "execution_count": null,
   "metadata": {},
   "outputs": [],
   "source": [
    "res"
   ]
  },
  {
   "cell_type": "code",
   "execution_count": null,
   "metadata": {},
   "outputs": [],
   "source": []
  }
 ],
 "metadata": {
  "kernelspec": {
   "display_name": "Python 3",
   "language": "python",
   "name": "python3"
  },
  "language_info": {
   "codemirror_mode": {
    "name": "ipython",
    "version": 3
   },
   "file_extension": ".py",
   "mimetype": "text/x-python",
   "name": "python",
   "nbconvert_exporter": "python",
   "pygments_lexer": "ipython3",
   "version": "3.7.3"
  }
 },
 "nbformat": 4,
 "nbformat_minor": 4
}
