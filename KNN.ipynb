{
 "cells": [
  {
   "cell_type": "code",
   "execution_count": 70,
   "metadata": {},
   "outputs": [],
   "source": [
    "import pandas as pd\n",
    "import numpy as np\n",
    "import scipy\n",
    "import sklearn \n",
    "import datetime as dt\n",
    "import xgboost as XGB\n",
    "from sklearn.neighbors import KNeighborsClassifier\n",
    "\n",
    "from sklearn import metrics\n",
    "from sklearn.model_selection import train_test_split\n",
    "\n",
    "# pd.options.display.float_format = '{:20,.0f}'.format # suprimimos la notacion cientifica en los outputs"
   ]
  },
  {
   "cell_type": "code",
   "execution_count": 71,
   "metadata": {},
   "outputs": [],
   "source": [
    "path = 'data/'\n",
    "features = pd.read_csv(path + 'features.csv')\n",
    "test = pd.read_csv(path + 'testModified.csv')"
   ]
  },
  {
   "cell_type": "markdown",
   "metadata": {},
   "source": [
    "# KNN"
   ]
  },
  {
   "cell_type": "code",
   "execution_count": 72,
   "metadata": {},
   "outputs": [
    {
     "data": {
      "text/plain": [
       "id                              int64\n",
       "titulo                         object\n",
       "descripcion                    object\n",
       "tipodepropiedad                object\n",
       "direccion                      object\n",
       "ciudad                         object\n",
       "provincia                      object\n",
       "antiguedad                    float64\n",
       "habitaciones                    int64\n",
       "garages                         int64\n",
       "banos                           int64\n",
       "metroscubiertos               float64\n",
       "metrostotales                 float64\n",
       "idzona                        float64\n",
       "lat                           float64\n",
       "lng                           float64\n",
       "fecha                          object\n",
       "gimnasio                        int64\n",
       "usosmultiples                   int64\n",
       "piscina                         int64\n",
       "escuelascercanas                int64\n",
       "centroscomercialescercanos      int64\n",
       "precio                        float64\n",
       "dtype: object"
      ]
     },
     "execution_count": 72,
     "metadata": {},
     "output_type": "execute_result"
    }
   ],
   "source": [
    "features.dtypes"
   ]
  },
  {
   "cell_type": "code",
   "execution_count": 73,
   "metadata": {},
   "outputs": [],
   "source": [
    "cols_dropped = ['lat', 'lng', 'fecha', 'id', 'idzona']\n",
    "cols_string = ['titulo', 'descripcion','tipodepropiedad','direccion', 'ciudad', 'provincia']\n",
    "features_toUse = features.drop(cols_dropped + cols_string, axis=1)"
   ]
  },
  {
   "cell_type": "code",
   "execution_count": 74,
   "metadata": {},
   "outputs": [
    {
     "data": {
      "text/plain": [
       "205229"
      ]
     },
     "execution_count": 74,
     "metadata": {},
     "output_type": "execute_result"
    }
   ],
   "source": [
    "len(features_toUse)"
   ]
  },
  {
   "cell_type": "code",
   "execution_count": 75,
   "metadata": {},
   "outputs": [
    {
     "data": {
      "text/plain": [
       "antiguedad                    205229\n",
       "habitaciones                  205229\n",
       "garages                       205229\n",
       "banos                         205229\n",
       "metroscubiertos               205229\n",
       "metrostotales                 205229\n",
       "gimnasio                      205229\n",
       "usosmultiples                 205229\n",
       "piscina                       205229\n",
       "escuelascercanas              205229\n",
       "centroscomercialescercanos    205229\n",
       "precio                        205229\n",
       "dtype: int64"
      ]
     },
     "execution_count": 75,
     "metadata": {},
     "output_type": "execute_result"
    }
   ],
   "source": [
    "features_toUse.count()"
   ]
  },
  {
   "cell_type": "code",
   "execution_count": 76,
   "metadata": {},
   "outputs": [
    {
     "data": {
      "text/plain": [
       "1004656.5705237516"
      ]
     },
     "execution_count": 76,
     "metadata": {},
     "output_type": "execute_result"
    }
   ],
   "source": [
    "x = features_toUse.drop('precio',1)\n",
    "y = features_toUse['precio']\n",
    "# values = []\n",
    "# for i in range(101, 200):\n",
    "tst_sz = 0.04 # Mejor valor\n",
    "seed = 139 # Obtenido con ciclo for\n",
    "x_train, x_test, y_train, y_test = train_test_split(x, y, test_size=tst_sz,random_state=seed)\n",
    "knn = KNeighborsClassifier(n_neighbors=103,algorithm = 'kd_tree')\n",
    "knn.fit(x_train, y_train)\n",
    "predknn = knn.predict(x_test)\n",
    "metrics.mean_absolute_error(y_test, predknn)\n",
    "#     values.append(metrics.mean_absolute_error(y_test,predknn))\n",
    "#     print(i)"
   ]
  },
  {
   "cell_type": "code",
   "execution_count": 77,
   "metadata": {},
   "outputs": [
    {
     "data": {
      "text/plain": [
       "60000"
      ]
     },
     "execution_count": 77,
     "metadata": {},
     "output_type": "execute_result"
    }
   ],
   "source": [
    "len(test)"
   ]
  },
  {
   "cell_type": "code",
   "execution_count": 78,
   "metadata": {},
   "outputs": [
    {
     "data": {
      "text/plain": [
       "id                            60000\n",
       "titulo                        58622\n",
       "descripcion                   59599\n",
       "tipodepropiedad               59993\n",
       "direccion                     46809\n",
       "ciudad                        59917\n",
       "provincia                     59958\n",
       "antiguedad                    60000\n",
       "habitaciones                  60000\n",
       "garages                       60000\n",
       "banos                         60000\n",
       "metroscubiertos               60000\n",
       "metrostotales                 60000\n",
       "idzona                        52821\n",
       "lat                           29305\n",
       "lng                           29305\n",
       "fecha                         60000\n",
       "gimnasio                      60000\n",
       "usosmultiples                 60000\n",
       "piscina                       60000\n",
       "escuelascercanas              60000\n",
       "centroscomercialescercanos    60000\n",
       "dtype: int64"
      ]
     },
     "execution_count": 78,
     "metadata": {},
     "output_type": "execute_result"
    }
   ],
   "source": [
    "test.count()"
   ]
  },
  {
   "cell_type": "code",
   "execution_count": 79,
   "metadata": {},
   "outputs": [],
   "source": [
    "knn_predict = knn.predict(test.drop(cols_dropped + cols_string, axis=1))"
   ]
  },
  {
   "cell_type": "code",
   "execution_count": 94,
   "metadata": {},
   "outputs": [],
   "source": [
    "res = pd.DataFrame(knn_predict, index=test.id, columns=['precio'])"
   ]
  },
  {
   "cell_type": "code",
   "execution_count": 95,
   "metadata": {},
   "outputs": [],
   "source": [
    "res = res.rename({'precio':'target'}, axis=1)"
   ]
  },
  {
   "cell_type": "code",
   "execution_count": 96,
   "metadata": {},
   "outputs": [
    {
     "data": {
      "text/html": [
       "<div>\n",
       "<style scoped>\n",
       "    .dataframe tbody tr th:only-of-type {\n",
       "        vertical-align: middle;\n",
       "    }\n",
       "\n",
       "    .dataframe tbody tr th {\n",
       "        vertical-align: top;\n",
       "    }\n",
       "\n",
       "    .dataframe thead th {\n",
       "        text-align: right;\n",
       "    }\n",
       "</style>\n",
       "<table border=\"1\" class=\"dataframe\">\n",
       "  <thead>\n",
       "    <tr style=\"text-align: right;\">\n",
       "      <th></th>\n",
       "      <th>target</th>\n",
       "    </tr>\n",
       "    <tr>\n",
       "      <th>id</th>\n",
       "      <th></th>\n",
       "    </tr>\n",
       "  </thead>\n",
       "  <tbody>\n",
       "    <tr>\n",
       "      <th>4941</th>\n",
       "      <td>4,500,000</td>\n",
       "    </tr>\n",
       "    <tr>\n",
       "      <th>51775</th>\n",
       "      <td>390,000</td>\n",
       "    </tr>\n",
       "    <tr>\n",
       "      <th>115253</th>\n",
       "      <td>750,000</td>\n",
       "    </tr>\n",
       "    <tr>\n",
       "      <th>299321</th>\n",
       "      <td>2,550,000</td>\n",
       "    </tr>\n",
       "    <tr>\n",
       "      <th>173570</th>\n",
       "      <td>1,300,000</td>\n",
       "    </tr>\n",
       "    <tr>\n",
       "      <th>30862</th>\n",
       "      <td>2,200,000</td>\n",
       "    </tr>\n",
       "    <tr>\n",
       "      <th>244471</th>\n",
       "      <td>1,500,000</td>\n",
       "    </tr>\n",
       "    <tr>\n",
       "      <th>127794</th>\n",
       "      <td>1,550,000</td>\n",
       "    </tr>\n",
       "    <tr>\n",
       "      <th>71558</th>\n",
       "      <td>2,500,000</td>\n",
       "    </tr>\n",
       "    <tr>\n",
       "      <th>218011</th>\n",
       "      <td>1,700,000</td>\n",
       "    </tr>\n",
       "    <tr>\n",
       "      <th>148208</th>\n",
       "      <td>1,400,000</td>\n",
       "    </tr>\n",
       "    <tr>\n",
       "      <th>155735</th>\n",
       "      <td>580,000</td>\n",
       "    </tr>\n",
       "    <tr>\n",
       "      <th>100698</th>\n",
       "      <td>2,500,000</td>\n",
       "    </tr>\n",
       "    <tr>\n",
       "      <th>241403</th>\n",
       "      <td>1,650,000</td>\n",
       "    </tr>\n",
       "    <tr>\n",
       "      <th>195272</th>\n",
       "      <td>1,600,000</td>\n",
       "    </tr>\n",
       "    <tr>\n",
       "      <th>238663</th>\n",
       "      <td>1,500,000</td>\n",
       "    </tr>\n",
       "    <tr>\n",
       "      <th>262957</th>\n",
       "      <td>6,500,000</td>\n",
       "    </tr>\n",
       "    <tr>\n",
       "      <th>207082</th>\n",
       "      <td>4,900,000</td>\n",
       "    </tr>\n",
       "    <tr>\n",
       "      <th>298896</th>\n",
       "      <td>450,000</td>\n",
       "    </tr>\n",
       "    <tr>\n",
       "      <th>220946</th>\n",
       "      <td>550,000</td>\n",
       "    </tr>\n",
       "    <tr>\n",
       "      <th>74581</th>\n",
       "      <td>1,200,000</td>\n",
       "    </tr>\n",
       "    <tr>\n",
       "      <th>253578</th>\n",
       "      <td>1,650,000</td>\n",
       "    </tr>\n",
       "    <tr>\n",
       "      <th>47620</th>\n",
       "      <td>3,200,000</td>\n",
       "    </tr>\n",
       "    <tr>\n",
       "      <th>92772</th>\n",
       "      <td>2,500,000</td>\n",
       "    </tr>\n",
       "    <tr>\n",
       "      <th>116904</th>\n",
       "      <td>4,500,000</td>\n",
       "    </tr>\n",
       "    <tr>\n",
       "      <th>208352</th>\n",
       "      <td>1,450,000</td>\n",
       "    </tr>\n",
       "    <tr>\n",
       "      <th>76044</th>\n",
       "      <td>2,250,000</td>\n",
       "    </tr>\n",
       "    <tr>\n",
       "      <th>202667</th>\n",
       "      <td>480,000</td>\n",
       "    </tr>\n",
       "    <tr>\n",
       "      <th>62134</th>\n",
       "      <td>3,200,000</td>\n",
       "    </tr>\n",
       "    <tr>\n",
       "      <th>277353</th>\n",
       "      <td>3,200,000</td>\n",
       "    </tr>\n",
       "    <tr>\n",
       "      <th>...</th>\n",
       "      <td>...</td>\n",
       "    </tr>\n",
       "    <tr>\n",
       "      <th>129589</th>\n",
       "      <td>3,200,000</td>\n",
       "    </tr>\n",
       "    <tr>\n",
       "      <th>85388</th>\n",
       "      <td>345,000</td>\n",
       "    </tr>\n",
       "    <tr>\n",
       "      <th>50185</th>\n",
       "      <td>1,450,000</td>\n",
       "    </tr>\n",
       "    <tr>\n",
       "      <th>61187</th>\n",
       "      <td>6,500,000</td>\n",
       "    </tr>\n",
       "    <tr>\n",
       "      <th>190799</th>\n",
       "      <td>2,600,000</td>\n",
       "    </tr>\n",
       "    <tr>\n",
       "      <th>163414</th>\n",
       "      <td>1,250,000</td>\n",
       "    </tr>\n",
       "    <tr>\n",
       "      <th>12355</th>\n",
       "      <td>2,500,000</td>\n",
       "    </tr>\n",
       "    <tr>\n",
       "      <th>255748</th>\n",
       "      <td>5,500,000</td>\n",
       "    </tr>\n",
       "    <tr>\n",
       "      <th>176567</th>\n",
       "      <td>1,250,000</td>\n",
       "    </tr>\n",
       "    <tr>\n",
       "      <th>220463</th>\n",
       "      <td>650,000</td>\n",
       "    </tr>\n",
       "    <tr>\n",
       "      <th>260742</th>\n",
       "      <td>650,000</td>\n",
       "    </tr>\n",
       "    <tr>\n",
       "      <th>167651</th>\n",
       "      <td>800,000</td>\n",
       "    </tr>\n",
       "    <tr>\n",
       "      <th>282440</th>\n",
       "      <td>2,200,000</td>\n",
       "    </tr>\n",
       "    <tr>\n",
       "      <th>168663</th>\n",
       "      <td>2,150,000</td>\n",
       "    </tr>\n",
       "    <tr>\n",
       "      <th>166605</th>\n",
       "      <td>2,200,000</td>\n",
       "    </tr>\n",
       "    <tr>\n",
       "      <th>207997</th>\n",
       "      <td>1,500,000</td>\n",
       "    </tr>\n",
       "    <tr>\n",
       "      <th>268896</th>\n",
       "      <td>1,730,000</td>\n",
       "    </tr>\n",
       "    <tr>\n",
       "      <th>149564</th>\n",
       "      <td>3,200,000</td>\n",
       "    </tr>\n",
       "    <tr>\n",
       "      <th>53975</th>\n",
       "      <td>430,000</td>\n",
       "    </tr>\n",
       "    <tr>\n",
       "      <th>54441</th>\n",
       "      <td>450,000</td>\n",
       "    </tr>\n",
       "    <tr>\n",
       "      <th>205625</th>\n",
       "      <td>3,000,000</td>\n",
       "    </tr>\n",
       "    <tr>\n",
       "      <th>284266</th>\n",
       "      <td>1,500,000</td>\n",
       "    </tr>\n",
       "    <tr>\n",
       "      <th>70244</th>\n",
       "      <td>1,800,000</td>\n",
       "    </tr>\n",
       "    <tr>\n",
       "      <th>59776</th>\n",
       "      <td>1,400,000</td>\n",
       "    </tr>\n",
       "    <tr>\n",
       "      <th>79100</th>\n",
       "      <td>4,580,000</td>\n",
       "    </tr>\n",
       "    <tr>\n",
       "      <th>75094</th>\n",
       "      <td>5,500,000</td>\n",
       "    </tr>\n",
       "    <tr>\n",
       "      <th>171847</th>\n",
       "      <td>550,000</td>\n",
       "    </tr>\n",
       "    <tr>\n",
       "      <th>138313</th>\n",
       "      <td>650,000</td>\n",
       "    </tr>\n",
       "    <tr>\n",
       "      <th>271268</th>\n",
       "      <td>1,450,000</td>\n",
       "    </tr>\n",
       "    <tr>\n",
       "      <th>72612</th>\n",
       "      <td>2,200,000</td>\n",
       "    </tr>\n",
       "  </tbody>\n",
       "</table>\n",
       "<p>60000 rows × 1 columns</p>\n",
       "</div>"
      ],
      "text/plain": [
       "                     target\n",
       "id                         \n",
       "4941              4,500,000\n",
       "51775               390,000\n",
       "115253              750,000\n",
       "299321            2,550,000\n",
       "173570            1,300,000\n",
       "...                     ...\n",
       "75094             5,500,000\n",
       "171847              550,000\n",
       "138313              650,000\n",
       "271268            1,450,000\n",
       "72612             2,200,000\n",
       "\n",
       "[60000 rows x 1 columns]"
      ]
     },
     "execution_count": 96,
     "metadata": {},
     "output_type": "execute_result"
    }
   ],
   "source": [
    "res"
   ]
  },
  {
   "cell_type": "code",
   "execution_count": 97,
   "metadata": {},
   "outputs": [],
   "source": [
    "res.to_csv(\"predictions/knn_prediction.csv\", header = True)"
   ]
  },
  {
   "cell_type": "code",
   "execution_count": 98,
   "metadata": {},
   "outputs": [
    {
     "data": {
      "text/plain": [
       "60000"
      ]
     },
     "execution_count": 98,
     "metadata": {},
     "output_type": "execute_result"
    }
   ],
   "source": [
    "len(res)"
   ]
  }
 ],
 "metadata": {
  "kernelspec": {
   "display_name": "Python 3",
   "language": "python",
   "name": "python3"
  },
  "language_info": {
   "codemirror_mode": {
    "name": "ipython",
    "version": 3
   },
   "file_extension": ".py",
   "mimetype": "text/x-python",
   "name": "python",
   "nbconvert_exporter": "python",
   "pygments_lexer": "ipython3",
   "version": "3.7.3"
  }
 },
 "nbformat": 4,
 "nbformat_minor": 4
}
