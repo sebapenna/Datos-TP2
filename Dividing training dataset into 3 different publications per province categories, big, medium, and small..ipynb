{
 "cells": [
  {
   "cell_type": "code",
   "execution_count": 1,
   "metadata": {},
   "outputs": [],
   "source": [
    "import pandas as pd"
   ]
  },
  {
   "cell_type": "code",
   "execution_count": 2,
   "metadata": {},
   "outputs": [],
   "source": [
    "df_train = pd.read_csv('data/train.csv')"
   ]
  },
  {
   "cell_type": "code",
   "execution_count": 3,
   "metadata": {},
   "outputs": [
    {
     "data": {
      "text/plain": [
       "Distrito Federal         58790\n",
       "Edo. de México           41607\n",
       "Jalisco                  21238\n",
       "Querétaro                16988\n",
       "Nuevo León               15324\n",
       "Puebla                   10421\n",
       "San luis Potosí           8447\n",
       "Yucatán                   7928\n",
       "Morelos                   7337\n",
       "Veracruz                  5762\n",
       "Quintana Roo              4756\n",
       "Chihuahua                 4590\n",
       "Coahuila                  3695\n",
       "Baja California Norte     3220\n",
       "Sonora                    2988\n",
       "Guanajuato                2860\n",
       "Guerrero                  2678\n",
       "Hidalgo                   2521\n",
       "Michoacán                 2471\n",
       "Tamaulipas                2303\n",
       "Durango                   2275\n",
       "Sinaloa                   1806\n",
       "Aguascalientes            1753\n",
       "Baja California Sur       1700\n",
       "Nayarit                   1352\n",
       "Chiapas                   1126\n",
       "Colima                    1008\n",
       "Tabasco                    994\n",
       "Tlaxcala                   839\n",
       "Oaxaca                     711\n",
       "Campeche                   263\n",
       "Zacatecas                   94\n",
       "Name: provincia, dtype: int64"
      ]
     },
     "execution_count": 3,
     "metadata": {},
     "output_type": "execute_result"
    }
   ],
   "source": [
    "df_train.provincia.value_counts()"
   ]
  },
  {
   "cell_type": "code",
   "execution_count": 4,
   "metadata": {},
   "outputs": [
    {
     "data": {
      "text/plain": [
       "7495.15625"
      ]
     },
     "execution_count": 4,
     "metadata": {},
     "output_type": "execute_result"
    }
   ],
   "source": [
    "# Obtaining average publications per province\n",
    "df_train.provincia.value_counts().mean()"
   ]
  },
  {
   "cell_type": "code",
   "execution_count": 5,
   "metadata": {},
   "outputs": [],
   "source": [
    "big_provinces = ['Distrito Federal', 'Edo. de México', 'Jalisco', 'Querétaro', 'Nuevo León', 'Puebla']\n",
    "medium_provinces = ['San luis Potosí', 'Yucatán', 'Morelos', 'Veracruz', 'Quintana Roo', 'Chihuahua', 'Coahuila', 'Baja California Norte', 'Sonora', 'Guanajuato', 'Guerrero', 'Hidalgo', 'Michoacán', 'Tamaulipas', 'Durango', 'Sinaloa', 'Aguascalientes', 'Baja California Sur', 'Nayarit', 'Chiapas', 'Colima']\n",
    "small_provinces = ['Tabasco', 'Tlaxcala', 'Oaxaca', 'Campeche', 'Zacatecas']"
   ]
  },
  {
   "cell_type": "code",
   "execution_count": 6,
   "metadata": {},
   "outputs": [
    {
     "data": {
      "text/plain": [
       "32"
      ]
     },
     "execution_count": 6,
     "metadata": {},
     "output_type": "execute_result"
    }
   ],
   "source": [
    "len(df_train.provincia.value_counts())"
   ]
  },
  {
   "cell_type": "code",
   "execution_count": 7,
   "metadata": {},
   "outputs": [
    {
     "name": "stdout",
     "output_type": "stream",
     "text": [
      "Size matches!\n"
     ]
    }
   ],
   "source": [
    "# Checking that all categories lengths match original dataset\n",
    "if len(big_provinces) + len(medium_provinces) + len(small_provinces) == len(df_train.provincia.value_counts()):\n",
    "    print('Size matches!')"
   ]
  },
  {
   "cell_type": "code",
   "execution_count": 8,
   "metadata": {},
   "outputs": [],
   "source": [
    "#Dividing dataset intro 3 categories\n",
    "df_train_big_provinces = df_train[df_train.provincia.apply(lambda x: x in big_provinces)]\n",
    "df_train_medium_provinces = df_train[df_train.provincia.apply(lambda x: x in medium_provinces)]\n",
    "df_train_small_provinces = df_train[df_train.provincia.apply(lambda x: x in small_provinces)]"
   ]
  },
  {
   "cell_type": "code",
   "execution_count": 9,
   "metadata": {},
   "outputs": [],
   "source": [
    "df_train_big_provinces.to_csv('data/train_big_provinces.csv', index = False)\n",
    "df_train_medium_provinces.to_csv('data/train_medium_provinces.csv', index = False)\n",
    "df_train_small_provinces.to_csv('data/train_small_provinces.csv', index = False)"
   ]
  },
  {
   "cell_type": "code",
   "execution_count": 10,
   "metadata": {},
   "outputs": [
    {
     "data": {
      "text/plain": [
       "1873.6875"
      ]
     },
     "execution_count": 10,
     "metadata": {},
     "output_type": "execute_result"
    }
   ],
   "source": [
    "#Doing the same for test dataset\n",
    "df_test = pd.read_csv('data/test.csv')\n",
    "df_test.provincia.value_counts().mean()"
   ]
  },
  {
   "cell_type": "code",
   "execution_count": 11,
   "metadata": {},
   "outputs": [],
   "source": [
    "#Dividing dataset intro 3 categories\n",
    "df_test_big_provinces = df_test[df_test.provincia.apply(lambda x: x in big_provinces)]\n",
    "df_test_medium_provinces = df_test[df_test.provincia.apply(lambda x: x in medium_provinces)]\n",
    "df_test_small_provinces = df_test[df_test.provincia.apply(lambda x: x in small_provinces)]"
   ]
  },
  {
   "cell_type": "code",
   "execution_count": 12,
   "metadata": {},
   "outputs": [],
   "source": [
    "df_test_big_provinces.to_csv('data/test_big_provinces.csv', index = False)\n",
    "df_test_medium_provinces.to_csv('data/test_medium_provinces.csv', index = False)\n",
    "df_test_small_provinces.to_csv('data/test_small_provinces.csv', index = False)"
   ]
  },
  {
   "cell_type": "code",
   "execution_count": null,
   "metadata": {},
   "outputs": [],
   "source": []
  }
 ],
 "metadata": {
  "kernelspec": {
   "display_name": "Python 3",
   "language": "python",
   "name": "python3"
  },
  "language_info": {
   "codemirror_mode": {
    "name": "ipython",
    "version": 3
   },
   "file_extension": ".py",
   "mimetype": "text/x-python",
   "name": "python",
   "nbconvert_exporter": "python",
   "pygments_lexer": "ipython3",
   "version": "3.7.4"
  }
 },
 "nbformat": 4,
 "nbformat_minor": 2
}
