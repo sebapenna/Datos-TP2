{
 "cells": [
  {
   "cell_type": "code",
   "execution_count": null,
   "metadata": {},
   "outputs": [],
   "source": [
    "import pandas as pd\n",
    "from datetime import datetime\n",
    "import numpy as np\n",
    "from kerastuner.tuners import RandomSearch\n",
    "from sklearn.preprocessing import MinMaxScaler\n",
    "from tensorflow import keras\n",
    "from tensorflow.keras import layers\n",
    "# Load the TensorBoard notebook extension\n",
    "%load_ext tensorboard\n",
    "import tensorflow as tf\n",
    "import datetime\n",
    "from keras.callbacks import EarlyStopping\n",
    "\n",
    "stopper = EarlyStopping(patience = 10)\n",
    "\n",
    "# Clear any logs from previous runs\n",
    "!rm -rf ./logs/ \n",
    "\n",
    "train_df = pd.read_csv('data/features.csv')\n",
    "\n",
    "train_x = train_df.drop(columns=['precio'])\n",
    "train_y = train_df.precio\n",
    "\n",
    "train_x = train_x.to_numpy()\n",
    "train_y = train_y.to_numpy()\n",
    "\n",
    "n_cols = train_x.shape[0]\n",
    "\n",
    "def build_model(hp):\n",
    "    model = keras.Sequential()\n",
    "    model.add(layers.Dense(units=hp.Int('units',\n",
    "                                        min_value=32,\n",
    "                                        max_value=64,\n",
    "                                        step=16), activation = 'relu', input_shape=(43,)))\n",
    "    for i in range(hp.Int('num_layers',4, 10)):\n",
    "        model.add(layers.Dense(units=hp.Int('units_' + str(i),\n",
    "                                            min_value=64,\n",
    "                                            max_value=256,\n",
    "                                            step=32),\n",
    "                               activation='relu'))\n",
    "    model.add(layers.Dense(1))\n",
    "    model.compile(\n",
    "        optimizer=keras.optimizers.Adam(\n",
    "            hp.Choice('learning_rate', [1e-2, 1e-3, 1e-4])),\n",
    "        loss='mean_squared_error',\n",
    "        metrics=['mae'])\n",
    "    return model\n",
    "\n",
    "tuner = RandomSearch(\n",
    "    build_model,\n",
    "    objective='mae',\n",
    "    max_trials=100,\n",
    "    executions_per_trial=1,\n",
    "    directory='models/definitive_deep_model',\n",
    "    project_name='deep_learning_with_keras_tuner')\n",
    "\n",
    "tuner.search_space_summary()\n",
    "\n",
    "tuner.search(x=train_x,\n",
    "             y=train_y,\n",
    "             epochs=10,\n",
    "             validation_split=0.5)\n",
    "\n",
    "tuner.results_summary()"
   ]
  },
  {
   "cell_type": "code",
   "execution_count": null,
   "metadata": {},
   "outputs": [],
   "source": [
    "models = tuner.get_best_models(num_models=3)"
   ]
  },
  {
   "cell_type": "code",
   "execution_count": null,
   "metadata": {},
   "outputs": [],
   "source": [
    "best_model_1 = models[0]\n",
    "best_model_2 = models[1]\n",
    "best_model_3 = models[2]"
   ]
  },
  {
   "cell_type": "code",
   "execution_count": null,
   "metadata": {},
   "outputs": [],
   "source": [
    "from tensorflow.keras.callbacks import EarlyStopping\n",
    "\n",
    "earlyStopper = EarlyStopping(patience = 10)"
   ]
  },
  {
   "cell_type": "code",
   "execution_count": null,
   "metadata": {},
   "outputs": [],
   "source": [
    "best_model_1.fit(train_x, train_y, validation_split = 0.4, epochs = 300, callbacks = [earlyStopper])"
   ]
  },
  {
   "cell_type": "code",
   "execution_count": null,
   "metadata": {},
   "outputs": [],
   "source": [
    "best_model_2.fit(train_x, train_y, validation_split = 0.4, epochs = 300, callbacks = [earlyStopper])"
   ]
  },
  {
   "cell_type": "code",
   "execution_count": null,
   "metadata": {},
   "outputs": [],
   "source": [
    "best_model_3.fit(train_x, train_y, validation_split = 0.4, epochs = 100, callbacks = [earlyStopper])"
   ]
  },
  {
   "cell_type": "code",
   "execution_count": null,
   "metadata": {},
   "outputs": [],
   "source": [
    "test_df = pd.read_csv('data/testModified.csv')\n",
    "test_id = test_df.id\n",
    "test_df = test_df.drop(columns=['id'])\n",
    "test_df = test_df.to_numpy()\n",
    "\n",
    "best_model_1_prediction = best_model_1.predict(test_df)\n",
    "res = pd.DataFrame(best_model_1_prediction, index=test_id, columns=['precio'])\n",
    "res = res.rename({'precio':'target'}, axis=1)\n",
    "res.to_csv(\"predictions/deep_model_1_prediction.csv\", header = True)\n",
    "\n",
    "best_model_2_prediction = best_model_2.predict(test_df)\n",
    "res = pd.DataFrame(best_model_2_prediction, index=test_id, columns=['precio'])\n",
    "res = res.rename({'precio':'target'}, axis=1)\n",
    "res.to_csv(\"predictions/deep_model_2_prediction.csv\", header = True)\n",
    "\n",
    "best_model_3_prediction = best_model_3.predict(test_df)\n",
    "res = pd.DataFrame(best_model_3_prediction, index=test_id, columns=['precio'])\n",
    "res = res.rename({'precio':'target'}, axis=1)\n",
    "res.to_csv(\"predictions/deep_model_3_prediction.csv\", header = True)"
   ]
  },
  {
   "cell_type": "code",
   "execution_count": null,
   "metadata": {},
   "outputs": [],
   "source": [
    "best_model_avg_prediction = (best_model_1_prediction + best_model_2_prediction + best_model_3_prediction) / 3 \n",
    "res = pd.DataFrame(best_model_avg_prediction, index=test_id, columns=['precio'])\n",
    "res = res.rename({'precio':'target'}, axis=1)\n",
    "res.to_csv(\"predictions/deep_model_avg_prediction.csv\", header = True)"
   ]
  },
  {
   "cell_type": "code",
   "execution_count": null,
   "metadata": {},
   "outputs": [],
   "source": []
  }
 ],
 "metadata": {
  "kernelspec": {
   "display_name": "Python 3",
   "language": "python",
   "name": "python3"
  },
  "language_info": {
   "codemirror_mode": {
    "name": "ipython",
    "version": 3
   },
   "file_extension": ".py",
   "mimetype": "text/x-python",
   "name": "python",
   "nbconvert_exporter": "python",
   "pygments_lexer": "ipython3",
   "version": "3.7.4"
  },
  "widgets": {
   "application/vnd.jupyter.widget-state+json": {
    "state": {},
    "version_major": 2,
    "version_minor": 0
   }
  }
 },
 "nbformat": 4,
 "nbformat_minor": 2
}
