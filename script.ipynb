{
 "cells": [
  {
   "cell_type": "code",
   "execution_count": 1,
   "metadata": {},
   "outputs": [
    {
     "name": "stderr",
     "output_type": "stream",
     "text": [
      "Using TensorFlow backend.\n"
     ]
    }
   ],
   "source": [
    "import pandas as pd\n",
    "import numpy as np\n",
    "from sklearn.preprocessing import MinMaxScaler\n",
    "import keras as keras\n",
    "from keras import layers\n",
    "\n",
    "scaler = MinMaxScaler(feature_range = (0,1))"
   ]
  },
  {
   "cell_type": "code",
   "execution_count": 2,
   "metadata": {},
   "outputs": [
    {
     "data": {
      "text/plain": [
       "737"
      ]
     },
     "execution_count": 2,
     "metadata": {},
     "output_type": "execute_result"
    }
   ],
   "source": [
    "test_small_provinces = pd.read_csv('data/test_small_provinces_modified.csv')\n",
    "test_small_provinces.antiguedad = scaler.fit_transform(np.array(test_small_provinces.antiguedad).reshape(-1, 1))\n",
    "test_small_provinces.metroscubiertos = scaler.fit_transform(np.array(test_small_provinces.metroscubiertos).reshape(-1, 1))\n",
    "test_small_provinces.metrostotales = scaler.fit_transform(np.array(test_small_provinces.metrostotales).reshape(-1, 1))\n",
    "test_small_provinces.habitaciones = scaler.fit_transform(np.array(test_small_provinces.habitaciones).reshape(-1, 1))\n",
    "test_small_provinces.garages = scaler.fit_transform(np.array(test_small_provinces.garages).reshape(-1, 1))\n",
    "test_small_provinces.banos = scaler.fit_transform(np.array(test_small_provinces.banos).reshape(-1, 1))\n",
    "\n",
    "index_small_provinces = test_small_provinces.columns[0]\n",
    "index_small_provinces_column = test_small_provinces[index_small_provinces]\n",
    "small_provinces_ids = test_small_provinces.id\n",
    "test_small_provinces = test_small_provinces.drop(columns = [index_small_provinces, 'id', 'usosmultiples'])\n",
    "test_small_provinces.columns\n",
    "test_small_provinces = test_small_provinces.to_numpy()\n",
    "\n",
    "small_model = keras.Sequential()\n",
    "small_model.add(layers.Dense(80, activation = 'relu', input_shape = (15,)))\n",
    "small_model.add(layers.Dropout(0.5))\n",
    "small_model.add(layers.Dense(80, activation = 'relu'))\n",
    "small_model.add(layers.Dropout(0.4))\n",
    "small_model.add(layers.Dense(64, activation = 'relu'))\n",
    "small_model.add(layers.Dropout(0.3))\n",
    "small_model.add(layers.Dense(80, activation = 'relu'))\n",
    "small_model.add(layers.Dropout(0.2))\n",
    "small_model.add(layers.Dense(64, activation = 'relu'))\n",
    "small_model.add(layers.Dropout(0.2))\n",
    "small_model.add(layers.Dense(1))\n",
    "small_model.compile(optimizer = 'adam', loss = 'mean_squared_error', metrics = ['mae'])\n",
    "small_model.load_weights('model_small_provinces.h5')\n",
    "small_provinces_prediction = small_model.predict(test_small_provinces)\n",
    "\n",
    "len(small_provinces_prediction)"
   ]
  },
  {
   "cell_type": "code",
   "execution_count": 3,
   "metadata": {},
   "outputs": [
    {
     "data": {
      "text/plain": [
       "18177"
      ]
     },
     "execution_count": 3,
     "metadata": {},
     "output_type": "execute_result"
    }
   ],
   "source": [
    "test_medium_provinces = pd.read_csv('data/test_medium_provinces_modified.csv')\n",
    "test_medium_provinces.antiguedad = scaler.fit_transform(np.array(test_medium_provinces.antiguedad).reshape(-1, 1))\n",
    "test_medium_provinces.metroscubiertos = scaler.fit_transform(np.array(test_medium_provinces.metroscubiertos).reshape(-1, 1))\n",
    "test_medium_provinces.metrostotales = scaler.fit_transform(np.array(test_medium_provinces.metrostotales).reshape(-1, 1))\n",
    "test_medium_provinces.habitaciones = scaler.fit_transform(np.array(test_medium_provinces.habitaciones).reshape(-1, 1))\n",
    "test_medium_provinces.garages = scaler.fit_transform(np.array(test_medium_provinces.garages).reshape(-1, 1))\n",
    "test_medium_provinces.banos = scaler.fit_transform(np.array(test_medium_provinces.banos).reshape(-1, 1))\n",
    "\n",
    "index_medium_provinces = test_medium_provinces.columns[0]\n",
    "index_medium_provinces_column = test_medium_provinces[index_medium_provinces]\n",
    "medium_provinces_ids = test_medium_provinces.id\n",
    "test_medium_provinces = test_medium_provinces.drop(columns = [index_medium_provinces, 'id', 'usosmultiples'])\n",
    "test_medium_provinces.columns\n",
    "test_medium_provinces = test_medium_provinces.to_numpy()\n",
    "\n",
    "medium_model = keras.Sequential()\n",
    "medium_model.add(layers.Dense(244, activation = 'relu', input_shape = (31,)))\n",
    "medium_model.add(layers.Dropout(0.5))\n",
    "medium_model.add(layers.Dense(292, activation = 'relu'))\n",
    "medium_model.add(layers.Dropout(0.5))\n",
    "medium_model.add(layers.Dense(244, activation = 'relu'))\n",
    "medium_model.add(layers.Dropout(0.5))\n",
    "medium_model.add(layers.Dense(164, activation = 'relu'))\n",
    "medium_model.add(layers.Dropout(0.5))\n",
    "medium_model.add(layers.Dense(196, activation = 'relu'))\n",
    "medium_model.add(layers.Dropout(0.5))\n",
    "medium_model.add(layers.Dense(116, activation = 'relu'))\n",
    "medium_model.add(layers.Dense(1))\n",
    "medium_model.compile(optimizer = 'adam', loss = 'mean_squared_error', metrics = ['mae'])\n",
    "medium_model.load_weights('model_medium_provinces.h5')\n",
    "medium_provinces_prediction = medium_model.predict(test_medium_provinces)\n",
    "\n",
    "len(medium_provinces_prediction)"
   ]
  },
  {
   "cell_type": "code",
   "execution_count": 4,
   "metadata": {},
   "outputs": [
    {
     "data": {
      "text/plain": [
       "41044"
      ]
     },
     "execution_count": 4,
     "metadata": {},
     "output_type": "execute_result"
    }
   ],
   "source": [
    "test_big_provinces = pd.read_csv('data/test_big_provinces_modified.csv')\n",
    "test_big_provinces.antiguedad = scaler.fit_transform(np.array(test_big_provinces.antiguedad).reshape(-1, 1))\n",
    "test_big_provinces.metroscubiertos = scaler.fit_transform(np.array(test_big_provinces.metroscubiertos).reshape(-1, 1))\n",
    "test_big_provinces.metrostotales = scaler.fit_transform(np.array(test_big_provinces.metrostotales).reshape(-1, 1))\n",
    "test_big_provinces.habitaciones = scaler.fit_transform(np.array(test_big_provinces.habitaciones).reshape(-1, 1))\n",
    "test_big_provinces.garages = scaler.fit_transform(np.array(test_big_provinces.garages).reshape(-1, 1))\n",
    "test_big_provinces.banos = scaler.fit_transform(np.array(test_big_provinces.banos).reshape(-1, 1))\n",
    "\n",
    "index_big_provinces = test_big_provinces.columns[0]\n",
    "index_big_provinces_column = test_big_provinces[index_big_provinces]\n",
    "big_provinces_id = test_big_provinces.id\n",
    "test_big_provinces = test_big_provinces.drop(columns = [index_big_provinces, 'id', 'usosmultiples'])\n",
    "test_big_provinces.columns\n",
    "test_big_provinces = test_big_provinces.to_numpy()\n",
    "\n",
    "big_model = keras.Sequential()\n",
    "big_model.add(layers.Dense(380, activation = 'relu', input_shape = (16,)))\n",
    "big_model.add(layers.Dropout(0.5))\n",
    "big_model.add(layers.Dense(520, activation = 'relu'))\n",
    "big_model.add(layers.Dropout(0.5))\n",
    "big_model.add(layers.Dense(380, activation = 'relu'))\n",
    "big_model.add(layers.Dropout(0.5))\n",
    "big_model.add(layers.Dense(360, activation = 'relu'))\n",
    "big_model.add(layers.Dropout(0.5))\n",
    "big_model.add(layers.Dense(1))\n",
    "big_model.compile(optimizer = 'adam', loss = 'mean_squared_error', metrics = ['mae'])\n",
    "big_model.load_weights('model_big_provinces.h5')\n",
    "big_provinces_prediction = big_model.predict(test_big_provinces)\n",
    "\n",
    "len(big_provinces_prediction)"
   ]
  },
  {
   "cell_type": "code",
   "execution_count": 5,
   "metadata": {},
   "outputs": [
    {
     "data": {
      "text/html": [
       "<div>\n",
       "<style scoped>\n",
       "    .dataframe tbody tr th:only-of-type {\n",
       "        vertical-align: middle;\n",
       "    }\n",
       "\n",
       "    .dataframe tbody tr th {\n",
       "        vertical-align: top;\n",
       "    }\n",
       "\n",
       "    .dataframe thead th {\n",
       "        text-align: right;\n",
       "    }\n",
       "</style>\n",
       "<table border=\"1\" class=\"dataframe\">\n",
       "  <thead>\n",
       "    <tr style=\"text-align: right;\">\n",
       "      <th></th>\n",
       "      <th>0</th>\n",
       "      <th>position</th>\n",
       "      <th>id</th>\n",
       "    </tr>\n",
       "  </thead>\n",
       "  <tbody>\n",
       "    <tr>\n",
       "      <td>0</td>\n",
       "      <td>1.549976e+06</td>\n",
       "      <td>26</td>\n",
       "      <td>76044</td>\n",
       "    </tr>\n",
       "    <tr>\n",
       "      <td>1</td>\n",
       "      <td>2.542281e+06</td>\n",
       "      <td>54</td>\n",
       "      <td>83961</td>\n",
       "    </tr>\n",
       "    <tr>\n",
       "      <td>2</td>\n",
       "      <td>7.656679e+05</td>\n",
       "      <td>63</td>\n",
       "      <td>7603</td>\n",
       "    </tr>\n",
       "    <tr>\n",
       "      <td>3</td>\n",
       "      <td>1.649282e+06</td>\n",
       "      <td>138</td>\n",
       "      <td>43811</td>\n",
       "    </tr>\n",
       "    <tr>\n",
       "      <td>4</td>\n",
       "      <td>4.620180e+05</td>\n",
       "      <td>143</td>\n",
       "      <td>212950</td>\n",
       "    </tr>\n",
       "  </tbody>\n",
       "</table>\n",
       "</div>"
      ],
      "text/plain": [
       "              0  position      id\n",
       "0  1.549976e+06        26   76044\n",
       "1  2.542281e+06        54   83961\n",
       "2  7.656679e+05        63    7603\n",
       "3  1.649282e+06       138   43811\n",
       "4  4.620180e+05       143  212950"
      ]
     },
     "execution_count": 5,
     "metadata": {},
     "output_type": "execute_result"
    }
   ],
   "source": [
    "df_small_provinces = pd.DataFrame(small_provinces_prediction)\n",
    "df_small_provinces['position'] = index_small_provinces_column\n",
    "df_small_provinces['id'] = small_provinces_ids\n",
    "df_small_provinces.head()"
   ]
  },
  {
   "cell_type": "code",
   "execution_count": 6,
   "metadata": {},
   "outputs": [
    {
     "data": {
      "text/plain": [
       "Index([0, 'position', 'id'], dtype='object')"
      ]
     },
     "execution_count": 6,
     "metadata": {},
     "output_type": "execute_result"
    }
   ],
   "source": [
    "df_medium_provinces = pd.DataFrame(medium_provinces_prediction)\n",
    "df_medium_provinces['position'] = index_medium_provinces_column\n",
    "df_medium_provinces['id'] = medium_provinces_ids\n",
    "df_medium_provinces.columns"
   ]
  },
  {
   "cell_type": "code",
   "execution_count": 7,
   "metadata": {},
   "outputs": [
    {
     "data": {
      "text/html": [
       "<div>\n",
       "<style scoped>\n",
       "    .dataframe tbody tr th:only-of-type {\n",
       "        vertical-align: middle;\n",
       "    }\n",
       "\n",
       "    .dataframe tbody tr th {\n",
       "        vertical-align: top;\n",
       "    }\n",
       "\n",
       "    .dataframe thead th {\n",
       "        text-align: right;\n",
       "    }\n",
       "</style>\n",
       "<table border=\"1\" class=\"dataframe\">\n",
       "  <thead>\n",
       "    <tr style=\"text-align: right;\">\n",
       "      <th></th>\n",
       "      <th>0</th>\n",
       "      <th>position</th>\n",
       "      <th>id</th>\n",
       "    </tr>\n",
       "  </thead>\n",
       "  <tbody>\n",
       "    <tr>\n",
       "      <td>0</td>\n",
       "      <td>6668761.500</td>\n",
       "      <td>0</td>\n",
       "      <td>4941</td>\n",
       "    </tr>\n",
       "    <tr>\n",
       "      <td>1</td>\n",
       "      <td>2820097.000</td>\n",
       "      <td>2</td>\n",
       "      <td>115253</td>\n",
       "    </tr>\n",
       "    <tr>\n",
       "      <td>2</td>\n",
       "      <td>775103.625</td>\n",
       "      <td>4</td>\n",
       "      <td>173570</td>\n",
       "    </tr>\n",
       "    <tr>\n",
       "      <td>3</td>\n",
       "      <td>2101349.250</td>\n",
       "      <td>5</td>\n",
       "      <td>30862</td>\n",
       "    </tr>\n",
       "    <tr>\n",
       "      <td>4</td>\n",
       "      <td>2501590.000</td>\n",
       "      <td>6</td>\n",
       "      <td>244471</td>\n",
       "    </tr>\n",
       "  </tbody>\n",
       "</table>\n",
       "</div>"
      ],
      "text/plain": [
       "             0  position      id\n",
       "0  6668761.500         0    4941\n",
       "1  2820097.000         2  115253\n",
       "2   775103.625         4  173570\n",
       "3  2101349.250         5   30862\n",
       "4  2501590.000         6  244471"
      ]
     },
     "execution_count": 7,
     "metadata": {},
     "output_type": "execute_result"
    }
   ],
   "source": [
    "df_big_provinces = pd.DataFrame(big_provinces_prediction)\n",
    "df_big_provinces['position'] = index_big_provinces_column\n",
    "df_big_provinces['id'] = big_provinces_id\n",
    "df_big_provinces.head()"
   ]
  },
  {
   "cell_type": "code",
   "execution_count": 8,
   "metadata": {},
   "outputs": [
    {
     "data": {
      "text/plain": [
       "Index([0, 'position', 'id'], dtype='object')"
      ]
     },
     "execution_count": 8,
     "metadata": {},
     "output_type": "execute_result"
    }
   ],
   "source": [
    "full_prediction = df_small_provinces.merge(df_medium_provinces, on = ['position', 'id', 0], how = 'outer').merge(df_big_provinces, on = ['position', 'id', 0], how = 'outer')\n",
    "full_prediction = full_prediction.sort_values(by = 'position')\n",
    "full_prediction.columns"
   ]
  },
  {
   "cell_type": "code",
   "execution_count": 9,
   "metadata": {},
   "outputs": [
    {
     "data": {
      "text/html": [
       "<div>\n",
       "<style scoped>\n",
       "    .dataframe tbody tr th:only-of-type {\n",
       "        vertical-align: middle;\n",
       "    }\n",
       "\n",
       "    .dataframe tbody tr th {\n",
       "        vertical-align: top;\n",
       "    }\n",
       "\n",
       "    .dataframe thead th {\n",
       "        text-align: right;\n",
       "    }\n",
       "</style>\n",
       "<table border=\"1\" class=\"dataframe\">\n",
       "  <thead>\n",
       "    <tr style=\"text-align: right;\">\n",
       "      <th></th>\n",
       "      <th>id</th>\n",
       "      <th>target</th>\n",
       "    </tr>\n",
       "  </thead>\n",
       "  <tbody>\n",
       "    <tr>\n",
       "      <td>0</td>\n",
       "      <td>167194</td>\n",
       "      <td>595646.8</td>\n",
       "    </tr>\n",
       "    <tr>\n",
       "      <td>1</td>\n",
       "      <td>278734</td>\n",
       "      <td>3449335.8</td>\n",
       "    </tr>\n",
       "    <tr>\n",
       "      <td>2</td>\n",
       "      <td>115366</td>\n",
       "      <td>2660668.0</td>\n",
       "    </tr>\n",
       "    <tr>\n",
       "      <td>3</td>\n",
       "      <td>120052</td>\n",
       "      <td>1024931.8</td>\n",
       "    </tr>\n",
       "    <tr>\n",
       "      <td>4</td>\n",
       "      <td>182711</td>\n",
       "      <td>533055.2</td>\n",
       "    </tr>\n",
       "  </tbody>\n",
       "</table>\n",
       "</div>"
      ],
      "text/plain": [
       "       id     target\n",
       "0  167194   595646.8\n",
       "1  278734  3449335.8\n",
       "2  115366  2660668.0\n",
       "3  120052  1024931.8\n",
       "4  182711   533055.2"
      ]
     },
     "execution_count": 9,
     "metadata": {},
     "output_type": "execute_result"
    }
   ],
   "source": [
    "xgb_prediction = pd.read_csv('predictions/xgb_predictions.csv')\n",
    "xgb_prediction.head()"
   ]
  },
  {
   "cell_type": "code",
   "execution_count": 10,
   "metadata": {},
   "outputs": [
    {
     "data": {
      "text/plain": [
       "False    60000\n",
       "Name: 0, dtype: int64"
      ]
     },
     "execution_count": 10,
     "metadata": {},
     "output_type": "execute_result"
    }
   ],
   "source": [
    "avg_prediction = xgb_prediction.merge(full_prediction, on = 'id', how = 'outer')\n",
    "avg_prediction = avg_prediction.fillna(0)\n",
    "avg_prediction[0].isnull().value_counts()"
   ]
  },
  {
   "cell_type": "code",
   "execution_count": 11,
   "metadata": {},
   "outputs": [
    {
     "data": {
      "text/plain": [
       "0        6.971725e+05\n",
       "1        3.509974e+06\n",
       "2        3.744910e+06\n",
       "3        2.592060e+06\n",
       "4        6.665159e+05\n",
       "             ...     \n",
       "59995    7.340798e+05\n",
       "59996    4.090442e+06\n",
       "59997    2.988669e+06\n",
       "59998    3.472808e+06\n",
       "59999    2.358712e+06\n",
       "Name: 0, Length: 60000, dtype: float64"
      ]
     },
     "execution_count": 11,
     "metadata": {},
     "output_type": "execute_result"
    }
   ],
   "source": [
    "avg_prediction[0]"
   ]
  },
  {
   "cell_type": "code",
   "execution_count": 12,
   "metadata": {},
   "outputs": [
    {
     "data": {
      "text/html": [
       "<div>\n",
       "<style scoped>\n",
       "    .dataframe tbody tr th:only-of-type {\n",
       "        vertical-align: middle;\n",
       "    }\n",
       "\n",
       "    .dataframe tbody tr th {\n",
       "        vertical-align: top;\n",
       "    }\n",
       "\n",
       "    .dataframe thead th {\n",
       "        text-align: right;\n",
       "    }\n",
       "</style>\n",
       "<table border=\"1\" class=\"dataframe\">\n",
       "  <thead>\n",
       "    <tr style=\"text-align: right;\">\n",
       "      <th></th>\n",
       "      <th>id</th>\n",
       "      <th>target</th>\n",
       "      <th>0</th>\n",
       "      <th>position</th>\n",
       "      <th>avg_target</th>\n",
       "    </tr>\n",
       "  </thead>\n",
       "  <tbody>\n",
       "    <tr>\n",
       "      <td>0</td>\n",
       "      <td>167194</td>\n",
       "      <td>595646.8</td>\n",
       "      <td>6.971725e+05</td>\n",
       "      <td>170.0</td>\n",
       "      <td>6.464097e+05</td>\n",
       "    </tr>\n",
       "    <tr>\n",
       "      <td>1</td>\n",
       "      <td>278734</td>\n",
       "      <td>3449335.8</td>\n",
       "      <td>3.509974e+06</td>\n",
       "      <td>4374.0</td>\n",
       "      <td>3.479655e+06</td>\n",
       "    </tr>\n",
       "    <tr>\n",
       "      <td>2</td>\n",
       "      <td>115366</td>\n",
       "      <td>2660668.0</td>\n",
       "      <td>3.744910e+06</td>\n",
       "      <td>22826.0</td>\n",
       "      <td>3.202789e+06</td>\n",
       "    </tr>\n",
       "    <tr>\n",
       "      <td>3</td>\n",
       "      <td>120052</td>\n",
       "      <td>1024931.8</td>\n",
       "      <td>2.592060e+06</td>\n",
       "      <td>29716.0</td>\n",
       "      <td>1.808496e+06</td>\n",
       "    </tr>\n",
       "    <tr>\n",
       "      <td>4</td>\n",
       "      <td>182711</td>\n",
       "      <td>533055.2</td>\n",
       "      <td>6.665159e+05</td>\n",
       "      <td>34578.0</td>\n",
       "      <td>5.997856e+05</td>\n",
       "    </tr>\n",
       "  </tbody>\n",
       "</table>\n",
       "</div>"
      ],
      "text/plain": [
       "       id     target             0  position    avg_target\n",
       "0  167194   595646.8  6.971725e+05     170.0  6.464097e+05\n",
       "1  278734  3449335.8  3.509974e+06    4374.0  3.479655e+06\n",
       "2  115366  2660668.0  3.744910e+06   22826.0  3.202789e+06\n",
       "3  120052  1024931.8  2.592060e+06   29716.0  1.808496e+06\n",
       "4  182711   533055.2  6.665159e+05   34578.0  5.997856e+05"
      ]
     },
     "execution_count": 12,
     "metadata": {},
     "output_type": "execute_result"
    }
   ],
   "source": [
    "def get_avg_target(target1, target2):\n",
    "    if target2.isnull():\n",
    "        return target1\n",
    "    return (target1 + target2) / 2\n",
    "\n",
    "def a(target1, target2):\n",
    "    if target1 == target2:\n",
    "        return target1\n",
    "    return target2 / 2\n",
    "\n",
    "#avg_prediction['avg_target'] = avg_prediction.apply(get_avg_target(avg_prediction.target, avg_prediction[0]), axis = 1)\n",
    "avg_prediction['avg_target'] = (avg_prediction.target + avg_prediction[0]) / 2\n",
    "avg_prediction.head()"
   ]
  },
  {
   "cell_type": "code",
   "execution_count": 13,
   "metadata": {},
   "outputs": [],
   "source": [
    "#avg_prediction = avg_prediction.drop(columns = [0, 'target', 'position'])\n",
    "#res = pd.DataFrame(avg_prediction, index=avg_prediction.id, columns=['avg_target'])\n",
    "#res = res.rename({'avg_target':'target'}, axis=1)\n",
    "res = pd.DataFrame()\n",
    "res['id'] = avg_prediction.id\n",
    "res['target'] = avg_prediction['avg_target']"
   ]
  },
  {
   "cell_type": "code",
   "execution_count": 14,
   "metadata": {},
   "outputs": [],
   "source": [
    "res.to_csv(\"predictions/super_avg_prediction.csv\", header = True)"
   ]
  },
  {
   "cell_type": "code",
   "execution_count": 19,
   "metadata": {},
   "outputs": [
    {
     "name": "stdout",
     "output_type": "stream",
     "text": [
      "(60000, 2)\n",
      "(60000, 2)\n",
      "(60000, 2)\n"
     ]
    }
   ],
   "source": [
    "single_layer_prediction = pd.read_csv('predictions/single_layer_prediction.csv')\n",
    "deep_model_prediction = pd.read_csv('predictions/deep_model_dropout_prediction.csv')\n",
    "xgb_prediction = pd.read_csv('predictions/xgb_predictions.csv')\n",
    "\n",
    "print(single_layer_model_prediction.shape)\n",
    "print(deep_model_prediction.shape)\n",
    "print(xgb_prediction.shape)"
   ]
  },
  {
   "cell_type": "code",
   "execution_count": 21,
   "metadata": {},
   "outputs": [],
   "source": [
    "avg_prediction = pd.DataFrame()\n",
    "avg_prediction['id'] = single_layer_prediction.id\n",
    "avg_prediction['target'] = single_layer_prediction.target * 0.25 + deep_model_prediction.target * 0.25 + xgb_prediction.target * 0.5 "
   ]
  },
  {
   "cell_type": "code",
   "execution_count": 23,
   "metadata": {},
   "outputs": [],
   "source": [
    "res.to_csv(\"predictions/dl_xgb_avg_prediction.csv\", header = True)"
   ]
  },
  {
   "cell_type": "code",
   "execution_count": null,
   "metadata": {},
   "outputs": [],
   "source": []
  }
 ],
 "metadata": {
  "kernelspec": {
   "display_name": "Python 3",
   "language": "python",
   "name": "python3"
  },
  "language_info": {
   "codemirror_mode": {
    "name": "ipython",
    "version": 3
   },
   "file_extension": ".py",
   "mimetype": "text/x-python",
   "name": "python",
   "nbconvert_exporter": "python",
   "pygments_lexer": "ipython3",
   "version": "3.7.4"
  }
 },
 "nbformat": 4,
 "nbformat_minor": 2
}
