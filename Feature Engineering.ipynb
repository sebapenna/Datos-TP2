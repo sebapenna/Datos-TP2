{
 "cells": [
  {
   "cell_type": "code",
   "execution_count": 66,
   "metadata": {},
   "outputs": [],
   "source": [
    "# Importacion de librerias y de visualizacion (matplotlib y seaborn)\n",
    "import pandas as pd\n",
    "import numpy as np\n",
    "import matplotlib.pyplot as plt\n",
    "import seaborn as sns\n",
    "import datetime as dt\n",
    "\n",
    "%matplotlib inline\n",
    "\n",
    "plt.style.use('default') # para graficos matplotlib\n",
    "plt.rcParams['figure.figsize'] = (10, 8)\n",
    "\n",
    "sns.set(style=\"whitegrid\") # grid seaborn\n",
    "\n",
    "# pd.options.display.float_format = '{:20,.0f}'.format # notacion output"
   ]
  },
  {
   "cell_type": "markdown",
   "metadata": {},
   "source": [
    "# Acceso a set de datos"
   ]
  },
  {
   "cell_type": "code",
   "execution_count": 67,
   "metadata": {},
   "outputs": [],
   "source": [
    "path = \"data/\"\n",
    "df_props_full = pd.read_csv(path + \"train.csv\")\n",
    "df_test = pd.read_csv(path + \"test.csv\")"
   ]
  },
  {
   "cell_type": "code",
   "execution_count": 68,
   "metadata": {},
   "outputs": [
    {
     "data": {
      "text/plain": [
       "Index(['id', 'titulo', 'descripcion', 'tipodepropiedad', 'direccion', 'ciudad',\n",
       "       'provincia', 'antiguedad', 'habitaciones', 'garages', 'banos',\n",
       "       'metroscubiertos', 'metrostotales', 'idzona', 'lat', 'lng', 'fecha',\n",
       "       'gimnasio', 'usosmultiples', 'piscina', 'escuelascercanas',\n",
       "       'centroscomercialescercanos', 'precio'],\n",
       "      dtype='object')"
      ]
     },
     "execution_count": 68,
     "metadata": {},
     "output_type": "execute_result"
    }
   ],
   "source": [
    "df_props_full.columns"
   ]
  },
  {
   "cell_type": "code",
   "execution_count": 69,
   "metadata": {},
   "outputs": [
    {
     "data": {
      "text/plain": [
       "Index(['id', 'titulo', 'descripcion', 'tipodepropiedad', 'direccion', 'ciudad',\n",
       "       'provincia', 'antiguedad', 'habitaciones', 'garages', 'banos',\n",
       "       'metroscubiertos', 'metrostotales', 'idzona', 'lat', 'lng', 'fecha',\n",
       "       'gimnasio', 'usosmultiples', 'piscina', 'escuelascercanas',\n",
       "       'centroscomercialescercanos'],\n",
       "      dtype='object')"
      ]
     },
     "execution_count": 69,
     "metadata": {},
     "output_type": "execute_result"
    }
   ],
   "source": [
    "df_test.columns"
   ]
  },
  {
   "cell_type": "code",
   "execution_count": 70,
   "metadata": {},
   "outputs": [
    {
     "data": {
      "text/plain": [
       "8801          0\n",
       "44294         6\n",
       "49829        11\n",
       "44914        12\n",
       "1308         16\n",
       "          ...  \n",
       "43359    299957\n",
       "22122    299962\n",
       "11225    299973\n",
       "6151     299983\n",
       "53128    299992\n",
       "Name: id, Length: 60000, dtype: int64"
      ]
     },
     "execution_count": 70,
     "metadata": {},
     "output_type": "execute_result"
    }
   ],
   "source": [
    "df_test.id.sort_values()"
   ]
  },
  {
   "cell_type": "code",
   "execution_count": 71,
   "metadata": {},
   "outputs": [
    {
     "data": {
      "text/plain": [
       "73868          1\n",
       "191491         2\n",
       "126184         3\n",
       "23027          4\n",
       "228358         5\n",
       "           ...  \n",
       "218493    299995\n",
       "153978    299996\n",
       "43069     299997\n",
       "137560    299998\n",
       "27616     299999\n",
       "Name: id, Length: 240000, dtype: int64"
      ]
     },
     "execution_count": 71,
     "metadata": {},
     "output_type": "execute_result"
    }
   ],
   "source": [
    "df_props_full.id.sort_values()"
   ]
  },
  {
   "cell_type": "markdown",
   "metadata": {},
   "source": [
    "# Conversión de tipos"
   ]
  },
  {
   "cell_type": "code",
   "execution_count": 72,
   "metadata": {},
   "outputs": [],
   "source": [
    "df_props_full['fecha'] = pd.to_datetime(df_props_full['fecha'])\n",
    "df_test['fecha'] = pd.to_datetime(df_test['fecha'])"
   ]
  },
  {
   "cell_type": "code",
   "execution_count": 73,
   "metadata": {},
   "outputs": [],
   "source": [
    "# Convierto todos los valores 1/0 a uint8\n",
    "df_props_full['gimnasio'] = df_props_full['gimnasio'].astype('uint8')\n",
    "df_props_full['usosmultiples'] = df_props_full['usosmultiples'].astype('uint8')\n",
    "df_props_full['piscina'] = df_props_full['piscina'].astype('uint8')\n",
    "df_props_full['escuelascercanas'] = df_props_full['escuelascercanas'].astype('uint8')\n",
    "df_props_full['centroscomercialescercanos'] = df_props_full['centroscomercialescercanos'].astype('uint8')\n",
    "\n",
    "df_test['gimnasio'] = df_test['gimnasio'].astype('uint8')\n",
    "df_test['usosmultiples'] = df_test['usosmultiples'].astype('uint8')\n",
    "df_test['piscina'] = df_test['piscina'].astype('uint8')\n",
    "df_test['escuelascercanas'] = df_test['escuelascercanas'].astype('uint8')\n",
    "df_test['centroscomercialescercanos'] = df_test['centroscomercialescercanos'].astype('uint8')"
   ]
  },
  {
   "cell_type": "code",
   "execution_count": 74,
   "metadata": {},
   "outputs": [],
   "source": [
    "# Convierto los representables en uint8. Utilizo el tipo de pandas UInt8Dtype para evitar conflicto con NaN\n",
    "df_props_full['antiguedad'] = df_props_full['antiguedad'].astype(pd.UInt8Dtype())\n",
    "df_props_full['habitaciones'] = df_props_full['habitaciones'].astype(pd.UInt8Dtype())\n",
    "df_props_full['garages'] = df_props_full['garages'].astype(pd.UInt8Dtype())\n",
    "df_props_full['banos'] = df_props_full['banos'].astype(pd.UInt8Dtype())\n",
    "\n",
    "df_test['antiguedad'] = df_test['antiguedad'].astype(pd.UInt8Dtype())\n",
    "df_test['habitaciones'] = df_test['habitaciones'].astype(pd.UInt8Dtype())\n",
    "df_test['garages'] = df_test['garages'].astype(pd.UInt8Dtype())\n",
    "df_test['banos'] = df_test['banos'].astype(pd.UInt8Dtype())"
   ]
  },
  {
   "cell_type": "code",
   "execution_count": 75,
   "metadata": {},
   "outputs": [],
   "source": [
    "# Convierto los representables en uint16. Utilizo el tipo de pandas UInt16Dtype para evitar conflicto con NaN\n",
    "df_props_full['metroscubiertos'] = df_props_full['metroscubiertos'].astype(pd.UInt16Dtype())\n",
    "df_props_full['metrostotales'] = df_props_full['metrostotales'].astype(pd.UInt16Dtype())\n",
    "\n",
    "df_test['metroscubiertos'] = df_test['metroscubiertos'].astype(pd.UInt16Dtype())\n",
    "df_test['metrostotales'] = df_test['metrostotales'].astype(pd.UInt16Dtype())"
   ]
  },
  {
   "cell_type": "code",
   "execution_count": 76,
   "metadata": {},
   "outputs": [],
   "source": [
    "# Convierto los representables en uint32. Utilizo el tipo de pandas UInt32Dtype para evitar conflicto con NaN\n",
    "df_props_full['id'] = df_props_full['id'].astype(pd.UInt32Dtype())\n",
    "df_props_full['idzona'] = df_props_full['idzona'].astype(pd.UInt32Dtype())\n",
    "# df_props_full['Precio_MEX'] = df_props_full['Precio_MEX'].astype(pd.UInt32Dtype())\n",
    "# df_props_full['Precio_USD'] = df_props_full['Precio_USD'].astype(pd.UInt32Dtype())\n",
    "df_props_full['precio'] = df_props_full['precio'].astype('float32')\n",
    "\n",
    "df_test['id'] = df_test['id'].astype(pd.UInt32Dtype())\n",
    "df_test['idzona'] = df_test['idzona'].astype(pd.UInt32Dtype())"
   ]
  },
  {
   "cell_type": "markdown",
   "metadata": {},
   "source": [
    "# Habitaciones"
   ]
  },
  {
   "cell_type": "markdown",
   "metadata": {},
   "source": [
    "Basado en información obtenida del TP1 elimino habitaciones con valores nulos"
   ]
  },
  {
   "cell_type": "code",
   "execution_count": 77,
   "metadata": {},
   "outputs": [
    {
     "data": {
      "text/plain": [
       "False    217529\n",
       "True      22471\n",
       "Name: habitaciones, dtype: int64"
      ]
     },
     "execution_count": 77,
     "metadata": {},
     "output_type": "execute_result"
    }
   ],
   "source": [
    "df_props_full.habitaciones.isna().value_counts()"
   ]
  },
  {
   "cell_type": "code",
   "execution_count": 78,
   "metadata": {},
   "outputs": [
    {
     "data": {
      "text/plain": [
       "3     121887\n",
       "2      57808\n",
       "4      25068\n",
       "1       5069\n",
       "5       4596\n",
       "6       1669\n",
       "7        539\n",
       "8        398\n",
       "10       316\n",
       "9        179\n",
       "Name: habitaciones, dtype: int64"
      ]
     },
     "execution_count": 78,
     "metadata": {},
     "output_type": "execute_result"
    }
   ],
   "source": [
    "df_props_full.habitaciones.value_counts()"
   ]
  },
  {
   "cell_type": "code",
   "execution_count": 79,
   "metadata": {},
   "outputs": [
    {
     "data": {
      "text/plain": [
       "240000"
      ]
     },
     "execution_count": 79,
     "metadata": {},
     "output_type": "execute_result"
    }
   ],
   "source": [
    "features = df_props_full\n",
    "len(features)"
   ]
  },
  {
   "cell_type": "code",
   "execution_count": 80,
   "metadata": {},
   "outputs": [
    {
     "data": {
      "text/html": [
       "<div>\n",
       "<style scoped>\n",
       "    .dataframe tbody tr th:only-of-type {\n",
       "        vertical-align: middle;\n",
       "    }\n",
       "\n",
       "    .dataframe tbody tr th {\n",
       "        vertical-align: top;\n",
       "    }\n",
       "\n",
       "    .dataframe thead tr th {\n",
       "        text-align: left;\n",
       "    }\n",
       "\n",
       "    .dataframe thead tr:last-of-type th {\n",
       "        text-align: right;\n",
       "    }\n",
       "</style>\n",
       "<table border=\"1\" class=\"dataframe\">\n",
       "  <thead>\n",
       "    <tr>\n",
       "      <th></th>\n",
       "      <th colspan=\"10\" halign=\"left\">0</th>\n",
       "    </tr>\n",
       "    <tr>\n",
       "      <th>habitaciones</th>\n",
       "      <th>1</th>\n",
       "      <th>2</th>\n",
       "      <th>3</th>\n",
       "      <th>4</th>\n",
       "      <th>5</th>\n",
       "      <th>6</th>\n",
       "      <th>7</th>\n",
       "      <th>8</th>\n",
       "      <th>9</th>\n",
       "      <th>10</th>\n",
       "    </tr>\n",
       "    <tr>\n",
       "      <th>tipodepropiedad</th>\n",
       "      <th></th>\n",
       "      <th></th>\n",
       "      <th></th>\n",
       "      <th></th>\n",
       "      <th></th>\n",
       "      <th></th>\n",
       "      <th></th>\n",
       "      <th></th>\n",
       "      <th></th>\n",
       "      <th></th>\n",
       "    </tr>\n",
       "  </thead>\n",
       "  <tbody>\n",
       "    <tr>\n",
       "      <th>Apartamento</th>\n",
       "      <td>2841.0</td>\n",
       "      <td>30040.0</td>\n",
       "      <td>22566.0</td>\n",
       "      <td>780.0</td>\n",
       "      <td>64.0</td>\n",
       "      <td>23.0</td>\n",
       "      <td>6.0</td>\n",
       "      <td>13.0</td>\n",
       "      <td>9.0</td>\n",
       "      <td>5.0</td>\n",
       "    </tr>\n",
       "    <tr>\n",
       "      <th>Bodega comercial</th>\n",
       "      <td>47.0</td>\n",
       "      <td>42.0</td>\n",
       "      <td>30.0</td>\n",
       "      <td>18.0</td>\n",
       "      <td>10.0</td>\n",
       "      <td>5.0</td>\n",
       "      <td>1.0</td>\n",
       "      <td>3.0</td>\n",
       "      <td>1.0</td>\n",
       "      <td>NaN</td>\n",
       "    </tr>\n",
       "    <tr>\n",
       "      <th>Casa</th>\n",
       "      <td>1549.0</td>\n",
       "      <td>23789.0</td>\n",
       "      <td>84651.0</td>\n",
       "      <td>21714.0</td>\n",
       "      <td>4179.0</td>\n",
       "      <td>1458.0</td>\n",
       "      <td>458.0</td>\n",
       "      <td>298.0</td>\n",
       "      <td>120.0</td>\n",
       "      <td>163.0</td>\n",
       "    </tr>\n",
       "    <tr>\n",
       "      <th>Casa en condominio</th>\n",
       "      <td>186.0</td>\n",
       "      <td>3004.0</td>\n",
       "      <td>13608.0</td>\n",
       "      <td>2095.0</td>\n",
       "      <td>143.0</td>\n",
       "      <td>29.0</td>\n",
       "      <td>5.0</td>\n",
       "      <td>6.0</td>\n",
       "      <td>2.0</td>\n",
       "      <td>4.0</td>\n",
       "    </tr>\n",
       "    <tr>\n",
       "      <th>Casa uso de suelo</th>\n",
       "      <td>12.0</td>\n",
       "      <td>53.0</td>\n",
       "      <td>150.0</td>\n",
       "      <td>133.0</td>\n",
       "      <td>48.0</td>\n",
       "      <td>34.0</td>\n",
       "      <td>24.0</td>\n",
       "      <td>16.0</td>\n",
       "      <td>9.0</td>\n",
       "      <td>23.0</td>\n",
       "    </tr>\n",
       "    <tr>\n",
       "      <th>Departamento Compartido</th>\n",
       "      <td>8.0</td>\n",
       "      <td>61.0</td>\n",
       "      <td>62.0</td>\n",
       "      <td>2.0</td>\n",
       "      <td>NaN</td>\n",
       "      <td>2.0</td>\n",
       "      <td>NaN</td>\n",
       "      <td>NaN</td>\n",
       "      <td>NaN</td>\n",
       "      <td>2.0</td>\n",
       "    </tr>\n",
       "    <tr>\n",
       "      <th>Duplex</th>\n",
       "      <td>8.0</td>\n",
       "      <td>194.0</td>\n",
       "      <td>109.0</td>\n",
       "      <td>13.0</td>\n",
       "      <td>9.0</td>\n",
       "      <td>6.0</td>\n",
       "      <td>NaN</td>\n",
       "      <td>1.0</td>\n",
       "      <td>NaN</td>\n",
       "      <td>NaN</td>\n",
       "    </tr>\n",
       "    <tr>\n",
       "      <th>Edificio</th>\n",
       "      <td>11.0</td>\n",
       "      <td>35.0</td>\n",
       "      <td>36.0</td>\n",
       "      <td>21.0</td>\n",
       "      <td>22.0</td>\n",
       "      <td>45.0</td>\n",
       "      <td>18.0</td>\n",
       "      <td>28.0</td>\n",
       "      <td>16.0</td>\n",
       "      <td>71.0</td>\n",
       "    </tr>\n",
       "    <tr>\n",
       "      <th>Hospedaje</th>\n",
       "      <td>NaN</td>\n",
       "      <td>NaN</td>\n",
       "      <td>NaN</td>\n",
       "      <td>NaN</td>\n",
       "      <td>NaN</td>\n",
       "      <td>NaN</td>\n",
       "      <td>1.0</td>\n",
       "      <td>NaN</td>\n",
       "      <td>NaN</td>\n",
       "      <td>NaN</td>\n",
       "    </tr>\n",
       "    <tr>\n",
       "      <th>Huerta</th>\n",
       "      <td>NaN</td>\n",
       "      <td>5.0</td>\n",
       "      <td>1.0</td>\n",
       "      <td>1.0</td>\n",
       "      <td>NaN</td>\n",
       "      <td>NaN</td>\n",
       "      <td>NaN</td>\n",
       "      <td>NaN</td>\n",
       "      <td>NaN</td>\n",
       "      <td>NaN</td>\n",
       "    </tr>\n",
       "    <tr>\n",
       "      <th>Inmuebles productivos urbanos</th>\n",
       "      <td>8.0</td>\n",
       "      <td>10.0</td>\n",
       "      <td>17.0</td>\n",
       "      <td>13.0</td>\n",
       "      <td>6.0</td>\n",
       "      <td>4.0</td>\n",
       "      <td>1.0</td>\n",
       "      <td>4.0</td>\n",
       "      <td>6.0</td>\n",
       "      <td>14.0</td>\n",
       "    </tr>\n",
       "    <tr>\n",
       "      <th>Local Comercial</th>\n",
       "      <td>103.0</td>\n",
       "      <td>86.0</td>\n",
       "      <td>69.0</td>\n",
       "      <td>50.0</td>\n",
       "      <td>22.0</td>\n",
       "      <td>12.0</td>\n",
       "      <td>5.0</td>\n",
       "      <td>7.0</td>\n",
       "      <td>7.0</td>\n",
       "      <td>14.0</td>\n",
       "    </tr>\n",
       "    <tr>\n",
       "      <th>Local en centro comercial</th>\n",
       "      <td>12.0</td>\n",
       "      <td>8.0</td>\n",
       "      <td>NaN</td>\n",
       "      <td>NaN</td>\n",
       "      <td>2.0</td>\n",
       "      <td>NaN</td>\n",
       "      <td>NaN</td>\n",
       "      <td>NaN</td>\n",
       "      <td>NaN</td>\n",
       "      <td>NaN</td>\n",
       "    </tr>\n",
       "    <tr>\n",
       "      <th>Nave industrial</th>\n",
       "      <td>1.0</td>\n",
       "      <td>5.0</td>\n",
       "      <td>3.0</td>\n",
       "      <td>3.0</td>\n",
       "      <td>1.0</td>\n",
       "      <td>NaN</td>\n",
       "      <td>NaN</td>\n",
       "      <td>NaN</td>\n",
       "      <td>NaN</td>\n",
       "      <td>NaN</td>\n",
       "    </tr>\n",
       "    <tr>\n",
       "      <th>Oficina comercial</th>\n",
       "      <td>56.0</td>\n",
       "      <td>39.0</td>\n",
       "      <td>66.0</td>\n",
       "      <td>53.0</td>\n",
       "      <td>35.0</td>\n",
       "      <td>29.0</td>\n",
       "      <td>13.0</td>\n",
       "      <td>13.0</td>\n",
       "      <td>6.0</td>\n",
       "      <td>14.0</td>\n",
       "    </tr>\n",
       "    <tr>\n",
       "      <th>Otros</th>\n",
       "      <td>6.0</td>\n",
       "      <td>31.0</td>\n",
       "      <td>30.0</td>\n",
       "      <td>2.0</td>\n",
       "      <td>NaN</td>\n",
       "      <td>NaN</td>\n",
       "      <td>NaN</td>\n",
       "      <td>NaN</td>\n",
       "      <td>NaN</td>\n",
       "      <td>NaN</td>\n",
       "    </tr>\n",
       "    <tr>\n",
       "      <th>Quinta Vacacional</th>\n",
       "      <td>40.0</td>\n",
       "      <td>130.0</td>\n",
       "      <td>121.0</td>\n",
       "      <td>49.0</td>\n",
       "      <td>12.0</td>\n",
       "      <td>6.0</td>\n",
       "      <td>2.0</td>\n",
       "      <td>1.0</td>\n",
       "      <td>1.0</td>\n",
       "      <td>NaN</td>\n",
       "    </tr>\n",
       "    <tr>\n",
       "      <th>Rancho</th>\n",
       "      <td>22.0</td>\n",
       "      <td>34.0</td>\n",
       "      <td>56.0</td>\n",
       "      <td>15.0</td>\n",
       "      <td>9.0</td>\n",
       "      <td>3.0</td>\n",
       "      <td>1.0</td>\n",
       "      <td>2.0</td>\n",
       "      <td>NaN</td>\n",
       "      <td>NaN</td>\n",
       "    </tr>\n",
       "    <tr>\n",
       "      <th>Terreno</th>\n",
       "      <td>111.0</td>\n",
       "      <td>127.0</td>\n",
       "      <td>138.0</td>\n",
       "      <td>58.0</td>\n",
       "      <td>23.0</td>\n",
       "      <td>8.0</td>\n",
       "      <td>4.0</td>\n",
       "      <td>3.0</td>\n",
       "      <td>1.0</td>\n",
       "      <td>5.0</td>\n",
       "    </tr>\n",
       "    <tr>\n",
       "      <th>Terreno comercial</th>\n",
       "      <td>17.0</td>\n",
       "      <td>13.0</td>\n",
       "      <td>22.0</td>\n",
       "      <td>11.0</td>\n",
       "      <td>6.0</td>\n",
       "      <td>2.0</td>\n",
       "      <td>NaN</td>\n",
       "      <td>NaN</td>\n",
       "      <td>NaN</td>\n",
       "      <td>1.0</td>\n",
       "    </tr>\n",
       "    <tr>\n",
       "      <th>Terreno industrial</th>\n",
       "      <td>1.0</td>\n",
       "      <td>NaN</td>\n",
       "      <td>NaN</td>\n",
       "      <td>1.0</td>\n",
       "      <td>NaN</td>\n",
       "      <td>NaN</td>\n",
       "      <td>NaN</td>\n",
       "      <td>NaN</td>\n",
       "      <td>1.0</td>\n",
       "      <td>NaN</td>\n",
       "    </tr>\n",
       "    <tr>\n",
       "      <th>Villa</th>\n",
       "      <td>30.0</td>\n",
       "      <td>96.0</td>\n",
       "      <td>134.0</td>\n",
       "      <td>33.0</td>\n",
       "      <td>4.0</td>\n",
       "      <td>3.0</td>\n",
       "      <td>NaN</td>\n",
       "      <td>3.0</td>\n",
       "      <td>NaN</td>\n",
       "      <td>NaN</td>\n",
       "    </tr>\n",
       "  </tbody>\n",
       "</table>\n",
       "</div>"
      ],
      "text/plain": [
       "                                    0                                     \\\n",
       "habitaciones                       1        2        3        4       5    \n",
       "tipodepropiedad                                                            \n",
       "Apartamento                    2841.0  30040.0  22566.0    780.0    64.0   \n",
       "Bodega comercial                 47.0     42.0     30.0     18.0    10.0   \n",
       "Casa                           1549.0  23789.0  84651.0  21714.0  4179.0   \n",
       "Casa en condominio              186.0   3004.0  13608.0   2095.0   143.0   \n",
       "Casa uso de suelo                12.0     53.0    150.0    133.0    48.0   \n",
       "Departamento Compartido           8.0     61.0     62.0      2.0     NaN   \n",
       "Duplex                            8.0    194.0    109.0     13.0     9.0   \n",
       "Edificio                         11.0     35.0     36.0     21.0    22.0   \n",
       "Hospedaje                         NaN      NaN      NaN      NaN     NaN   \n",
       "Huerta                            NaN      5.0      1.0      1.0     NaN   \n",
       "Inmuebles productivos urbanos     8.0     10.0     17.0     13.0     6.0   \n",
       "Local Comercial                 103.0     86.0     69.0     50.0    22.0   \n",
       "Local en centro comercial        12.0      8.0      NaN      NaN     2.0   \n",
       "Nave industrial                   1.0      5.0      3.0      3.0     1.0   \n",
       "Oficina comercial                56.0     39.0     66.0     53.0    35.0   \n",
       "Otros                             6.0     31.0     30.0      2.0     NaN   \n",
       "Quinta Vacacional                40.0    130.0    121.0     49.0    12.0   \n",
       "Rancho                           22.0     34.0     56.0     15.0     9.0   \n",
       "Terreno                         111.0    127.0    138.0     58.0    23.0   \n",
       "Terreno comercial                17.0     13.0     22.0     11.0     6.0   \n",
       "Terreno industrial                1.0      NaN      NaN      1.0     NaN   \n",
       "Villa                            30.0     96.0    134.0     33.0     4.0   \n",
       "\n",
       "                                                                   \n",
       "habitaciones                       6      7      8      9      10  \n",
       "tipodepropiedad                                                    \n",
       "Apartamento                      23.0    6.0   13.0    9.0    5.0  \n",
       "Bodega comercial                  5.0    1.0    3.0    1.0    NaN  \n",
       "Casa                           1458.0  458.0  298.0  120.0  163.0  \n",
       "Casa en condominio               29.0    5.0    6.0    2.0    4.0  \n",
       "Casa uso de suelo                34.0   24.0   16.0    9.0   23.0  \n",
       "Departamento Compartido           2.0    NaN    NaN    NaN    2.0  \n",
       "Duplex                            6.0    NaN    1.0    NaN    NaN  \n",
       "Edificio                         45.0   18.0   28.0   16.0   71.0  \n",
       "Hospedaje                         NaN    1.0    NaN    NaN    NaN  \n",
       "Huerta                            NaN    NaN    NaN    NaN    NaN  \n",
       "Inmuebles productivos urbanos     4.0    1.0    4.0    6.0   14.0  \n",
       "Local Comercial                  12.0    5.0    7.0    7.0   14.0  \n",
       "Local en centro comercial         NaN    NaN    NaN    NaN    NaN  \n",
       "Nave industrial                   NaN    NaN    NaN    NaN    NaN  \n",
       "Oficina comercial                29.0   13.0   13.0    6.0   14.0  \n",
       "Otros                             NaN    NaN    NaN    NaN    NaN  \n",
       "Quinta Vacacional                 6.0    2.0    1.0    1.0    NaN  \n",
       "Rancho                            3.0    1.0    2.0    NaN    NaN  \n",
       "Terreno                           8.0    4.0    3.0    1.0    5.0  \n",
       "Terreno comercial                 2.0    NaN    NaN    NaN    1.0  \n",
       "Terreno industrial                NaN    NaN    NaN    1.0    NaN  \n",
       "Villa                             3.0    NaN    3.0    NaN    NaN  "
      ]
     },
     "execution_count": 80,
     "metadata": {},
     "output_type": "execute_result"
    }
   ],
   "source": [
    "pd.pivot_table(df_props_full.groupby(['tipodepropiedad','habitaciones']).size().to_frame(), index='tipodepropiedad',columns=['habitaciones'])"
   ]
  },
  {
   "cell_type": "code",
   "execution_count": 81,
   "metadata": {},
   "outputs": [
    {
     "name": "stdout",
     "output_type": "stream",
     "text": [
      "<class 'pandas.core.frame.DataFrame'>\n"
     ]
    },
    {
     "data": {
      "text/plain": [
       "217529"
      ]
     },
     "execution_count": 81,
     "metadata": {},
     "output_type": "execute_result"
    }
   ],
   "source": [
    "features = features.dropna(subset=['habitaciones'])\n",
    "\n",
    "print(type(features))\n",
    "len(features)"
   ]
  },
  {
   "cell_type": "markdown",
   "metadata": {},
   "source": [
    "# Baños"
   ]
  },
  {
   "cell_type": "markdown",
   "metadata": {},
   "source": [
    "Basado en información obtenida del TP1 elimino baños con valores nulos"
   ]
  },
  {
   "cell_type": "code",
   "execution_count": 82,
   "metadata": {},
   "outputs": [
    {
     "data": {
      "text/plain": [
       "False    213779\n",
       "True      26221\n",
       "Name: banos, dtype: int64"
      ]
     },
     "execution_count": 82,
     "metadata": {},
     "output_type": "execute_result"
    }
   ],
   "source": [
    "df_props_full.banos.isna().value_counts()"
   ]
  },
  {
   "cell_type": "code",
   "execution_count": 83,
   "metadata": {},
   "outputs": [
    {
     "data": {
      "text/plain": [
       "False    209165\n",
       "True       8364\n",
       "Name: banos, dtype: int64"
      ]
     },
     "execution_count": 83,
     "metadata": {},
     "output_type": "execute_result"
    }
   ],
   "source": [
    "features.banos.isna().value_counts()"
   ]
  },
  {
   "cell_type": "code",
   "execution_count": 84,
   "metadata": {},
   "outputs": [
    {
     "data": {
      "text/plain": [
       "2    86141\n",
       "1    56519\n",
       "3    48503\n",
       "4    18002\n",
       "Name: banos, dtype: int64"
      ]
     },
     "execution_count": 84,
     "metadata": {},
     "output_type": "execute_result"
    }
   ],
   "source": [
    "features.banos.value_counts()"
   ]
  },
  {
   "cell_type": "code",
   "execution_count": 85,
   "metadata": {},
   "outputs": [
    {
     "data": {
      "text/html": [
       "<div>\n",
       "<style scoped>\n",
       "    .dataframe tbody tr th:only-of-type {\n",
       "        vertical-align: middle;\n",
       "    }\n",
       "\n",
       "    .dataframe tbody tr th {\n",
       "        vertical-align: top;\n",
       "    }\n",
       "\n",
       "    .dataframe thead tr th {\n",
       "        text-align: left;\n",
       "    }\n",
       "\n",
       "    .dataframe thead tr:last-of-type th {\n",
       "        text-align: right;\n",
       "    }\n",
       "</style>\n",
       "<table border=\"1\" class=\"dataframe\">\n",
       "  <thead>\n",
       "    <tr>\n",
       "      <th></th>\n",
       "      <th colspan=\"4\" halign=\"left\">0</th>\n",
       "    </tr>\n",
       "    <tr>\n",
       "      <th>banos</th>\n",
       "      <th>1</th>\n",
       "      <th>2</th>\n",
       "      <th>3</th>\n",
       "      <th>4</th>\n",
       "    </tr>\n",
       "    <tr>\n",
       "      <th>tipodepropiedad</th>\n",
       "      <th></th>\n",
       "      <th></th>\n",
       "      <th></th>\n",
       "      <th></th>\n",
       "    </tr>\n",
       "  </thead>\n",
       "  <tbody>\n",
       "    <tr>\n",
       "      <th>Apartamento</th>\n",
       "      <td>21144.0</td>\n",
       "      <td>25417.0</td>\n",
       "      <td>8001.0</td>\n",
       "      <td>1442.0</td>\n",
       "    </tr>\n",
       "    <tr>\n",
       "      <th>Bodega comercial</th>\n",
       "      <td>324.0</td>\n",
       "      <td>268.0</td>\n",
       "      <td>98.0</td>\n",
       "      <td>56.0</td>\n",
       "    </tr>\n",
       "    <tr>\n",
       "      <th>Casa</th>\n",
       "      <td>31425.0</td>\n",
       "      <td>52646.0</td>\n",
       "      <td>34646.0</td>\n",
       "      <td>14391.0</td>\n",
       "    </tr>\n",
       "    <tr>\n",
       "      <th>Casa en condominio</th>\n",
       "      <td>3160.0</td>\n",
       "      <td>7514.0</td>\n",
       "      <td>5710.0</td>\n",
       "      <td>2110.0</td>\n",
       "    </tr>\n",
       "    <tr>\n",
       "      <th>Casa uso de suelo</th>\n",
       "      <td>93.0</td>\n",
       "      <td>230.0</td>\n",
       "      <td>140.0</td>\n",
       "      <td>88.0</td>\n",
       "    </tr>\n",
       "    <tr>\n",
       "      <th>Departamento Compartido</th>\n",
       "      <td>57.0</td>\n",
       "      <td>52.0</td>\n",
       "      <td>21.0</td>\n",
       "      <td>4.0</td>\n",
       "    </tr>\n",
       "    <tr>\n",
       "      <th>Duplex</th>\n",
       "      <td>245.0</td>\n",
       "      <td>73.0</td>\n",
       "      <td>11.0</td>\n",
       "      <td>9.0</td>\n",
       "    </tr>\n",
       "    <tr>\n",
       "      <th>Edificio</th>\n",
       "      <td>76.0</td>\n",
       "      <td>89.0</td>\n",
       "      <td>98.0</td>\n",
       "      <td>104.0</td>\n",
       "    </tr>\n",
       "    <tr>\n",
       "      <th>Huerta</th>\n",
       "      <td>5.0</td>\n",
       "      <td>2.0</td>\n",
       "      <td>NaN</td>\n",
       "      <td>1.0</td>\n",
       "    </tr>\n",
       "    <tr>\n",
       "      <th>Inmuebles productivos urbanos</th>\n",
       "      <td>12.0</td>\n",
       "      <td>30.0</td>\n",
       "      <td>20.0</td>\n",
       "      <td>10.0</td>\n",
       "    </tr>\n",
       "    <tr>\n",
       "      <th>Local Comercial</th>\n",
       "      <td>624.0</td>\n",
       "      <td>438.0</td>\n",
       "      <td>140.0</td>\n",
       "      <td>116.0</td>\n",
       "    </tr>\n",
       "    <tr>\n",
       "      <th>Local en centro comercial</th>\n",
       "      <td>28.0</td>\n",
       "      <td>7.0</td>\n",
       "      <td>1.0</td>\n",
       "      <td>7.0</td>\n",
       "    </tr>\n",
       "    <tr>\n",
       "      <th>Nave industrial</th>\n",
       "      <td>12.0</td>\n",
       "      <td>17.0</td>\n",
       "      <td>9.0</td>\n",
       "      <td>6.0</td>\n",
       "    </tr>\n",
       "    <tr>\n",
       "      <th>Oficina comercial</th>\n",
       "      <td>385.0</td>\n",
       "      <td>331.0</td>\n",
       "      <td>169.0</td>\n",
       "      <td>96.0</td>\n",
       "    </tr>\n",
       "    <tr>\n",
       "      <th>Otros</th>\n",
       "      <td>22.0</td>\n",
       "      <td>30.0</td>\n",
       "      <td>16.0</td>\n",
       "      <td>3.0</td>\n",
       "    </tr>\n",
       "    <tr>\n",
       "      <th>Quinta Vacacional</th>\n",
       "      <td>69.0</td>\n",
       "      <td>142.0</td>\n",
       "      <td>89.0</td>\n",
       "      <td>41.0</td>\n",
       "    </tr>\n",
       "    <tr>\n",
       "      <th>Rancho</th>\n",
       "      <td>55.0</td>\n",
       "      <td>54.0</td>\n",
       "      <td>20.0</td>\n",
       "      <td>8.0</td>\n",
       "    </tr>\n",
       "    <tr>\n",
       "      <th>Terreno</th>\n",
       "      <td>270.0</td>\n",
       "      <td>169.0</td>\n",
       "      <td>59.0</td>\n",
       "      <td>25.0</td>\n",
       "    </tr>\n",
       "    <tr>\n",
       "      <th>Terreno comercial</th>\n",
       "      <td>80.0</td>\n",
       "      <td>58.0</td>\n",
       "      <td>25.0</td>\n",
       "      <td>11.0</td>\n",
       "    </tr>\n",
       "    <tr>\n",
       "      <th>Terreno industrial</th>\n",
       "      <td>4.0</td>\n",
       "      <td>4.0</td>\n",
       "      <td>1.0</td>\n",
       "      <td>NaN</td>\n",
       "    </tr>\n",
       "    <tr>\n",
       "      <th>Villa</th>\n",
       "      <td>78.0</td>\n",
       "      <td>108.0</td>\n",
       "      <td>85.0</td>\n",
       "      <td>29.0</td>\n",
       "    </tr>\n",
       "  </tbody>\n",
       "</table>\n",
       "</div>"
      ],
      "text/plain": [
       "                                     0                           \n",
       "banos                                1        2        3        4\n",
       "tipodepropiedad                                                  \n",
       "Apartamento                    21144.0  25417.0   8001.0   1442.0\n",
       "Bodega comercial                 324.0    268.0     98.0     56.0\n",
       "Casa                           31425.0  52646.0  34646.0  14391.0\n",
       "Casa en condominio              3160.0   7514.0   5710.0   2110.0\n",
       "Casa uso de suelo                 93.0    230.0    140.0     88.0\n",
       "Departamento Compartido           57.0     52.0     21.0      4.0\n",
       "Duplex                           245.0     73.0     11.0      9.0\n",
       "Edificio                          76.0     89.0     98.0    104.0\n",
       "Huerta                             5.0      2.0      NaN      1.0\n",
       "Inmuebles productivos urbanos     12.0     30.0     20.0     10.0\n",
       "Local Comercial                  624.0    438.0    140.0    116.0\n",
       "Local en centro comercial         28.0      7.0      1.0      7.0\n",
       "Nave industrial                   12.0     17.0      9.0      6.0\n",
       "Oficina comercial                385.0    331.0    169.0     96.0\n",
       "Otros                             22.0     30.0     16.0      3.0\n",
       "Quinta Vacacional                 69.0    142.0     89.0     41.0\n",
       "Rancho                            55.0     54.0     20.0      8.0\n",
       "Terreno                          270.0    169.0     59.0     25.0\n",
       "Terreno comercial                 80.0     58.0     25.0     11.0\n",
       "Terreno industrial                 4.0      4.0      1.0      NaN\n",
       "Villa                             78.0    108.0     85.0     29.0"
      ]
     },
     "execution_count": 85,
     "metadata": {},
     "output_type": "execute_result"
    }
   ],
   "source": [
    "pd.pivot_table(df_props_full.groupby(['tipodepropiedad','banos']).size().to_frame(), index='tipodepropiedad',columns=['banos'])"
   ]
  },
  {
   "cell_type": "code",
   "execution_count": 86,
   "metadata": {},
   "outputs": [
    {
     "name": "stdout",
     "output_type": "stream",
     "text": [
      "<class 'pandas.core.frame.DataFrame'>\n"
     ]
    },
    {
     "data": {
      "text/plain": [
       "209165"
      ]
     },
     "execution_count": 86,
     "metadata": {},
     "output_type": "execute_result"
    }
   ],
   "source": [
    "features = features.dropna(subset=['banos'])\n",
    "\n",
    "print(type(features))\n",
    "len(features)"
   ]
  },
  {
   "cell_type": "markdown",
   "metadata": {},
   "source": [
    "# Garages"
   ]
  },
  {
   "cell_type": "code",
   "execution_count": 87,
   "metadata": {},
   "outputs": [
    {
     "data": {
      "text/plain": [
       "False    202235\n",
       "True      37765\n",
       "Name: garages, dtype: int64"
      ]
     },
     "execution_count": 87,
     "metadata": {},
     "output_type": "execute_result"
    }
   ],
   "source": [
    "df_props_full.garages.isna().value_counts()"
   ]
  },
  {
   "cell_type": "code",
   "execution_count": 88,
   "metadata": {},
   "outputs": [
    {
     "data": {
      "text/plain": [
       "False    180644\n",
       "True      28521\n",
       "Name: garages, dtype: int64"
      ]
     },
     "execution_count": 88,
     "metadata": {},
     "output_type": "execute_result"
    }
   ],
   "source": [
    "features.garages.isna().value_counts()"
   ]
  },
  {
   "cell_type": "code",
   "execution_count": 89,
   "metadata": {},
   "outputs": [
    {
     "data": {
      "text/plain": [
       "2    90378\n",
       "1    57970\n",
       "3    19630\n",
       "0    12666\n",
       "Name: garages, dtype: int64"
      ]
     },
     "execution_count": 89,
     "metadata": {},
     "output_type": "execute_result"
    }
   ],
   "source": [
    "features.garages.value_counts()"
   ]
  },
  {
   "cell_type": "code",
   "execution_count": 90,
   "metadata": {},
   "outputs": [
    {
     "data": {
      "text/html": [
       "<div>\n",
       "<style scoped>\n",
       "    .dataframe tbody tr th:only-of-type {\n",
       "        vertical-align: middle;\n",
       "    }\n",
       "\n",
       "    .dataframe tbody tr th {\n",
       "        vertical-align: top;\n",
       "    }\n",
       "\n",
       "    .dataframe thead tr th {\n",
       "        text-align: left;\n",
       "    }\n",
       "\n",
       "    .dataframe thead tr:last-of-type th {\n",
       "        text-align: right;\n",
       "    }\n",
       "</style>\n",
       "<table border=\"1\" class=\"dataframe\">\n",
       "  <thead>\n",
       "    <tr>\n",
       "      <th></th>\n",
       "      <th colspan=\"4\" halign=\"left\">0</th>\n",
       "    </tr>\n",
       "    <tr>\n",
       "      <th>garages</th>\n",
       "      <th>0</th>\n",
       "      <th>1</th>\n",
       "      <th>2</th>\n",
       "      <th>3</th>\n",
       "    </tr>\n",
       "    <tr>\n",
       "      <th>tipodepropiedad</th>\n",
       "      <th></th>\n",
       "      <th></th>\n",
       "      <th></th>\n",
       "      <th></th>\n",
       "    </tr>\n",
       "  </thead>\n",
       "  <tbody>\n",
       "    <tr>\n",
       "      <th>Apartamento</th>\n",
       "      <td>5384.0</td>\n",
       "      <td>24034.0</td>\n",
       "      <td>20999.0</td>\n",
       "      <td>3188.0</td>\n",
       "    </tr>\n",
       "    <tr>\n",
       "      <th>Bodega comercial</th>\n",
       "      <td>659.0</td>\n",
       "      <td>79.0</td>\n",
       "      <td>81.0</td>\n",
       "      <td>62.0</td>\n",
       "    </tr>\n",
       "    <tr>\n",
       "      <th>Casa</th>\n",
       "      <td>9439.0</td>\n",
       "      <td>30943.0</td>\n",
       "      <td>62182.0</td>\n",
       "      <td>15192.0</td>\n",
       "    </tr>\n",
       "    <tr>\n",
       "      <th>Casa en condominio</th>\n",
       "      <td>455.0</td>\n",
       "      <td>3219.0</td>\n",
       "      <td>9732.0</td>\n",
       "      <td>2654.0</td>\n",
       "    </tr>\n",
       "    <tr>\n",
       "      <th>Casa uso de suelo</th>\n",
       "      <td>128.0</td>\n",
       "      <td>108.0</td>\n",
       "      <td>136.0</td>\n",
       "      <td>96.0</td>\n",
       "    </tr>\n",
       "    <tr>\n",
       "      <th>Departamento Compartido</th>\n",
       "      <td>20.0</td>\n",
       "      <td>53.0</td>\n",
       "      <td>53.0</td>\n",
       "      <td>11.0</td>\n",
       "    </tr>\n",
       "    <tr>\n",
       "      <th>Duplex</th>\n",
       "      <td>29.0</td>\n",
       "      <td>228.0</td>\n",
       "      <td>68.0</td>\n",
       "      <td>11.0</td>\n",
       "    </tr>\n",
       "    <tr>\n",
       "      <th>Edificio</th>\n",
       "      <td>568.0</td>\n",
       "      <td>85.0</td>\n",
       "      <td>112.0</td>\n",
       "      <td>108.0</td>\n",
       "    </tr>\n",
       "    <tr>\n",
       "      <th>Garage</th>\n",
       "      <td>1.0</td>\n",
       "      <td>NaN</td>\n",
       "      <td>NaN</td>\n",
       "      <td>NaN</td>\n",
       "    </tr>\n",
       "    <tr>\n",
       "      <th>Hospedaje</th>\n",
       "      <td>1.0</td>\n",
       "      <td>NaN</td>\n",
       "      <td>NaN</td>\n",
       "      <td>NaN</td>\n",
       "    </tr>\n",
       "    <tr>\n",
       "      <th>Huerta</th>\n",
       "      <td>15.0</td>\n",
       "      <td>NaN</td>\n",
       "      <td>NaN</td>\n",
       "      <td>NaN</td>\n",
       "    </tr>\n",
       "    <tr>\n",
       "      <th>Inmuebles productivos urbanos</th>\n",
       "      <td>111.0</td>\n",
       "      <td>13.0</td>\n",
       "      <td>19.0</td>\n",
       "      <td>7.0</td>\n",
       "    </tr>\n",
       "    <tr>\n",
       "      <th>Local Comercial</th>\n",
       "      <td>1283.0</td>\n",
       "      <td>204.0</td>\n",
       "      <td>245.0</td>\n",
       "      <td>102.0</td>\n",
       "    </tr>\n",
       "    <tr>\n",
       "      <th>Local en centro comercial</th>\n",
       "      <td>93.0</td>\n",
       "      <td>13.0</td>\n",
       "      <td>9.0</td>\n",
       "      <td>5.0</td>\n",
       "    </tr>\n",
       "    <tr>\n",
       "      <th>Lote</th>\n",
       "      <td>1.0</td>\n",
       "      <td>NaN</td>\n",
       "      <td>NaN</td>\n",
       "      <td>NaN</td>\n",
       "    </tr>\n",
       "    <tr>\n",
       "      <th>Nave industrial</th>\n",
       "      <td>35.0</td>\n",
       "      <td>3.0</td>\n",
       "      <td>9.0</td>\n",
       "      <td>9.0</td>\n",
       "    </tr>\n",
       "    <tr>\n",
       "      <th>Oficina comercial</th>\n",
       "      <td>500.0</td>\n",
       "      <td>328.0</td>\n",
       "      <td>258.0</td>\n",
       "      <td>116.0</td>\n",
       "    </tr>\n",
       "    <tr>\n",
       "      <th>Otros</th>\n",
       "      <td>4.0</td>\n",
       "      <td>16.0</td>\n",
       "      <td>25.0</td>\n",
       "      <td>7.0</td>\n",
       "    </tr>\n",
       "    <tr>\n",
       "      <th>Quinta Vacacional</th>\n",
       "      <td>88.0</td>\n",
       "      <td>10.0</td>\n",
       "      <td>31.0</td>\n",
       "      <td>27.0</td>\n",
       "    </tr>\n",
       "    <tr>\n",
       "      <th>Rancho</th>\n",
       "      <td>53.0</td>\n",
       "      <td>8.0</td>\n",
       "      <td>7.0</td>\n",
       "      <td>7.0</td>\n",
       "    </tr>\n",
       "    <tr>\n",
       "      <th>Terreno</th>\n",
       "      <td>7364.0</td>\n",
       "      <td>55.0</td>\n",
       "      <td>80.0</td>\n",
       "      <td>43.0</td>\n",
       "    </tr>\n",
       "    <tr>\n",
       "      <th>Terreno comercial</th>\n",
       "      <td>676.0</td>\n",
       "      <td>8.0</td>\n",
       "      <td>17.0</td>\n",
       "      <td>12.0</td>\n",
       "    </tr>\n",
       "    <tr>\n",
       "      <th>Terreno industrial</th>\n",
       "      <td>3.0</td>\n",
       "      <td>NaN</td>\n",
       "      <td>1.0</td>\n",
       "      <td>1.0</td>\n",
       "    </tr>\n",
       "    <tr>\n",
       "      <th>Villa</th>\n",
       "      <td>14.0</td>\n",
       "      <td>53.0</td>\n",
       "      <td>96.0</td>\n",
       "      <td>18.0</td>\n",
       "    </tr>\n",
       "  </tbody>\n",
       "</table>\n",
       "</div>"
      ],
      "text/plain": [
       "                                    0                           \n",
       "garages                             0        1        2        3\n",
       "tipodepropiedad                                                 \n",
       "Apartamento                    5384.0  24034.0  20999.0   3188.0\n",
       "Bodega comercial                659.0     79.0     81.0     62.0\n",
       "Casa                           9439.0  30943.0  62182.0  15192.0\n",
       "Casa en condominio              455.0   3219.0   9732.0   2654.0\n",
       "Casa uso de suelo               128.0    108.0    136.0     96.0\n",
       "Departamento Compartido          20.0     53.0     53.0     11.0\n",
       "Duplex                           29.0    228.0     68.0     11.0\n",
       "Edificio                        568.0     85.0    112.0    108.0\n",
       "Garage                            1.0      NaN      NaN      NaN\n",
       "Hospedaje                         1.0      NaN      NaN      NaN\n",
       "Huerta                           15.0      NaN      NaN      NaN\n",
       "Inmuebles productivos urbanos   111.0     13.0     19.0      7.0\n",
       "Local Comercial                1283.0    204.0    245.0    102.0\n",
       "Local en centro comercial        93.0     13.0      9.0      5.0\n",
       "Lote                              1.0      NaN      NaN      NaN\n",
       "Nave industrial                  35.0      3.0      9.0      9.0\n",
       "Oficina comercial               500.0    328.0    258.0    116.0\n",
       "Otros                             4.0     16.0     25.0      7.0\n",
       "Quinta Vacacional                88.0     10.0     31.0     27.0\n",
       "Rancho                           53.0      8.0      7.0      7.0\n",
       "Terreno                        7364.0     55.0     80.0     43.0\n",
       "Terreno comercial               676.0      8.0     17.0     12.0\n",
       "Terreno industrial                3.0      NaN      1.0      1.0\n",
       "Villa                            14.0     53.0     96.0     18.0"
      ]
     },
     "execution_count": 90,
     "metadata": {},
     "output_type": "execute_result"
    }
   ],
   "source": [
    "pd.pivot_table(df_props_full.groupby(['tipodepropiedad','garages']).size().to_frame(), index='tipodepropiedad',columns=['garages'])"
   ]
  },
  {
   "cell_type": "code",
   "execution_count": 91,
   "metadata": {},
   "outputs": [
    {
     "data": {
      "text/html": [
       "<div>\n",
       "<style scoped>\n",
       "    .dataframe tbody tr th:only-of-type {\n",
       "        vertical-align: middle;\n",
       "    }\n",
       "\n",
       "    .dataframe tbody tr th {\n",
       "        vertical-align: top;\n",
       "    }\n",
       "\n",
       "    .dataframe thead tr th {\n",
       "        text-align: left;\n",
       "    }\n",
       "\n",
       "    .dataframe thead tr:last-of-type th {\n",
       "        text-align: right;\n",
       "    }\n",
       "</style>\n",
       "<table border=\"1\" class=\"dataframe\">\n",
       "  <thead>\n",
       "    <tr>\n",
       "      <th></th>\n",
       "      <th colspan=\"4\" halign=\"left\">0</th>\n",
       "    </tr>\n",
       "    <tr>\n",
       "      <th>garages</th>\n",
       "      <th>0</th>\n",
       "      <th>1</th>\n",
       "      <th>2</th>\n",
       "      <th>3</th>\n",
       "    </tr>\n",
       "    <tr>\n",
       "      <th>tipodepropiedad</th>\n",
       "      <th></th>\n",
       "      <th></th>\n",
       "      <th></th>\n",
       "      <th></th>\n",
       "    </tr>\n",
       "  </thead>\n",
       "  <tbody>\n",
       "    <tr>\n",
       "      <th>Apartamento</th>\n",
       "      <td>5384.0</td>\n",
       "      <td>24034.0</td>\n",
       "      <td>20999.0</td>\n",
       "      <td>3188.0</td>\n",
       "    </tr>\n",
       "    <tr>\n",
       "      <th>Bodega comercial</th>\n",
       "      <td>659.0</td>\n",
       "      <td>79.0</td>\n",
       "      <td>81.0</td>\n",
       "      <td>62.0</td>\n",
       "    </tr>\n",
       "    <tr>\n",
       "      <th>Casa</th>\n",
       "      <td>9439.0</td>\n",
       "      <td>30943.0</td>\n",
       "      <td>62182.0</td>\n",
       "      <td>15192.0</td>\n",
       "    </tr>\n",
       "    <tr>\n",
       "      <th>Casa en condominio</th>\n",
       "      <td>455.0</td>\n",
       "      <td>3219.0</td>\n",
       "      <td>9732.0</td>\n",
       "      <td>2654.0</td>\n",
       "    </tr>\n",
       "    <tr>\n",
       "      <th>Casa uso de suelo</th>\n",
       "      <td>128.0</td>\n",
       "      <td>108.0</td>\n",
       "      <td>136.0</td>\n",
       "      <td>96.0</td>\n",
       "    </tr>\n",
       "    <tr>\n",
       "      <th>Departamento Compartido</th>\n",
       "      <td>20.0</td>\n",
       "      <td>53.0</td>\n",
       "      <td>53.0</td>\n",
       "      <td>11.0</td>\n",
       "    </tr>\n",
       "    <tr>\n",
       "      <th>Duplex</th>\n",
       "      <td>29.0</td>\n",
       "      <td>228.0</td>\n",
       "      <td>68.0</td>\n",
       "      <td>11.0</td>\n",
       "    </tr>\n",
       "    <tr>\n",
       "      <th>Edificio</th>\n",
       "      <td>568.0</td>\n",
       "      <td>85.0</td>\n",
       "      <td>112.0</td>\n",
       "      <td>108.0</td>\n",
       "    </tr>\n",
       "    <tr>\n",
       "      <th>Garage</th>\n",
       "      <td>1.0</td>\n",
       "      <td>NaN</td>\n",
       "      <td>NaN</td>\n",
       "      <td>NaN</td>\n",
       "    </tr>\n",
       "    <tr>\n",
       "      <th>Hospedaje</th>\n",
       "      <td>1.0</td>\n",
       "      <td>NaN</td>\n",
       "      <td>NaN</td>\n",
       "      <td>NaN</td>\n",
       "    </tr>\n",
       "    <tr>\n",
       "      <th>Huerta</th>\n",
       "      <td>15.0</td>\n",
       "      <td>NaN</td>\n",
       "      <td>NaN</td>\n",
       "      <td>NaN</td>\n",
       "    </tr>\n",
       "    <tr>\n",
       "      <th>Inmuebles productivos urbanos</th>\n",
       "      <td>111.0</td>\n",
       "      <td>13.0</td>\n",
       "      <td>19.0</td>\n",
       "      <td>7.0</td>\n",
       "    </tr>\n",
       "    <tr>\n",
       "      <th>Local Comercial</th>\n",
       "      <td>1283.0</td>\n",
       "      <td>204.0</td>\n",
       "      <td>245.0</td>\n",
       "      <td>102.0</td>\n",
       "    </tr>\n",
       "    <tr>\n",
       "      <th>Local en centro comercial</th>\n",
       "      <td>93.0</td>\n",
       "      <td>13.0</td>\n",
       "      <td>9.0</td>\n",
       "      <td>5.0</td>\n",
       "    </tr>\n",
       "    <tr>\n",
       "      <th>Lote</th>\n",
       "      <td>1.0</td>\n",
       "      <td>NaN</td>\n",
       "      <td>NaN</td>\n",
       "      <td>NaN</td>\n",
       "    </tr>\n",
       "    <tr>\n",
       "      <th>Nave industrial</th>\n",
       "      <td>35.0</td>\n",
       "      <td>3.0</td>\n",
       "      <td>9.0</td>\n",
       "      <td>9.0</td>\n",
       "    </tr>\n",
       "    <tr>\n",
       "      <th>Oficina comercial</th>\n",
       "      <td>500.0</td>\n",
       "      <td>328.0</td>\n",
       "      <td>258.0</td>\n",
       "      <td>116.0</td>\n",
       "    </tr>\n",
       "    <tr>\n",
       "      <th>Otros</th>\n",
       "      <td>4.0</td>\n",
       "      <td>16.0</td>\n",
       "      <td>25.0</td>\n",
       "      <td>7.0</td>\n",
       "    </tr>\n",
       "    <tr>\n",
       "      <th>Quinta Vacacional</th>\n",
       "      <td>88.0</td>\n",
       "      <td>10.0</td>\n",
       "      <td>31.0</td>\n",
       "      <td>27.0</td>\n",
       "    </tr>\n",
       "    <tr>\n",
       "      <th>Rancho</th>\n",
       "      <td>53.0</td>\n",
       "      <td>8.0</td>\n",
       "      <td>7.0</td>\n",
       "      <td>7.0</td>\n",
       "    </tr>\n",
       "    <tr>\n",
       "      <th>Terreno</th>\n",
       "      <td>7364.0</td>\n",
       "      <td>55.0</td>\n",
       "      <td>80.0</td>\n",
       "      <td>43.0</td>\n",
       "    </tr>\n",
       "    <tr>\n",
       "      <th>Terreno comercial</th>\n",
       "      <td>676.0</td>\n",
       "      <td>8.0</td>\n",
       "      <td>17.0</td>\n",
       "      <td>12.0</td>\n",
       "    </tr>\n",
       "    <tr>\n",
       "      <th>Terreno industrial</th>\n",
       "      <td>3.0</td>\n",
       "      <td>NaN</td>\n",
       "      <td>1.0</td>\n",
       "      <td>1.0</td>\n",
       "    </tr>\n",
       "    <tr>\n",
       "      <th>Villa</th>\n",
       "      <td>14.0</td>\n",
       "      <td>53.0</td>\n",
       "      <td>96.0</td>\n",
       "      <td>18.0</td>\n",
       "    </tr>\n",
       "  </tbody>\n",
       "</table>\n",
       "</div>"
      ],
      "text/plain": [
       "                                    0                           \n",
       "garages                             0        1        2        3\n",
       "tipodepropiedad                                                 \n",
       "Apartamento                    5384.0  24034.0  20999.0   3188.0\n",
       "Bodega comercial                659.0     79.0     81.0     62.0\n",
       "Casa                           9439.0  30943.0  62182.0  15192.0\n",
       "Casa en condominio              455.0   3219.0   9732.0   2654.0\n",
       "Casa uso de suelo               128.0    108.0    136.0     96.0\n",
       "Departamento Compartido          20.0     53.0     53.0     11.0\n",
       "Duplex                           29.0    228.0     68.0     11.0\n",
       "Edificio                        568.0     85.0    112.0    108.0\n",
       "Garage                            1.0      NaN      NaN      NaN\n",
       "Hospedaje                         1.0      NaN      NaN      NaN\n",
       "Huerta                           15.0      NaN      NaN      NaN\n",
       "Inmuebles productivos urbanos   111.0     13.0     19.0      7.0\n",
       "Local Comercial                1283.0    204.0    245.0    102.0\n",
       "Local en centro comercial        93.0     13.0      9.0      5.0\n",
       "Lote                              1.0      NaN      NaN      NaN\n",
       "Nave industrial                  35.0      3.0      9.0      9.0\n",
       "Oficina comercial               500.0    328.0    258.0    116.0\n",
       "Otros                             4.0     16.0     25.0      7.0\n",
       "Quinta Vacacional                88.0     10.0     31.0     27.0\n",
       "Rancho                           53.0      8.0      7.0      7.0\n",
       "Terreno                        7364.0     55.0     80.0     43.0\n",
       "Terreno comercial               676.0      8.0     17.0     12.0\n",
       "Terreno industrial                3.0      NaN      1.0      1.0\n",
       "Villa                            14.0     53.0     96.0     18.0"
      ]
     },
     "execution_count": 91,
     "metadata": {},
     "output_type": "execute_result"
    }
   ],
   "source": [
    "pd.pivot_table(df_props_full.groupby(['tipodepropiedad','garages']).size().to_frame(), index='tipodepropiedad',columns=['garages'])"
   ]
  },
  {
   "cell_type": "markdown",
   "metadata": {},
   "source": [
    "Basado en informacion del TP1 completo con 0 aquellas propiedades que muestren una tendencia a este valor y elimino el resto"
   ]
  },
  {
   "cell_type": "code",
   "execution_count": 92,
   "metadata": {},
   "outputs": [
    {
     "data": {
      "text/plain": [
       "209165"
      ]
     },
     "execution_count": 92,
     "metadata": {},
     "output_type": "execute_result"
    }
   ],
   "source": [
    "aCompletar = ['Edificio','Bodega comercial','Terreno comercial','Local comercial','Terreno','Rancho','Inmuebles productivos urbanos','Nave industrial','Local en centro comercial']\n",
    "features.loc[(features.tipodepropiedad.isin(aCompletar)), 'garages'] = features.loc[(features.tipodepropiedad.isin(aCompletar)), 'garages'].fillna(0)\n",
    "df_test.loc[(df_test.tipodepropiedad.isin(aCompletar)), 'garages'] = df_test.loc[(df_test.tipodepropiedad.isin(aCompletar)), 'garages'].fillna(0)\n",
    "\n",
    "\n",
    "len(features)"
   ]
  },
  {
   "cell_type": "code",
   "execution_count": 93,
   "metadata": {},
   "outputs": [
    {
     "data": {
      "text/plain": [
       "False    110904\n",
       "True      21132\n",
       "Name: garages, dtype: int64"
      ]
     },
     "execution_count": 93,
     "metadata": {},
     "output_type": "execute_result"
    }
   ],
   "source": [
    "features.loc[(features['tipodepropiedad']=='Casa'),:].garages.isna().value_counts()"
   ]
  },
  {
   "cell_type": "code",
   "execution_count": 94,
   "metadata": {},
   "outputs": [
    {
     "data": {
      "text/plain": [
       "False    15476\n",
       "True      2941\n",
       "Name: garages, dtype: int64"
      ]
     },
     "execution_count": 94,
     "metadata": {},
     "output_type": "execute_result"
    }
   ],
   "source": [
    "features.loc[(features['tipodepropiedad']=='Casa en condominio'),:].garages.isna().value_counts()"
   ]
  },
  {
   "cell_type": "code",
   "execution_count": 95,
   "metadata": {},
   "outputs": [
    {
     "data": {
      "text/plain": [
       "False    172\n",
       "True     113\n",
       "Name: garages, dtype: int64"
      ]
     },
     "execution_count": 95,
     "metadata": {},
     "output_type": "execute_result"
    }
   ],
   "source": [
    "features.loc[(features['tipodepropiedad']=='Villa'),:].garages.isna().value_counts()"
   ]
  },
  {
   "cell_type": "markdown",
   "metadata": {},
   "source": [
    "Completo estas tres propiedades con valor 2 que tiene mayor cantidad de publicaciones"
   ]
  },
  {
   "cell_type": "code",
   "execution_count": 96,
   "metadata": {},
   "outputs": [
    {
     "data": {
      "text/plain": [
       "209165"
      ]
     },
     "execution_count": 96,
     "metadata": {},
     "output_type": "execute_result"
    }
   ],
   "source": [
    "aCompletar2 = ['Casa', 'Casa en condominio', 'Villa']\n",
    "features.loc[(features.tipodepropiedad.isin(aCompletar2)), 'garages'] = features.loc[(features.tipodepropiedad.isin(aCompletar2)), 'garages'].fillna(2)\n",
    "df_test.loc[(df_test.tipodepropiedad.isin(aCompletar2)), 'garages'] = df_test.loc[(df_test.tipodepropiedad.isin(aCompletar2)), 'garages'].fillna(2)\n",
    "\n",
    "len(features)"
   ]
  },
  {
   "cell_type": "code",
   "execution_count": 97,
   "metadata": {},
   "outputs": [
    {
     "data": {
      "text/plain": [
       "False    205229\n",
       "True       3936\n",
       "Name: garages, dtype: int64"
      ]
     },
     "execution_count": 97,
     "metadata": {},
     "output_type": "execute_result"
    }
   ],
   "source": [
    "features.garages.isna().value_counts()"
   ]
  },
  {
   "cell_type": "code",
   "execution_count": 98,
   "metadata": {},
   "outputs": [
    {
     "data": {
      "text/plain": [
       "205229"
      ]
     },
     "execution_count": 98,
     "metadata": {},
     "output_type": "execute_result"
    }
   ],
   "source": [
    "features = features.dropna(subset=['garages'])\n",
    "\n",
    "len(features)"
   ]
  },
  {
   "cell_type": "markdown",
   "metadata": {},
   "source": [
    "# Metros"
   ]
  },
  {
   "cell_type": "code",
   "execution_count": 99,
   "metadata": {},
   "outputs": [],
   "source": [
    "from sklearn.impute import SimpleImputer"
   ]
  },
  {
   "cell_type": "code",
   "execution_count": 100,
   "metadata": {},
   "outputs": [],
   "source": [
    "imp = SimpleImputer()\n",
    "features['metroscubiertos'] = imp.fit_transform(features[['metroscubiertos']])\n",
    "features['metrostotales'] = imp.fit_transform(features[['metrostotales']])\n",
    "\n",
    "df_test['metroscubiertos'] = imp.fit_transform(df_test[['metroscubiertos']])\n",
    "df_test['metrostotales'] = imp.fit_transform(df_test[['metrostotales']])"
   ]
  },
  {
   "cell_type": "markdown",
   "metadata": {},
   "source": [
    "# Antiguedad"
   ]
  },
  {
   "cell_type": "code",
   "execution_count": 101,
   "metadata": {},
   "outputs": [],
   "source": [
    "features['antiguedad'] = imp.fit_transform(features[['antiguedad']])\n",
    "\n",
    "df_test['antiguedad'] = imp.fit_transform(df_test[['antiguedad']])"
   ]
  },
  {
   "cell_type": "markdown",
   "metadata": {},
   "source": [
    "# Tipo de propiedad"
   ]
  },
  {
   "cell_type": "code",
   "execution_count": 102,
   "metadata": {},
   "outputs": [
    {
     "data": {
      "text/plain": [
       "False    205220\n",
       "True          9\n",
       "Name: tipodepropiedad, dtype: int64"
      ]
     },
     "execution_count": 102,
     "metadata": {},
     "output_type": "execute_result"
    }
   ],
   "source": [
    "features.tipodepropiedad.isna().value_counts()"
   ]
  },
  {
   "cell_type": "code",
   "execution_count": 103,
   "metadata": {},
   "outputs": [
    {
     "data": {
      "text/plain": [
       "205220"
      ]
     },
     "execution_count": 103,
     "metadata": {},
     "output_type": "execute_result"
    }
   ],
   "source": [
    "# Drop de datos sin tipo\n",
    "features = features.dropna(subset=['tipodepropiedad'])\n",
    "len(features)"
   ]
  },
  {
   "cell_type": "markdown",
   "metadata": {},
   "source": [
    "# Ciudad"
   ]
  },
  {
   "cell_type": "code",
   "execution_count": 104,
   "metadata": {},
   "outputs": [],
   "source": [
    "def ciudadesByProvinciaMap(df):\n",
    "    provs_ciudades = {}\n",
    "    for i in range(0,len(df)):\n",
    "        prov = df.loc[i,'provincia']\n",
    "        city = df.loc[i,'ciudad']\n",
    "        if ((not pd.isna(prov)) and (not pd.isna(city))):\n",
    "            if (not prov in provs_ciudades):\n",
    "                provs_ciudades[prov] = []\n",
    "            if (not city in provs_ciudades[prov]):\n",
    "                provs_ciudades[prov].append(city)\n",
    "    return provs_ciudades"
   ]
  },
  {
   "cell_type": "code",
   "execution_count": 105,
   "metadata": {},
   "outputs": [],
   "source": [
    "def provinciaByIdZonaMap(df):\n",
    "    id_prov = {}\n",
    "    for i in range(0,len(df)):\n",
    "        prov = df.loc[i,'provincia']\n",
    "        idzona = df.loc[i,'idzona']\n",
    "        if ((not pd.isna(prov)) and (not pd.isna(idzona))):\n",
    "            if (not idzona in id_prov):\n",
    "                id_prov[idzona] = []\n",
    "            if (not prov in id_prov[idzona]):\n",
    "                id_prov[idzona].append(prov)\n",
    "    return id_prov"
   ]
  },
  {
   "cell_type": "markdown",
   "metadata": {},
   "source": [
    "# Provincia"
   ]
  },
  {
   "cell_type": "markdown",
   "metadata": {},
   "source": [
    "One hot encoding"
   ]
  },
  {
   "cell_type": "code",
   "execution_count": 106,
   "metadata": {},
   "outputs": [],
   "source": [
    "Noroeste = ['Baja California Norte', 'Baja California Sur','Chihuahua', 'Durango', 'Sinaloa', 'Sonora']\n",
    "Noreste = ['Coahuila','Nuevo León', 'Tamaulipas']\n",
    "Oeste = ['Colima', 'Jalisco', 'Michoacán', 'Nayarit']\n",
    "Este = ['Hidalgo', 'Puebla', 'Tlaxcala', 'Veracruz']\n",
    "Centronorte = ['Aguascalientes', 'Guanajuato', 'Querétaro', 'San luis Potosí', 'Zacatecas']\n",
    "Centrosur = ['Edo. de México', 'Distrito Federal', 'Morelos']\n",
    "Suroeste = ['Chiapas', 'Guerrero', 'Oaxaca']\n",
    "Sureste = ['Campeche', 'Quintana Roo', 'Tabasco', 'Yucatán']"
   ]
  },
  {
   "cell_type": "code",
   "execution_count": 107,
   "metadata": {},
   "outputs": [],
   "source": [
    "def region(provincia):\n",
    "    if(provincia in Noroeste):\n",
    "        return 'Noroeste'\n",
    "    if(provincia in Noreste):\n",
    "        return 'Noreste'\n",
    "    if(provincia in Oeste):\n",
    "        return 'Oeste'\n",
    "    if(provincia in Este):\n",
    "        return 'Este'\n",
    "    if(provincia in Centronorte):\n",
    "        return 'Centronorte'\n",
    "    if(provincia in Centrosur):\n",
    "        return 'Centrosur'\n",
    "    if(provincia in Suroeste):\n",
    "        return 'Suroeste'\n",
    "    return 'Sureste'"
   ]
  },
  {
   "cell_type": "code",
   "execution_count": 108,
   "metadata": {},
   "outputs": [],
   "source": [
    "features['region'] = features['provincia'].apply(region)\n",
    "df_test['region'] = df_test['provincia'].apply(region)"
   ]
  },
  {
   "cell_type": "code",
   "execution_count": 109,
   "metadata": {},
   "outputs": [],
   "source": [
    "# One-hot regiones\n",
    "features = features.reset_index(drop=True)\n",
    "\n",
    "one_hot = pd.get_dummies(features.region)\n",
    "features = features.drop(['region','provincia'],axis = 1)\n",
    "features = features.merge(one_hot, right_index=True, left_index=True)\n",
    "\n",
    "one_hot_test = pd.get_dummies(df_test.region)\n",
    "df_test = df_test.drop(['region','provincia'],axis = 1)\n",
    "df_test = df_test.merge(one_hot_test, right_index=True, left_index=True)"
   ]
  },
  {
   "cell_type": "raw",
   "metadata": {},
   "source": [
    "# One-hot provincias\n",
    "features = features.reset_index(drop=True)\n",
    "\n",
    "one_hot = pd.get_dummies(features.provincia)\n",
    "features = features.drop('provincia',axis = 1)\n",
    "features = features.merge(one_hot, right_index=True, left_index=True)\n",
    "\n",
    "one_hot_test = pd.get_dummies(df_test.provincia)\n",
    "df_test = df_test.drop('provincia',axis = 1)\n",
    "df_test = df_test.merge(one_hot_test, right_index=True, left_index=True)"
   ]
  },
  {
   "cell_type": "markdown",
   "metadata": {},
   "source": [
    "features = features.reset_index(drop=True)  # Corrijo index con rows eliminadas para que funcione el for"
   ]
  },
  {
   "cell_type": "raw",
   "metadata": {},
   "source": [
    "# Evaluo cuantas publicaciones no tienen ni propiedad ni ciudad ni idzona\n",
    "features.loc[(features.provincia.isna() & features.ciudad.isna() & features.idzona.isna()),:].shape"
   ]
  },
  {
   "cell_type": "raw",
   "metadata": {},
   "source": [
    "# Evaluo cuantas publicaciones (test) no tienen ni propiedad ni ciudad ni idzona\n",
    "df_test.loc[(df_test.provincia.isna() & df_test.ciudad.isna() & df_test.idzona.isna()),:].shape"
   ]
  },
  {
   "cell_type": "raw",
   "metadata": {},
   "source": [
    "features.provincia.isna().value_counts()"
   ]
  },
  {
   "cell_type": "raw",
   "metadata": {},
   "source": [
    "# Descarto todas las publicaciones sin provincia, que son las mismas que no tienen idzona ni ciudad\n",
    "features = features.dropna(subset=['provincia'])\n",
    "features.shape"
   ]
  },
  {
   "cell_type": "raw",
   "metadata": {},
   "source": [
    "df_test.provincia.isna().value_counts()"
   ]
  },
  {
   "cell_type": "raw",
   "metadata": {},
   "source": [
    "provincias_por_idzona = provinciaByIdZonaMap(df_test)\n",
    "ciudades_por_provincia = ciudadesByProvinciaMap(df_test)"
   ]
  },
  {
   "cell_type": "raw",
   "metadata": {},
   "source": [
    "provincia_count = features.provincia.value_counts()\n",
    "test_provincia_count = df_test.provincia.value_counts()"
   ]
  },
  {
   "cell_type": "raw",
   "metadata": {},
   "source": [
    "test_provincia_count"
   ]
  },
  {
   "cell_type": "raw",
   "metadata": {},
   "source": [
    "import random \n",
    "\n",
    "# Completo id zona con valor random de los que tengo datos para luego llenar provincia y ciudad\n",
    "df_test.idzona = df_test.idzona.fillna(random.choice(list(provincias_por_idzona.keys())))"
   ]
  },
  {
   "cell_type": "raw",
   "metadata": {},
   "source": [
    "# Completo valores ausentes de provincia\n",
    "for i in range(0,len(df_test)):\n",
    "    if (pd.isna(df_test.loc[i,'provincia'])):\n",
    "        df_test.loc[i,'provincia'] =  provincias_por_idzona.get(df_test.loc[i,'idzona'])[0]"
   ]
  },
  {
   "cell_type": "raw",
   "metadata": {},
   "source": [
    "# Completo valores ausentes de ciudad (random)\n",
    "for i in range(0,len(df_test)):\n",
    "    if (pd.isna(df_test.loc[i,'ciudad'])):\n",
    "        ciudades = ciudades_por_provincia.get(df_test.loc[i,'provincia'])\n",
    "        df_test.loc[i,'ciudad'] =  ciudades[random.choice(range(1,len(ciudades)))]"
   ]
  },
  {
   "cell_type": "raw",
   "metadata": {},
   "source": [
    "df_test.ciudad.isna().value_counts()"
   ]
  },
  {
   "cell_type": "raw",
   "metadata": {},
   "source": [
    "features.provincia = features.provincia.apply(lambda x: provincia_count[x])\n",
    "df_test.provincia = df_test.provincia.apply(lambda x: test_provincia_count[x])"
   ]
  },
  {
   "cell_type": "markdown",
   "metadata": {},
   "source": [
    "# Tipo de propiedad"
   ]
  },
  {
   "cell_type": "code",
   "execution_count": 110,
   "metadata": {},
   "outputs": [
    {
     "name": "stdout",
     "output_type": "stream",
     "text": [
      "21\n"
     ]
    },
    {
     "data": {
      "text/plain": [
       "Index(['Apartamento', 'Bodega comercial', 'Casa', 'Casa en condominio',\n",
       "       'Casa uso de suelo', 'Departamento Compartido', 'Duplex', 'Edificio',\n",
       "       'Huerta', 'Inmuebles productivos urbanos', 'Local Comercial',\n",
       "       'Local en centro comercial', 'Nave industrial', 'Oficina comercial',\n",
       "       'Otros', 'Quinta Vacacional', 'Rancho', 'Terreno', 'Terreno comercial',\n",
       "       'Terreno industrial', 'Villa'],\n",
       "      dtype='object')"
      ]
     },
     "execution_count": 110,
     "metadata": {},
     "output_type": "execute_result"
    }
   ],
   "source": [
    "features_tipos = features.tipodepropiedad.value_counts().index\n",
    "print(len(features_tipos))\n",
    "features_tipos.sort_values()"
   ]
  },
  {
   "cell_type": "code",
   "execution_count": 111,
   "metadata": {},
   "outputs": [
    {
     "name": "stdout",
     "output_type": "stream",
     "text": [
      "22\n"
     ]
    },
    {
     "data": {
      "text/plain": [
       "Index(['Apartamento', 'Bodega comercial', 'Casa', 'Casa en condominio',\n",
       "       'Casa uso de suelo', 'Departamento Compartido', 'Duplex', 'Edificio',\n",
       "       'Huerta', 'Inmuebles productivos urbanos', 'Local Comercial',\n",
       "       'Local en centro comercial', 'Lote', 'Nave industrial',\n",
       "       'Oficina comercial', 'Otros', 'Quinta Vacacional', 'Rancho', 'Terreno',\n",
       "       'Terreno comercial', 'Terreno industrial', 'Villa'],\n",
       "      dtype='object')"
      ]
     },
     "execution_count": 111,
     "metadata": {},
     "output_type": "execute_result"
    }
   ],
   "source": [
    "test_tipos = df_test.tipodepropiedad.value_counts().index\n",
    "print(len(test_tipos))\n",
    "test_tipos.sort_values()"
   ]
  },
  {
   "cell_type": "code",
   "execution_count": 112,
   "metadata": {},
   "outputs": [],
   "source": [
    "features = features.reset_index(drop=True)\n",
    "\n",
    "one_hot = pd.get_dummies(features.tipodepropiedad)\n",
    "features = features.drop('tipodepropiedad',axis = 1)\n",
    "features = features.merge(one_hot, right_index=True, left_index=True)\n",
    "\n",
    "one_hot_test = pd.get_dummies(df_test.tipodepropiedad)\n",
    "df_test = df_test.drop('tipodepropiedad',axis = 1)\n",
    "df_test = df_test.merge(one_hot_test, right_index=True, left_index=True)"
   ]
  },
  {
   "cell_type": "code",
   "execution_count": 113,
   "metadata": {},
   "outputs": [
    {
     "name": "stdout",
     "output_type": "stream",
     "text": [
      "['precio']\n",
      "['Lote']\n"
     ]
    }
   ],
   "source": [
    "print(list(set(features.columns) - set(df_test.columns)))\n",
    "print(list(set(df_test.columns) - set(features.columns)))"
   ]
  },
  {
   "cell_type": "code",
   "execution_count": 114,
   "metadata": {},
   "outputs": [
    {
     "data": {
      "text/plain": [
       "0    59999\n",
       "1        1\n",
       "Name: Lote, dtype: int64"
      ]
     },
     "execution_count": 114,
     "metadata": {},
     "output_type": "execute_result"
    }
   ],
   "source": [
    "df_test.Lote.value_counts()"
   ]
  },
  {
   "cell_type": "code",
   "execution_count": 115,
   "metadata": {},
   "outputs": [],
   "source": [
    "# Elimino columnas que no aparecen en los features (Solo una publicacion con Lote)\n",
    "df_test = df_test.drop('Lote',axis=1)"
   ]
  },
  {
   "cell_type": "markdown",
   "metadata": {},
   "source": [
    "# Fecha"
   ]
  },
  {
   "cell_type": "code",
   "execution_count": 116,
   "metadata": {},
   "outputs": [],
   "source": [
    "features['ano'] = features.fecha.dt.year\n",
    "features['mes'] = features.fecha.dt.month\n",
    "features = features.drop('fecha',axis=1)\n",
    "\n",
    "df_test['ano'] = df_test.fecha.dt.year\n",
    "df_test['mes'] = df_test.fecha.dt.month\n",
    "df_test = df_test.drop('fecha',axis=1)"
   ]
  },
  {
   "cell_type": "markdown",
   "metadata": {},
   "source": [
    "# Fix Test data set"
   ]
  },
  {
   "cell_type": "code",
   "execution_count": 117,
   "metadata": {},
   "outputs": [
    {
     "data": {
      "text/plain": [
       "60000"
      ]
     },
     "execution_count": 117,
     "metadata": {},
     "output_type": "execute_result"
    }
   ],
   "source": [
    "len(df_test)"
   ]
  },
  {
   "cell_type": "code",
   "execution_count": 118,
   "metadata": {},
   "outputs": [
    {
     "data": {
      "text/plain": [
       "antiguedad                       60000\n",
       "habitaciones                     54372\n",
       "garages                          58449\n",
       "banos                            53446\n",
       "metroscubiertos                  60000\n",
       "metrostotales                    60000\n",
       "gimnasio                         60000\n",
       "usosmultiples                    60000\n",
       "piscina                          60000\n",
       "escuelascercanas                 60000\n",
       "centroscomercialescercanos       60000\n",
       "Centronorte                      60000\n",
       "Centrosur                        60000\n",
       "Este                             60000\n",
       "Noreste                          60000\n",
       "Noroeste                         60000\n",
       "Oeste                            60000\n",
       "Sureste                          60000\n",
       "Suroeste                         60000\n",
       "Apartamento                      60000\n",
       "Bodega comercial                 60000\n",
       "Casa                             60000\n",
       "Casa en condominio               60000\n",
       "Casa uso de suelo                60000\n",
       "Departamento Compartido          60000\n",
       "Duplex                           60000\n",
       "Edificio                         60000\n",
       "Huerta                           60000\n",
       "Inmuebles productivos urbanos    60000\n",
       "Local Comercial                  60000\n",
       "Local en centro comercial        60000\n",
       "Nave industrial                  60000\n",
       "Oficina comercial                60000\n",
       "Otros                            60000\n",
       "Quinta Vacacional                60000\n",
       "Rancho                           60000\n",
       "Terreno                          60000\n",
       "Terreno comercial                60000\n",
       "Terreno industrial               60000\n",
       "Villa                            60000\n",
       "ano                              60000\n",
       "mes                              60000\n",
       "dtype: int64"
      ]
     },
     "execution_count": 118,
     "metadata": {},
     "output_type": "execute_result"
    }
   ],
   "source": [
    "cols_dropped = ['lat', 'lng', 'id', 'idzona']\n",
    "cols_string = ['titulo', 'descripcion','direccion', 'ciudad']\n",
    "df_test.drop(cols_dropped + cols_string, axis=1).count()"
   ]
  },
  {
   "cell_type": "code",
   "execution_count": 119,
   "metadata": {},
   "outputs": [],
   "source": [
    "df_test['habitaciones'] = imp.fit_transform(df_test[['habitaciones']])\n",
    "df_test['garages'] = imp.fit_transform(df_test[['garages']])\n",
    "df_test['banos'] = imp.fit_transform(df_test[['banos']])"
   ]
  },
  {
   "cell_type": "code",
   "execution_count": 120,
   "metadata": {},
   "outputs": [
    {
     "data": {
      "text/plain": [
       "id                               60000\n",
       "antiguedad                       60000\n",
       "habitaciones                     60000\n",
       "garages                          60000\n",
       "banos                            60000\n",
       "metroscubiertos                  60000\n",
       "metrostotales                    60000\n",
       "gimnasio                         60000\n",
       "usosmultiples                    60000\n",
       "piscina                          60000\n",
       "escuelascercanas                 60000\n",
       "centroscomercialescercanos       60000\n",
       "Centronorte                      60000\n",
       "Centrosur                        60000\n",
       "Este                             60000\n",
       "Noreste                          60000\n",
       "Noroeste                         60000\n",
       "Oeste                            60000\n",
       "Sureste                          60000\n",
       "Suroeste                         60000\n",
       "Apartamento                      60000\n",
       "Bodega comercial                 60000\n",
       "Casa                             60000\n",
       "Casa en condominio               60000\n",
       "Casa uso de suelo                60000\n",
       "Departamento Compartido          60000\n",
       "Duplex                           60000\n",
       "Edificio                         60000\n",
       "Huerta                           60000\n",
       "Inmuebles productivos urbanos    60000\n",
       "Local Comercial                  60000\n",
       "Local en centro comercial        60000\n",
       "Nave industrial                  60000\n",
       "Oficina comercial                60000\n",
       "Otros                            60000\n",
       "Quinta Vacacional                60000\n",
       "Rancho                           60000\n",
       "Terreno                          60000\n",
       "Terreno comercial                60000\n",
       "Terreno industrial               60000\n",
       "Villa                            60000\n",
       "ano                              60000\n",
       "mes                              60000\n",
       "dtype: int64"
      ]
     },
     "execution_count": 120,
     "metadata": {},
     "output_type": "execute_result"
    }
   ],
   "source": [
    "cols_dropped = ['lat', 'lng', 'idzona']\n",
    "cols_string = ['titulo', 'descripcion','direccion', 'ciudad']\n",
    "df_test.drop(cols_dropped + cols_string, axis=1).count()"
   ]
  },
  {
   "cell_type": "markdown",
   "metadata": {},
   "source": [
    "# Features a CSV"
   ]
  },
  {
   "cell_type": "code",
   "execution_count": 126,
   "metadata": {},
   "outputs": [],
   "source": [
    "cols_dropped = ['lat', 'lng', 'id', 'idzona']\n",
    "cols_string = ['titulo', 'descripcion','direccion', 'ciudad']\n",
    "features = features.drop(cols_dropped + cols_string, axis=1)\n",
    "cols_dropped = ['lat', 'lng', 'idzona']\n",
    "df_test = df_test.drop(cols_dropped + cols_string, axis=1)"
   ]
  },
  {
   "cell_type": "code",
   "execution_count": 127,
   "metadata": {},
   "outputs": [],
   "source": [
    "features.to_csv('data/features.csv', index=False)\n",
    "df_test.to_csv('data/testModified.csv', index=False)"
   ]
  }
 ],
 "metadata": {
  "kernelspec": {
   "display_name": "Python 3",
   "language": "python",
   "name": "python3"
  },
  "language_info": {
   "codemirror_mode": {
    "name": "ipython",
    "version": 3
   },
   "file_extension": ".py",
   "mimetype": "text/x-python",
   "name": "python",
   "nbconvert_exporter": "python",
   "pygments_lexer": "ipython3",
   "version": "3.7.3"
  }
 },
 "nbformat": 4,
 "nbformat_minor": 4
}
