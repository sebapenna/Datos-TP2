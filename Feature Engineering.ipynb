{
 "cells": [
  {
   "cell_type": "code",
   "execution_count": 98,
   "metadata": {},
   "outputs": [],
   "source": [
    "# Importacion de librerias y de visualizacion (matplotlib y seaborn)\n",
    "import pandas as pd\n",
    "import numpy as np\n",
    "import matplotlib.pyplot as plt\n",
    "import seaborn as sns\n",
    "import datetime as dt\n",
    "import random\n",
    "\n",
    "\n",
    "%matplotlib inline\n",
    "\n",
    "plt.style.use('default') # para graficos matplotlib\n",
    "plt.rcParams['figure.figsize'] = (5, 5)\n",
    "\n",
    "sns.set(style=\"whitegrid\") # grid seaborn\n",
    "\n",
    "# pd.options.display.float_format = '{:20,.0f}'.format # notacion output"
   ]
  },
  {
   "cell_type": "markdown",
   "metadata": {},
   "source": [
    "# Acceso a set de datos"
   ]
  },
  {
   "cell_type": "code",
   "execution_count": 103,
   "metadata": {},
   "outputs": [],
   "source": [
    "path = \"data/\"\n",
    "df_props_full = pd.read_csv(path + \"train.csv\")\n",
    "df_test = pd.read_csv(path + \"test.csv\")"
   ]
  },
  {
   "cell_type": "markdown",
   "metadata": {},
   "source": [
    "# Conversión de tipos"
   ]
  },
  {
   "cell_type": "code",
   "execution_count": 104,
   "metadata": {},
   "outputs": [],
   "source": [
    "df_props_full['fecha'] = pd.to_datetime(df_props_full['fecha'])\n",
    "df_test['fecha'] = pd.to_datetime(df_test['fecha'])"
   ]
  },
  {
   "cell_type": "code",
   "execution_count": 105,
   "metadata": {},
   "outputs": [],
   "source": [
    "# Convierto todos los valores 1/0 a uint8\n",
    "df_props_full['gimnasio'] = df_props_full['gimnasio'].astype('uint8')\n",
    "df_props_full['usosmultiples'] = df_props_full['usosmultiples'].astype('uint8')\n",
    "df_props_full['piscina'] = df_props_full['piscina'].astype('uint8')\n",
    "df_props_full['escuelascercanas'] = df_props_full['escuelascercanas'].astype('uint8')\n",
    "df_props_full['centroscomercialescercanos'] = df_props_full['centroscomercialescercanos'].astype('uint8')\n",
    "\n",
    "df_test['gimnasio'] = df_test['gimnasio'].astype('uint8')\n",
    "df_test['usosmultiples'] = df_test['usosmultiples'].astype('uint8')\n",
    "df_test['piscina'] = df_test['piscina'].astype('uint8')\n",
    "df_test['escuelascercanas'] = df_test['escuelascercanas'].astype('uint8')\n",
    "df_test['centroscomercialescercanos'] = df_test['centroscomercialescercanos'].astype('uint8')"
   ]
  },
  {
   "cell_type": "code",
   "execution_count": 106,
   "metadata": {},
   "outputs": [],
   "source": [
    "# Convierto los representables en uint8. Utilizo el tipo de pandas UInt8Dtype para evitar conflicto con NaN\n",
    "df_props_full['antiguedad'] = df_props_full['antiguedad'].astype(pd.UInt8Dtype())\n",
    "df_props_full['habitaciones'] = df_props_full['habitaciones'].astype(pd.UInt8Dtype())\n",
    "df_props_full['garages'] = df_props_full['garages'].astype(pd.UInt8Dtype())\n",
    "df_props_full['banos'] = df_props_full['banos'].astype(pd.UInt8Dtype())\n",
    "\n",
    "df_test['antiguedad'] = df_test['antiguedad'].astype(pd.UInt8Dtype())\n",
    "df_test['habitaciones'] = df_test['habitaciones'].astype(pd.UInt8Dtype())\n",
    "df_test['garages'] = df_test['garages'].astype(pd.UInt8Dtype())\n",
    "df_test['banos'] = df_test['banos'].astype(pd.UInt8Dtype())"
   ]
  },
  {
   "cell_type": "code",
   "execution_count": 107,
   "metadata": {},
   "outputs": [],
   "source": [
    "# Convierto los representables en uint16. Utilizo el tipo de pandas UInt16Dtype para evitar conflicto con NaN\n",
    "df_props_full['metroscubiertos'] = df_props_full['metroscubiertos'].astype(pd.UInt16Dtype())\n",
    "df_props_full['metrostotales'] = df_props_full['metrostotales'].astype(pd.UInt16Dtype())\n",
    "\n",
    "df_test['metroscubiertos'] = df_test['metroscubiertos'].astype(pd.UInt16Dtype())\n",
    "df_test['metrostotales'] = df_test['metrostotales'].astype(pd.UInt16Dtype())"
   ]
  },
  {
   "cell_type": "code",
   "execution_count": 108,
   "metadata": {},
   "outputs": [],
   "source": [
    "# Convierto los representables en uint32. Utilizo el tipo de pandas UInt32Dtype para evitar conflicto con NaN\n",
    "df_props_full['id'] = df_props_full['id'].astype(pd.UInt32Dtype())\n",
    "df_props_full['idzona'] = df_props_full['idzona'].astype(pd.UInt32Dtype())\n",
    "# df_props_full['Precio_MEX'] = df_props_full['Precio_MEX'].astype(pd.UInt32Dtype())\n",
    "# df_props_full['Precio_USD'] = df_props_full['Precio_USD'].astype(pd.UInt32Dtype())\n",
    "df_props_full['precio'] = df_props_full['precio'].astype('float32')\n",
    "\n",
    "df_test['id'] = df_test['id'].astype(pd.UInt32Dtype())\n",
    "df_test['idzona'] = df_test['idzona'].astype(pd.UInt32Dtype())"
   ]
  },
  {
   "cell_type": "code",
   "execution_count": 8,
   "metadata": {},
   "outputs": [
    {
     "data": {
      "text/plain": [
       "240000"
      ]
     },
     "execution_count": 8,
     "metadata": {},
     "output_type": "execute_result"
    }
   ],
   "source": [
    "features = df_props_full\n",
    "len(features)"
   ]
  },
  {
   "cell_type": "code",
   "execution_count": 9,
   "metadata": {},
   "outputs": [
    {
     "data": {
      "text/html": [
       "<div>\n",
       "<style scoped>\n",
       "    .dataframe tbody tr th:only-of-type {\n",
       "        vertical-align: middle;\n",
       "    }\n",
       "\n",
       "    .dataframe tbody tr th {\n",
       "        vertical-align: top;\n",
       "    }\n",
       "\n",
       "    .dataframe thead th {\n",
       "        text-align: right;\n",
       "    }\n",
       "</style>\n",
       "<table border=\"1\" class=\"dataframe\">\n",
       "  <thead>\n",
       "    <tr style=\"text-align: right;\">\n",
       "      <th></th>\n",
       "      <th>id</th>\n",
       "      <th>antiguedad</th>\n",
       "      <th>habitaciones</th>\n",
       "      <th>garages</th>\n",
       "      <th>banos</th>\n",
       "      <th>metroscubiertos</th>\n",
       "      <th>metrostotales</th>\n",
       "      <th>idzona</th>\n",
       "      <th>lat</th>\n",
       "      <th>lng</th>\n",
       "      <th>gimnasio</th>\n",
       "      <th>usosmultiples</th>\n",
       "      <th>piscina</th>\n",
       "      <th>escuelascercanas</th>\n",
       "      <th>centroscomercialescercanos</th>\n",
       "      <th>precio</th>\n",
       "    </tr>\n",
       "  </thead>\n",
       "  <tbody>\n",
       "    <tr>\n",
       "      <th>id</th>\n",
       "      <td>1.000000</td>\n",
       "      <td>0.002696</td>\n",
       "      <td>-0.002220</td>\n",
       "      <td>-0.001893</td>\n",
       "      <td>-0.001941</td>\n",
       "      <td>0.000280</td>\n",
       "      <td>0.001804</td>\n",
       "      <td>0.003623</td>\n",
       "      <td>-0.000239</td>\n",
       "      <td>0.001511</td>\n",
       "      <td>0.000696</td>\n",
       "      <td>-0.000257</td>\n",
       "      <td>-0.001543</td>\n",
       "      <td>-0.004014</td>\n",
       "      <td>-0.002146</td>\n",
       "      <td>-0.000889</td>\n",
       "    </tr>\n",
       "    <tr>\n",
       "      <th>antiguedad</th>\n",
       "      <td>0.002696</td>\n",
       "      <td>1.000000</td>\n",
       "      <td>0.159373</td>\n",
       "      <td>-0.078656</td>\n",
       "      <td>-0.063351</td>\n",
       "      <td>0.077990</td>\n",
       "      <td>0.044821</td>\n",
       "      <td>0.030616</td>\n",
       "      <td>-0.101883</td>\n",
       "      <td>0.008250</td>\n",
       "      <td>-0.106388</td>\n",
       "      <td>-0.095266</td>\n",
       "      <td>-0.136524</td>\n",
       "      <td>-0.005126</td>\n",
       "      <td>-0.009686</td>\n",
       "      <td>0.073097</td>\n",
       "    </tr>\n",
       "    <tr>\n",
       "      <th>habitaciones</th>\n",
       "      <td>-0.002220</td>\n",
       "      <td>0.159373</td>\n",
       "      <td>1.000000</td>\n",
       "      <td>0.243112</td>\n",
       "      <td>0.489695</td>\n",
       "      <td>0.517499</td>\n",
       "      <td>0.367938</td>\n",
       "      <td>-0.047764</td>\n",
       "      <td>-0.007486</td>\n",
       "      <td>0.007764</td>\n",
       "      <td>-0.030025</td>\n",
       "      <td>-0.005873</td>\n",
       "      <td>-0.012056</td>\n",
       "      <td>0.018928</td>\n",
       "      <td>0.000925</td>\n",
       "      <td>0.251014</td>\n",
       "    </tr>\n",
       "    <tr>\n",
       "      <th>garages</th>\n",
       "      <td>-0.001893</td>\n",
       "      <td>-0.078656</td>\n",
       "      <td>0.243112</td>\n",
       "      <td>1.000000</td>\n",
       "      <td>0.435112</td>\n",
       "      <td>0.379190</td>\n",
       "      <td>0.235931</td>\n",
       "      <td>-0.018294</td>\n",
       "      <td>0.005892</td>\n",
       "      <td>-0.000294</td>\n",
       "      <td>0.122430</td>\n",
       "      <td>0.131324</td>\n",
       "      <td>0.117440</td>\n",
       "      <td>0.084461</td>\n",
       "      <td>0.075237</td>\n",
       "      <td>0.348543</td>\n",
       "    </tr>\n",
       "    <tr>\n",
       "      <th>banos</th>\n",
       "      <td>-0.001941</td>\n",
       "      <td>-0.063351</td>\n",
       "      <td>0.489695</td>\n",
       "      <td>0.435112</td>\n",
       "      <td>1.000000</td>\n",
       "      <td>0.683101</td>\n",
       "      <td>0.543252</td>\n",
       "      <td>-0.002771</td>\n",
       "      <td>-0.054064</td>\n",
       "      <td>0.060019</td>\n",
       "      <td>0.083278</td>\n",
       "      <td>0.097835</td>\n",
       "      <td>0.127115</td>\n",
       "      <td>-0.021811</td>\n",
       "      <td>-0.027297</td>\n",
       "      <td>0.534060</td>\n",
       "    </tr>\n",
       "    <tr>\n",
       "      <th>metroscubiertos</th>\n",
       "      <td>0.000280</td>\n",
       "      <td>0.077990</td>\n",
       "      <td>0.517499</td>\n",
       "      <td>0.379190</td>\n",
       "      <td>0.683101</td>\n",
       "      <td>1.000000</td>\n",
       "      <td>0.734490</td>\n",
       "      <td>-0.047889</td>\n",
       "      <td>-0.018422</td>\n",
       "      <td>0.046043</td>\n",
       "      <td>0.032568</td>\n",
       "      <td>0.045425</td>\n",
       "      <td>0.062742</td>\n",
       "      <td>-0.026743</td>\n",
       "      <td>-0.046432</td>\n",
       "      <td>0.629187</td>\n",
       "    </tr>\n",
       "    <tr>\n",
       "      <th>metrostotales</th>\n",
       "      <td>0.001804</td>\n",
       "      <td>0.044821</td>\n",
       "      <td>0.367938</td>\n",
       "      <td>0.235931</td>\n",
       "      <td>0.543252</td>\n",
       "      <td>0.734490</td>\n",
       "      <td>1.000000</td>\n",
       "      <td>-0.032124</td>\n",
       "      <td>0.014757</td>\n",
       "      <td>0.044079</td>\n",
       "      <td>0.021484</td>\n",
       "      <td>0.023762</td>\n",
       "      <td>0.068299</td>\n",
       "      <td>-0.050645</td>\n",
       "      <td>-0.072560</td>\n",
       "      <td>0.514411</td>\n",
       "    </tr>\n",
       "    <tr>\n",
       "      <th>idzona</th>\n",
       "      <td>0.003623</td>\n",
       "      <td>0.030616</td>\n",
       "      <td>-0.047764</td>\n",
       "      <td>-0.018294</td>\n",
       "      <td>-0.002771</td>\n",
       "      <td>-0.047889</td>\n",
       "      <td>-0.032124</td>\n",
       "      <td>1.000000</td>\n",
       "      <td>-0.057904</td>\n",
       "      <td>0.102763</td>\n",
       "      <td>0.005315</td>\n",
       "      <td>0.001869</td>\n",
       "      <td>0.030414</td>\n",
       "      <td>0.014544</td>\n",
       "      <td>0.030030</td>\n",
       "      <td>0.073644</td>\n",
       "    </tr>\n",
       "    <tr>\n",
       "      <th>lat</th>\n",
       "      <td>-0.000239</td>\n",
       "      <td>-0.101883</td>\n",
       "      <td>-0.007486</td>\n",
       "      <td>0.005892</td>\n",
       "      <td>-0.054064</td>\n",
       "      <td>-0.018422</td>\n",
       "      <td>0.014757</td>\n",
       "      <td>-0.057904</td>\n",
       "      <td>1.000000</td>\n",
       "      <td>-0.481296</td>\n",
       "      <td>-0.039118</td>\n",
       "      <td>-0.062442</td>\n",
       "      <td>-0.061804</td>\n",
       "      <td>-0.066013</td>\n",
       "      <td>-0.083778</td>\n",
       "      <td>-0.157514</td>\n",
       "    </tr>\n",
       "    <tr>\n",
       "      <th>lng</th>\n",
       "      <td>0.001511</td>\n",
       "      <td>0.008250</td>\n",
       "      <td>0.007764</td>\n",
       "      <td>-0.000294</td>\n",
       "      <td>0.060019</td>\n",
       "      <td>0.046043</td>\n",
       "      <td>0.044079</td>\n",
       "      <td>0.102763</td>\n",
       "      <td>-0.481296</td>\n",
       "      <td>1.000000</td>\n",
       "      <td>0.004241</td>\n",
       "      <td>-0.005106</td>\n",
       "      <td>0.024837</td>\n",
       "      <td>-0.038965</td>\n",
       "      <td>-0.047305</td>\n",
       "      <td>0.052578</td>\n",
       "    </tr>\n",
       "    <tr>\n",
       "      <th>gimnasio</th>\n",
       "      <td>0.000696</td>\n",
       "      <td>-0.106388</td>\n",
       "      <td>-0.030025</td>\n",
       "      <td>0.122430</td>\n",
       "      <td>0.083278</td>\n",
       "      <td>0.032568</td>\n",
       "      <td>0.021484</td>\n",
       "      <td>0.005315</td>\n",
       "      <td>-0.039118</td>\n",
       "      <td>0.004241</td>\n",
       "      <td>1.000000</td>\n",
       "      <td>0.415847</td>\n",
       "      <td>0.369195</td>\n",
       "      <td>0.204626</td>\n",
       "      <td>0.143467</td>\n",
       "      <td>0.153898</td>\n",
       "    </tr>\n",
       "    <tr>\n",
       "      <th>usosmultiples</th>\n",
       "      <td>-0.000257</td>\n",
       "      <td>-0.095266</td>\n",
       "      <td>-0.005873</td>\n",
       "      <td>0.131324</td>\n",
       "      <td>0.097835</td>\n",
       "      <td>0.045425</td>\n",
       "      <td>0.023762</td>\n",
       "      <td>0.001869</td>\n",
       "      <td>-0.062442</td>\n",
       "      <td>-0.005106</td>\n",
       "      <td>0.415847</td>\n",
       "      <td>1.000000</td>\n",
       "      <td>0.327780</td>\n",
       "      <td>0.196288</td>\n",
       "      <td>0.232096</td>\n",
       "      <td>0.145407</td>\n",
       "    </tr>\n",
       "    <tr>\n",
       "      <th>piscina</th>\n",
       "      <td>-0.001543</td>\n",
       "      <td>-0.136524</td>\n",
       "      <td>-0.012056</td>\n",
       "      <td>0.117440</td>\n",
       "      <td>0.127115</td>\n",
       "      <td>0.062742</td>\n",
       "      <td>0.068299</td>\n",
       "      <td>0.030414</td>\n",
       "      <td>-0.061804</td>\n",
       "      <td>0.024837</td>\n",
       "      <td>0.369195</td>\n",
       "      <td>0.327780</td>\n",
       "      <td>1.000000</td>\n",
       "      <td>0.174860</td>\n",
       "      <td>0.176657</td>\n",
       "      <td>0.112712</td>\n",
       "    </tr>\n",
       "    <tr>\n",
       "      <th>escuelascercanas</th>\n",
       "      <td>-0.004014</td>\n",
       "      <td>-0.005126</td>\n",
       "      <td>0.018928</td>\n",
       "      <td>0.084461</td>\n",
       "      <td>-0.021811</td>\n",
       "      <td>-0.026743</td>\n",
       "      <td>-0.050645</td>\n",
       "      <td>0.014544</td>\n",
       "      <td>-0.066013</td>\n",
       "      <td>-0.038965</td>\n",
       "      <td>0.204626</td>\n",
       "      <td>0.196288</td>\n",
       "      <td>0.174860</td>\n",
       "      <td>1.000000</td>\n",
       "      <td>0.782512</td>\n",
       "      <td>0.001187</td>\n",
       "    </tr>\n",
       "    <tr>\n",
       "      <th>centroscomercialescercanos</th>\n",
       "      <td>-0.002146</td>\n",
       "      <td>-0.009686</td>\n",
       "      <td>0.000925</td>\n",
       "      <td>0.075237</td>\n",
       "      <td>-0.027297</td>\n",
       "      <td>-0.046432</td>\n",
       "      <td>-0.072560</td>\n",
       "      <td>0.030030</td>\n",
       "      <td>-0.083778</td>\n",
       "      <td>-0.047305</td>\n",
       "      <td>0.143467</td>\n",
       "      <td>0.232096</td>\n",
       "      <td>0.176657</td>\n",
       "      <td>0.782512</td>\n",
       "      <td>1.000000</td>\n",
       "      <td>0.028127</td>\n",
       "    </tr>\n",
       "    <tr>\n",
       "      <th>precio</th>\n",
       "      <td>-0.000889</td>\n",
       "      <td>0.073097</td>\n",
       "      <td>0.251014</td>\n",
       "      <td>0.348543</td>\n",
       "      <td>0.534060</td>\n",
       "      <td>0.629187</td>\n",
       "      <td>0.514411</td>\n",
       "      <td>0.073644</td>\n",
       "      <td>-0.157514</td>\n",
       "      <td>0.052578</td>\n",
       "      <td>0.153898</td>\n",
       "      <td>0.145407</td>\n",
       "      <td>0.112712</td>\n",
       "      <td>0.001187</td>\n",
       "      <td>0.028127</td>\n",
       "      <td>1.000000</td>\n",
       "    </tr>\n",
       "  </tbody>\n",
       "</table>\n",
       "</div>"
      ],
      "text/plain": [
       "                                  id  antiguedad  habitaciones   garages  \\\n",
       "id                          1.000000    0.002696     -0.002220 -0.001893   \n",
       "antiguedad                  0.002696    1.000000      0.159373 -0.078656   \n",
       "habitaciones               -0.002220    0.159373      1.000000  0.243112   \n",
       "garages                    -0.001893   -0.078656      0.243112  1.000000   \n",
       "banos                      -0.001941   -0.063351      0.489695  0.435112   \n",
       "metroscubiertos             0.000280    0.077990      0.517499  0.379190   \n",
       "metrostotales               0.001804    0.044821      0.367938  0.235931   \n",
       "idzona                      0.003623    0.030616     -0.047764 -0.018294   \n",
       "lat                        -0.000239   -0.101883     -0.007486  0.005892   \n",
       "lng                         0.001511    0.008250      0.007764 -0.000294   \n",
       "gimnasio                    0.000696   -0.106388     -0.030025  0.122430   \n",
       "usosmultiples              -0.000257   -0.095266     -0.005873  0.131324   \n",
       "piscina                    -0.001543   -0.136524     -0.012056  0.117440   \n",
       "escuelascercanas           -0.004014   -0.005126      0.018928  0.084461   \n",
       "centroscomercialescercanos -0.002146   -0.009686      0.000925  0.075237   \n",
       "precio                     -0.000889    0.073097      0.251014  0.348543   \n",
       "\n",
       "                               banos  metroscubiertos  metrostotales  \\\n",
       "id                         -0.001941         0.000280       0.001804   \n",
       "antiguedad                 -0.063351         0.077990       0.044821   \n",
       "habitaciones                0.489695         0.517499       0.367938   \n",
       "garages                     0.435112         0.379190       0.235931   \n",
       "banos                       1.000000         0.683101       0.543252   \n",
       "metroscubiertos             0.683101         1.000000       0.734490   \n",
       "metrostotales               0.543252         0.734490       1.000000   \n",
       "idzona                     -0.002771        -0.047889      -0.032124   \n",
       "lat                        -0.054064        -0.018422       0.014757   \n",
       "lng                         0.060019         0.046043       0.044079   \n",
       "gimnasio                    0.083278         0.032568       0.021484   \n",
       "usosmultiples               0.097835         0.045425       0.023762   \n",
       "piscina                     0.127115         0.062742       0.068299   \n",
       "escuelascercanas           -0.021811        -0.026743      -0.050645   \n",
       "centroscomercialescercanos -0.027297        -0.046432      -0.072560   \n",
       "precio                      0.534060         0.629187       0.514411   \n",
       "\n",
       "                              idzona       lat       lng  gimnasio  \\\n",
       "id                          0.003623 -0.000239  0.001511  0.000696   \n",
       "antiguedad                  0.030616 -0.101883  0.008250 -0.106388   \n",
       "habitaciones               -0.047764 -0.007486  0.007764 -0.030025   \n",
       "garages                    -0.018294  0.005892 -0.000294  0.122430   \n",
       "banos                      -0.002771 -0.054064  0.060019  0.083278   \n",
       "metroscubiertos            -0.047889 -0.018422  0.046043  0.032568   \n",
       "metrostotales              -0.032124  0.014757  0.044079  0.021484   \n",
       "idzona                      1.000000 -0.057904  0.102763  0.005315   \n",
       "lat                        -0.057904  1.000000 -0.481296 -0.039118   \n",
       "lng                         0.102763 -0.481296  1.000000  0.004241   \n",
       "gimnasio                    0.005315 -0.039118  0.004241  1.000000   \n",
       "usosmultiples               0.001869 -0.062442 -0.005106  0.415847   \n",
       "piscina                     0.030414 -0.061804  0.024837  0.369195   \n",
       "escuelascercanas            0.014544 -0.066013 -0.038965  0.204626   \n",
       "centroscomercialescercanos  0.030030 -0.083778 -0.047305  0.143467   \n",
       "precio                      0.073644 -0.157514  0.052578  0.153898   \n",
       "\n",
       "                            usosmultiples   piscina  escuelascercanas  \\\n",
       "id                              -0.000257 -0.001543         -0.004014   \n",
       "antiguedad                      -0.095266 -0.136524         -0.005126   \n",
       "habitaciones                    -0.005873 -0.012056          0.018928   \n",
       "garages                          0.131324  0.117440          0.084461   \n",
       "banos                            0.097835  0.127115         -0.021811   \n",
       "metroscubiertos                  0.045425  0.062742         -0.026743   \n",
       "metrostotales                    0.023762  0.068299         -0.050645   \n",
       "idzona                           0.001869  0.030414          0.014544   \n",
       "lat                             -0.062442 -0.061804         -0.066013   \n",
       "lng                             -0.005106  0.024837         -0.038965   \n",
       "gimnasio                         0.415847  0.369195          0.204626   \n",
       "usosmultiples                    1.000000  0.327780          0.196288   \n",
       "piscina                          0.327780  1.000000          0.174860   \n",
       "escuelascercanas                 0.196288  0.174860          1.000000   \n",
       "centroscomercialescercanos       0.232096  0.176657          0.782512   \n",
       "precio                           0.145407  0.112712          0.001187   \n",
       "\n",
       "                            centroscomercialescercanos    precio  \n",
       "id                                           -0.002146 -0.000889  \n",
       "antiguedad                                   -0.009686  0.073097  \n",
       "habitaciones                                  0.000925  0.251014  \n",
       "garages                                       0.075237  0.348543  \n",
       "banos                                        -0.027297  0.534060  \n",
       "metroscubiertos                              -0.046432  0.629187  \n",
       "metrostotales                                -0.072560  0.514411  \n",
       "idzona                                        0.030030  0.073644  \n",
       "lat                                          -0.083778 -0.157514  \n",
       "lng                                          -0.047305  0.052578  \n",
       "gimnasio                                      0.143467  0.153898  \n",
       "usosmultiples                                 0.232096  0.145407  \n",
       "piscina                                       0.176657  0.112712  \n",
       "escuelascercanas                              0.782512  0.001187  \n",
       "centroscomercialescercanos                    1.000000  0.028127  \n",
       "precio                                        0.028127  1.000000  "
      ]
     },
     "execution_count": 9,
     "metadata": {},
     "output_type": "execute_result"
    }
   ],
   "source": [
    "features.corr()"
   ]
  },
  {
   "cell_type": "markdown",
   "metadata": {},
   "source": [
    "# Dropna Tipo de propiedad"
   ]
  },
  {
   "cell_type": "code",
   "execution_count": 10,
   "metadata": {},
   "outputs": [
    {
     "data": {
      "text/plain": [
       "False    239954\n",
       "True         46\n",
       "Name: tipodepropiedad, dtype: int64"
      ]
     },
     "execution_count": 10,
     "metadata": {},
     "output_type": "execute_result"
    }
   ],
   "source": [
    "features.tipodepropiedad.isna().value_counts()"
   ]
  },
  {
   "cell_type": "code",
   "execution_count": 11,
   "metadata": {},
   "outputs": [
    {
     "data": {
      "text/plain": [
       "239954"
      ]
     },
     "execution_count": 11,
     "metadata": {},
     "output_type": "execute_result"
    }
   ],
   "source": [
    "# Drop de datos sin tipo\n",
    "features = features.dropna(subset=['tipodepropiedad'])\n",
    "features = features.reset_index(drop=True)\n",
    "\n",
    "len(features)"
   ]
  },
  {
   "cell_type": "markdown",
   "metadata": {},
   "source": [
    "# Metros"
   ]
  },
  {
   "cell_type": "code",
   "execution_count": 14,
   "metadata": {},
   "outputs": [
    {
     "name": "stdout",
     "output_type": "stream",
     "text": [
      "Metrocubiertos con datos nulos:  17386\n",
      "Metrocubiertos con datos nulos:  51458\n",
      "Publicaciones sin metros cubiertos y totales:  0\n",
      "Publicaciones con metroscubiertos==metrostotales:  37883\n",
      "Publicaciones con metroscubiertos>metrostotales (Error):  70285\n"
     ]
    }
   ],
   "source": [
    "print('Metrocubiertos con datos nulos: ', features.metroscubiertos.isna().sum())\n",
    "print('Metrocubiertos con datos nulos: ', features.metrostotales.isna().sum())\n",
    "print('Publicaciones sin metros cubiertos y totales: ', len(features.loc[(features.metroscubiertos.isna() & features.metrostotales.isna()),:]))\n",
    "print('Publicaciones con metroscubiertos==metrostotales: ', len(features.loc[features.metroscubiertos == features.metrostotales, :]))\n",
    "print('Publicaciones con metroscubiertos>metrostotales (Error): ', len(features.loc[features.metroscubiertos > features.metrostotales, ['metroscubiertos','metrostotales']]))"
   ]
  },
  {
   "cell_type": "markdown",
   "metadata": {},
   "source": [
    "Swapeo columnas metroscubiertos-metrostotales en el caso que la primera es mayor a la segunda"
   ]
  },
  {
   "cell_type": "code",
   "execution_count": 15,
   "metadata": {},
   "outputs": [
    {
     "name": "stderr",
     "output_type": "stream",
     "text": [
      "/home/seba/miniconda3/lib/python3.7/site-packages/pandas/core/indexing.py:480: SettingWithCopyWarning: \n",
      "A value is trying to be set on a copy of a slice from a DataFrame.\n",
      "Try using .loc[row_indexer,col_indexer] = value instead\n",
      "\n",
      "See the caveats in the documentation: http://pandas.pydata.org/pandas-docs/stable/user_guide/indexing.html#returning-a-view-versus-a-copy\n",
      "  self.obj[item] = s\n"
     ]
    }
   ],
   "source": [
    "cond = features.metroscubiertos > features.metrostotales\n",
    "features.loc[cond, ['metroscubiertos', 'metrostotales']] = features.loc[cond, ['metrostotales', 'metroscubiertos']].values"
   ]
  },
  {
   "cell_type": "code",
   "execution_count": 17,
   "metadata": {},
   "outputs": [
    {
     "name": "stdout",
     "output_type": "stream",
     "text": [
      "Publicaciones con metroscubiertos>metrostotales (Error):  0\n"
     ]
    }
   ],
   "source": [
    "print('Publicaciones con metroscubiertos>metrostotales (Error): ', len(features.loc[features.metroscubiertos > features.metrostotales, ['metroscubiertos','metrostotales']]))"
   ]
  },
  {
   "cell_type": "code",
   "execution_count": 18,
   "metadata": {},
   "outputs": [
    {
     "name": "stderr",
     "output_type": "stream",
     "text": [
      "/home/seba/miniconda3/lib/python3.7/site-packages/ipykernel_launcher.py:1: SettingWithCopyWarning: \n",
      "A value is trying to be set on a copy of a slice from a DataFrame.\n",
      "Try using .loc[row_indexer,col_indexer] = value instead\n",
      "\n",
      "See the caveats in the documentation: http://pandas.pydata.org/pandas-docs/stable/user_guide/indexing.html#returning-a-view-versus-a-copy\n",
      "  \"\"\"Entry point for launching an IPython kernel.\n"
     ]
    }
   ],
   "source": [
    "features['tot-cub'] = features.metrostotales - features.metroscubiertos"
   ]
  },
  {
   "cell_type": "code",
   "execution_count": 19,
   "metadata": {},
   "outputs": [
    {
     "data": {
      "text/html": [
       "<div>\n",
       "<style scoped>\n",
       "    .dataframe tbody tr th:only-of-type {\n",
       "        vertical-align: middle;\n",
       "    }\n",
       "\n",
       "    .dataframe tbody tr th {\n",
       "        vertical-align: top;\n",
       "    }\n",
       "\n",
       "    .dataframe thead th {\n",
       "        text-align: right;\n",
       "    }\n",
       "</style>\n",
       "<table border=\"1\" class=\"dataframe\">\n",
       "  <thead>\n",
       "    <tr style=\"text-align: right;\">\n",
       "      <th>tipodepropiedad</th>\n",
       "      <th>Apartamento</th>\n",
       "      <th>Bodega comercial</th>\n",
       "      <th>Casa</th>\n",
       "      <th>Casa en condominio</th>\n",
       "      <th>Casa uso de suelo</th>\n",
       "      <th>Departamento Compartido</th>\n",
       "      <th>Duplex</th>\n",
       "      <th>Edificio</th>\n",
       "      <th>Garage</th>\n",
       "      <th>Hospedaje</th>\n",
       "      <th>...</th>\n",
       "      <th>Lote</th>\n",
       "      <th>Nave industrial</th>\n",
       "      <th>Oficina comercial</th>\n",
       "      <th>Otros</th>\n",
       "      <th>Quinta Vacacional</th>\n",
       "      <th>Rancho</th>\n",
       "      <th>Terreno</th>\n",
       "      <th>Terreno comercial</th>\n",
       "      <th>Terreno industrial</th>\n",
       "      <th>Villa</th>\n",
       "    </tr>\n",
       "  </thead>\n",
       "  <tbody>\n",
       "    <tr>\n",
       "      <th>tot-cub</th>\n",
       "      <td>7</td>\n",
       "      <td>58</td>\n",
       "      <td>52</td>\n",
       "      <td>46</td>\n",
       "      <td>83</td>\n",
       "      <td>17</td>\n",
       "      <td>23</td>\n",
       "      <td>121</td>\n",
       "      <td>0</td>\n",
       "      <td>0</td>\n",
       "      <td>...</td>\n",
       "      <td>0</td>\n",
       "      <td>43</td>\n",
       "      <td>34</td>\n",
       "      <td>32</td>\n",
       "      <td>94</td>\n",
       "      <td>20</td>\n",
       "      <td>46</td>\n",
       "      <td>95</td>\n",
       "      <td>124</td>\n",
       "      <td>58</td>\n",
       "    </tr>\n",
       "  </tbody>\n",
       "</table>\n",
       "<p>1 rows × 24 columns</p>\n",
       "</div>"
      ],
      "text/plain": [
       "tipodepropiedad  Apartamento  Bodega comercial  Casa  Casa en condominio  \\\n",
       "tot-cub                    7                58    52                  46   \n",
       "\n",
       "tipodepropiedad  Casa uso de suelo  Departamento Compartido  Duplex  Edificio  \\\n",
       "tot-cub                         83                       17      23       121   \n",
       "\n",
       "tipodepropiedad  Garage  Hospedaje  ...  Lote  Nave industrial  \\\n",
       "tot-cub               0          0  ...     0               43   \n",
       "\n",
       "tipodepropiedad  Oficina comercial  Otros  Quinta Vacacional  Rancho  Terreno  \\\n",
       "tot-cub                         34     32                 94      20       46   \n",
       "\n",
       "tipodepropiedad  Terreno comercial  Terreno industrial  Villa  \n",
       "tot-cub                         95                 124     58  \n",
       "\n",
       "[1 rows x 24 columns]"
      ]
     },
     "execution_count": 19,
     "metadata": {},
     "output_type": "execute_result"
    }
   ],
   "source": [
    "# Calculo diferencia promedio entre metrostotales y metroscubiertos por cada tipo de propiedad\n",
    "meanDifByType = features.groupby('tipodepropiedad').agg({'tot-cub':'mean'}).fillna(0).T.round(0).astype(np.uint16)\n",
    "meanDifByType"
   ]
  },
  {
   "cell_type": "code",
   "execution_count": 20,
   "metadata": {},
   "outputs": [
    {
     "name": "stderr",
     "output_type": "stream",
     "text": [
      "/home/seba/miniconda3/lib/python3.7/site-packages/pandas/core/indexing.py:480: SettingWithCopyWarning: \n",
      "A value is trying to be set on a copy of a slice from a DataFrame.\n",
      "Try using .loc[row_indexer,col_indexer] = value instead\n",
      "\n",
      "See the caveats in the documentation: http://pandas.pydata.org/pandas-docs/stable/user_guide/indexing.html#returning-a-view-versus-a-copy\n",
      "  self.obj[item] = s\n"
     ]
    }
   ],
   "source": [
    "for index, row in features.iterrows():\n",
    "    if (np.isnan(row.metroscubiertos)):\n",
    "        features.loc[index,'metroscubiertos'] = (row.metrostotales - (meanDifByType.loc['tot-cub',row.tipodepropiedad])).astype(np.uint16)\n",
    "    if (np.isnan(row.metrostotales)):\n",
    "        features.loc[index,'metrostotales'] = (row.metroscubiertos + meanDifByType.loc['tot-cub',row.tipodepropiedad]).astype(np.uint16)"
   ]
  },
  {
   "cell_type": "code",
   "execution_count": 21,
   "metadata": {},
   "outputs": [
    {
     "name": "stdout",
     "output_type": "stream",
     "text": [
      "Metrocubiertos con datos nulos:  0\n",
      "Metrocubiertos con datos nulos:  0\n"
     ]
    }
   ],
   "source": [
    "print('Metrocubiertos con datos nulos: ', features.metroscubiertos.isna().sum())\n",
    "print('Metrostotales con datos nulos: ', features.metrostotales.isna().sum())"
   ]
  },
  {
   "cell_type": "raw",
   "metadata": {},
   "source": [
    "from sklearn.impute import SimpleImputer\n",
    "imp = SimpleImputer()\n",
    "features['metroscubiertos'] = imp.fit_transform(features[['metroscubiertos']])\n",
    "features['metrostotales'] = imp.fit_transform(features[['metrostotales']])\n",
    "\n",
    "df_test['metroscubiertos'] = imp.fit_transform(df_test[['metroscubiertos']])\n",
    "df_test['metrostotales'] = imp.fit_transform(df_test[['metrostotales']])"
   ]
  },
  {
   "cell_type": "markdown",
   "metadata": {},
   "source": [
    "### Set Test"
   ]
  },
  {
   "cell_type": "code",
   "execution_count": 109,
   "metadata": {},
   "outputs": [
    {
     "name": "stdout",
     "output_type": "stream",
     "text": [
      "Metrocubiertos con datos nulos:  4299\n",
      "Metrocubiertos con datos nulos:  12655\n",
      "Publicaciones sin metros cubiertos y totales:  0\n",
      "Publicaciones con metroscubiertos==metrostotales:  9400\n",
      "Publicaciones con metroscubiertos>metrostotales (Error):  17806\n"
     ]
    }
   ],
   "source": [
    "print('Metrocubiertos con datos nulos: ', df_test.metroscubiertos.isna().sum())\n",
    "print('Metrocubiertos con datos nulos: ', df_test.metrostotales.isna().sum())\n",
    "print('Publicaciones sin metros cubiertos y totales: ', len(df_test.loc[(df_test.metroscubiertos.isna() & df_test.metrostotales.isna()),:]))\n",
    "print('Publicaciones con metroscubiertos==metrostotales: ', len(df_test.loc[df_test.metroscubiertos == df_test.metrostotales, :]))\n",
    "print('Publicaciones con metroscubiertos>metrostotales (Error): ', len(df_test.loc[df_test.metroscubiertos > df_test.metrostotales, ['metroscubiertos','metrostotales']]))"
   ]
  },
  {
   "cell_type": "code",
   "execution_count": 110,
   "metadata": {},
   "outputs": [
    {
     "name": "stdout",
     "output_type": "stream",
     "text": [
      "Publicaciones Test con tipopropiedad nula:  7\n"
     ]
    }
   ],
   "source": [
    "print('Publicaciones Test con tipopropiedad nula: ', df_test.tipodepropiedad.isna().sum())"
   ]
  },
  {
   "cell_type": "code",
   "execution_count": 111,
   "metadata": {},
   "outputs": [
    {
     "name": "stdout",
     "output_type": "stream",
     "text": [
      "Metrocubiertos con datos nulos:  0\n",
      "Metrostotales con datos nulos:  0\n"
     ]
    }
   ],
   "source": [
    "cond = df_test.metroscubiertos > df_test.metrostotales\n",
    "df_test.loc[cond, ['metroscubiertos', 'metrostotales']] = df_test.loc[cond, ['metrostotales', 'metroscubiertos']].values\n",
    "df_test['tot-cub'] = df_test.metrostotales - df_test.metroscubiertos\n",
    "\n",
    "meanDifByTypeTest = df_test.groupby('tipodepropiedad').agg({'tot-cub':'mean'}).fillna(0).T.round(0).astype(np.uint16)\n",
    "meanDifByTypeTest\n",
    "\n",
    "for index, row in df_test.iterrows():\n",
    "    if (np.isnan(row.metroscubiertos)):\n",
    "        if (not(pd.isnull(row.tipodepropiedad))):\n",
    "            df_test.loc[index,'metroscubiertos'] = (row.metrostotales - (meanDifByTypeTest.loc['tot-cub',row.tipodepropiedad])).astype(np.uint16)\n",
    "        else:\n",
    "            df_test.loc[index,'metroscubiertos'] = row.metrostotales\n",
    "    if (np.isnan(row.metrostotales)):\n",
    "        if (not(pd.isnull(row.tipodepropiedad))):\n",
    "            df_test.loc[index,'metrostotales'] = (row.metroscubiertos + meanDifByTypeTest.loc['tot-cub',row.tipodepropiedad]).astype(np.uint16)\n",
    "        else:\n",
    "            df_test.loc[index,'metrostotales'] = row.metroscubiertos\n",
    "        \n",
    "print('Metrocubiertos con datos nulos: ', df_test.metroscubiertos.isna().sum())\n",
    "print('Metrostotales con datos nulos: ', df_test.metrostotales.isna().sum())"
   ]
  },
  {
   "cell_type": "markdown",
   "metadata": {},
   "source": [
    "# Fecha"
   ]
  },
  {
   "cell_type": "code",
   "execution_count": 112,
   "metadata": {},
   "outputs": [
    {
     "ename": "AttributeError",
     "evalue": "'DataFrame' object has no attribute 'fecha'",
     "output_type": "error",
     "traceback": [
      "\u001b[0;31m---------------------------------------------------------------------------\u001b[0m",
      "\u001b[0;31mAttributeError\u001b[0m                            Traceback (most recent call last)",
      "\u001b[0;32m<ipython-input-112-2796b5e2c288>\u001b[0m in \u001b[0;36m<module>\u001b[0;34m\u001b[0m\n\u001b[0;32m----> 1\u001b[0;31m \u001b[0mfeatures\u001b[0m\u001b[0;34m[\u001b[0m\u001b[0;34m'ano'\u001b[0m\u001b[0;34m]\u001b[0m \u001b[0;34m=\u001b[0m \u001b[0mfeatures\u001b[0m\u001b[0;34m.\u001b[0m\u001b[0mfecha\u001b[0m\u001b[0;34m.\u001b[0m\u001b[0mdt\u001b[0m\u001b[0;34m.\u001b[0m\u001b[0myear\u001b[0m\u001b[0;34m\u001b[0m\u001b[0;34m\u001b[0m\u001b[0m\n\u001b[0m\u001b[1;32m      2\u001b[0m \u001b[0mfeatures\u001b[0m\u001b[0;34m[\u001b[0m\u001b[0;34m'mes'\u001b[0m\u001b[0;34m]\u001b[0m \u001b[0;34m=\u001b[0m \u001b[0mfeatures\u001b[0m\u001b[0;34m.\u001b[0m\u001b[0mfecha\u001b[0m\u001b[0;34m.\u001b[0m\u001b[0mdt\u001b[0m\u001b[0;34m.\u001b[0m\u001b[0mmonth\u001b[0m\u001b[0;34m\u001b[0m\u001b[0;34m\u001b[0m\u001b[0m\n\u001b[1;32m      3\u001b[0m \u001b[0mfeatures\u001b[0m \u001b[0;34m=\u001b[0m \u001b[0mfeatures\u001b[0m\u001b[0;34m.\u001b[0m\u001b[0mdrop\u001b[0m\u001b[0;34m(\u001b[0m\u001b[0;34m'fecha'\u001b[0m\u001b[0;34m,\u001b[0m\u001b[0maxis\u001b[0m\u001b[0;34m=\u001b[0m\u001b[0;36m1\u001b[0m\u001b[0;34m)\u001b[0m\u001b[0;34m\u001b[0m\u001b[0;34m\u001b[0m\u001b[0m\n\u001b[1;32m      4\u001b[0m \u001b[0;34m\u001b[0m\u001b[0m\n\u001b[1;32m      5\u001b[0m \u001b[0mdf_test\u001b[0m\u001b[0;34m[\u001b[0m\u001b[0;34m'ano'\u001b[0m\u001b[0;34m]\u001b[0m \u001b[0;34m=\u001b[0m \u001b[0mdf_test\u001b[0m\u001b[0;34m.\u001b[0m\u001b[0mfecha\u001b[0m\u001b[0;34m.\u001b[0m\u001b[0mdt\u001b[0m\u001b[0;34m.\u001b[0m\u001b[0myear\u001b[0m\u001b[0;34m\u001b[0m\u001b[0;34m\u001b[0m\u001b[0m\n",
      "\u001b[0;32m~/miniconda3/lib/python3.7/site-packages/pandas/core/generic.py\u001b[0m in \u001b[0;36m__getattr__\u001b[0;34m(self, name)\u001b[0m\n\u001b[1;32m   5178\u001b[0m             \u001b[0;32mif\u001b[0m \u001b[0mself\u001b[0m\u001b[0;34m.\u001b[0m\u001b[0m_info_axis\u001b[0m\u001b[0;34m.\u001b[0m\u001b[0m_can_hold_identifiers_and_holds_name\u001b[0m\u001b[0;34m(\u001b[0m\u001b[0mname\u001b[0m\u001b[0;34m)\u001b[0m\u001b[0;34m:\u001b[0m\u001b[0;34m\u001b[0m\u001b[0;34m\u001b[0m\u001b[0m\n\u001b[1;32m   5179\u001b[0m                 \u001b[0;32mreturn\u001b[0m \u001b[0mself\u001b[0m\u001b[0;34m[\u001b[0m\u001b[0mname\u001b[0m\u001b[0;34m]\u001b[0m\u001b[0;34m\u001b[0m\u001b[0;34m\u001b[0m\u001b[0m\n\u001b[0;32m-> 5180\u001b[0;31m             \u001b[0;32mreturn\u001b[0m \u001b[0mobject\u001b[0m\u001b[0;34m.\u001b[0m\u001b[0m__getattribute__\u001b[0m\u001b[0;34m(\u001b[0m\u001b[0mself\u001b[0m\u001b[0;34m,\u001b[0m \u001b[0mname\u001b[0m\u001b[0;34m)\u001b[0m\u001b[0;34m\u001b[0m\u001b[0;34m\u001b[0m\u001b[0m\n\u001b[0m\u001b[1;32m   5181\u001b[0m \u001b[0;34m\u001b[0m\u001b[0m\n\u001b[1;32m   5182\u001b[0m     \u001b[0;32mdef\u001b[0m \u001b[0m__setattr__\u001b[0m\u001b[0;34m(\u001b[0m\u001b[0mself\u001b[0m\u001b[0;34m,\u001b[0m \u001b[0mname\u001b[0m\u001b[0;34m,\u001b[0m \u001b[0mvalue\u001b[0m\u001b[0;34m)\u001b[0m\u001b[0;34m:\u001b[0m\u001b[0;34m\u001b[0m\u001b[0;34m\u001b[0m\u001b[0m\n",
      "\u001b[0;31mAttributeError\u001b[0m: 'DataFrame' object has no attribute 'fecha'"
     ]
    }
   ],
   "source": [
    "features['ano'] = features.fecha.dt.year\n",
    "features['mes'] = features.fecha.dt.month\n",
    "features = features.drop('fecha',axis=1)\n",
    "\n",
    "df_test['ano'] = df_test.fecha.dt.year\n",
    "df_test['mes'] = df_test.fecha.dt.month\n",
    "df_test = df_test.drop('fecha',axis=1)"
   ]
  },
  {
   "cell_type": "markdown",
   "metadata": {},
   "source": [
    "# Habitaciones"
   ]
  },
  {
   "cell_type": "code",
   "execution_count": 69,
   "metadata": {},
   "outputs": [
    {
     "name": "stdout",
     "output_type": "stream",
     "text": [
      "Habitaciones con datos nulos:  22453\n"
     ]
    }
   ],
   "source": [
    "print('Habitaciones con datos nulos: ', features.habitaciones.isna().sum())"
   ]
  },
  {
   "cell_type": "code",
   "execution_count": 71,
   "metadata": {},
   "outputs": [
    {
     "data": {
      "text/html": [
       "<div>\n",
       "<style scoped>\n",
       "    .dataframe tbody tr th:only-of-type {\n",
       "        vertical-align: middle;\n",
       "    }\n",
       "\n",
       "    .dataframe tbody tr th {\n",
       "        vertical-align: top;\n",
       "    }\n",
       "\n",
       "    .dataframe thead tr th {\n",
       "        text-align: left;\n",
       "    }\n",
       "\n",
       "    .dataframe thead tr:last-of-type th {\n",
       "        text-align: right;\n",
       "    }\n",
       "</style>\n",
       "<table border=\"1\" class=\"dataframe\">\n",
       "  <thead>\n",
       "    <tr>\n",
       "      <th></th>\n",
       "      <th colspan=\"10\" halign=\"left\">0</th>\n",
       "    </tr>\n",
       "    <tr>\n",
       "      <th>habitaciones</th>\n",
       "      <th>1</th>\n",
       "      <th>2</th>\n",
       "      <th>3</th>\n",
       "      <th>4</th>\n",
       "      <th>5</th>\n",
       "      <th>6</th>\n",
       "      <th>7</th>\n",
       "      <th>8</th>\n",
       "      <th>9</th>\n",
       "      <th>10</th>\n",
       "    </tr>\n",
       "    <tr>\n",
       "      <th>tipodepropiedad</th>\n",
       "      <th></th>\n",
       "      <th></th>\n",
       "      <th></th>\n",
       "      <th></th>\n",
       "      <th></th>\n",
       "      <th></th>\n",
       "      <th></th>\n",
       "      <th></th>\n",
       "      <th></th>\n",
       "      <th></th>\n",
       "    </tr>\n",
       "  </thead>\n",
       "  <tbody>\n",
       "    <tr>\n",
       "      <th>Apartamento</th>\n",
       "      <td>2841.0</td>\n",
       "      <td>30040.0</td>\n",
       "      <td>22566.0</td>\n",
       "      <td>780.0</td>\n",
       "      <td>64.0</td>\n",
       "      <td>23.0</td>\n",
       "      <td>6.0</td>\n",
       "      <td>13.0</td>\n",
       "      <td>9.0</td>\n",
       "      <td>5.0</td>\n",
       "    </tr>\n",
       "    <tr>\n",
       "      <th>Bodega comercial</th>\n",
       "      <td>47.0</td>\n",
       "      <td>42.0</td>\n",
       "      <td>30.0</td>\n",
       "      <td>18.0</td>\n",
       "      <td>10.0</td>\n",
       "      <td>5.0</td>\n",
       "      <td>1.0</td>\n",
       "      <td>3.0</td>\n",
       "      <td>1.0</td>\n",
       "      <td>NaN</td>\n",
       "    </tr>\n",
       "    <tr>\n",
       "      <th>Casa</th>\n",
       "      <td>1549.0</td>\n",
       "      <td>23789.0</td>\n",
       "      <td>84651.0</td>\n",
       "      <td>21714.0</td>\n",
       "      <td>4179.0</td>\n",
       "      <td>1458.0</td>\n",
       "      <td>458.0</td>\n",
       "      <td>298.0</td>\n",
       "      <td>120.0</td>\n",
       "      <td>163.0</td>\n",
       "    </tr>\n",
       "    <tr>\n",
       "      <th>Casa en condominio</th>\n",
       "      <td>186.0</td>\n",
       "      <td>3004.0</td>\n",
       "      <td>13608.0</td>\n",
       "      <td>2095.0</td>\n",
       "      <td>143.0</td>\n",
       "      <td>29.0</td>\n",
       "      <td>5.0</td>\n",
       "      <td>6.0</td>\n",
       "      <td>2.0</td>\n",
       "      <td>4.0</td>\n",
       "    </tr>\n",
       "    <tr>\n",
       "      <th>Casa uso de suelo</th>\n",
       "      <td>12.0</td>\n",
       "      <td>53.0</td>\n",
       "      <td>150.0</td>\n",
       "      <td>133.0</td>\n",
       "      <td>48.0</td>\n",
       "      <td>34.0</td>\n",
       "      <td>24.0</td>\n",
       "      <td>16.0</td>\n",
       "      <td>9.0</td>\n",
       "      <td>23.0</td>\n",
       "    </tr>\n",
       "    <tr>\n",
       "      <th>Departamento Compartido</th>\n",
       "      <td>8.0</td>\n",
       "      <td>61.0</td>\n",
       "      <td>62.0</td>\n",
       "      <td>2.0</td>\n",
       "      <td>NaN</td>\n",
       "      <td>2.0</td>\n",
       "      <td>NaN</td>\n",
       "      <td>NaN</td>\n",
       "      <td>NaN</td>\n",
       "      <td>2.0</td>\n",
       "    </tr>\n",
       "    <tr>\n",
       "      <th>Duplex</th>\n",
       "      <td>8.0</td>\n",
       "      <td>194.0</td>\n",
       "      <td>109.0</td>\n",
       "      <td>13.0</td>\n",
       "      <td>9.0</td>\n",
       "      <td>6.0</td>\n",
       "      <td>NaN</td>\n",
       "      <td>1.0</td>\n",
       "      <td>NaN</td>\n",
       "      <td>NaN</td>\n",
       "    </tr>\n",
       "    <tr>\n",
       "      <th>Edificio</th>\n",
       "      <td>11.0</td>\n",
       "      <td>35.0</td>\n",
       "      <td>36.0</td>\n",
       "      <td>21.0</td>\n",
       "      <td>22.0</td>\n",
       "      <td>45.0</td>\n",
       "      <td>18.0</td>\n",
       "      <td>28.0</td>\n",
       "      <td>16.0</td>\n",
       "      <td>71.0</td>\n",
       "    </tr>\n",
       "    <tr>\n",
       "      <th>Hospedaje</th>\n",
       "      <td>NaN</td>\n",
       "      <td>NaN</td>\n",
       "      <td>NaN</td>\n",
       "      <td>NaN</td>\n",
       "      <td>NaN</td>\n",
       "      <td>NaN</td>\n",
       "      <td>1.0</td>\n",
       "      <td>NaN</td>\n",
       "      <td>NaN</td>\n",
       "      <td>NaN</td>\n",
       "    </tr>\n",
       "    <tr>\n",
       "      <th>Huerta</th>\n",
       "      <td>NaN</td>\n",
       "      <td>5.0</td>\n",
       "      <td>1.0</td>\n",
       "      <td>1.0</td>\n",
       "      <td>NaN</td>\n",
       "      <td>NaN</td>\n",
       "      <td>NaN</td>\n",
       "      <td>NaN</td>\n",
       "      <td>NaN</td>\n",
       "      <td>NaN</td>\n",
       "    </tr>\n",
       "    <tr>\n",
       "      <th>Inmuebles productivos urbanos</th>\n",
       "      <td>8.0</td>\n",
       "      <td>10.0</td>\n",
       "      <td>17.0</td>\n",
       "      <td>13.0</td>\n",
       "      <td>6.0</td>\n",
       "      <td>4.0</td>\n",
       "      <td>1.0</td>\n",
       "      <td>4.0</td>\n",
       "      <td>6.0</td>\n",
       "      <td>14.0</td>\n",
       "    </tr>\n",
       "    <tr>\n",
       "      <th>Local Comercial</th>\n",
       "      <td>103.0</td>\n",
       "      <td>86.0</td>\n",
       "      <td>69.0</td>\n",
       "      <td>50.0</td>\n",
       "      <td>22.0</td>\n",
       "      <td>12.0</td>\n",
       "      <td>5.0</td>\n",
       "      <td>7.0</td>\n",
       "      <td>7.0</td>\n",
       "      <td>14.0</td>\n",
       "    </tr>\n",
       "    <tr>\n",
       "      <th>Local en centro comercial</th>\n",
       "      <td>12.0</td>\n",
       "      <td>8.0</td>\n",
       "      <td>NaN</td>\n",
       "      <td>NaN</td>\n",
       "      <td>2.0</td>\n",
       "      <td>NaN</td>\n",
       "      <td>NaN</td>\n",
       "      <td>NaN</td>\n",
       "      <td>NaN</td>\n",
       "      <td>NaN</td>\n",
       "    </tr>\n",
       "    <tr>\n",
       "      <th>Nave industrial</th>\n",
       "      <td>1.0</td>\n",
       "      <td>5.0</td>\n",
       "      <td>3.0</td>\n",
       "      <td>3.0</td>\n",
       "      <td>1.0</td>\n",
       "      <td>NaN</td>\n",
       "      <td>NaN</td>\n",
       "      <td>NaN</td>\n",
       "      <td>NaN</td>\n",
       "      <td>NaN</td>\n",
       "    </tr>\n",
       "    <tr>\n",
       "      <th>Oficina comercial</th>\n",
       "      <td>56.0</td>\n",
       "      <td>39.0</td>\n",
       "      <td>66.0</td>\n",
       "      <td>53.0</td>\n",
       "      <td>35.0</td>\n",
       "      <td>29.0</td>\n",
       "      <td>13.0</td>\n",
       "      <td>13.0</td>\n",
       "      <td>6.0</td>\n",
       "      <td>14.0</td>\n",
       "    </tr>\n",
       "    <tr>\n",
       "      <th>Otros</th>\n",
       "      <td>6.0</td>\n",
       "      <td>31.0</td>\n",
       "      <td>30.0</td>\n",
       "      <td>2.0</td>\n",
       "      <td>NaN</td>\n",
       "      <td>NaN</td>\n",
       "      <td>NaN</td>\n",
       "      <td>NaN</td>\n",
       "      <td>NaN</td>\n",
       "      <td>NaN</td>\n",
       "    </tr>\n",
       "    <tr>\n",
       "      <th>Quinta Vacacional</th>\n",
       "      <td>40.0</td>\n",
       "      <td>130.0</td>\n",
       "      <td>121.0</td>\n",
       "      <td>49.0</td>\n",
       "      <td>12.0</td>\n",
       "      <td>6.0</td>\n",
       "      <td>2.0</td>\n",
       "      <td>1.0</td>\n",
       "      <td>1.0</td>\n",
       "      <td>NaN</td>\n",
       "    </tr>\n",
       "    <tr>\n",
       "      <th>Rancho</th>\n",
       "      <td>22.0</td>\n",
       "      <td>34.0</td>\n",
       "      <td>56.0</td>\n",
       "      <td>15.0</td>\n",
       "      <td>9.0</td>\n",
       "      <td>3.0</td>\n",
       "      <td>1.0</td>\n",
       "      <td>2.0</td>\n",
       "      <td>NaN</td>\n",
       "      <td>NaN</td>\n",
       "    </tr>\n",
       "    <tr>\n",
       "      <th>Terreno</th>\n",
       "      <td>111.0</td>\n",
       "      <td>127.0</td>\n",
       "      <td>138.0</td>\n",
       "      <td>58.0</td>\n",
       "      <td>23.0</td>\n",
       "      <td>8.0</td>\n",
       "      <td>4.0</td>\n",
       "      <td>3.0</td>\n",
       "      <td>1.0</td>\n",
       "      <td>5.0</td>\n",
       "    </tr>\n",
       "    <tr>\n",
       "      <th>Terreno comercial</th>\n",
       "      <td>17.0</td>\n",
       "      <td>13.0</td>\n",
       "      <td>22.0</td>\n",
       "      <td>11.0</td>\n",
       "      <td>6.0</td>\n",
       "      <td>2.0</td>\n",
       "      <td>NaN</td>\n",
       "      <td>NaN</td>\n",
       "      <td>NaN</td>\n",
       "      <td>1.0</td>\n",
       "    </tr>\n",
       "    <tr>\n",
       "      <th>Terreno industrial</th>\n",
       "      <td>1.0</td>\n",
       "      <td>NaN</td>\n",
       "      <td>NaN</td>\n",
       "      <td>1.0</td>\n",
       "      <td>NaN</td>\n",
       "      <td>NaN</td>\n",
       "      <td>NaN</td>\n",
       "      <td>NaN</td>\n",
       "      <td>1.0</td>\n",
       "      <td>NaN</td>\n",
       "    </tr>\n",
       "    <tr>\n",
       "      <th>Villa</th>\n",
       "      <td>30.0</td>\n",
       "      <td>96.0</td>\n",
       "      <td>134.0</td>\n",
       "      <td>33.0</td>\n",
       "      <td>4.0</td>\n",
       "      <td>3.0</td>\n",
       "      <td>NaN</td>\n",
       "      <td>3.0</td>\n",
       "      <td>NaN</td>\n",
       "      <td>NaN</td>\n",
       "    </tr>\n",
       "  </tbody>\n",
       "</table>\n",
       "</div>"
      ],
      "text/plain": [
       "                                    0                                     \\\n",
       "habitaciones                       1        2        3        4       5    \n",
       "tipodepropiedad                                                            \n",
       "Apartamento                    2841.0  30040.0  22566.0    780.0    64.0   \n",
       "Bodega comercial                 47.0     42.0     30.0     18.0    10.0   \n",
       "Casa                           1549.0  23789.0  84651.0  21714.0  4179.0   \n",
       "Casa en condominio              186.0   3004.0  13608.0   2095.0   143.0   \n",
       "Casa uso de suelo                12.0     53.0    150.0    133.0    48.0   \n",
       "Departamento Compartido           8.0     61.0     62.0      2.0     NaN   \n",
       "Duplex                            8.0    194.0    109.0     13.0     9.0   \n",
       "Edificio                         11.0     35.0     36.0     21.0    22.0   \n",
       "Hospedaje                         NaN      NaN      NaN      NaN     NaN   \n",
       "Huerta                            NaN      5.0      1.0      1.0     NaN   \n",
       "Inmuebles productivos urbanos     8.0     10.0     17.0     13.0     6.0   \n",
       "Local Comercial                 103.0     86.0     69.0     50.0    22.0   \n",
       "Local en centro comercial        12.0      8.0      NaN      NaN     2.0   \n",
       "Nave industrial                   1.0      5.0      3.0      3.0     1.0   \n",
       "Oficina comercial                56.0     39.0     66.0     53.0    35.0   \n",
       "Otros                             6.0     31.0     30.0      2.0     NaN   \n",
       "Quinta Vacacional                40.0    130.0    121.0     49.0    12.0   \n",
       "Rancho                           22.0     34.0     56.0     15.0     9.0   \n",
       "Terreno                         111.0    127.0    138.0     58.0    23.0   \n",
       "Terreno comercial                17.0     13.0     22.0     11.0     6.0   \n",
       "Terreno industrial                1.0      NaN      NaN      1.0     NaN   \n",
       "Villa                            30.0     96.0    134.0     33.0     4.0   \n",
       "\n",
       "                                                                   \n",
       "habitaciones                       6      7      8      9      10  \n",
       "tipodepropiedad                                                    \n",
       "Apartamento                      23.0    6.0   13.0    9.0    5.0  \n",
       "Bodega comercial                  5.0    1.0    3.0    1.0    NaN  \n",
       "Casa                           1458.0  458.0  298.0  120.0  163.0  \n",
       "Casa en condominio               29.0    5.0    6.0    2.0    4.0  \n",
       "Casa uso de suelo                34.0   24.0   16.0    9.0   23.0  \n",
       "Departamento Compartido           2.0    NaN    NaN    NaN    2.0  \n",
       "Duplex                            6.0    NaN    1.0    NaN    NaN  \n",
       "Edificio                         45.0   18.0   28.0   16.0   71.0  \n",
       "Hospedaje                         NaN    1.0    NaN    NaN    NaN  \n",
       "Huerta                            NaN    NaN    NaN    NaN    NaN  \n",
       "Inmuebles productivos urbanos     4.0    1.0    4.0    6.0   14.0  \n",
       "Local Comercial                  12.0    5.0    7.0    7.0   14.0  \n",
       "Local en centro comercial         NaN    NaN    NaN    NaN    NaN  \n",
       "Nave industrial                   NaN    NaN    NaN    NaN    NaN  \n",
       "Oficina comercial                29.0   13.0   13.0    6.0   14.0  \n",
       "Otros                             NaN    NaN    NaN    NaN    NaN  \n",
       "Quinta Vacacional                 6.0    2.0    1.0    1.0    NaN  \n",
       "Rancho                            3.0    1.0    2.0    NaN    NaN  \n",
       "Terreno                           8.0    4.0    3.0    1.0    5.0  \n",
       "Terreno comercial                 2.0    NaN    NaN    NaN    1.0  \n",
       "Terreno industrial                NaN    NaN    NaN    1.0    NaN  \n",
       "Villa                             3.0    NaN    3.0    NaN    NaN  "
      ]
     },
     "execution_count": 71,
     "metadata": {},
     "output_type": "execute_result"
    }
   ],
   "source": [
    "pd.pivot_table(features.groupby(['tipodepropiedad','habitaciones']).size().to_frame(), index='tipodepropiedad',columns=['habitaciones'])"
   ]
  },
  {
   "cell_type": "code",
   "execution_count": 84,
   "metadata": {},
   "outputs": [
    {
     "name": "stdout",
     "output_type": "stream",
     "text": [
      "Cantidad valores nulos en cada propiedad\n"
     ]
    },
    {
     "data": {
      "text/plain": [
       "<matplotlib.axes._subplots.AxesSubplot at 0x7f3aff9302e8>"
      ]
     },
     "execution_count": 84,
     "metadata": {},
     "output_type": "execute_result"
    },
    {
     "data": {
      "image/png": "[encoded data removed]",
      "text/plain": [
       "<Figure size 500x500 with 1 Axes>"
      ]
     },
     "metadata": {},
     "output_type": "display_data"
    }
   ],
   "source": [
    "print('Cantidad valores nulos en cada propiedad')\n",
    "features.groupby(['tipodepropiedad']).agg({'habitaciones':lambda x: x.isna().sum()}).sort_values(by='habitaciones', ascending=True).plot(kind='barh')"
   ]
  },
  {
   "cell_type": "code",
   "execution_count": 85,
   "metadata": {},
   "outputs": [
    {
     "name": "stdout",
     "output_type": "stream",
     "text": [
      "Porcentaje valores no nulos en cada propiedad\n"
     ]
    },
    {
     "data": {
      "text/plain": [
       "<matplotlib.axes._subplots.AxesSubplot at 0x7f3afdf0dcf8>"
      ]
     },
     "execution_count": 85,
     "metadata": {},
     "output_type": "execute_result"
    },
    {
     "data": {
      "image/png": "[encoded data removed]",
      "text/plain": [
       "<Figure size 500x500 with 1 Axes>"
      ]
     },
     "metadata": {},
     "output_type": "display_data"
    }
   ],
   "source": [
    "print('Porcentaje valores no nulos en cada propiedad')\n",
    "features.groupby(['tipodepropiedad']).agg({'habitaciones':lambda x: x.count() / len(x) * 100}).sort_values(by='habitaciones', ascending=True).plot(kind='barh')"
   ]
  },
  {
   "cell_type": "markdown",
   "metadata": {},
   "source": [
    "Completo solo aquellos datos cuyo porcentaje de datos no nulos sea mayor a 50%"
   ]
  },
  {
   "cell_type": "code",
   "execution_count": 87,
   "metadata": {},
   "outputs": [],
   "source": [
    "habsPorTipo = {\n",
    "    'Duplex' : [2,3],\n",
    "    'Casa en condominio' : [3],\n",
    "    'Apartamento' : [2,3],\n",
    "    'Casa' : [2,3,4],\n",
    "    'Departamento Compartido' : [2,3],\n",
    "    'Quinta Vacacional' : [2,3],\n",
    "    'Villa': [2,3],\n",
    "    'Rancho' : [2,3],\n",
    "    'Casa uso de suelo' : [3,4],\n",
    "    'Otros' : [2,3]\n",
    "}"
   ]
  },
  {
   "cell_type": "code",
   "execution_count": 101,
   "metadata": {},
   "outputs": [],
   "source": [
    "for index, row in features.iterrows():    \n",
    "    if (row.tipodepropiedad in habsPorTipo and pd.isnull(row.habitaciones)):\n",
    "        features.loc[index,'habitaciones'] = random.choice(habsPorTipo.get(row.tipodepropiedad))"
   ]
  },
  {
   "cell_type": "code",
   "execution_count": 102,
   "metadata": {},
   "outputs": [
    {
     "name": "stdout",
     "output_type": "stream",
     "text": [
      "Porcentaje valores no nulos en cada propiedad\n"
     ]
    },
    {
     "data": {
      "text/plain": [
       "<matplotlib.axes._subplots.AxesSubplot at 0x7f3af46bb7f0>"
      ]
     },
     "execution_count": 102,
     "metadata": {},
     "output_type": "execute_result"
    },
    {
     "data": {
      "image/png": "[encoded data removed]",
      "text/plain": [
       "<Figure size 500x500 with 1 Axes>"
      ]
     },
     "metadata": {},
     "output_type": "display_data"
    }
   ],
   "source": [
    "print('Porcentaje valores no nulos en cada propiedad')\n",
    "features.groupby(['tipodepropiedad']).agg({'habitaciones':lambda x: x.count() / len(x) * 100}).sort_values(by='habitaciones', ascending=True).plot(kind='barh')"
   ]
  },
  {
   "cell_type": "markdown",
   "metadata": {},
   "source": [
    "Elimino resto de habitaciones"
   ]
  },
  {
   "cell_type": "code",
   "execution_count": 113,
   "metadata": {},
   "outputs": [
    {
     "name": "stdout",
     "output_type": "stream",
     "text": [
      "Habitaciones con datos nulos:  17530\n"
     ]
    }
   ],
   "source": [
    "print('Habitaciones con datos nulos: ', features.habitaciones.isna().sum())"
   ]
  },
  {
   "cell_type": "code",
   "execution_count": 114,
   "metadata": {},
   "outputs": [
    {
     "name": "stdout",
     "output_type": "stream",
     "text": [
      "<class 'pandas.core.frame.DataFrame'>\n"
     ]
    },
    {
     "data": {
      "text/plain": [
       "222424"
      ]
     },
     "execution_count": 114,
     "metadata": {},
     "output_type": "execute_result"
    }
   ],
   "source": [
    "features = features.dropna(subset=['habitaciones'])\n",
    "\n",
    "print(type(features))\n",
    "len(features)"
   ]
  },
  {
   "cell_type": "markdown",
   "metadata": {},
   "source": [
    "### Set Test"
   ]
  },
  {
   "cell_type": "code",
   "execution_count": 117,
   "metadata": {},
   "outputs": [
    {
     "name": "stdout",
     "output_type": "stream",
     "text": [
      "Habitaciones con datos nulos:  5628\n"
     ]
    },
    {
     "data": {
      "text/html": [
       "<div>\n",
       "<style scoped>\n",
       "    .dataframe tbody tr th:only-of-type {\n",
       "        vertical-align: middle;\n",
       "    }\n",
       "\n",
       "    .dataframe tbody tr th {\n",
       "        vertical-align: top;\n",
       "    }\n",
       "\n",
       "    .dataframe thead tr th {\n",
       "        text-align: left;\n",
       "    }\n",
       "\n",
       "    .dataframe thead tr:last-of-type th {\n",
       "        text-align: right;\n",
       "    }\n",
       "</style>\n",
       "<table border=\"1\" class=\"dataframe\">\n",
       "  <thead>\n",
       "    <tr>\n",
       "      <th></th>\n",
       "      <th colspan=\"10\" halign=\"left\">0</th>\n",
       "    </tr>\n",
       "    <tr>\n",
       "      <th>habitaciones</th>\n",
       "      <th>1</th>\n",
       "      <th>2</th>\n",
       "      <th>3</th>\n",
       "      <th>4</th>\n",
       "      <th>5</th>\n",
       "      <th>6</th>\n",
       "      <th>7</th>\n",
       "      <th>8</th>\n",
       "      <th>9</th>\n",
       "      <th>10</th>\n",
       "    </tr>\n",
       "    <tr>\n",
       "      <th>tipodepropiedad</th>\n",
       "      <th></th>\n",
       "      <th></th>\n",
       "      <th></th>\n",
       "      <th></th>\n",
       "      <th></th>\n",
       "      <th></th>\n",
       "      <th></th>\n",
       "      <th></th>\n",
       "      <th></th>\n",
       "      <th></th>\n",
       "    </tr>\n",
       "  </thead>\n",
       "  <tbody>\n",
       "    <tr>\n",
       "      <th>Apartamento</th>\n",
       "      <td>741.0</td>\n",
       "      <td>7420.0</td>\n",
       "      <td>5600.0</td>\n",
       "      <td>181.0</td>\n",
       "      <td>18.0</td>\n",
       "      <td>9.0</td>\n",
       "      <td>2.0</td>\n",
       "      <td>1.0</td>\n",
       "      <td>1.0</td>\n",
       "      <td>3.0</td>\n",
       "    </tr>\n",
       "    <tr>\n",
       "      <th>Bodega comercial</th>\n",
       "      <td>11.0</td>\n",
       "      <td>12.0</td>\n",
       "      <td>6.0</td>\n",
       "      <td>9.0</td>\n",
       "      <td>2.0</td>\n",
       "      <td>2.0</td>\n",
       "      <td>1.0</td>\n",
       "      <td>1.0</td>\n",
       "      <td>NaN</td>\n",
       "      <td>2.0</td>\n",
       "    </tr>\n",
       "    <tr>\n",
       "      <th>Casa</th>\n",
       "      <td>374.0</td>\n",
       "      <td>5911.0</td>\n",
       "      <td>21173.0</td>\n",
       "      <td>5429.0</td>\n",
       "      <td>1042.0</td>\n",
       "      <td>372.0</td>\n",
       "      <td>108.0</td>\n",
       "      <td>78.0</td>\n",
       "      <td>33.0</td>\n",
       "      <td>41.0</td>\n",
       "    </tr>\n",
       "    <tr>\n",
       "      <th>Casa en condominio</th>\n",
       "      <td>35.0</td>\n",
       "      <td>778.0</td>\n",
       "      <td>3438.0</td>\n",
       "      <td>549.0</td>\n",
       "      <td>48.0</td>\n",
       "      <td>8.0</td>\n",
       "      <td>3.0</td>\n",
       "      <td>1.0</td>\n",
       "      <td>NaN</td>\n",
       "      <td>1.0</td>\n",
       "    </tr>\n",
       "    <tr>\n",
       "      <th>Casa uso de suelo</th>\n",
       "      <td>5.0</td>\n",
       "      <td>24.0</td>\n",
       "      <td>44.0</td>\n",
       "      <td>26.0</td>\n",
       "      <td>17.0</td>\n",
       "      <td>14.0</td>\n",
       "      <td>8.0</td>\n",
       "      <td>4.0</td>\n",
       "      <td>4.0</td>\n",
       "      <td>5.0</td>\n",
       "    </tr>\n",
       "    <tr>\n",
       "      <th>Departamento Compartido</th>\n",
       "      <td>3.0</td>\n",
       "      <td>20.0</td>\n",
       "      <td>15.0</td>\n",
       "      <td>NaN</td>\n",
       "      <td>NaN</td>\n",
       "      <td>NaN</td>\n",
       "      <td>NaN</td>\n",
       "      <td>NaN</td>\n",
       "      <td>NaN</td>\n",
       "      <td>NaN</td>\n",
       "    </tr>\n",
       "    <tr>\n",
       "      <th>Duplex</th>\n",
       "      <td>1.0</td>\n",
       "      <td>53.0</td>\n",
       "      <td>21.0</td>\n",
       "      <td>2.0</td>\n",
       "      <td>1.0</td>\n",
       "      <td>1.0</td>\n",
       "      <td>NaN</td>\n",
       "      <td>NaN</td>\n",
       "      <td>NaN</td>\n",
       "      <td>NaN</td>\n",
       "    </tr>\n",
       "    <tr>\n",
       "      <th>Edificio</th>\n",
       "      <td>4.0</td>\n",
       "      <td>12.0</td>\n",
       "      <td>13.0</td>\n",
       "      <td>8.0</td>\n",
       "      <td>3.0</td>\n",
       "      <td>4.0</td>\n",
       "      <td>6.0</td>\n",
       "      <td>3.0</td>\n",
       "      <td>2.0</td>\n",
       "      <td>23.0</td>\n",
       "    </tr>\n",
       "    <tr>\n",
       "      <th>Huerta</th>\n",
       "      <td>NaN</td>\n",
       "      <td>1.0</td>\n",
       "      <td>1.0</td>\n",
       "      <td>NaN</td>\n",
       "      <td>NaN</td>\n",
       "      <td>NaN</td>\n",
       "      <td>NaN</td>\n",
       "      <td>NaN</td>\n",
       "      <td>NaN</td>\n",
       "      <td>NaN</td>\n",
       "    </tr>\n",
       "    <tr>\n",
       "      <th>Inmuebles productivos urbanos</th>\n",
       "      <td>2.0</td>\n",
       "      <td>3.0</td>\n",
       "      <td>4.0</td>\n",
       "      <td>1.0</td>\n",
       "      <td>1.0</td>\n",
       "      <td>3.0</td>\n",
       "      <td>1.0</td>\n",
       "      <td>2.0</td>\n",
       "      <td>NaN</td>\n",
       "      <td>8.0</td>\n",
       "    </tr>\n",
       "    <tr>\n",
       "      <th>Local Comercial</th>\n",
       "      <td>25.0</td>\n",
       "      <td>33.0</td>\n",
       "      <td>22.0</td>\n",
       "      <td>7.0</td>\n",
       "      <td>8.0</td>\n",
       "      <td>5.0</td>\n",
       "      <td>NaN</td>\n",
       "      <td>1.0</td>\n",
       "      <td>NaN</td>\n",
       "      <td>6.0</td>\n",
       "    </tr>\n",
       "    <tr>\n",
       "      <th>Local en centro comercial</th>\n",
       "      <td>NaN</td>\n",
       "      <td>NaN</td>\n",
       "      <td>NaN</td>\n",
       "      <td>1.0</td>\n",
       "      <td>1.0</td>\n",
       "      <td>NaN</td>\n",
       "      <td>NaN</td>\n",
       "      <td>NaN</td>\n",
       "      <td>NaN</td>\n",
       "      <td>NaN</td>\n",
       "    </tr>\n",
       "    <tr>\n",
       "      <th>Nave industrial</th>\n",
       "      <td>NaN</td>\n",
       "      <td>3.0</td>\n",
       "      <td>1.0</td>\n",
       "      <td>NaN</td>\n",
       "      <td>NaN</td>\n",
       "      <td>NaN</td>\n",
       "      <td>NaN</td>\n",
       "      <td>NaN</td>\n",
       "      <td>NaN</td>\n",
       "      <td>NaN</td>\n",
       "    </tr>\n",
       "    <tr>\n",
       "      <th>Oficina comercial</th>\n",
       "      <td>9.0</td>\n",
       "      <td>21.0</td>\n",
       "      <td>18.0</td>\n",
       "      <td>10.0</td>\n",
       "      <td>11.0</td>\n",
       "      <td>7.0</td>\n",
       "      <td>4.0</td>\n",
       "      <td>4.0</td>\n",
       "      <td>1.0</td>\n",
       "      <td>4.0</td>\n",
       "    </tr>\n",
       "    <tr>\n",
       "      <th>Otros</th>\n",
       "      <td>2.0</td>\n",
       "      <td>8.0</td>\n",
       "      <td>5.0</td>\n",
       "      <td>1.0</td>\n",
       "      <td>NaN</td>\n",
       "      <td>NaN</td>\n",
       "      <td>NaN</td>\n",
       "      <td>NaN</td>\n",
       "      <td>NaN</td>\n",
       "      <td>NaN</td>\n",
       "    </tr>\n",
       "    <tr>\n",
       "      <th>Quinta Vacacional</th>\n",
       "      <td>5.0</td>\n",
       "      <td>24.0</td>\n",
       "      <td>38.0</td>\n",
       "      <td>14.0</td>\n",
       "      <td>4.0</td>\n",
       "      <td>2.0</td>\n",
       "      <td>NaN</td>\n",
       "      <td>1.0</td>\n",
       "      <td>2.0</td>\n",
       "      <td>1.0</td>\n",
       "    </tr>\n",
       "    <tr>\n",
       "      <th>Rancho</th>\n",
       "      <td>5.0</td>\n",
       "      <td>6.0</td>\n",
       "      <td>9.0</td>\n",
       "      <td>3.0</td>\n",
       "      <td>NaN</td>\n",
       "      <td>1.0</td>\n",
       "      <td>1.0</td>\n",
       "      <td>NaN</td>\n",
       "      <td>NaN</td>\n",
       "      <td>NaN</td>\n",
       "    </tr>\n",
       "    <tr>\n",
       "      <th>Terreno</th>\n",
       "      <td>21.0</td>\n",
       "      <td>30.0</td>\n",
       "      <td>43.0</td>\n",
       "      <td>10.0</td>\n",
       "      <td>5.0</td>\n",
       "      <td>4.0</td>\n",
       "      <td>2.0</td>\n",
       "      <td>2.0</td>\n",
       "      <td>NaN</td>\n",
       "      <td>1.0</td>\n",
       "    </tr>\n",
       "    <tr>\n",
       "      <th>Terreno comercial</th>\n",
       "      <td>NaN</td>\n",
       "      <td>2.0</td>\n",
       "      <td>3.0</td>\n",
       "      <td>1.0</td>\n",
       "      <td>NaN</td>\n",
       "      <td>NaN</td>\n",
       "      <td>NaN</td>\n",
       "      <td>1.0</td>\n",
       "      <td>NaN</td>\n",
       "      <td>NaN</td>\n",
       "    </tr>\n",
       "    <tr>\n",
       "      <th>Villa</th>\n",
       "      <td>10.0</td>\n",
       "      <td>26.0</td>\n",
       "      <td>43.0</td>\n",
       "      <td>8.0</td>\n",
       "      <td>3.0</td>\n",
       "      <td>2.0</td>\n",
       "      <td>NaN</td>\n",
       "      <td>NaN</td>\n",
       "      <td>NaN</td>\n",
       "      <td>NaN</td>\n",
       "    </tr>\n",
       "  </tbody>\n",
       "</table>\n",
       "</div>"
      ],
      "text/plain": [
       "                                   0                                          \\\n",
       "habitaciones                      1       2        3       4       5      6    \n",
       "tipodepropiedad                                                                \n",
       "Apartamento                    741.0  7420.0   5600.0   181.0    18.0    9.0   \n",
       "Bodega comercial                11.0    12.0      6.0     9.0     2.0    2.0   \n",
       "Casa                           374.0  5911.0  21173.0  5429.0  1042.0  372.0   \n",
       "Casa en condominio              35.0   778.0   3438.0   549.0    48.0    8.0   \n",
       "Casa uso de suelo                5.0    24.0     44.0    26.0    17.0   14.0   \n",
       "Departamento Compartido          3.0    20.0     15.0     NaN     NaN    NaN   \n",
       "Duplex                           1.0    53.0     21.0     2.0     1.0    1.0   \n",
       "Edificio                         4.0    12.0     13.0     8.0     3.0    4.0   \n",
       "Huerta                           NaN     1.0      1.0     NaN     NaN    NaN   \n",
       "Inmuebles productivos urbanos    2.0     3.0      4.0     1.0     1.0    3.0   \n",
       "Local Comercial                 25.0    33.0     22.0     7.0     8.0    5.0   \n",
       "Local en centro comercial        NaN     NaN      NaN     1.0     1.0    NaN   \n",
       "Nave industrial                  NaN     3.0      1.0     NaN     NaN    NaN   \n",
       "Oficina comercial                9.0    21.0     18.0    10.0    11.0    7.0   \n",
       "Otros                            2.0     8.0      5.0     1.0     NaN    NaN   \n",
       "Quinta Vacacional                5.0    24.0     38.0    14.0     4.0    2.0   \n",
       "Rancho                           5.0     6.0      9.0     3.0     NaN    1.0   \n",
       "Terreno                         21.0    30.0     43.0    10.0     5.0    4.0   \n",
       "Terreno comercial                NaN     2.0      3.0     1.0     NaN    NaN   \n",
       "Villa                           10.0    26.0     43.0     8.0     3.0    2.0   \n",
       "\n",
       "                                                        \n",
       "habitaciones                      7     8     9     10  \n",
       "tipodepropiedad                                         \n",
       "Apartamento                      2.0   1.0   1.0   3.0  \n",
       "Bodega comercial                 1.0   1.0   NaN   2.0  \n",
       "Casa                           108.0  78.0  33.0  41.0  \n",
       "Casa en condominio               3.0   1.0   NaN   1.0  \n",
       "Casa uso de suelo                8.0   4.0   4.0   5.0  \n",
       "Departamento Compartido          NaN   NaN   NaN   NaN  \n",
       "Duplex                           NaN   NaN   NaN   NaN  \n",
       "Edificio                         6.0   3.0   2.0  23.0  \n",
       "Huerta                           NaN   NaN   NaN   NaN  \n",
       "Inmuebles productivos urbanos    1.0   2.0   NaN   8.0  \n",
       "Local Comercial                  NaN   1.0   NaN   6.0  \n",
       "Local en centro comercial        NaN   NaN   NaN   NaN  \n",
       "Nave industrial                  NaN   NaN   NaN   NaN  \n",
       "Oficina comercial                4.0   4.0   1.0   4.0  \n",
       "Otros                            NaN   NaN   NaN   NaN  \n",
       "Quinta Vacacional                NaN   1.0   2.0   1.0  \n",
       "Rancho                           1.0   NaN   NaN   NaN  \n",
       "Terreno                          2.0   2.0   NaN   1.0  \n",
       "Terreno comercial                NaN   1.0   NaN   NaN  \n",
       "Villa                            NaN   NaN   NaN   NaN  "
      ]
     },
     "execution_count": 117,
     "metadata": {},
     "output_type": "execute_result"
    }
   ],
   "source": [
    "print('Habitaciones con datos nulos: ', df_test.habitaciones.isna().sum())\n",
    "pd.pivot_table(df_test.groupby(['tipodepropiedad','habitaciones']).size().to_frame(), index='tipodepropiedad',columns=['habitaciones'])"
   ]
  },
  {
   "cell_type": "code",
   "execution_count": 118,
   "metadata": {},
   "outputs": [
    {
     "name": "stdout",
     "output_type": "stream",
     "text": [
      "Cantidad valores nulos en cada propiedad\n"
     ]
    },
    {
     "data": {
      "text/plain": [
       "<matplotlib.axes._subplots.AxesSubplot at 0x7f3aeaff2be0>"
      ]
     },
     "execution_count": 118,
     "metadata": {},
     "output_type": "execute_result"
    },
    {
     "data": {
      "image/png": "[encoded data removed]",
      "text/plain": [
       "<Figure size 500x500 with 1 Axes>"
      ]
     },
     "metadata": {},
     "output_type": "display_data"
    }
   ],
   "source": [
    "print('Cantidad valores nulos en cada propiedad')\n",
    "df_test.groupby(['tipodepropiedad']).agg({'habitaciones':lambda x: x.isna().sum()}).sort_values(by='habitaciones', ascending=True).plot(kind='barh')"
   ]
  },
  {
   "cell_type": "code",
   "execution_count": 119,
   "metadata": {},
   "outputs": [
    {
     "name": "stdout",
     "output_type": "stream",
     "text": [
      "Porcentaje valores no nulos en cada propiedad\n"
     ]
    },
    {
     "data": {
      "text/plain": [
       "<matplotlib.axes._subplots.AxesSubplot at 0x7f3adfb98da0>"
      ]
     },
     "execution_count": 119,
     "metadata": {},
     "output_type": "execute_result"
    },
    {
     "data": {
      "image/png": "[encoded data removed]",
      "text/plain": [
       "<Figure size 500x500 with 1 Axes>"
      ]
     },
     "metadata": {},
     "output_type": "display_data"
    }
   ],
   "source": [
    "print('Porcentaje valores no nulos en cada propiedad')\n",
    "df_test.groupby(['tipodepropiedad']).agg({'habitaciones':lambda x: x.count() / len(x) * 100}).sort_values(by='habitaciones', ascending=True).plot(kind='barh')"
   ]
  },
  {
   "cell_type": "markdown",
   "metadata": {},
   "source": [
    "# Baños"
   ]
  },
  {
   "cell_type": "markdown",
   "metadata": {},
   "source": [
    "Basado en información obtenida del TP1 elimino baños con valores nulos"
   ]
  },
  {
   "cell_type": "code",
   "execution_count": null,
   "metadata": {},
   "outputs": [],
   "source": [
    "df_props_full.banos.isna().value_counts()"
   ]
  },
  {
   "cell_type": "code",
   "execution_count": null,
   "metadata": {},
   "outputs": [],
   "source": [
    "features.banos.isna().value_counts()"
   ]
  },
  {
   "cell_type": "code",
   "execution_count": null,
   "metadata": {},
   "outputs": [],
   "source": [
    "features.banos.value_counts()"
   ]
  },
  {
   "cell_type": "code",
   "execution_count": null,
   "metadata": {},
   "outputs": [],
   "source": [
    "pd.pivot_table(df_props_full.groupby(['tipodepropiedad','banos']).size().to_frame(), index='tipodepropiedad',columns=['banos'])"
   ]
  },
  {
   "cell_type": "code",
   "execution_count": null,
   "metadata": {},
   "outputs": [],
   "source": [
    "features = features.dropna(subset=['banos'])\n",
    "\n",
    "print(type(features))\n",
    "len(features)"
   ]
  },
  {
   "cell_type": "markdown",
   "metadata": {},
   "source": [
    "# Garages"
   ]
  },
  {
   "cell_type": "code",
   "execution_count": null,
   "metadata": {},
   "outputs": [],
   "source": [
    "df_props_full.garages.isna().value_counts()"
   ]
  },
  {
   "cell_type": "code",
   "execution_count": null,
   "metadata": {},
   "outputs": [],
   "source": [
    "features.garages.isna().value_counts()"
   ]
  },
  {
   "cell_type": "code",
   "execution_count": null,
   "metadata": {},
   "outputs": [],
   "source": [
    "features.garages.value_counts()"
   ]
  },
  {
   "cell_type": "code",
   "execution_count": null,
   "metadata": {},
   "outputs": [],
   "source": [
    "pd.pivot_table(df_props_full.groupby(['tipodepropiedad','garages']).size().to_frame(), index='tipodepropiedad',columns=['garages'])"
   ]
  },
  {
   "cell_type": "code",
   "execution_count": null,
   "metadata": {},
   "outputs": [],
   "source": [
    "pd.pivot_table(df_props_full.groupby(['tipodepropiedad','garages']).size().to_frame(), index='tipodepropiedad',columns=['garages'])"
   ]
  },
  {
   "cell_type": "markdown",
   "metadata": {},
   "source": [
    "Basado en informacion del TP1 completo con 0 aquellas propiedades que muestren una tendencia a este valor y elimino el resto"
   ]
  },
  {
   "cell_type": "code",
   "execution_count": null,
   "metadata": {},
   "outputs": [],
   "source": [
    "aCompletar = ['Edificio','Bodega comercial','Terreno comercial','Local comercial','Terreno','Rancho','Inmuebles productivos urbanos','Nave industrial','Local en centro comercial']\n",
    "features.loc[(features.tipodepropiedad.isin(aCompletar)), 'garages'] = features.loc[(features.tipodepropiedad.isin(aCompletar)), 'garages'].fillna(0)\n",
    "df_test.loc[(df_test.tipodepropiedad.isin(aCompletar)), 'garages'] = df_test.loc[(df_test.tipodepropiedad.isin(aCompletar)), 'garages'].fillna(0)\n",
    "\n",
    "\n",
    "len(features)"
   ]
  },
  {
   "cell_type": "code",
   "execution_count": null,
   "metadata": {},
   "outputs": [],
   "source": [
    "features.loc[(features['tipodepropiedad']=='Casa'),:].garages.isna().value_counts()"
   ]
  },
  {
   "cell_type": "code",
   "execution_count": null,
   "metadata": {},
   "outputs": [],
   "source": [
    "features.loc[(features['tipodepropiedad']=='Casa en condominio'),:].garages.isna().value_counts()"
   ]
  },
  {
   "cell_type": "code",
   "execution_count": null,
   "metadata": {},
   "outputs": [],
   "source": [
    "features.loc[(features['tipodepropiedad']=='Villa'),:].garages.isna().value_counts()"
   ]
  },
  {
   "cell_type": "markdown",
   "metadata": {},
   "source": [
    "Completo estas tres propiedades con valor 2 que tiene mayor cantidad de publicaciones"
   ]
  },
  {
   "cell_type": "code",
   "execution_count": null,
   "metadata": {},
   "outputs": [],
   "source": [
    "aCompletar2 = ['Casa', 'Casa en condominio', 'Villa']\n",
    "features.loc[(features.tipodepropiedad.isin(aCompletar2)), 'garages'] = features.loc[(features.tipodepropiedad.isin(aCompletar2)), 'garages'].fillna(2)\n",
    "df_test.loc[(df_test.tipodepropiedad.isin(aCompletar2)), 'garages'] = df_test.loc[(df_test.tipodepropiedad.isin(aCompletar2)), 'garages'].fillna(2)\n",
    "\n",
    "len(features)"
   ]
  },
  {
   "cell_type": "code",
   "execution_count": null,
   "metadata": {},
   "outputs": [],
   "source": [
    "features.garages.isna().value_counts()"
   ]
  },
  {
   "cell_type": "code",
   "execution_count": null,
   "metadata": {},
   "outputs": [],
   "source": [
    "features = features.dropna(subset=['garages'])\n",
    "\n",
    "len(features)"
   ]
  },
  {
   "cell_type": "markdown",
   "metadata": {},
   "source": [
    "# Antiguedad"
   ]
  },
  {
   "cell_type": "code",
   "execution_count": null,
   "metadata": {},
   "outputs": [],
   "source": [
    "features.antiguedad.isna().value_counts()"
   ]
  },
  {
   "cell_type": "code",
   "execution_count": null,
   "metadata": {},
   "outputs": [],
   "source": [
    "# Calculo diferencia promedio entre metrostotales y metroscubiertos por cada tipo de propiedad\n",
    "meanAgeByType = features.groupby('tipodepropiedad').agg({'age':'mode'}).T\n",
    "# meanAgeByType = meanAgeByType.fillna(0).T # Completo NaN con 0 ya que no hay datos para calcular diferencia\n",
    "# meanAgeByType = meanAgeByType.round(0).astype(np.uint16)\n",
    "meanAgeByType"
   ]
  },
  {
   "cell_type": "code",
   "execution_count": null,
   "metadata": {},
   "outputs": [],
   "source": [
    "features['antiguedad'] = imp.fit_transform(features[['antiguedad']])\n",
    "\n",
    "df_test['antiguedad'] = imp.fit_transform(df_test[['antiguedad']])"
   ]
  },
  {
   "cell_type": "markdown",
   "metadata": {},
   "source": [
    "# Ciudad"
   ]
  },
  {
   "cell_type": "code",
   "execution_count": null,
   "metadata": {},
   "outputs": [],
   "source": [
    "def ciudadesByProvinciaMap(df):\n",
    "    provs_ciudades = {}\n",
    "    for i in range(0,len(df)):\n",
    "        prov = df.loc[i,'provincia']\n",
    "        city = df.loc[i,'ciudad']\n",
    "        if ((not pd.isna(prov)) and (not pd.isna(city))):\n",
    "            if (not prov in provs_ciudades):\n",
    "                provs_ciudades[prov] = []\n",
    "            if (not city in provs_ciudades[prov]):\n",
    "                provs_ciudades[prov].append(city)\n",
    "    return provs_ciudades"
   ]
  },
  {
   "cell_type": "code",
   "execution_count": null,
   "metadata": {},
   "outputs": [],
   "source": [
    "def provinciaByIdZonaMap(df):\n",
    "    id_prov = {}\n",
    "    for i in range(0,len(df)):\n",
    "        prov = df.loc[i,'provincia']\n",
    "        idzona = df.loc[i,'idzona']\n",
    "        if ((not pd.isna(prov)) and (not pd.isna(idzona))):\n",
    "            if (not idzona in id_prov):\n",
    "                id_prov[idzona] = []\n",
    "            if (not prov in id_prov[idzona]):\n",
    "                id_prov[idzona].append(prov)\n",
    "    return id_prov"
   ]
  },
  {
   "cell_type": "markdown",
   "metadata": {},
   "source": [
    "# Provincia"
   ]
  },
  {
   "cell_type": "markdown",
   "metadata": {},
   "source": [
    "One hot encoding"
   ]
  },
  {
   "cell_type": "code",
   "execution_count": null,
   "metadata": {},
   "outputs": [],
   "source": [
    "Noroeste = ['Baja California Norte', 'Baja California Sur','Chihuahua', 'Durango', 'Sinaloa', 'Sonora']\n",
    "Noreste = ['Coahuila','Nuevo León', 'Tamaulipas']\n",
    "Oeste = ['Colima', 'Jalisco', 'Michoacán', 'Nayarit']\n",
    "Este = ['Hidalgo', 'Puebla', 'Tlaxcala', 'Veracruz']\n",
    "Centronorte = ['Aguascalientes', 'Guanajuato', 'Querétaro', 'San luis Potosí', 'Zacatecas']\n",
    "Centrosur = ['Edo. de México', 'Distrito Federal', 'Morelos']\n",
    "Suroeste = ['Chiapas', 'Guerrero', 'Oaxaca']\n",
    "Sureste = ['Campeche', 'Quintana Roo', 'Tabasco', 'Yucatán']"
   ]
  },
  {
   "cell_type": "code",
   "execution_count": null,
   "metadata": {},
   "outputs": [],
   "source": [
    "def region(provincia):\n",
    "    if(provincia in Noroeste):\n",
    "        return 'Noroeste'\n",
    "    if(provincia in Noreste):\n",
    "        return 'Noreste'\n",
    "    if(provincia in Oeste):\n",
    "        return 'Oeste'\n",
    "    if(provincia in Este):\n",
    "        return 'Este'\n",
    "    if(provincia in Centronorte):\n",
    "        return 'Centronorte'\n",
    "    if(provincia in Centrosur):\n",
    "        return 'Centrosur'\n",
    "    if(provincia in Suroeste):\n",
    "        return 'Suroeste'\n",
    "    return 'Sureste'"
   ]
  },
  {
   "cell_type": "code",
   "execution_count": null,
   "metadata": {},
   "outputs": [],
   "source": [
    "features['region'] = features['provincia'].apply(region)\n",
    "df_test['region'] = df_test['provincia'].apply(region)"
   ]
  },
  {
   "cell_type": "code",
   "execution_count": null,
   "metadata": {},
   "outputs": [],
   "source": [
    "# One-hot regiones\n",
    "features = features.reset_index(drop=True)\n",
    "\n",
    "one_hot = pd.get_dummies(features.region)\n",
    "features = features.drop(['region','provincia'],axis = 1)\n",
    "features = features.merge(one_hot, right_index=True, left_index=True)\n",
    "\n",
    "one_hot_test = pd.get_dummies(df_test.region)\n",
    "df_test = df_test.drop(['region','provincia'],axis = 1)\n",
    "df_test = df_test.merge(one_hot_test, right_index=True, left_index=True)"
   ]
  },
  {
   "cell_type": "raw",
   "metadata": {},
   "source": [
    "# One-hot provincias\n",
    "features = features.reset_index(drop=True)\n",
    "\n",
    "one_hot = pd.get_dummies(features.provincia)\n",
    "features = features.drop('provincia',axis = 1)\n",
    "features = features.merge(one_hot, right_index=True, left_index=True)\n",
    "\n",
    "one_hot_test = pd.get_dummies(df_test.provincia)\n",
    "df_test = df_test.drop('provincia',axis = 1)\n",
    "df_test = df_test.merge(one_hot_test, right_index=True, left_index=True)"
   ]
  },
  {
   "cell_type": "markdown",
   "metadata": {},
   "source": [
    "features = features.reset_index(drop=True)  # Corrijo index con rows eliminadas para que funcione el for"
   ]
  },
  {
   "cell_type": "raw",
   "metadata": {},
   "source": [
    "# Evaluo cuantas publicaciones no tienen ni propiedad ni ciudad ni idzona\n",
    "features.loc[(features.provincia.isna() & features.ciudad.isna() & features.idzona.isna()),:].shape"
   ]
  },
  {
   "cell_type": "raw",
   "metadata": {},
   "source": [
    "# Evaluo cuantas publicaciones (test) no tienen ni propiedad ni ciudad ni idzona\n",
    "df_test.loc[(df_test.provincia.isna() & df_test.ciudad.isna() & df_test.idzona.isna()),:].shape"
   ]
  },
  {
   "cell_type": "raw",
   "metadata": {},
   "source": [
    "features.provincia.isna().value_counts()"
   ]
  },
  {
   "cell_type": "raw",
   "metadata": {},
   "source": [
    "# Descarto todas las publicaciones sin provincia, que son las mismas que no tienen idzona ni ciudad\n",
    "features = features.dropna(subset=['provincia'])\n",
    "features.shape"
   ]
  },
  {
   "cell_type": "raw",
   "metadata": {},
   "source": [
    "df_test.provincia.isna().value_counts()"
   ]
  },
  {
   "cell_type": "raw",
   "metadata": {},
   "source": [
    "provincias_por_idzona = provinciaByIdZonaMap(df_test)\n",
    "ciudades_por_provincia = ciudadesByProvinciaMap(df_test)"
   ]
  },
  {
   "cell_type": "raw",
   "metadata": {},
   "source": [
    "provincia_count = features.provincia.value_counts()\n",
    "test_provincia_count = df_test.provincia.value_counts()"
   ]
  },
  {
   "cell_type": "raw",
   "metadata": {},
   "source": [
    "test_provincia_count"
   ]
  },
  {
   "cell_type": "raw",
   "metadata": {},
   "source": [
    "import random \n",
    "\n",
    "# Completo id zona con valor random de los que tengo datos para luego llenar provincia y ciudad\n",
    "df_test.idzona = df_test.idzona.fillna(random.choice(list(provincias_por_idzona.keys())))"
   ]
  },
  {
   "cell_type": "raw",
   "metadata": {},
   "source": [
    "# Completo valores ausentes de provincia\n",
    "for i in range(0,len(df_test)):\n",
    "    if (pd.isna(df_test.loc[i,'provincia'])):\n",
    "        df_test.loc[i,'provincia'] =  provincias_por_idzona.get(df_test.loc[i,'idzona'])[0]"
   ]
  },
  {
   "cell_type": "raw",
   "metadata": {},
   "source": [
    "# Completo valores ausentes de ciudad (random)\n",
    "for i in range(0,len(df_test)):\n",
    "    if (pd.isna(df_test.loc[i,'ciudad'])):\n",
    "        ciudades = ciudades_por_provincia.get(df_test.loc[i,'provincia'])\n",
    "        df_test.loc[i,'ciudad'] =  ciudades[random.choice(range(1,len(ciudades)))]"
   ]
  },
  {
   "cell_type": "raw",
   "metadata": {},
   "source": [
    "df_test.ciudad.isna().value_counts()"
   ]
  },
  {
   "cell_type": "raw",
   "metadata": {},
   "source": [
    "features.provincia = features.provincia.apply(lambda x: provincia_count[x])\n",
    "df_test.provincia = df_test.provincia.apply(lambda x: test_provincia_count[x])"
   ]
  },
  {
   "cell_type": "markdown",
   "metadata": {},
   "source": [
    "# Tipo de propiedad"
   ]
  },
  {
   "cell_type": "code",
   "execution_count": null,
   "metadata": {},
   "outputs": [],
   "source": [
    "features_tipos = features.tipodepropiedad.value_counts().index\n",
    "print(len(features_tipos))\n",
    "features_tipos.sort_values()"
   ]
  },
  {
   "cell_type": "code",
   "execution_count": null,
   "metadata": {},
   "outputs": [],
   "source": [
    "test_tipos = df_test.tipodepropiedad.value_counts().index\n",
    "print(len(test_tipos))\n",
    "test_tipos.sort_values()"
   ]
  },
  {
   "cell_type": "code",
   "execution_count": null,
   "metadata": {},
   "outputs": [],
   "source": [
    "features = features.reset_index(drop=True)\n",
    "\n",
    "one_hot = pd.get_dummies(features.tipodepropiedad)\n",
    "features = features.drop('tipodepropiedad',axis = 1)\n",
    "features = features.merge(one_hot, right_index=True, left_index=True)\n",
    "\n",
    "one_hot_test = pd.get_dummies(df_test.tipodepropiedad)\n",
    "df_test = df_test.drop('tipodepropiedad',axis = 1)\n",
    "df_test = df_test.merge(one_hot_test, right_index=True, left_index=True)"
   ]
  },
  {
   "cell_type": "code",
   "execution_count": null,
   "metadata": {},
   "outputs": [],
   "source": [
    "print(list(set(features.columns) - set(df_test.columns)))\n",
    "print(list(set(df_test.columns) - set(features.columns)))"
   ]
  },
  {
   "cell_type": "code",
   "execution_count": null,
   "metadata": {},
   "outputs": [],
   "source": [
    "df_test.Lote.value_counts()"
   ]
  },
  {
   "cell_type": "code",
   "execution_count": null,
   "metadata": {},
   "outputs": [],
   "source": [
    "# Elimino columnas que no aparecen en los features (Solo una publicacion con Lote)\n",
    "df_test = df_test.drop('Lote',axis=1)"
   ]
  },
  {
   "cell_type": "markdown",
   "metadata": {},
   "source": [
    "# Fix Test data set"
   ]
  },
  {
   "cell_type": "code",
   "execution_count": null,
   "metadata": {},
   "outputs": [],
   "source": [
    "len(df_test)"
   ]
  },
  {
   "cell_type": "code",
   "execution_count": null,
   "metadata": {},
   "outputs": [],
   "source": [
    "cols_dropped = ['lat', 'lng', 'id', 'idzona']\n",
    "cols_string = ['titulo', 'descripcion','direccion', 'ciudad']\n",
    "df_test.drop(cols_dropped + cols_string, axis=1).count()"
   ]
  },
  {
   "cell_type": "code",
   "execution_count": null,
   "metadata": {},
   "outputs": [],
   "source": [
    "df_test['habitaciones'] = imp.fit_transform(df_test[['habitaciones']])\n",
    "df_test['garages'] = imp.fit_transform(df_test[['garages']])\n",
    "df_test['banos'] = imp.fit_transform(df_test[['banos']])"
   ]
  },
  {
   "cell_type": "code",
   "execution_count": null,
   "metadata": {},
   "outputs": [],
   "source": [
    "cols_dropped = ['lat', 'lng', 'idzona']\n",
    "cols_string = ['titulo', 'descripcion','direccion', 'ciudad']\n",
    "df_test.drop(cols_dropped + cols_string, axis=1).count()"
   ]
  },
  {
   "cell_type": "markdown",
   "metadata": {},
   "source": [
    "# Features a CSV"
   ]
  },
  {
   "cell_type": "code",
   "execution_count": null,
   "metadata": {},
   "outputs": [],
   "source": [
    "cols_dropped = ['lat', 'lng', 'id', 'idzona']\n",
    "cols_string = ['titulo', 'descripcion','direccion', 'ciudad']\n",
    "features = features.drop(cols_dropped + cols_string, axis=1)\n",
    "cols_dropped = ['lat', 'lng', 'idzona']\n",
    "df_test = df_test.drop(cols_dropped + cols_string, axis=1)"
   ]
  },
  {
   "cell_type": "code",
   "execution_count": null,
   "metadata": {},
   "outputs": [],
   "source": [
    "features.to_csv('data/features.csv', index=False)\n",
    "df_test.to_csv('data/testModified.csv', index=False)"
   ]
  }
 ],
 "metadata": {
  "kernelspec": {
   "display_name": "Python 3",
   "language": "python",
   "name": "python3"
  },
  "language_info": {
   "codemirror_mode": {
    "name": "ipython",
    "version": 3
   },
   "file_extension": ".py",
   "mimetype": "text/x-python",
   "name": "python",
   "nbconvert_exporter": "python",
   "pygments_lexer": "ipython3",
   "version": "3.7.3"
  }
 },
 "nbformat": 4,
 "nbformat_minor": 4
}
