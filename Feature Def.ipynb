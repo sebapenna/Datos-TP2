{
 "cells": [
  {
   "cell_type": "code",
   "execution_count": 1,
   "metadata": {},
   "outputs": [],
   "source": [
    "# Importacion de librerias y de visualizacion (matplotlib y seaborn)\n",
    "import pandas as pd\n",
    "import numpy as np\n",
    "import matplotlib.pyplot as plt\n",
    "import seaborn as sns\n",
    "import datetime as dt\n",
    "import random\n",
    "from sklearn.impute import SimpleImputer\n",
    "from sklearn.experimental import enable_iterative_imputer\n",
    "from sklearn.impute import IterativeImputer\n",
    "\n",
    "\n",
    "%matplotlib inline\n",
    "\n",
    "plt.style.use('default') # para graficos matplotlib\n",
    "plt.rcParams['figure.figsize'] = (5, 5)\n",
    "\n",
    "sns.set(style=\"whitegrid\") # grid seaborn\n",
    "\n",
    "# pd.options.display.float_format = '{:20,.0f}'.format # notacion output"
   ]
  },
  {
   "cell_type": "markdown",
   "metadata": {},
   "source": [
    "# Acceso a set de datos"
   ]
  },
  {
   "cell_type": "code",
   "execution_count": 2,
   "metadata": {},
   "outputs": [],
   "source": [
    "path = \"data/\"\n",
    "df_props_full = pd.read_csv(path + \"train.csv\")\n",
    "df_test = pd.read_csv(path + \"test.csv\")"
   ]
  },
  {
   "cell_type": "markdown",
   "metadata": {},
   "source": [
    "# Conversión de tipos"
   ]
  },
  {
   "cell_type": "code",
   "execution_count": 3,
   "metadata": {},
   "outputs": [],
   "source": [
    "df_props_full['fecha'] = pd.to_datetime(df_props_full['fecha'])\n",
    "df_test['fecha'] = pd.to_datetime(df_test['fecha'])"
   ]
  },
  {
   "cell_type": "code",
   "execution_count": 4,
   "metadata": {},
   "outputs": [],
   "source": [
    "# Convierto todos los valores 1/0 a uint8\n",
    "df_props_full['gimnasio'] = df_props_full['gimnasio'].astype('uint8')\n",
    "df_props_full['usosmultiples'] = df_props_full['usosmultiples'].astype('uint8')\n",
    "df_props_full['piscina'] = df_props_full['piscina'].astype('uint8')\n",
    "df_props_full['escuelascercanas'] = df_props_full['escuelascercanas'].astype('uint8')\n",
    "df_props_full['centroscomercialescercanos'] = df_props_full['centroscomercialescercanos'].astype('uint8')\n",
    "\n",
    "df_test['gimnasio'] = df_test['gimnasio'].astype('uint8')\n",
    "df_test['usosmultiples'] = df_test['usosmultiples'].astype('uint8')\n",
    "df_test['piscina'] = df_test['piscina'].astype('uint8')\n",
    "df_test['escuelascercanas'] = df_test['escuelascercanas'].astype('uint8')\n",
    "df_test['centroscomercialescercanos'] = df_test['centroscomercialescercanos'].astype('uint8')"
   ]
  },
  {
   "cell_type": "code",
   "execution_count": 5,
   "metadata": {},
   "outputs": [],
   "source": [
    "# Convierto los representables en uint8. Utilizo el tipo de pandas UInt8Dtype para evitar conflicto con NaN\n",
    "df_props_full['antiguedad'] = df_props_full['antiguedad'].astype(pd.UInt8Dtype())\n",
    "df_props_full['habitaciones'] = df_props_full['habitaciones'].astype(pd.UInt8Dtype())\n",
    "df_props_full['garages'] = df_props_full['garages'].astype(pd.UInt8Dtype())\n",
    "df_props_full['banos'] = df_props_full['banos'].astype(pd.UInt8Dtype())\n",
    "\n",
    "df_test['antiguedad'] = df_test['antiguedad'].astype(pd.UInt8Dtype())\n",
    "df_test['habitaciones'] = df_test['habitaciones'].astype(pd.UInt8Dtype())\n",
    "df_test['garages'] = df_test['garages'].astype(pd.UInt8Dtype())\n",
    "df_test['banos'] = df_test['banos'].astype(pd.UInt8Dtype())"
   ]
  },
  {
   "cell_type": "code",
   "execution_count": 6,
   "metadata": {},
   "outputs": [],
   "source": [
    "# Convierto los representables en uint16. Utilizo el tipo de pandas UInt16Dtype para evitar conflicto con NaN\n",
    "df_props_full['metroscubiertos'] = df_props_full['metroscubiertos'].astype(pd.UInt16Dtype())\n",
    "df_props_full['metrostotales'] = df_props_full['metrostotales'].astype(pd.UInt16Dtype())\n",
    "\n",
    "df_test['metroscubiertos'] = df_test['metroscubiertos'].astype(pd.UInt16Dtype())\n",
    "df_test['metrostotales'] = df_test['metrostotales'].astype(pd.UInt16Dtype())"
   ]
  },
  {
   "cell_type": "code",
   "execution_count": 7,
   "metadata": {},
   "outputs": [],
   "source": [
    "# Convierto los representables en uint32. Utilizo el tipo de pandas UInt32Dtype para evitar conflicto con NaN\n",
    "df_props_full['id'] = df_props_full['id'].astype(pd.UInt32Dtype())\n",
    "df_props_full['idzona'] = df_props_full['idzona'].astype(pd.UInt32Dtype())\n",
    "# df_props_full['Precio_MEX'] = df_props_full['Precio_MEX'].astype(pd.UInt32Dtype())\n",
    "# df_props_full['Precio_USD'] = df_props_full['Precio_USD'].astype(pd.UInt32Dtype())\n",
    "df_props_full['precio'] = df_props_full['precio'].astype('float32')\n",
    "\n",
    "df_test['id'] = df_test['id'].astype(pd.UInt32Dtype())\n",
    "df_test['idzona'] = df_test['idzona'].astype(pd.UInt32Dtype())"
   ]
  },
  {
   "cell_type": "code",
   "execution_count": 8,
   "metadata": {},
   "outputs": [
    {
     "data": {
      "text/plain": [
       "240000"
      ]
     },
     "execution_count": 8,
     "metadata": {},
     "output_type": "execute_result"
    }
   ],
   "source": [
    "features = df_props_full\n",
    "len(features)"
   ]
  },
  {
   "cell_type": "code",
   "execution_count": 9,
   "metadata": {},
   "outputs": [
    {
     "data": {
      "text/html": [
       "<div>\n",
       "<style scoped>\n",
       "    .dataframe tbody tr th:only-of-type {\n",
       "        vertical-align: middle;\n",
       "    }\n",
       "\n",
       "    .dataframe tbody tr th {\n",
       "        vertical-align: top;\n",
       "    }\n",
       "\n",
       "    .dataframe thead th {\n",
       "        text-align: right;\n",
       "    }\n",
       "</style>\n",
       "<table border=\"1\" class=\"dataframe\">\n",
       "  <thead>\n",
       "    <tr style=\"text-align: right;\">\n",
       "      <th></th>\n",
       "      <th>id</th>\n",
       "      <th>antiguedad</th>\n",
       "      <th>habitaciones</th>\n",
       "      <th>garages</th>\n",
       "      <th>banos</th>\n",
       "      <th>metroscubiertos</th>\n",
       "      <th>metrostotales</th>\n",
       "      <th>idzona</th>\n",
       "      <th>lat</th>\n",
       "      <th>lng</th>\n",
       "      <th>gimnasio</th>\n",
       "      <th>usosmultiples</th>\n",
       "      <th>piscina</th>\n",
       "      <th>escuelascercanas</th>\n",
       "      <th>centroscomercialescercanos</th>\n",
       "      <th>precio</th>\n",
       "    </tr>\n",
       "  </thead>\n",
       "  <tbody>\n",
       "    <tr>\n",
       "      <th>id</th>\n",
       "      <td>1.000000</td>\n",
       "      <td>0.002696</td>\n",
       "      <td>-0.002220</td>\n",
       "      <td>-0.001893</td>\n",
       "      <td>-0.001941</td>\n",
       "      <td>0.000280</td>\n",
       "      <td>0.001804</td>\n",
       "      <td>0.003623</td>\n",
       "      <td>-0.000239</td>\n",
       "      <td>0.001511</td>\n",
       "      <td>0.000696</td>\n",
       "      <td>-0.000257</td>\n",
       "      <td>-0.001543</td>\n",
       "      <td>-0.004014</td>\n",
       "      <td>-0.002146</td>\n",
       "      <td>-0.000889</td>\n",
       "    </tr>\n",
       "    <tr>\n",
       "      <th>antiguedad</th>\n",
       "      <td>0.002696</td>\n",
       "      <td>1.000000</td>\n",
       "      <td>0.159373</td>\n",
       "      <td>-0.078656</td>\n",
       "      <td>-0.063351</td>\n",
       "      <td>0.077990</td>\n",
       "      <td>0.044821</td>\n",
       "      <td>0.030616</td>\n",
       "      <td>-0.101883</td>\n",
       "      <td>0.008250</td>\n",
       "      <td>-0.106388</td>\n",
       "      <td>-0.095266</td>\n",
       "      <td>-0.136524</td>\n",
       "      <td>-0.005126</td>\n",
       "      <td>-0.009686</td>\n",
       "      <td>0.073097</td>\n",
       "    </tr>\n",
       "    <tr>\n",
       "      <th>habitaciones</th>\n",
       "      <td>-0.002220</td>\n",
       "      <td>0.159373</td>\n",
       "      <td>1.000000</td>\n",
       "      <td>0.243112</td>\n",
       "      <td>0.489695</td>\n",
       "      <td>0.517499</td>\n",
       "      <td>0.367938</td>\n",
       "      <td>-0.047764</td>\n",
       "      <td>-0.007486</td>\n",
       "      <td>0.007764</td>\n",
       "      <td>-0.030025</td>\n",
       "      <td>-0.005873</td>\n",
       "      <td>-0.012056</td>\n",
       "      <td>0.018928</td>\n",
       "      <td>0.000925</td>\n",
       "      <td>0.251014</td>\n",
       "    </tr>\n",
       "    <tr>\n",
       "      <th>garages</th>\n",
       "      <td>-0.001893</td>\n",
       "      <td>-0.078656</td>\n",
       "      <td>0.243112</td>\n",
       "      <td>1.000000</td>\n",
       "      <td>0.435112</td>\n",
       "      <td>0.379190</td>\n",
       "      <td>0.235931</td>\n",
       "      <td>-0.018294</td>\n",
       "      <td>0.005892</td>\n",
       "      <td>-0.000294</td>\n",
       "      <td>0.122430</td>\n",
       "      <td>0.131324</td>\n",
       "      <td>0.117440</td>\n",
       "      <td>0.084461</td>\n",
       "      <td>0.075237</td>\n",
       "      <td>0.348543</td>\n",
       "    </tr>\n",
       "    <tr>\n",
       "      <th>banos</th>\n",
       "      <td>-0.001941</td>\n",
       "      <td>-0.063351</td>\n",
       "      <td>0.489695</td>\n",
       "      <td>0.435112</td>\n",
       "      <td>1.000000</td>\n",
       "      <td>0.683101</td>\n",
       "      <td>0.543252</td>\n",
       "      <td>-0.002771</td>\n",
       "      <td>-0.054064</td>\n",
       "      <td>0.060019</td>\n",
       "      <td>0.083278</td>\n",
       "      <td>0.097835</td>\n",
       "      <td>0.127115</td>\n",
       "      <td>-0.021811</td>\n",
       "      <td>-0.027297</td>\n",
       "      <td>0.534060</td>\n",
       "    </tr>\n",
       "    <tr>\n",
       "      <th>metroscubiertos</th>\n",
       "      <td>0.000280</td>\n",
       "      <td>0.077990</td>\n",
       "      <td>0.517499</td>\n",
       "      <td>0.379190</td>\n",
       "      <td>0.683101</td>\n",
       "      <td>1.000000</td>\n",
       "      <td>0.734490</td>\n",
       "      <td>-0.047889</td>\n",
       "      <td>-0.018422</td>\n",
       "      <td>0.046043</td>\n",
       "      <td>0.032568</td>\n",
       "      <td>0.045425</td>\n",
       "      <td>0.062742</td>\n",
       "      <td>-0.026743</td>\n",
       "      <td>-0.046432</td>\n",
       "      <td>0.629187</td>\n",
       "    </tr>\n",
       "    <tr>\n",
       "      <th>metrostotales</th>\n",
       "      <td>0.001804</td>\n",
       "      <td>0.044821</td>\n",
       "      <td>0.367938</td>\n",
       "      <td>0.235931</td>\n",
       "      <td>0.543252</td>\n",
       "      <td>0.734490</td>\n",
       "      <td>1.000000</td>\n",
       "      <td>-0.032124</td>\n",
       "      <td>0.014757</td>\n",
       "      <td>0.044079</td>\n",
       "      <td>0.021484</td>\n",
       "      <td>0.023762</td>\n",
       "      <td>0.068299</td>\n",
       "      <td>-0.050645</td>\n",
       "      <td>-0.072560</td>\n",
       "      <td>0.514411</td>\n",
       "    </tr>\n",
       "    <tr>\n",
       "      <th>idzona</th>\n",
       "      <td>0.003623</td>\n",
       "      <td>0.030616</td>\n",
       "      <td>-0.047764</td>\n",
       "      <td>-0.018294</td>\n",
       "      <td>-0.002771</td>\n",
       "      <td>-0.047889</td>\n",
       "      <td>-0.032124</td>\n",
       "      <td>1.000000</td>\n",
       "      <td>-0.057904</td>\n",
       "      <td>0.102763</td>\n",
       "      <td>0.005315</td>\n",
       "      <td>0.001869</td>\n",
       "      <td>0.030414</td>\n",
       "      <td>0.014544</td>\n",
       "      <td>0.030030</td>\n",
       "      <td>0.073644</td>\n",
       "    </tr>\n",
       "    <tr>\n",
       "      <th>lat</th>\n",
       "      <td>-0.000239</td>\n",
       "      <td>-0.101883</td>\n",
       "      <td>-0.007486</td>\n",
       "      <td>0.005892</td>\n",
       "      <td>-0.054064</td>\n",
       "      <td>-0.018422</td>\n",
       "      <td>0.014757</td>\n",
       "      <td>-0.057904</td>\n",
       "      <td>1.000000</td>\n",
       "      <td>-0.481296</td>\n",
       "      <td>-0.039118</td>\n",
       "      <td>-0.062442</td>\n",
       "      <td>-0.061804</td>\n",
       "      <td>-0.066013</td>\n",
       "      <td>-0.083778</td>\n",
       "      <td>-0.157514</td>\n",
       "    </tr>\n",
       "    <tr>\n",
       "      <th>lng</th>\n",
       "      <td>0.001511</td>\n",
       "      <td>0.008250</td>\n",
       "      <td>0.007764</td>\n",
       "      <td>-0.000294</td>\n",
       "      <td>0.060019</td>\n",
       "      <td>0.046043</td>\n",
       "      <td>0.044079</td>\n",
       "      <td>0.102763</td>\n",
       "      <td>-0.481296</td>\n",
       "      <td>1.000000</td>\n",
       "      <td>0.004241</td>\n",
       "      <td>-0.005106</td>\n",
       "      <td>0.024837</td>\n",
       "      <td>-0.038965</td>\n",
       "      <td>-0.047305</td>\n",
       "      <td>0.052578</td>\n",
       "    </tr>\n",
       "    <tr>\n",
       "      <th>gimnasio</th>\n",
       "      <td>0.000696</td>\n",
       "      <td>-0.106388</td>\n",
       "      <td>-0.030025</td>\n",
       "      <td>0.122430</td>\n",
       "      <td>0.083278</td>\n",
       "      <td>0.032568</td>\n",
       "      <td>0.021484</td>\n",
       "      <td>0.005315</td>\n",
       "      <td>-0.039118</td>\n",
       "      <td>0.004241</td>\n",
       "      <td>1.000000</td>\n",
       "      <td>0.415847</td>\n",
       "      <td>0.369195</td>\n",
       "      <td>0.204626</td>\n",
       "      <td>0.143467</td>\n",
       "      <td>0.153898</td>\n",
       "    </tr>\n",
       "    <tr>\n",
       "      <th>usosmultiples</th>\n",
       "      <td>-0.000257</td>\n",
       "      <td>-0.095266</td>\n",
       "      <td>-0.005873</td>\n",
       "      <td>0.131324</td>\n",
       "      <td>0.097835</td>\n",
       "      <td>0.045425</td>\n",
       "      <td>0.023762</td>\n",
       "      <td>0.001869</td>\n",
       "      <td>-0.062442</td>\n",
       "      <td>-0.005106</td>\n",
       "      <td>0.415847</td>\n",
       "      <td>1.000000</td>\n",
       "      <td>0.327780</td>\n",
       "      <td>0.196288</td>\n",
       "      <td>0.232096</td>\n",
       "      <td>0.145407</td>\n",
       "    </tr>\n",
       "    <tr>\n",
       "      <th>piscina</th>\n",
       "      <td>-0.001543</td>\n",
       "      <td>-0.136524</td>\n",
       "      <td>-0.012056</td>\n",
       "      <td>0.117440</td>\n",
       "      <td>0.127115</td>\n",
       "      <td>0.062742</td>\n",
       "      <td>0.068299</td>\n",
       "      <td>0.030414</td>\n",
       "      <td>-0.061804</td>\n",
       "      <td>0.024837</td>\n",
       "      <td>0.369195</td>\n",
       "      <td>0.327780</td>\n",
       "      <td>1.000000</td>\n",
       "      <td>0.174860</td>\n",
       "      <td>0.176657</td>\n",
       "      <td>0.112712</td>\n",
       "    </tr>\n",
       "    <tr>\n",
       "      <th>escuelascercanas</th>\n",
       "      <td>-0.004014</td>\n",
       "      <td>-0.005126</td>\n",
       "      <td>0.018928</td>\n",
       "      <td>0.084461</td>\n",
       "      <td>-0.021811</td>\n",
       "      <td>-0.026743</td>\n",
       "      <td>-0.050645</td>\n",
       "      <td>0.014544</td>\n",
       "      <td>-0.066013</td>\n",
       "      <td>-0.038965</td>\n",
       "      <td>0.204626</td>\n",
       "      <td>0.196288</td>\n",
       "      <td>0.174860</td>\n",
       "      <td>1.000000</td>\n",
       "      <td>0.782512</td>\n",
       "      <td>0.001187</td>\n",
       "    </tr>\n",
       "    <tr>\n",
       "      <th>centroscomercialescercanos</th>\n",
       "      <td>-0.002146</td>\n",
       "      <td>-0.009686</td>\n",
       "      <td>0.000925</td>\n",
       "      <td>0.075237</td>\n",
       "      <td>-0.027297</td>\n",
       "      <td>-0.046432</td>\n",
       "      <td>-0.072560</td>\n",
       "      <td>0.030030</td>\n",
       "      <td>-0.083778</td>\n",
       "      <td>-0.047305</td>\n",
       "      <td>0.143467</td>\n",
       "      <td>0.232096</td>\n",
       "      <td>0.176657</td>\n",
       "      <td>0.782512</td>\n",
       "      <td>1.000000</td>\n",
       "      <td>0.028127</td>\n",
       "    </tr>\n",
       "    <tr>\n",
       "      <th>precio</th>\n",
       "      <td>-0.000889</td>\n",
       "      <td>0.073097</td>\n",
       "      <td>0.251014</td>\n",
       "      <td>0.348543</td>\n",
       "      <td>0.534060</td>\n",
       "      <td>0.629187</td>\n",
       "      <td>0.514411</td>\n",
       "      <td>0.073644</td>\n",
       "      <td>-0.157514</td>\n",
       "      <td>0.052578</td>\n",
       "      <td>0.153898</td>\n",
       "      <td>0.145407</td>\n",
       "      <td>0.112712</td>\n",
       "      <td>0.001187</td>\n",
       "      <td>0.028127</td>\n",
       "      <td>1.000000</td>\n",
       "    </tr>\n",
       "  </tbody>\n",
       "</table>\n",
       "</div>"
      ],
      "text/plain": [
       "                                  id  antiguedad  habitaciones   garages  \\\n",
       "id                          1.000000    0.002696     -0.002220 -0.001893   \n",
       "antiguedad                  0.002696    1.000000      0.159373 -0.078656   \n",
       "habitaciones               -0.002220    0.159373      1.000000  0.243112   \n",
       "garages                    -0.001893   -0.078656      0.243112  1.000000   \n",
       "banos                      -0.001941   -0.063351      0.489695  0.435112   \n",
       "metroscubiertos             0.000280    0.077990      0.517499  0.379190   \n",
       "metrostotales               0.001804    0.044821      0.367938  0.235931   \n",
       "idzona                      0.003623    0.030616     -0.047764 -0.018294   \n",
       "lat                        -0.000239   -0.101883     -0.007486  0.005892   \n",
       "lng                         0.001511    0.008250      0.007764 -0.000294   \n",
       "gimnasio                    0.000696   -0.106388     -0.030025  0.122430   \n",
       "usosmultiples              -0.000257   -0.095266     -0.005873  0.131324   \n",
       "piscina                    -0.001543   -0.136524     -0.012056  0.117440   \n",
       "escuelascercanas           -0.004014   -0.005126      0.018928  0.084461   \n",
       "centroscomercialescercanos -0.002146   -0.009686      0.000925  0.075237   \n",
       "precio                     -0.000889    0.073097      0.251014  0.348543   \n",
       "\n",
       "                               banos  metroscubiertos  metrostotales  \\\n",
       "id                         -0.001941         0.000280       0.001804   \n",
       "antiguedad                 -0.063351         0.077990       0.044821   \n",
       "habitaciones                0.489695         0.517499       0.367938   \n",
       "garages                     0.435112         0.379190       0.235931   \n",
       "banos                       1.000000         0.683101       0.543252   \n",
       "metroscubiertos             0.683101         1.000000       0.734490   \n",
       "metrostotales               0.543252         0.734490       1.000000   \n",
       "idzona                     -0.002771        -0.047889      -0.032124   \n",
       "lat                        -0.054064        -0.018422       0.014757   \n",
       "lng                         0.060019         0.046043       0.044079   \n",
       "gimnasio                    0.083278         0.032568       0.021484   \n",
       "usosmultiples               0.097835         0.045425       0.023762   \n",
       "piscina                     0.127115         0.062742       0.068299   \n",
       "escuelascercanas           -0.021811        -0.026743      -0.050645   \n",
       "centroscomercialescercanos -0.027297        -0.046432      -0.072560   \n",
       "precio                      0.534060         0.629187       0.514411   \n",
       "\n",
       "                              idzona       lat       lng  gimnasio  \\\n",
       "id                          0.003623 -0.000239  0.001511  0.000696   \n",
       "antiguedad                  0.030616 -0.101883  0.008250 -0.106388   \n",
       "habitaciones               -0.047764 -0.007486  0.007764 -0.030025   \n",
       "garages                    -0.018294  0.005892 -0.000294  0.122430   \n",
       "banos                      -0.002771 -0.054064  0.060019  0.083278   \n",
       "metroscubiertos            -0.047889 -0.018422  0.046043  0.032568   \n",
       "metrostotales              -0.032124  0.014757  0.044079  0.021484   \n",
       "idzona                      1.000000 -0.057904  0.102763  0.005315   \n",
       "lat                        -0.057904  1.000000 -0.481296 -0.039118   \n",
       "lng                         0.102763 -0.481296  1.000000  0.004241   \n",
       "gimnasio                    0.005315 -0.039118  0.004241  1.000000   \n",
       "usosmultiples               0.001869 -0.062442 -0.005106  0.415847   \n",
       "piscina                     0.030414 -0.061804  0.024837  0.369195   \n",
       "escuelascercanas            0.014544 -0.066013 -0.038965  0.204626   \n",
       "centroscomercialescercanos  0.030030 -0.083778 -0.047305  0.143467   \n",
       "precio                      0.073644 -0.157514  0.052578  0.153898   \n",
       "\n",
       "                            usosmultiples   piscina  escuelascercanas  \\\n",
       "id                              -0.000257 -0.001543         -0.004014   \n",
       "antiguedad                      -0.095266 -0.136524         -0.005126   \n",
       "habitaciones                    -0.005873 -0.012056          0.018928   \n",
       "garages                          0.131324  0.117440          0.084461   \n",
       "banos                            0.097835  0.127115         -0.021811   \n",
       "metroscubiertos                  0.045425  0.062742         -0.026743   \n",
       "metrostotales                    0.023762  0.068299         -0.050645   \n",
       "idzona                           0.001869  0.030414          0.014544   \n",
       "lat                             -0.062442 -0.061804         -0.066013   \n",
       "lng                             -0.005106  0.024837         -0.038965   \n",
       "gimnasio                         0.415847  0.369195          0.204626   \n",
       "usosmultiples                    1.000000  0.327780          0.196288   \n",
       "piscina                          0.327780  1.000000          0.174860   \n",
       "escuelascercanas                 0.196288  0.174860          1.000000   \n",
       "centroscomercialescercanos       0.232096  0.176657          0.782512   \n",
       "precio                           0.145407  0.112712          0.001187   \n",
       "\n",
       "                            centroscomercialescercanos    precio  \n",
       "id                                           -0.002146 -0.000889  \n",
       "antiguedad                                   -0.009686  0.073097  \n",
       "habitaciones                                  0.000925  0.251014  \n",
       "garages                                       0.075237  0.348543  \n",
       "banos                                        -0.027297  0.534060  \n",
       "metroscubiertos                              -0.046432  0.629187  \n",
       "metrostotales                                -0.072560  0.514411  \n",
       "idzona                                        0.030030  0.073644  \n",
       "lat                                          -0.083778 -0.157514  \n",
       "lng                                          -0.047305  0.052578  \n",
       "gimnasio                                      0.143467  0.153898  \n",
       "usosmultiples                                 0.232096  0.145407  \n",
       "piscina                                       0.176657  0.112712  \n",
       "escuelascercanas                              0.782512  0.001187  \n",
       "centroscomercialescercanos                    1.000000  0.028127  \n",
       "precio                                        0.028127  1.000000  "
      ]
     },
     "execution_count": 9,
     "metadata": {},
     "output_type": "execute_result"
    }
   ],
   "source": [
    "features.corr()"
   ]
  },
  {
   "cell_type": "markdown",
   "metadata": {},
   "source": [
    "# Dropna Tipo de propiedad"
   ]
  },
  {
   "cell_type": "code",
   "execution_count": 10,
   "metadata": {},
   "outputs": [
    {
     "data": {
      "text/plain": [
       "False    239954\n",
       "True         46\n",
       "Name: tipodepropiedad, dtype: int64"
      ]
     },
     "execution_count": 10,
     "metadata": {},
     "output_type": "execute_result"
    }
   ],
   "source": [
    "features.tipodepropiedad.isna().value_counts()"
   ]
  },
  {
   "cell_type": "code",
   "execution_count": 11,
   "metadata": {},
   "outputs": [
    {
     "data": {
      "text/plain": [
       "239954"
      ]
     },
     "execution_count": 11,
     "metadata": {},
     "output_type": "execute_result"
    }
   ],
   "source": [
    "# Drop de datos sin tipo\n",
    "features = features.dropna(subset=['tipodepropiedad'])\n",
    "features = features.reset_index(drop=True)\n",
    "\n",
    "len(features)"
   ]
  },
  {
   "cell_type": "markdown",
   "metadata": {},
   "source": [
    "# Metros"
   ]
  },
  {
   "cell_type": "code",
   "execution_count": 12,
   "metadata": {},
   "outputs": [
    {
     "name": "stdout",
     "output_type": "stream",
     "text": [
      "Metrocubiertos con datos nulos:  17386\n",
      "Metrocubiertos con datos nulos:  51458\n",
      "Publicaciones sin metros cubiertos y totales:  0\n",
      "Publicaciones con metroscubiertos==metrostotales:  37883\n",
      "Publicaciones con metroscubiertos>metrostotales (Error):  70285\n"
     ]
    }
   ],
   "source": [
    "print('Metrocubiertos con datos nulos: ', features.metroscubiertos.isna().sum())\n",
    "print('Metrocubiertos con datos nulos: ', features.metrostotales.isna().sum())\n",
    "print('Publicaciones sin metros cubiertos y totales: ', len(features.loc[(features.metroscubiertos.isna() & features.metrostotales.isna()),:]))\n",
    "print('Publicaciones con metroscubiertos==metrostotales: ', len(features.loc[features.metroscubiertos == features.metrostotales, :]))\n",
    "print('Publicaciones con metroscubiertos>metrostotales (Error): ', len(features.loc[features.metroscubiertos > features.metrostotales, ['metroscubiertos','metrostotales']]))"
   ]
  },
  {
   "cell_type": "markdown",
   "metadata": {},
   "source": [
    "Swapeo columnas metroscubiertos-metrostotales en el caso que la primera es mayor a la segunda"
   ]
  },
  {
   "cell_type": "code",
   "execution_count": 13,
   "metadata": {},
   "outputs": [],
   "source": [
    "cond = features.metroscubiertos > features.metrostotales\n",
    "features.loc[cond, ['metroscubiertos', 'metrostotales']] = features.loc[cond, ['metrostotales', 'metroscubiertos']].values"
   ]
  },
  {
   "cell_type": "code",
   "execution_count": 14,
   "metadata": {},
   "outputs": [
    {
     "name": "stdout",
     "output_type": "stream",
     "text": [
      "Publicaciones con metroscubiertos>metrostotales (Error):  0\n"
     ]
    }
   ],
   "source": [
    "print('Publicaciones con metroscubiertos>metrostotales (Error): ', len(features.loc[features.metroscubiertos > features.metrostotales, ['metroscubiertos','metrostotales']]))"
   ]
  },
  {
   "cell_type": "code",
   "execution_count": 15,
   "metadata": {},
   "outputs": [],
   "source": [
    "features['tot-cub'] = features.metrostotales - features.metroscubiertos"
   ]
  },
  {
   "cell_type": "code",
   "execution_count": 16,
   "metadata": {},
   "outputs": [
    {
     "data": {
      "text/html": [
       "<div>\n",
       "<style scoped>\n",
       "    .dataframe tbody tr th:only-of-type {\n",
       "        vertical-align: middle;\n",
       "    }\n",
       "\n",
       "    .dataframe tbody tr th {\n",
       "        vertical-align: top;\n",
       "    }\n",
       "\n",
       "    .dataframe thead th {\n",
       "        text-align: right;\n",
       "    }\n",
       "</style>\n",
       "<table border=\"1\" class=\"dataframe\">\n",
       "  <thead>\n",
       "    <tr style=\"text-align: right;\">\n",
       "      <th>tipodepropiedad</th>\n",
       "      <th>Apartamento</th>\n",
       "      <th>Bodega comercial</th>\n",
       "      <th>Casa</th>\n",
       "      <th>Casa en condominio</th>\n",
       "      <th>Casa uso de suelo</th>\n",
       "      <th>Departamento Compartido</th>\n",
       "      <th>Duplex</th>\n",
       "      <th>Edificio</th>\n",
       "      <th>Garage</th>\n",
       "      <th>Hospedaje</th>\n",
       "      <th>...</th>\n",
       "      <th>Lote</th>\n",
       "      <th>Nave industrial</th>\n",
       "      <th>Oficina comercial</th>\n",
       "      <th>Otros</th>\n",
       "      <th>Quinta Vacacional</th>\n",
       "      <th>Rancho</th>\n",
       "      <th>Terreno</th>\n",
       "      <th>Terreno comercial</th>\n",
       "      <th>Terreno industrial</th>\n",
       "      <th>Villa</th>\n",
       "    </tr>\n",
       "  </thead>\n",
       "  <tbody>\n",
       "    <tr>\n",
       "      <th>tot-cub</th>\n",
       "      <td>7</td>\n",
       "      <td>58</td>\n",
       "      <td>52</td>\n",
       "      <td>46</td>\n",
       "      <td>83</td>\n",
       "      <td>17</td>\n",
       "      <td>23</td>\n",
       "      <td>121</td>\n",
       "      <td>0</td>\n",
       "      <td>0</td>\n",
       "      <td>...</td>\n",
       "      <td>0</td>\n",
       "      <td>43</td>\n",
       "      <td>34</td>\n",
       "      <td>32</td>\n",
       "      <td>94</td>\n",
       "      <td>20</td>\n",
       "      <td>46</td>\n",
       "      <td>95</td>\n",
       "      <td>124</td>\n",
       "      <td>58</td>\n",
       "    </tr>\n",
       "  </tbody>\n",
       "</table>\n",
       "<p>1 rows × 24 columns</p>\n",
       "</div>"
      ],
      "text/plain": [
       "tipodepropiedad  Apartamento  Bodega comercial  Casa  Casa en condominio  \\\n",
       "tot-cub                    7                58    52                  46   \n",
       "\n",
       "tipodepropiedad  Casa uso de suelo  Departamento Compartido  Duplex  Edificio  \\\n",
       "tot-cub                         83                       17      23       121   \n",
       "\n",
       "tipodepropiedad  Garage  Hospedaje  ...  Lote  Nave industrial  \\\n",
       "tot-cub               0          0  ...     0               43   \n",
       "\n",
       "tipodepropiedad  Oficina comercial  Otros  Quinta Vacacional  Rancho  Terreno  \\\n",
       "tot-cub                         34     32                 94      20       46   \n",
       "\n",
       "tipodepropiedad  Terreno comercial  Terreno industrial  Villa  \n",
       "tot-cub                         95                 124     58  \n",
       "\n",
       "[1 rows x 24 columns]"
      ]
     },
     "execution_count": 16,
     "metadata": {},
     "output_type": "execute_result"
    }
   ],
   "source": [
    "# Calculo diferencia promedio entre metrostotales y metroscubiertos por cada tipo de propiedad\n",
    "meanDifByType = features.groupby('tipodepropiedad').agg({'tot-cub':'mean'}).fillna(0).T.round(0).astype(np.uint16)\n",
    "meanDifByType"
   ]
  },
  {
   "cell_type": "code",
   "execution_count": 17,
   "metadata": {},
   "outputs": [
    {
     "data": {
      "text/html": [
       "<div>\n",
       "<style scoped>\n",
       "    .dataframe tbody tr th:only-of-type {\n",
       "        vertical-align: middle;\n",
       "    }\n",
       "\n",
       "    .dataframe tbody tr th {\n",
       "        vertical-align: top;\n",
       "    }\n",
       "\n",
       "    .dataframe thead th {\n",
       "        text-align: right;\n",
       "    }\n",
       "</style>\n",
       "<table border=\"1\" class=\"dataframe\">\n",
       "  <thead>\n",
       "    <tr style=\"text-align: right;\">\n",
       "      <th>tipodepropiedad</th>\n",
       "      <th>Apartamento</th>\n",
       "      <th>Bodega comercial</th>\n",
       "      <th>Casa</th>\n",
       "      <th>Casa en condominio</th>\n",
       "      <th>Casa uso de suelo</th>\n",
       "      <th>Departamento Compartido</th>\n",
       "      <th>Duplex</th>\n",
       "      <th>Edificio</th>\n",
       "      <th>Garage</th>\n",
       "      <th>Hospedaje</th>\n",
       "      <th>...</th>\n",
       "      <th>Lote</th>\n",
       "      <th>Nave industrial</th>\n",
       "      <th>Oficina comercial</th>\n",
       "      <th>Otros</th>\n",
       "      <th>Quinta Vacacional</th>\n",
       "      <th>Rancho</th>\n",
       "      <th>Terreno</th>\n",
       "      <th>Terreno comercial</th>\n",
       "      <th>Terreno industrial</th>\n",
       "      <th>Villa</th>\n",
       "    </tr>\n",
       "  </thead>\n",
       "  <tbody>\n",
       "    <tr>\n",
       "      <th>tot-cub</th>\n",
       "      <td>0</td>\n",
       "      <td>28</td>\n",
       "      <td>38</td>\n",
       "      <td>31</td>\n",
       "      <td>70</td>\n",
       "      <td>0</td>\n",
       "      <td>8</td>\n",
       "      <td>120</td>\n",
       "      <td>0</td>\n",
       "      <td>0</td>\n",
       "      <td>...</td>\n",
       "      <td>0</td>\n",
       "      <td>3</td>\n",
       "      <td>0</td>\n",
       "      <td>0</td>\n",
       "      <td>66</td>\n",
       "      <td>0</td>\n",
       "      <td>0</td>\n",
       "      <td>72</td>\n",
       "      <td>124</td>\n",
       "      <td>38</td>\n",
       "    </tr>\n",
       "  </tbody>\n",
       "</table>\n",
       "<p>1 rows × 24 columns</p>\n",
       "</div>"
      ],
      "text/plain": [
       "tipodepropiedad  Apartamento  Bodega comercial  Casa  Casa en condominio  \\\n",
       "tot-cub                    0                28    38                  31   \n",
       "\n",
       "tipodepropiedad  Casa uso de suelo  Departamento Compartido  Duplex  Edificio  \\\n",
       "tot-cub                         70                        0       8       120   \n",
       "\n",
       "tipodepropiedad  Garage  Hospedaje  ...  Lote  Nave industrial  \\\n",
       "tot-cub               0          0  ...     0                3   \n",
       "\n",
       "tipodepropiedad  Oficina comercial  Otros  Quinta Vacacional  Rancho  Terreno  \\\n",
       "tot-cub                          0      0                 66       0        0   \n",
       "\n",
       "tipodepropiedad  Terreno comercial  Terreno industrial  Villa  \n",
       "tot-cub                         72                 124     38  \n",
       "\n",
       "[1 rows x 24 columns]"
      ]
     },
     "execution_count": 17,
     "metadata": {},
     "output_type": "execute_result"
    }
   ],
   "source": [
    "# Calculo diferencia media entre metrostotales y metroscubiertos por cada tipo de propiedad\n",
    "medianDifByType = features.groupby('tipodepropiedad').agg({'tot-cub':'median'}).fillna(0).T.round(0).astype(np.uint16)\n",
    "medianDifByType"
   ]
  },
  {
   "cell_type": "code",
   "execution_count": 18,
   "metadata": {},
   "outputs": [],
   "source": [
    "def getMetrosCubiertos(row):\n",
    "    if (np.isnan(row.metroscubiertos)):\n",
    "        return (row.metrostotales - (medianDifByType.loc['tot-cub',row.tipodepropiedad])).astype(np.uint16)\n",
    "    return row.metroscubiertos"
   ]
  },
  {
   "cell_type": "code",
   "execution_count": 19,
   "metadata": {},
   "outputs": [],
   "source": [
    "def getMetrosTotales(row):\n",
    "    if (np.isnan(row.metrostotales)):\n",
    "        return (row.metroscubiertos + medianDifByType.loc['tot-cub',row.tipodepropiedad]).astype(np.uint16)\n",
    "    return row.metrostotales"
   ]
  },
  {
   "cell_type": "code",
   "execution_count": 20,
   "metadata": {},
   "outputs": [],
   "source": [
    "features['metroscubiertos'] = features.apply(lambda row: getMetrosCubiertos(row), axis=1)\n",
    "features['metrostotales'] = features.apply(lambda row: getMetrosTotales(row), axis=1)"
   ]
  },
  {
   "cell_type": "raw",
   "metadata": {},
   "source": [
    "for index, row in features.iterrows():\n",
    "    if (np.isnan(row.metroscubiertos)):\n",
    "        features.loc[index,'metroscubiertos'] = (row.metrostotales - (medianDifByType.loc['tot-cub',row.tipodepropiedad])).astype(np.uint16)\n",
    "    if (np.isnan(row.metrostotales)):\n",
    "        features.loc[index,'metrostotales'] = (row.metroscubiertos + medianDifByType.loc['tot-cub',row.tipodepropiedad]).astype(np.uint16)"
   ]
  },
  {
   "cell_type": "code",
   "execution_count": 21,
   "metadata": {},
   "outputs": [
    {
     "name": "stdout",
     "output_type": "stream",
     "text": [
      "Metrocubiertos con datos nulos:  0\n",
      "Metrostotales con datos nulos:  0\n"
     ]
    }
   ],
   "source": [
    "print('Metrocubiertos con datos nulos: ', features.metroscubiertos.isna().sum())\n",
    "print('Metrostotales con datos nulos: ', features.metrostotales.isna().sum())"
   ]
  },
  {
   "cell_type": "markdown",
   "metadata": {},
   "source": [
    "### Set Test"
   ]
  },
  {
   "cell_type": "code",
   "execution_count": 22,
   "metadata": {},
   "outputs": [
    {
     "name": "stdout",
     "output_type": "stream",
     "text": [
      "Metrocubiertos con datos nulos:  4299\n",
      "Metrocubiertos con datos nulos:  12655\n",
      "Publicaciones sin metros cubiertos y totales:  0\n",
      "Publicaciones con metroscubiertos==metrostotales:  9400\n",
      "Publicaciones con metroscubiertos>metrostotales (Error):  17806\n"
     ]
    }
   ],
   "source": [
    "print('Metrocubiertos con datos nulos: ', df_test.metroscubiertos.isna().sum())\n",
    "print('Metrocubiertos con datos nulos: ', df_test.metrostotales.isna().sum())\n",
    "print('Publicaciones sin metros cubiertos y totales: ', len(df_test.loc[(df_test.metroscubiertos.isna() & df_test.metrostotales.isna()),:]))\n",
    "print('Publicaciones con metroscubiertos==metrostotales: ', len(df_test.loc[df_test.metroscubiertos == df_test.metrostotales, :]))\n",
    "print('Publicaciones con metroscubiertos>metrostotales (Error): ', len(df_test.loc[df_test.metroscubiertos > df_test.metrostotales, ['metroscubiertos','metrostotales']]))"
   ]
  },
  {
   "cell_type": "code",
   "execution_count": 23,
   "metadata": {},
   "outputs": [
    {
     "name": "stdout",
     "output_type": "stream",
     "text": [
      "Publicaciones Test con tipopropiedad nula:  7\n"
     ]
    }
   ],
   "source": [
    "print('Publicaciones Test con tipopropiedad nula: ', df_test.tipodepropiedad.isna().sum())"
   ]
  },
  {
   "cell_type": "code",
   "execution_count": 24,
   "metadata": {},
   "outputs": [],
   "source": [
    "def getMetrosCubiertosTest(row):\n",
    "    if (np.isnan(row.metroscubiertos)):\n",
    "        if (not(pd.isnull(row.tipodepropiedad))):\n",
    "            return (row.metrostotales - (medianDifByTypeTest.loc['tot-cub',row.tipodepropiedad])).astype(np.uint16)\n",
    "        else:\n",
    "            return row.metrostotales\n",
    "    return row.metroscubiertos"
   ]
  },
  {
   "cell_type": "code",
   "execution_count": 25,
   "metadata": {},
   "outputs": [],
   "source": [
    "def getMetrosTotalesTest(row):\n",
    "    if (np.isnan(row.metrostotales)):\n",
    "        if (not(pd.isnull(row.tipodepropiedad))):\n",
    "            return (row.metroscubiertos + medianDifByTypeTest.loc['tot-cub',row.tipodepropiedad]).astype(np.uint16)\n",
    "        else:\n",
    "            return row.metroscubiertos\n",
    "    return row.metrostotales"
   ]
  },
  {
   "cell_type": "code",
   "execution_count": 26,
   "metadata": {},
   "outputs": [
    {
     "name": "stdout",
     "output_type": "stream",
     "text": [
      "Metrocubiertos con datos nulos:  0\n",
      "Metrostotales con datos nulos:  0\n"
     ]
    }
   ],
   "source": [
    "cond = df_test.metroscubiertos > df_test.metrostotales\n",
    "df_test.loc[cond, ['metroscubiertos', 'metrostotales']] = df_test.loc[cond, ['metrostotales', 'metroscubiertos']].values\n",
    "df_test['tot-cub'] = df_test.metrostotales - df_test.metroscubiertos\n",
    "\n",
    "medianDifByTypeTest = df_test.groupby('tipodepropiedad').agg({'tot-cub':'median'}).fillna(0).T.round(0).astype(np.uint16)\n",
    "medianDifByTypeTest\n",
    "\n",
    "df_test['metroscubiertos'] = df_test.apply(lambda row: getMetrosCubiertosTest(row), axis=1)\n",
    "df_test['metrostotales'] = df_test.apply(lambda row: getMetrosTotalesTest(row), axis=1)\n",
    "\n",
    "# for index, row in df_test.iterrows():\n",
    "#     if (np.isnan(row.metroscubiertos)):\n",
    "#         if (not(pd.isnull(row.tipodepropiedad))):\n",
    "#             df_test.loc[index,'metroscubiertos'] = (row.metrostotales - (medianDifByTypeTest.loc['tot-cub',row.tipodepropiedad])).astype(np.uint16)\n",
    "#         else:\n",
    "#             df_test.loc[index,'metroscubiertos'] = row.metrostotales\n",
    "#     if (np.isnan(row.metrostotales)):\n",
    "#         if (not(pd.isnull(row.tipodepropiedad))):\n",
    "#             df_test.loc[index,'metrostotales'] = (row.metroscubiertos + medianDifByTypeTest.loc['tot-cub',row.tipodepropiedad]).astype(np.uint16)\n",
    "#         else:\n",
    "#             df_test.loc[index,'metrostotales'] = row.metroscubiertos\n",
    "        \n",
    "print('Metrocubiertos con datos nulos: ', df_test.metroscubiertos.isna().sum())\n",
    "print('Metrostotales con datos nulos: ', df_test.metrostotales.isna().sum())"
   ]
  },
  {
   "cell_type": "markdown",
   "metadata": {},
   "source": [
    "# Fecha"
   ]
  },
  {
   "cell_type": "code",
   "execution_count": 27,
   "metadata": {},
   "outputs": [],
   "source": [
    "features['anio'] = features.fecha.dt.year\n",
    "features['mes'] = features.fecha.dt.month\n",
    "\n",
    "df_test['anio'] = df_test.fecha.dt.year\n",
    "df_test['mes'] = df_test.fecha.dt.month"
   ]
  },
  {
   "cell_type": "markdown",
   "metadata": {},
   "source": [
    "# Habitaciones"
   ]
  },
  {
   "cell_type": "code",
   "execution_count": 28,
   "metadata": {},
   "outputs": [
    {
     "name": "stdout",
     "output_type": "stream",
     "text": [
      "Habitaciones con datos nulos:  22453\n"
     ]
    }
   ],
   "source": [
    "print('Habitaciones con datos nulos: ', features.habitaciones.isna().sum())"
   ]
  },
  {
   "cell_type": "code",
   "execution_count": 29,
   "metadata": {},
   "outputs": [
    {
     "data": {
      "text/html": [
       "<div>\n",
       "<style scoped>\n",
       "    .dataframe tbody tr th:only-of-type {\n",
       "        vertical-align: middle;\n",
       "    }\n",
       "\n",
       "    .dataframe tbody tr th {\n",
       "        vertical-align: top;\n",
       "    }\n",
       "\n",
       "    .dataframe thead tr th {\n",
       "        text-align: left;\n",
       "    }\n",
       "\n",
       "    .dataframe thead tr:last-of-type th {\n",
       "        text-align: right;\n",
       "    }\n",
       "</style>\n",
       "<table border=\"1\" class=\"dataframe\">\n",
       "  <thead>\n",
       "    <tr>\n",
       "      <th></th>\n",
       "      <th colspan=\"10\" halign=\"left\">0</th>\n",
       "    </tr>\n",
       "    <tr>\n",
       "      <th>habitaciones</th>\n",
       "      <th>1</th>\n",
       "      <th>2</th>\n",
       "      <th>3</th>\n",
       "      <th>4</th>\n",
       "      <th>5</th>\n",
       "      <th>6</th>\n",
       "      <th>7</th>\n",
       "      <th>8</th>\n",
       "      <th>9</th>\n",
       "      <th>10</th>\n",
       "    </tr>\n",
       "    <tr>\n",
       "      <th>tipodepropiedad</th>\n",
       "      <th></th>\n",
       "      <th></th>\n",
       "      <th></th>\n",
       "      <th></th>\n",
       "      <th></th>\n",
       "      <th></th>\n",
       "      <th></th>\n",
       "      <th></th>\n",
       "      <th></th>\n",
       "      <th></th>\n",
       "    </tr>\n",
       "  </thead>\n",
       "  <tbody>\n",
       "    <tr>\n",
       "      <th>Apartamento</th>\n",
       "      <td>2841.0</td>\n",
       "      <td>30040.0</td>\n",
       "      <td>22566.0</td>\n",
       "      <td>780.0</td>\n",
       "      <td>64.0</td>\n",
       "      <td>23.0</td>\n",
       "      <td>6.0</td>\n",
       "      <td>13.0</td>\n",
       "      <td>9.0</td>\n",
       "      <td>5.0</td>\n",
       "    </tr>\n",
       "    <tr>\n",
       "      <th>Bodega comercial</th>\n",
       "      <td>47.0</td>\n",
       "      <td>42.0</td>\n",
       "      <td>30.0</td>\n",
       "      <td>18.0</td>\n",
       "      <td>10.0</td>\n",
       "      <td>5.0</td>\n",
       "      <td>1.0</td>\n",
       "      <td>3.0</td>\n",
       "      <td>1.0</td>\n",
       "      <td>NaN</td>\n",
       "    </tr>\n",
       "    <tr>\n",
       "      <th>Casa</th>\n",
       "      <td>1549.0</td>\n",
       "      <td>23789.0</td>\n",
       "      <td>84651.0</td>\n",
       "      <td>21714.0</td>\n",
       "      <td>4179.0</td>\n",
       "      <td>1458.0</td>\n",
       "      <td>458.0</td>\n",
       "      <td>298.0</td>\n",
       "      <td>120.0</td>\n",
       "      <td>163.0</td>\n",
       "    </tr>\n",
       "    <tr>\n",
       "      <th>Casa en condominio</th>\n",
       "      <td>186.0</td>\n",
       "      <td>3004.0</td>\n",
       "      <td>13608.0</td>\n",
       "      <td>2095.0</td>\n",
       "      <td>143.0</td>\n",
       "      <td>29.0</td>\n",
       "      <td>5.0</td>\n",
       "      <td>6.0</td>\n",
       "      <td>2.0</td>\n",
       "      <td>4.0</td>\n",
       "    </tr>\n",
       "    <tr>\n",
       "      <th>Casa uso de suelo</th>\n",
       "      <td>12.0</td>\n",
       "      <td>53.0</td>\n",
       "      <td>150.0</td>\n",
       "      <td>133.0</td>\n",
       "      <td>48.0</td>\n",
       "      <td>34.0</td>\n",
       "      <td>24.0</td>\n",
       "      <td>16.0</td>\n",
       "      <td>9.0</td>\n",
       "      <td>23.0</td>\n",
       "    </tr>\n",
       "    <tr>\n",
       "      <th>Departamento Compartido</th>\n",
       "      <td>8.0</td>\n",
       "      <td>61.0</td>\n",
       "      <td>62.0</td>\n",
       "      <td>2.0</td>\n",
       "      <td>NaN</td>\n",
       "      <td>2.0</td>\n",
       "      <td>NaN</td>\n",
       "      <td>NaN</td>\n",
       "      <td>NaN</td>\n",
       "      <td>2.0</td>\n",
       "    </tr>\n",
       "    <tr>\n",
       "      <th>Duplex</th>\n",
       "      <td>8.0</td>\n",
       "      <td>194.0</td>\n",
       "      <td>109.0</td>\n",
       "      <td>13.0</td>\n",
       "      <td>9.0</td>\n",
       "      <td>6.0</td>\n",
       "      <td>NaN</td>\n",
       "      <td>1.0</td>\n",
       "      <td>NaN</td>\n",
       "      <td>NaN</td>\n",
       "    </tr>\n",
       "    <tr>\n",
       "      <th>Edificio</th>\n",
       "      <td>11.0</td>\n",
       "      <td>35.0</td>\n",
       "      <td>36.0</td>\n",
       "      <td>21.0</td>\n",
       "      <td>22.0</td>\n",
       "      <td>45.0</td>\n",
       "      <td>18.0</td>\n",
       "      <td>28.0</td>\n",
       "      <td>16.0</td>\n",
       "      <td>71.0</td>\n",
       "    </tr>\n",
       "    <tr>\n",
       "      <th>Hospedaje</th>\n",
       "      <td>NaN</td>\n",
       "      <td>NaN</td>\n",
       "      <td>NaN</td>\n",
       "      <td>NaN</td>\n",
       "      <td>NaN</td>\n",
       "      <td>NaN</td>\n",
       "      <td>1.0</td>\n",
       "      <td>NaN</td>\n",
       "      <td>NaN</td>\n",
       "      <td>NaN</td>\n",
       "    </tr>\n",
       "    <tr>\n",
       "      <th>Huerta</th>\n",
       "      <td>NaN</td>\n",
       "      <td>5.0</td>\n",
       "      <td>1.0</td>\n",
       "      <td>1.0</td>\n",
       "      <td>NaN</td>\n",
       "      <td>NaN</td>\n",
       "      <td>NaN</td>\n",
       "      <td>NaN</td>\n",
       "      <td>NaN</td>\n",
       "      <td>NaN</td>\n",
       "    </tr>\n",
       "    <tr>\n",
       "      <th>Inmuebles productivos urbanos</th>\n",
       "      <td>8.0</td>\n",
       "      <td>10.0</td>\n",
       "      <td>17.0</td>\n",
       "      <td>13.0</td>\n",
       "      <td>6.0</td>\n",
       "      <td>4.0</td>\n",
       "      <td>1.0</td>\n",
       "      <td>4.0</td>\n",
       "      <td>6.0</td>\n",
       "      <td>14.0</td>\n",
       "    </tr>\n",
       "    <tr>\n",
       "      <th>Local Comercial</th>\n",
       "      <td>103.0</td>\n",
       "      <td>86.0</td>\n",
       "      <td>69.0</td>\n",
       "      <td>50.0</td>\n",
       "      <td>22.0</td>\n",
       "      <td>12.0</td>\n",
       "      <td>5.0</td>\n",
       "      <td>7.0</td>\n",
       "      <td>7.0</td>\n",
       "      <td>14.0</td>\n",
       "    </tr>\n",
       "    <tr>\n",
       "      <th>Local en centro comercial</th>\n",
       "      <td>12.0</td>\n",
       "      <td>8.0</td>\n",
       "      <td>NaN</td>\n",
       "      <td>NaN</td>\n",
       "      <td>2.0</td>\n",
       "      <td>NaN</td>\n",
       "      <td>NaN</td>\n",
       "      <td>NaN</td>\n",
       "      <td>NaN</td>\n",
       "      <td>NaN</td>\n",
       "    </tr>\n",
       "    <tr>\n",
       "      <th>Nave industrial</th>\n",
       "      <td>1.0</td>\n",
       "      <td>5.0</td>\n",
       "      <td>3.0</td>\n",
       "      <td>3.0</td>\n",
       "      <td>1.0</td>\n",
       "      <td>NaN</td>\n",
       "      <td>NaN</td>\n",
       "      <td>NaN</td>\n",
       "      <td>NaN</td>\n",
       "      <td>NaN</td>\n",
       "    </tr>\n",
       "    <tr>\n",
       "      <th>Oficina comercial</th>\n",
       "      <td>56.0</td>\n",
       "      <td>39.0</td>\n",
       "      <td>66.0</td>\n",
       "      <td>53.0</td>\n",
       "      <td>35.0</td>\n",
       "      <td>29.0</td>\n",
       "      <td>13.0</td>\n",
       "      <td>13.0</td>\n",
       "      <td>6.0</td>\n",
       "      <td>14.0</td>\n",
       "    </tr>\n",
       "    <tr>\n",
       "      <th>Otros</th>\n",
       "      <td>6.0</td>\n",
       "      <td>31.0</td>\n",
       "      <td>30.0</td>\n",
       "      <td>2.0</td>\n",
       "      <td>NaN</td>\n",
       "      <td>NaN</td>\n",
       "      <td>NaN</td>\n",
       "      <td>NaN</td>\n",
       "      <td>NaN</td>\n",
       "      <td>NaN</td>\n",
       "    </tr>\n",
       "    <tr>\n",
       "      <th>Quinta Vacacional</th>\n",
       "      <td>40.0</td>\n",
       "      <td>130.0</td>\n",
       "      <td>121.0</td>\n",
       "      <td>49.0</td>\n",
       "      <td>12.0</td>\n",
       "      <td>6.0</td>\n",
       "      <td>2.0</td>\n",
       "      <td>1.0</td>\n",
       "      <td>1.0</td>\n",
       "      <td>NaN</td>\n",
       "    </tr>\n",
       "    <tr>\n",
       "      <th>Rancho</th>\n",
       "      <td>22.0</td>\n",
       "      <td>34.0</td>\n",
       "      <td>56.0</td>\n",
       "      <td>15.0</td>\n",
       "      <td>9.0</td>\n",
       "      <td>3.0</td>\n",
       "      <td>1.0</td>\n",
       "      <td>2.0</td>\n",
       "      <td>NaN</td>\n",
       "      <td>NaN</td>\n",
       "    </tr>\n",
       "    <tr>\n",
       "      <th>Terreno</th>\n",
       "      <td>111.0</td>\n",
       "      <td>127.0</td>\n",
       "      <td>138.0</td>\n",
       "      <td>58.0</td>\n",
       "      <td>23.0</td>\n",
       "      <td>8.0</td>\n",
       "      <td>4.0</td>\n",
       "      <td>3.0</td>\n",
       "      <td>1.0</td>\n",
       "      <td>5.0</td>\n",
       "    </tr>\n",
       "    <tr>\n",
       "      <th>Terreno comercial</th>\n",
       "      <td>17.0</td>\n",
       "      <td>13.0</td>\n",
       "      <td>22.0</td>\n",
       "      <td>11.0</td>\n",
       "      <td>6.0</td>\n",
       "      <td>2.0</td>\n",
       "      <td>NaN</td>\n",
       "      <td>NaN</td>\n",
       "      <td>NaN</td>\n",
       "      <td>1.0</td>\n",
       "    </tr>\n",
       "    <tr>\n",
       "      <th>Terreno industrial</th>\n",
       "      <td>1.0</td>\n",
       "      <td>NaN</td>\n",
       "      <td>NaN</td>\n",
       "      <td>1.0</td>\n",
       "      <td>NaN</td>\n",
       "      <td>NaN</td>\n",
       "      <td>NaN</td>\n",
       "      <td>NaN</td>\n",
       "      <td>1.0</td>\n",
       "      <td>NaN</td>\n",
       "    </tr>\n",
       "    <tr>\n",
       "      <th>Villa</th>\n",
       "      <td>30.0</td>\n",
       "      <td>96.0</td>\n",
       "      <td>134.0</td>\n",
       "      <td>33.0</td>\n",
       "      <td>4.0</td>\n",
       "      <td>3.0</td>\n",
       "      <td>NaN</td>\n",
       "      <td>3.0</td>\n",
       "      <td>NaN</td>\n",
       "      <td>NaN</td>\n",
       "    </tr>\n",
       "  </tbody>\n",
       "</table>\n",
       "</div>"
      ],
      "text/plain": [
       "                                    0                                     \\\n",
       "habitaciones                       1        2        3        4       5    \n",
       "tipodepropiedad                                                            \n",
       "Apartamento                    2841.0  30040.0  22566.0    780.0    64.0   \n",
       "Bodega comercial                 47.0     42.0     30.0     18.0    10.0   \n",
       "Casa                           1549.0  23789.0  84651.0  21714.0  4179.0   \n",
       "Casa en condominio              186.0   3004.0  13608.0   2095.0   143.0   \n",
       "Casa uso de suelo                12.0     53.0    150.0    133.0    48.0   \n",
       "Departamento Compartido           8.0     61.0     62.0      2.0     NaN   \n",
       "Duplex                            8.0    194.0    109.0     13.0     9.0   \n",
       "Edificio                         11.0     35.0     36.0     21.0    22.0   \n",
       "Hospedaje                         NaN      NaN      NaN      NaN     NaN   \n",
       "Huerta                            NaN      5.0      1.0      1.0     NaN   \n",
       "Inmuebles productivos urbanos     8.0     10.0     17.0     13.0     6.0   \n",
       "Local Comercial                 103.0     86.0     69.0     50.0    22.0   \n",
       "Local en centro comercial        12.0      8.0      NaN      NaN     2.0   \n",
       "Nave industrial                   1.0      5.0      3.0      3.0     1.0   \n",
       "Oficina comercial                56.0     39.0     66.0     53.0    35.0   \n",
       "Otros                             6.0     31.0     30.0      2.0     NaN   \n",
       "Quinta Vacacional                40.0    130.0    121.0     49.0    12.0   \n",
       "Rancho                           22.0     34.0     56.0     15.0     9.0   \n",
       "Terreno                         111.0    127.0    138.0     58.0    23.0   \n",
       "Terreno comercial                17.0     13.0     22.0     11.0     6.0   \n",
       "Terreno industrial                1.0      NaN      NaN      1.0     NaN   \n",
       "Villa                            30.0     96.0    134.0     33.0     4.0   \n",
       "\n",
       "                                                                   \n",
       "habitaciones                       6      7      8      9      10  \n",
       "tipodepropiedad                                                    \n",
       "Apartamento                      23.0    6.0   13.0    9.0    5.0  \n",
       "Bodega comercial                  5.0    1.0    3.0    1.0    NaN  \n",
       "Casa                           1458.0  458.0  298.0  120.0  163.0  \n",
       "Casa en condominio               29.0    5.0    6.0    2.0    4.0  \n",
       "Casa uso de suelo                34.0   24.0   16.0    9.0   23.0  \n",
       "Departamento Compartido           2.0    NaN    NaN    NaN    2.0  \n",
       "Duplex                            6.0    NaN    1.0    NaN    NaN  \n",
       "Edificio                         45.0   18.0   28.0   16.0   71.0  \n",
       "Hospedaje                         NaN    1.0    NaN    NaN    NaN  \n",
       "Huerta                            NaN    NaN    NaN    NaN    NaN  \n",
       "Inmuebles productivos urbanos     4.0    1.0    4.0    6.0   14.0  \n",
       "Local Comercial                  12.0    5.0    7.0    7.0   14.0  \n",
       "Local en centro comercial         NaN    NaN    NaN    NaN    NaN  \n",
       "Nave industrial                   NaN    NaN    NaN    NaN    NaN  \n",
       "Oficina comercial                29.0   13.0   13.0    6.0   14.0  \n",
       "Otros                             NaN    NaN    NaN    NaN    NaN  \n",
       "Quinta Vacacional                 6.0    2.0    1.0    1.0    NaN  \n",
       "Rancho                            3.0    1.0    2.0    NaN    NaN  \n",
       "Terreno                           8.0    4.0    3.0    1.0    5.0  \n",
       "Terreno comercial                 2.0    NaN    NaN    NaN    1.0  \n",
       "Terreno industrial                NaN    NaN    NaN    1.0    NaN  \n",
       "Villa                             3.0    NaN    3.0    NaN    NaN  "
      ]
     },
     "execution_count": 29,
     "metadata": {},
     "output_type": "execute_result"
    }
   ],
   "source": [
    "pd.pivot_table(features.groupby(['tipodepropiedad','habitaciones']).size().to_frame(), index='tipodepropiedad',columns=['habitaciones'])"
   ]
  },
  {
   "cell_type": "code",
   "execution_count": 30,
   "metadata": {},
   "outputs": [
    {
     "name": "stdout",
     "output_type": "stream",
     "text": [
      "Cantidad valores nulos en cada propiedad\n"
     ]
    },
    {
     "data": {
      "text/plain": [
       "<matplotlib.axes._subplots.AxesSubplot at 0x7f342cd1eb38>"
      ]
     },
     "execution_count": 30,
     "metadata": {},
     "output_type": "execute_result"
    },
    {
     "data": {
      "image/png": "[encoded data removed]",
      "text/plain": [
       "<Figure size 432x288 with 1 Axes>"
      ]
     },
     "metadata": {
      "needs_background": "light"
     },
     "output_type": "display_data"
    }
   ],
   "source": [
    "print('Cantidad valores nulos en cada propiedad')\n",
    "features.groupby(['tipodepropiedad']).agg({'habitaciones':lambda x: x.isna().sum()}).sort_values(by='habitaciones', ascending=True).plot(kind='barh')"
   ]
  },
  {
   "cell_type": "code",
   "execution_count": 31,
   "metadata": {},
   "outputs": [
    {
     "name": "stdout",
     "output_type": "stream",
     "text": [
      "Porcentaje valores no nulos en cada propiedad\n"
     ]
    },
    {
     "data": {
      "text/plain": [
       "<matplotlib.axes._subplots.AxesSubplot at 0x7f342d37e390>"
      ]
     },
     "execution_count": 31,
     "metadata": {},
     "output_type": "execute_result"
    },
    {
     "data": {
      "image/png": "[encoded data removed]",
      "text/plain": [
       "<Figure size 432x288 with 1 Axes>"
      ]
     },
     "metadata": {
      "needs_background": "light"
     },
     "output_type": "display_data"
    }
   ],
   "source": [
    "print('Porcentaje valores no nulos en cada propiedad')\n",
    "features.groupby(['tipodepropiedad']).agg({'habitaciones':lambda x: x.count() / len(x) * 100}).sort_values(by='habitaciones', ascending=True).plot(kind='barh')"
   ]
  },
  {
   "cell_type": "markdown",
   "metadata": {},
   "source": [
    "# Habitaciones, Baños, Garages y Antiguedad"
   ]
  },
  {
   "cell_type": "code",
   "execution_count": 32,
   "metadata": {},
   "outputs": [
    {
     "name": "stdout",
     "output_type": "stream",
     "text": [
      "Cantidad publicaciones Lote:  5\n",
      "Datos Habitaciones:  0\n",
      "Datos Baños:  0\n",
      "Datos Garages:  1\n"
     ]
    }
   ],
   "source": [
    "print('Cantidad publicaciones Lote: ', len(features.loc[features.tipodepropiedad=='Lote','habitaciones']))\n",
    "print('Datos Habitaciones: ', features.loc[features.tipodepropiedad=='Lote','habitaciones'].count())\n",
    "print('Datos Baños: ', features.loc[features.tipodepropiedad=='Lote','banos'].count())\n",
    "print('Datos Garages: ', features.loc[features.tipodepropiedad=='Lote','garages'].count())"
   ]
  },
  {
   "cell_type": "code",
   "execution_count": 33,
   "metadata": {},
   "outputs": [
    {
     "name": "stdout",
     "output_type": "stream",
     "text": [
      "Cantidad publicaciones Garage:  1\n",
      "Datos Habitaciones:  0\n",
      "Datos Baños:  0\n",
      "Datos Garages:  1\n"
     ]
    }
   ],
   "source": [
    "print('Cantidad publicaciones Garage: ', len(features.loc[features.tipodepropiedad=='Garage','habitaciones']))\n",
    "print('Datos Habitaciones: ', features.loc[features.tipodepropiedad=='Garage','habitaciones'].count())\n",
    "print('Datos Baños: ', features.loc[features.tipodepropiedad=='Garage','banos'].count())\n",
    "print('Datos Garages: ', features.loc[features.tipodepropiedad=='Garage','garages'].count())"
   ]
  },
  {
   "cell_type": "code",
   "execution_count": 34,
   "metadata": {},
   "outputs": [
    {
     "name": "stdout",
     "output_type": "stream",
     "text": [
      "Cantidad publicaciones Hospedaje:  1\n",
      "Datos Habitaciones:  1\n",
      "Datos Baños:  0\n",
      "Datos Garages:  1\n"
     ]
    }
   ],
   "source": [
    "print('Cantidad publicaciones Hospedaje: ', len(features.loc[features.tipodepropiedad=='Hospedaje','habitaciones']))\n",
    "print('Datos Habitaciones: ', features.loc[features.tipodepropiedad=='Hospedaje','habitaciones'].count())\n",
    "print('Datos Baños: ', features.loc[features.tipodepropiedad=='Hospedaje','banos'].count())\n",
    "print('Datos Garages: ', features.loc[features.tipodepropiedad=='Hospedaje','garages'].count())"
   ]
  },
  {
   "cell_type": "code",
   "execution_count": 35,
   "metadata": {},
   "outputs": [],
   "source": [
    "features = features.loc[(features.tipodepropiedad!='Lote') & (features.tipodepropiedad!='Garage') & (features.tipodepropiedad!='Hospedaje'),:]"
   ]
  },
  {
   "cell_type": "code",
   "execution_count": 36,
   "metadata": {},
   "outputs": [
    {
     "name": "stdout",
     "output_type": "stream",
     "text": [
      "Cantidad publicaciones Lote:  0\n",
      "Cantidad publicaciones Garage:  0\n"
     ]
    }
   ],
   "source": [
    "print('Cantidad publicaciones Lote: ', len(features.loc[features.tipodepropiedad=='Lote','habitaciones']))\n",
    "print('Cantidad publicaciones Garage: ', len(features.loc[features.tipodepropiedad=='Garage','habitaciones']))"
   ]
  },
  {
   "cell_type": "raw",
   "metadata": {},
   "source": [
    "# Completo aquellas publicaciones con mas del 50% de los datos o que cantidad de valores nulos es muy baja\n",
    "habitToFill = ['Otros','Casa uso de suelo','Rancho','Villa','Quinta Vacacional',\\\n",
    "                'Departamento Compartido','Casa','Apartamento','Casa en condominio','Duplex','Hospedaje']"
   ]
  },
  {
   "cell_type": "code",
   "execution_count": 37,
   "metadata": {},
   "outputs": [],
   "source": [
    "imputer = SimpleImputer(missing_values=np.nan, strategy='most_frequent')"
   ]
  },
  {
   "cell_type": "code",
   "execution_count": 38,
   "metadata": {},
   "outputs": [],
   "source": [
    "import warnings\n",
    "from pandas.core.common import SettingWithCopyWarning\n",
    "\n",
    "warnings.simplefilter(action=\"ignore\", category=SettingWithCopyWarning)"
   ]
  },
  {
   "cell_type": "code",
   "execution_count": 39,
   "metadata": {},
   "outputs": [],
   "source": [
    "for tipo in features.tipodepropiedad.unique():\n",
    "    features.loc[features.tipodepropiedad==tipo,['habitaciones','banos','garages','antiguedad']] = imputer.fit_transform(features.loc[features.tipodepropiedad==tipo,['habitaciones','banos','garages','antiguedad']])"
   ]
  },
  {
   "cell_type": "markdown",
   "metadata": {},
   "source": [
    "### Set Test"
   ]
  },
  {
   "cell_type": "code",
   "execution_count": 40,
   "metadata": {},
   "outputs": [
    {
     "data": {
      "text/plain": [
       "7"
      ]
     },
     "execution_count": 40,
     "metadata": {},
     "output_type": "execute_result"
    }
   ],
   "source": [
    "df_test.tipodepropiedad.isna().sum()"
   ]
  },
  {
   "cell_type": "code",
   "execution_count": 41,
   "metadata": {},
   "outputs": [
    {
     "data": {
      "text/html": [
       "<div>\n",
       "<style scoped>\n",
       "    .dataframe tbody tr th:only-of-type {\n",
       "        vertical-align: middle;\n",
       "    }\n",
       "\n",
       "    .dataframe tbody tr th {\n",
       "        vertical-align: top;\n",
       "    }\n",
       "\n",
       "    .dataframe thead th {\n",
       "        text-align: right;\n",
       "    }\n",
       "</style>\n",
       "<table border=\"1\" class=\"dataframe\">\n",
       "  <thead>\n",
       "    <tr style=\"text-align: right;\">\n",
       "      <th></th>\n",
       "      <th>habitaciones</th>\n",
       "      <th>banos</th>\n",
       "      <th>garages</th>\n",
       "    </tr>\n",
       "  </thead>\n",
       "  <tbody>\n",
       "    <tr>\n",
       "      <th>13702</th>\n",
       "      <td>NaN</td>\n",
       "      <td>NaN</td>\n",
       "      <td>NaN</td>\n",
       "    </tr>\n",
       "    <tr>\n",
       "      <th>15832</th>\n",
       "      <td>NaN</td>\n",
       "      <td>NaN</td>\n",
       "      <td>NaN</td>\n",
       "    </tr>\n",
       "    <tr>\n",
       "      <th>26720</th>\n",
       "      <td>NaN</td>\n",
       "      <td>NaN</td>\n",
       "      <td>NaN</td>\n",
       "    </tr>\n",
       "    <tr>\n",
       "      <th>38993</th>\n",
       "      <td>3</td>\n",
       "      <td>2</td>\n",
       "      <td>NaN</td>\n",
       "    </tr>\n",
       "    <tr>\n",
       "      <th>46981</th>\n",
       "      <td>3</td>\n",
       "      <td>3</td>\n",
       "      <td>NaN</td>\n",
       "    </tr>\n",
       "    <tr>\n",
       "      <th>47296</th>\n",
       "      <td>3</td>\n",
       "      <td>4</td>\n",
       "      <td>2</td>\n",
       "    </tr>\n",
       "    <tr>\n",
       "      <th>50869</th>\n",
       "      <td>3</td>\n",
       "      <td>NaN</td>\n",
       "      <td>NaN</td>\n",
       "    </tr>\n",
       "  </tbody>\n",
       "</table>\n",
       "</div>"
      ],
      "text/plain": [
       "       habitaciones  banos  garages\n",
       "13702           NaN    NaN      NaN\n",
       "15832           NaN    NaN      NaN\n",
       "26720           NaN    NaN      NaN\n",
       "38993             3      2      NaN\n",
       "46981             3      3      NaN\n",
       "47296             3      4        2\n",
       "50869             3    NaN      NaN"
      ]
     },
     "execution_count": 41,
     "metadata": {},
     "output_type": "execute_result"
    }
   ],
   "source": [
    "df_test.loc[df_test.tipodepropiedad.isna(),['habitaciones','banos','garages']]"
   ]
  },
  {
   "cell_type": "code",
   "execution_count": 42,
   "metadata": {},
   "outputs": [],
   "source": [
    "# Seteo manualmente casa, en base a informacion que se tiene (o no) de los datos de tipo nulo\n",
    "df_test.loc[df_test.tipodepropiedad.isna(),'tipodepropiedad'] = 'Casa'"
   ]
  },
  {
   "cell_type": "code",
   "execution_count": 43,
   "metadata": {},
   "outputs": [
    {
     "name": "stdout",
     "output_type": "stream",
     "text": [
      "Cantidad publicaciones Terreno industrial:  6\n",
      "Datos Habitaciones:  0\n",
      "Datos Baños:  0\n",
      "Datos Garages:  2\n"
     ]
    }
   ],
   "source": [
    "print('Cantidad publicaciones Terreno industrial: ', len(df_test.loc[df_test.tipodepropiedad=='Terreno industrial','habitaciones']))\n",
    "print('Datos Habitaciones: ', df_test.loc[df_test.tipodepropiedad=='Terreno industrial','habitaciones'].count())\n",
    "print('Datos Baños: ', df_test.loc[df_test.tipodepropiedad=='Terreno industrial','banos'].count())\n",
    "print('Datos Garages: ', df_test.loc[df_test.tipodepropiedad=='Terreno industrial','garages'].count())"
   ]
  },
  {
   "cell_type": "code",
   "execution_count": 44,
   "metadata": {},
   "outputs": [],
   "source": [
    "# En base a informacion que se tiene de Terreno y Terreno comercial completo\n",
    "df_test.loc[df_test.tipodepropiedad=='Terreno industrial','habitaciones'] = 3\n",
    "df_test.loc[df_test.tipodepropiedad=='Terreno industrial','banos'] = 1\n",
    "df_test.loc[df_test.tipodepropiedad=='Terreno industrial','garages'] = 0"
   ]
  },
  {
   "cell_type": "code",
   "execution_count": 45,
   "metadata": {},
   "outputs": [
    {
     "name": "stdout",
     "output_type": "stream",
     "text": [
      "Cantidad publicaciones Lote:  1\n",
      "Datos Habitaciones:  0\n",
      "Datos Baños:  0\n",
      "Datos Garages:  1\n"
     ]
    }
   ],
   "source": [
    "print('Cantidad publicaciones Lote: ', len(df_test.loc[df_test.tipodepropiedad=='Lote','habitaciones']))\n",
    "print('Datos Habitaciones: ', df_test.loc[df_test.tipodepropiedad=='Lote','habitaciones'].count())\n",
    "print('Datos Baños: ', df_test.loc[df_test.tipodepropiedad=='Lote','banos'].count())\n",
    "print('Datos Garages: ', df_test.loc[df_test.tipodepropiedad=='Lote','garages'].count())"
   ]
  },
  {
   "cell_type": "code",
   "execution_count": 46,
   "metadata": {},
   "outputs": [],
   "source": [
    "# Completo con 0 dado que no tengo informacion y las caracteristicas usuales de un lote\n",
    "df_test.loc[df_test.tipodepropiedad=='Lote','habitaciones'] = 0\n",
    "df_test.loc[df_test.tipodepropiedad=='Lote','banos'] = 0\n",
    "df_test.loc[df_test.tipodepropiedad=='Lote','garages'] = 0"
   ]
  },
  {
   "cell_type": "code",
   "execution_count": 47,
   "metadata": {},
   "outputs": [],
   "source": [
    "for tipo in df_test.tipodepropiedad.unique():\n",
    "    df_test.loc[df_test.tipodepropiedad==tipo,['habitaciones','banos','garages','antiguedad']] = imputer.fit_transform(df_test.loc[df_test.tipodepropiedad==tipo,['habitaciones','banos','garages','antiguedad']])"
   ]
  },
  {
   "cell_type": "markdown",
   "metadata": {},
   "source": [
    "# Provincia"
   ]
  },
  {
   "cell_type": "code",
   "execution_count": 48,
   "metadata": {},
   "outputs": [],
   "source": [
    "Noroeste = ['Baja California Norte', 'Baja California Sur','Chihuahua', 'Durango', 'Sinaloa', 'Sonora']\n",
    "Noreste = ['Coahuila','Nuevo León', 'Tamaulipas']\n",
    "Oeste = ['Colima', 'Jalisco', 'Michoacán', 'Nayarit']\n",
    "Este = ['Hidalgo', 'Puebla', 'Tlaxcala', 'Veracruz']\n",
    "Centronorte = ['Aguascalientes', 'Guanajuato', 'Querétaro', 'San luis Potosí', 'Zacatecas']\n",
    "Centrosur = ['Edo. de México', 'Distrito Federal', 'Morelos']\n",
    "Suroeste = ['Chiapas', 'Guerrero', 'Oaxaca']\n",
    "Sureste = ['Campeche', 'Quintana Roo', 'Tabasco', 'Yucatán']"
   ]
  },
  {
   "cell_type": "code",
   "execution_count": 49,
   "metadata": {},
   "outputs": [],
   "source": [
    "def region(provincia):\n",
    "    if(provincia in Noroeste):\n",
    "        return 'Noroeste'\n",
    "    if(provincia in Noreste):\n",
    "        return 'Noreste'\n",
    "    if(provincia in Oeste):\n",
    "        return 'Oeste'\n",
    "    if(provincia in Este):\n",
    "        return 'Este'\n",
    "    if(provincia in Centronorte):\n",
    "        return 'Centronorte'\n",
    "    if(provincia in Centrosur):\n",
    "        return 'Centrosur'\n",
    "    if(provincia in Suroeste):\n",
    "        return 'Suroeste'\n",
    "    if (provincia in Sureste):\n",
    "        return 'Sureste'\n",
    "    # provincia nula\n",
    "    return random.choice(['Noroeste','Noreste','Oeste','Este','Centronorte','Centrosur','Suroeste','Sureste'])"
   ]
  },
  {
   "cell_type": "code",
   "execution_count": 50,
   "metadata": {},
   "outputs": [
    {
     "name": "stdout",
     "output_type": "stream",
     "text": [
      "Publicaciones sin provincia:  153\n",
      "Publicaciones sin provincia ni ciudad ni idzona:  153\n"
     ]
    }
   ],
   "source": [
    "print('Publicaciones sin provincia: ', features.provincia.isna().sum())\n",
    "print('Publicaciones sin provincia ni ciudad ni idzona: ', len(features.loc[(features.provincia.isna() & features.ciudad.isna() & features.idzona.isna()),:]))"
   ]
  },
  {
   "cell_type": "code",
   "execution_count": 51,
   "metadata": {},
   "outputs": [],
   "source": [
    "# No tengo ningun dato para obtener provincia y cantidad es muy baja\n",
    "features = features.dropna(subset=['provincia'])\n",
    "features = features.reset_index(drop=True)"
   ]
  },
  {
   "cell_type": "code",
   "execution_count": 52,
   "metadata": {},
   "outputs": [],
   "source": [
    "# One-hot regiones\n",
    "features['region'] = features['provincia'].apply(region)\n",
    "one_hot = pd.get_dummies(features.region)\n",
    "features = features.merge(one_hot, right_index=True, left_index=True)"
   ]
  },
  {
   "cell_type": "markdown",
   "metadata": {},
   "source": [
    "### Set Test"
   ]
  },
  {
   "cell_type": "code",
   "execution_count": 53,
   "metadata": {},
   "outputs": [
    {
     "name": "stdout",
     "output_type": "stream",
     "text": [
      "Publicaciones sin provincia:  42\n",
      "Publicaciones sin provincia ni ciudad ni idzona:  42\n"
     ]
    }
   ],
   "source": [
    "print('Publicaciones sin provincia: ', df_test.provincia.isna().sum())\n",
    "print('Publicaciones sin provincia ni ciudad ni idzona: ', len(df_test.loc[(df_test.provincia.isna() & df_test.ciudad.isna() & df_test.idzona.isna()),:]))"
   ]
  },
  {
   "cell_type": "code",
   "execution_count": 54,
   "metadata": {},
   "outputs": [
    {
     "name": "stdout",
     "output_type": "stream",
     "text": [
      "Publicaciones sin region:  0\n"
     ]
    }
   ],
   "source": [
    "df_test['region'] = df_test['provincia'].apply(region)\n",
    "print('Publicaciones sin region: ', df_test.region.isna().sum())"
   ]
  },
  {
   "cell_type": "code",
   "execution_count": 55,
   "metadata": {},
   "outputs": [],
   "source": [
    "one_hot_test = pd.get_dummies(df_test.region)\n",
    "df_test = df_test.merge(one_hot_test, right_index=True, left_index=True)"
   ]
  },
  {
   "cell_type": "markdown",
   "metadata": {},
   "source": [
    "#### Pruebas previas"
   ]
  },
  {
   "cell_type": "raw",
   "metadata": {},
   "source": [
    "# One-hot provincias\n",
    "features = features.reset_index(drop=True)\n",
    "\n",
    "one_hot = pd.get_dummies(features.provincia)\n",
    "features = features.drop('provincia',axis = 1)\n",
    "features = features.merge(one_hot, right_index=True, left_index=True)\n",
    "\n",
    "one_hot_test = pd.get_dummies(df_test.provincia)\n",
    "df_test = df_test.drop('provincia',axis = 1)\n",
    "df_test = df_test.merge(one_hot_test, right_index=True, left_index=True)"
   ]
  },
  {
   "cell_type": "raw",
   "metadata": {},
   "source": [
    "import random \n",
    "\n",
    "# Completo id zona con valor random de los que tengo datos para luego llenar provincia y ciudad\n",
    "df_test.idzona = df_test.idzona.fillna(random.choice(list(provincias_por_idzona.keys())))"
   ]
  },
  {
   "cell_type": "raw",
   "metadata": {},
   "source": [
    "# Completo valores ausentes de provincia\n",
    "for i in range(0,len(df_test)):\n",
    "    if (pd.isna(df_test.loc[i,'provincia'])):\n",
    "        df_test.loc[i,'provincia'] =  provincias_por_idzona.get(df_test.loc[i,'idzona'])[0]"
   ]
  },
  {
   "cell_type": "raw",
   "metadata": {},
   "source": [
    "# Completo valores ausentes de ciudad (random)\n",
    "for i in range(0,len(df_test)):\n",
    "    if (pd.isna(df_test.loc[i,'ciudad'])):\n",
    "        ciudades = ciudades_por_provincia.get(df_test.loc[i,'provincia'])\n",
    "        df_test.loc[i,'ciudad'] =  ciudades[random.choice(range(1,len(ciudades)))]"
   ]
  },
  {
   "cell_type": "raw",
   "metadata": {},
   "source": [
    "df_test.ciudad.isna().value_counts()"
   ]
  },
  {
   "cell_type": "raw",
   "metadata": {},
   "source": [
    "features.provincia = features.provincia.apply(lambda x: provincia_count[x])\n",
    "df_test.provincia = df_test.provincia.apply(lambda x: test_provincia_count[x])"
   ]
  },
  {
   "cell_type": "markdown",
   "metadata": {},
   "source": [
    "# Tipo de propiedad"
   ]
  },
  {
   "cell_type": "code",
   "execution_count": 56,
   "metadata": {},
   "outputs": [
    {
     "name": "stdout",
     "output_type": "stream",
     "text": [
      "21\n"
     ]
    },
    {
     "data": {
      "text/plain": [
       "Index(['Apartamento', 'Bodega comercial', 'Casa', 'Casa en condominio',\n",
       "       'Casa uso de suelo', 'Departamento Compartido', 'Duplex', 'Edificio',\n",
       "       'Huerta', 'Inmuebles productivos urbanos', 'Local Comercial',\n",
       "       'Local en centro comercial', 'Nave industrial', 'Oficina comercial',\n",
       "       'Otros', 'Quinta Vacacional', 'Rancho', 'Terreno', 'Terreno comercial',\n",
       "       'Terreno industrial', 'Villa'],\n",
       "      dtype='object')"
      ]
     },
     "execution_count": 56,
     "metadata": {},
     "output_type": "execute_result"
    }
   ],
   "source": [
    "features_tipos = features.tipodepropiedad.value_counts().index\n",
    "print(len(features_tipos))\n",
    "features_tipos.sort_values()"
   ]
  },
  {
   "cell_type": "code",
   "execution_count": 57,
   "metadata": {},
   "outputs": [],
   "source": [
    "one_hot = pd.get_dummies(features.tipodepropiedad)\n",
    "features = features.merge(one_hot, right_index=True, left_index=True)"
   ]
  },
  {
   "cell_type": "code",
   "execution_count": 58,
   "metadata": {},
   "outputs": [
    {
     "name": "stdout",
     "output_type": "stream",
     "text": [
      "22\n"
     ]
    },
    {
     "data": {
      "text/plain": [
       "Index(['Apartamento', 'Bodega comercial', 'Casa', 'Casa en condominio',\n",
       "       'Casa uso de suelo', 'Departamento Compartido', 'Duplex', 'Edificio',\n",
       "       'Huerta', 'Inmuebles productivos urbanos', 'Local Comercial',\n",
       "       'Local en centro comercial', 'Lote', 'Nave industrial',\n",
       "       'Oficina comercial', 'Otros', 'Quinta Vacacional', 'Rancho', 'Terreno',\n",
       "       'Terreno comercial', 'Terreno industrial', 'Villa'],\n",
       "      dtype='object')"
      ]
     },
     "execution_count": 58,
     "metadata": {},
     "output_type": "execute_result"
    }
   ],
   "source": [
    "test_tipos = df_test.tipodepropiedad.value_counts().index\n",
    "print(len(test_tipos))\n",
    "test_tipos.sort_values()"
   ]
  },
  {
   "cell_type": "code",
   "execution_count": 59,
   "metadata": {},
   "outputs": [],
   "source": [
    "one_hot_test = pd.get_dummies(df_test.tipodepropiedad)\n",
    "df_test = df_test.merge(one_hot_test, right_index=True, left_index=True)"
   ]
  },
  {
   "cell_type": "code",
   "execution_count": 60,
   "metadata": {},
   "outputs": [
    {
     "name": "stdout",
     "output_type": "stream",
     "text": [
      "['precio']\n",
      "['Lote']\n"
     ]
    }
   ],
   "source": [
    "print(list(set(features.columns) - set(df_test.columns)))\n",
    "print(list(set(df_test.columns) - set(features.columns)))"
   ]
  },
  {
   "cell_type": "code",
   "execution_count": 61,
   "metadata": {},
   "outputs": [
    {
     "data": {
      "text/plain": [
       "0    59999\n",
       "1        1\n",
       "Name: Lote, dtype: int64"
      ]
     },
     "execution_count": 61,
     "metadata": {},
     "output_type": "execute_result"
    }
   ],
   "source": [
    "df_test.Lote.value_counts()"
   ]
  },
  {
   "cell_type": "code",
   "execution_count": 62,
   "metadata": {},
   "outputs": [],
   "source": [
    "# Elimino columnas que no aparecen en los features (Solo una publicacion con Lote)\n",
    "df_test = df_test.drop('Lote',axis=1)"
   ]
  },
  {
   "cell_type": "markdown",
   "metadata": {},
   "source": [
    "# Dolar"
   ]
  },
  {
   "cell_type": "code",
   "execution_count": 63,
   "metadata": {},
   "outputs": [],
   "source": [
    "df_dollar = pd.read_csv(path + 'dollar.csv')\n",
    "df_dollar = df_dollar.dropna()\n",
    "df_dollar['Cierre'] = pd.to_numeric(df_dollar['Cierre'])\n",
    "df_dollar['Cierre'] = df_dollar['Cierre'].round(3)\n",
    "df_dollar['Fecha'] = pd.to_datetime(df_dollar['Fecha'], format='%d.%m.%Y')\n",
    "df_dollar = df_dollar.set_index('Fecha')\n",
    "df_dollar = df_dollar.loc[:, 'Cierre'].to_frame()"
   ]
  },
  {
   "cell_type": "code",
   "execution_count": 64,
   "metadata": {},
   "outputs": [],
   "source": [
    "# Agrego fechas faltantes (Sabados y Domingos) con valor 0\n",
    "idx = pd.date_range(start='2011-12-12', end='2017-01-31')\n",
    "df_dollar = df_dollar.reindex(idx, fill_value=0)"
   ]
  },
  {
   "cell_type": "code",
   "execution_count": 65,
   "metadata": {},
   "outputs": [],
   "source": [
    "# Cuando se trata de una fecha que corresponde a un Sabado o Domingo no se tiene infromación sobre Cierre\n",
    "# Le asigno el valor correspondiente al Viernes previo\n",
    "for i in range(0, len(df_dollar)):\n",
    "    if (df_dollar.iloc[i]['Cierre'] == 0):\n",
    "        df_dollar.iloc[i]['Cierre'] = df_dollar.iloc[i-1]['Cierre']"
   ]
  },
  {
   "cell_type": "code",
   "execution_count": 66,
   "metadata": {},
   "outputs": [],
   "source": [
    "features['fecha'] = features['fecha'].apply(lambda x: x.replace(hour=0, minute=0, second=0)) # Seteo tiempo a 00:00:00 para join\n",
    "features = features.set_index('fecha')\n",
    "features = features.join(df_dollar, how='left')\n",
    "features = features.reset_index()\n",
    "features.rename(columns = {'index' : 'fecha'}, inplace=True)"
   ]
  },
  {
   "cell_type": "code",
   "execution_count": 67,
   "metadata": {},
   "outputs": [],
   "source": [
    "features.rename(columns = {'Cierre' : 'Valor dolar'}, inplace=True)"
   ]
  },
  {
   "cell_type": "markdown",
   "metadata": {},
   "source": [
    "### Set test"
   ]
  },
  {
   "cell_type": "code",
   "execution_count": 68,
   "metadata": {},
   "outputs": [],
   "source": [
    "df_test['fecha'] = df_test['fecha'].apply(lambda x: x.replace(hour=0, minute=0, second=0)) # Seteo tiempo a 00:00:00 para join\n",
    "df_test = df_test.set_index('fecha')\n",
    "df_test = df_test.join(df_dollar, how='left')\n",
    "df_test = df_test.reset_index()\n",
    "df_test.rename(columns = {'index' : 'fecha'}, inplace=True)\n",
    "df_test.rename(columns = {'Cierre' : 'Valor dolar'}, inplace=True)"
   ]
  },
  {
   "cell_type": "markdown",
   "metadata": {},
   "source": [
    "# Valor metro cuadrado (Tipo)"
   ]
  },
  {
   "cell_type": "code",
   "execution_count": 69,
   "metadata": {},
   "outputs": [
    {
     "name": "stdout",
     "output_type": "stream",
     "text": [
      "Publicaciones sin tipo:  0\n"
     ]
    }
   ],
   "source": [
    "print('Publicaciones sin tipo: ', features.tipodepropiedad.isna().sum())"
   ]
  },
  {
   "cell_type": "code",
   "execution_count": 70,
   "metadata": {},
   "outputs": [],
   "source": [
    "features['valor m2 tipodepropiedad'] = (features.precio * features['Valor dolar']) / features.metrostotales\n",
    "valueXType = features.groupby('tipodepropiedad').agg({'valor m2 tipodepropiedad':'mean'})"
   ]
  },
  {
   "cell_type": "code",
   "execution_count": 71,
   "metadata": {},
   "outputs": [],
   "source": [
    "def getM2Tipo(row):\n",
    "    if (not pd.isnull(row.tipodepropiedad) and row.tipodepropiedad in valueXType.index):\n",
    "        return valueXType.loc[row.tipodepropiedad,'valor m2 tipodepropiedad']\n",
    "    return valueXType['valor m2 tipodepropiedad'].median()"
   ]
  },
  {
   "cell_type": "code",
   "execution_count": 72,
   "metadata": {},
   "outputs": [],
   "source": [
    "features['valor m2 tipodepropiedad'] = features.apply(lambda row: getM2Tipo(row), axis=1)"
   ]
  },
  {
   "cell_type": "markdown",
   "metadata": {},
   "source": [
    "### Set Test"
   ]
  },
  {
   "cell_type": "code",
   "execution_count": 73,
   "metadata": {},
   "outputs": [
    {
     "name": "stdout",
     "output_type": "stream",
     "text": [
      "Publicaciones sin tipodepropiedad:  0\n"
     ]
    }
   ],
   "source": [
    "print('Publicaciones sin tipodepropiedad: ', df_test.tipodepropiedad.isna().sum())"
   ]
  },
  {
   "cell_type": "code",
   "execution_count": 74,
   "metadata": {},
   "outputs": [],
   "source": [
    "df_test['valor m2 tipodepropiedad'] = df_test.apply(lambda row: getM2Tipo(row), axis=1)"
   ]
  },
  {
   "cell_type": "code",
   "execution_count": 75,
   "metadata": {},
   "outputs": [
    {
     "data": {
      "text/plain": [
       "60000"
      ]
     },
     "execution_count": 75,
     "metadata": {},
     "output_type": "execute_result"
    }
   ],
   "source": [
    "df_test['valor m2 tipodepropiedad'].count()"
   ]
  },
  {
   "cell_type": "markdown",
   "metadata": {},
   "source": [
    "# Valor metro cuadrado (Ciudad)"
   ]
  },
  {
   "cell_type": "code",
   "execution_count": 76,
   "metadata": {},
   "outputs": [
    {
     "name": "stdout",
     "output_type": "stream",
     "text": [
      "Publicaciones sin ciudad:  201\n",
      "Publicaciones sin idzona:  28423\n",
      "Publicaciones sin ciudad ni idzona:  201\n",
      "Cantidad ciudades:  876\n",
      "Cantidad idzzonas:  19719\n"
     ]
    }
   ],
   "source": [
    "print('Publicaciones sin ciudad: ', features.ciudad.isna().sum())\n",
    "print('Publicaciones sin idzona: ', features.idzona.isna().sum())\n",
    "print('Publicaciones sin ciudad ni idzona: ', len(features.loc[features.ciudad.isna() & features.idzona.isna(),:]))\n",
    "print('Cantidad ciudades: ', len(features.ciudad.unique()))\n",
    "print('Cantidad idzzonas: ', len(features.idzona.unique()))"
   ]
  },
  {
   "cell_type": "markdown",
   "metadata": {},
   "source": [
    "Descarto aquellas publicaciones sin ciudad (tan solo 201) ya que tampoco voy a poder obtener valor de idzona"
   ]
  },
  {
   "cell_type": "code",
   "execution_count": 77,
   "metadata": {},
   "outputs": [
    {
     "name": "stdout",
     "output_type": "stream",
     "text": [
      "Publicaciones sin ciudad:  0\n",
      "Publicaciones sin idzona:  28222\n"
     ]
    }
   ],
   "source": [
    "features = features.dropna(subset=['ciudad'])\n",
    "print('Publicaciones sin ciudad: ', features.ciudad.isna().sum())\n",
    "print('Publicaciones sin idzona: ', features.idzona.isna().sum())"
   ]
  },
  {
   "cell_type": "code",
   "execution_count": 78,
   "metadata": {},
   "outputs": [
    {
     "name": "stdout",
     "output_type": "stream",
     "text": [
      "Media de idzona por ciduad:  3.0\n",
      "Promedio de idzona por ciduad:  23.097142857142856\n",
      "Maximo de idzona por ciudad:  656\n",
      "Minimo de idzona por ciudad:  1\n"
     ]
    }
   ],
   "source": [
    "print('Media de idzona por ciduad: ', features.groupby('ciudad').agg({'idzona':lambda x: len(x.unique())}).idzona.median())\n",
    "print('Promedio de idzona por ciduad: ', features.groupby('ciudad').agg({'idzona':lambda x: len(x.unique())}).idzona.mean())\n",
    "print('Maximo de idzona por ciudad: ', features.groupby('ciudad').agg({'idzona':lambda x: len(x.unique())}).idzona.max())\n",
    "print('Minimo de idzona por ciudad: ', features.groupby('ciudad').agg({'idzona':lambda x: len(x.unique())}).idzona.min())"
   ]
  },
  {
   "cell_type": "code",
   "execution_count": 79,
   "metadata": {},
   "outputs": [
    {
     "name": "stdout",
     "output_type": "stream",
     "text": [
      "0    875\n",
      "dtype: int64\n"
     ]
    },
    {
     "data": {
      "text/html": [
       "<div>\n",
       "<style scoped>\n",
       "    .dataframe tbody tr th:only-of-type {\n",
       "        vertical-align: middle;\n",
       "    }\n",
       "\n",
       "    .dataframe tbody tr th {\n",
       "        vertical-align: top;\n",
       "    }\n",
       "\n",
       "    .dataframe thead th {\n",
       "        text-align: right;\n",
       "    }\n",
       "</style>\n",
       "<table border=\"1\" class=\"dataframe\">\n",
       "  <thead>\n",
       "    <tr style=\"text-align: right;\">\n",
       "      <th>idzona</th>\n",
       "      <th>1</th>\n",
       "      <th>2</th>\n",
       "      <th>3</th>\n",
       "      <th>4</th>\n",
       "      <th>5</th>\n",
       "      <th>6</th>\n",
       "      <th>7</th>\n",
       "      <th>8</th>\n",
       "      <th>9</th>\n",
       "      <th>10</th>\n",
       "      <th>...</th>\n",
       "      <th>325</th>\n",
       "      <th>333</th>\n",
       "      <th>339</th>\n",
       "      <th>403</th>\n",
       "      <th>406</th>\n",
       "      <th>423</th>\n",
       "      <th>481</th>\n",
       "      <th>520</th>\n",
       "      <th>539</th>\n",
       "      <th>656</th>\n",
       "    </tr>\n",
       "  </thead>\n",
       "  <tbody>\n",
       "    <tr>\n",
       "      <th>0</th>\n",
       "      <td>305</td>\n",
       "      <td>114</td>\n",
       "      <td>81</td>\n",
       "      <td>48</td>\n",
       "      <td>35</td>\n",
       "      <td>26</td>\n",
       "      <td>19</td>\n",
       "      <td>18</td>\n",
       "      <td>11</td>\n",
       "      <td>7</td>\n",
       "      <td>...</td>\n",
       "      <td>1</td>\n",
       "      <td>1</td>\n",
       "      <td>1</td>\n",
       "      <td>1</td>\n",
       "      <td>1</td>\n",
       "      <td>1</td>\n",
       "      <td>1</td>\n",
       "      <td>1</td>\n",
       "      <td>1</td>\n",
       "      <td>1</td>\n",
       "    </tr>\n",
       "  </tbody>\n",
       "</table>\n",
       "<p>1 rows × 121 columns</p>\n",
       "</div>"
      ],
      "text/plain": [
       "idzona  1    2    3    4    5    6    7    8    9    10   ...  325  333  339  \\\n",
       "0       305  114   81   48   35   26   19   18   11    7  ...    1    1    1   \n",
       "\n",
       "idzona  403  406  423  481  520  539  656  \n",
       "0         1    1    1    1    1    1    1  \n",
       "\n",
       "[1 rows x 121 columns]"
      ]
     },
     "execution_count": 79,
     "metadata": {},
     "output_type": "execute_result"
    }
   ],
   "source": [
    "# DF con cantidad de veces que se repite la cantiad de idzonas por ciudad\n",
    "print(features.groupby('ciudad').agg({'idzona':lambda x: len(x.unique())}).groupby('idzona').size().to_frame().sum())\n",
    "features.groupby('ciudad').agg({'idzona':lambda x: len(x.unique())}).groupby('idzona').size().to_frame().T"
   ]
  },
  {
   "cell_type": "markdown",
   "metadata": {},
   "source": [
    "Dado que es muy baja la cantidad de ciudades con un solo idzona y hay gran cantidad de datos nulos de idzona se decide calcular el valor del metro cuadrado por ciudad (EN DOLARES)"
   ]
  },
  {
   "cell_type": "code",
   "execution_count": 80,
   "metadata": {},
   "outputs": [],
   "source": [
    "features = features.reset_index(drop=True)"
   ]
  },
  {
   "cell_type": "code",
   "execution_count": 81,
   "metadata": {},
   "outputs": [],
   "source": [
    "features['valor m2 ciudad'] = (features.precio * features['Valor dolar']) / features.metrostotales\n",
    "valueXCity = features.groupby('ciudad').agg({'valor m2 ciudad':'mean'})"
   ]
  },
  {
   "cell_type": "code",
   "execution_count": 82,
   "metadata": {},
   "outputs": [],
   "source": [
    "def getM2(row):\n",
    "    if (not pd.isnull(row.ciudad) and row.ciudad in valueXCity.index):\n",
    "        return valueXCity.loc[row.ciudad,'valor m2 ciudad']\n",
    "    return valueXCity['valor m2 ciudad'].median()"
   ]
  },
  {
   "cell_type": "code",
   "execution_count": 83,
   "metadata": {},
   "outputs": [],
   "source": [
    "features['valor m2 ciudad'] = features.apply(lambda row: getM2(row), axis=1)"
   ]
  },
  {
   "cell_type": "markdown",
   "metadata": {},
   "source": [
    "### Set Test"
   ]
  },
  {
   "cell_type": "code",
   "execution_count": 84,
   "metadata": {},
   "outputs": [
    {
     "name": "stdout",
     "output_type": "stream",
     "text": [
      "Publicaciones sin provincia:  42\n",
      "Publicaciones sin ciudad:  83\n",
      "Publicaciones sin idzona:  7179\n",
      "Publicaciones sin ciudad ni idzona:  83\n",
      "Publicaciones sin ciudad ni provincia:  42\n",
      "Publicaciones sin ciudad ni idzona ni provincia:  42\n",
      "Cantidad ciudades:  577\n",
      "Cantidad idzonas:  11234\n"
     ]
    }
   ],
   "source": [
    "print('Publicaciones sin provincia: ', df_test.provincia.isna().sum())\n",
    "print('Publicaciones sin ciudad: ', df_test.ciudad.isna().sum())\n",
    "print('Publicaciones sin idzona: ', df_test.idzona.isna().sum())\n",
    "print('Publicaciones sin ciudad ni idzona: ', len(df_test.loc[df_test.ciudad.isna() & df_test.idzona.isna(),:]))\n",
    "print('Publicaciones sin ciudad ni provincia: ', len(df_test.loc[df_test.ciudad.isna() & df_test.provincia.isna(),:]))\n",
    "print('Publicaciones sin ciudad ni idzona ni provincia: ', len(df_test.loc[df_test.ciudad.isna() & df_test.idzona.isna() & df_test.provincia.isna(),:]))\n",
    "print('Cantidad ciudades: ', len(df_test.ciudad.unique()))\n",
    "print('Cantidad idzonas: ', len(df_test.idzona.unique()))"
   ]
  },
  {
   "cell_type": "code",
   "execution_count": 85,
   "metadata": {},
   "outputs": [],
   "source": [
    "df_test['valor m2 ciudad'] = df_test.apply(lambda row: getM2(row), axis=1)"
   ]
  },
  {
   "cell_type": "code",
   "execution_count": 86,
   "metadata": {},
   "outputs": [
    {
     "data": {
      "text/plain": [
       "60000"
      ]
     },
     "execution_count": 86,
     "metadata": {},
     "output_type": "execute_result"
    }
   ],
   "source": [
    "df_test['valor m2 ciudad'].count()"
   ]
  },
  {
   "cell_type": "markdown",
   "metadata": {},
   "source": [
    "# Terminos de Publicaciones mas caras"
   ]
  },
  {
   "cell_type": "code",
   "execution_count": 87,
   "metadata": {},
   "outputs": [
    {
     "name": "stdout",
     "output_type": "stream",
     "text": [
      "Precio maximo:  12525000.0\n",
      "Precio minimo:  310000.0\n",
      "Precio median:  1850000.0\n",
      "Precio prmdio:  2530667.2\n",
      "Publicaciones con precio mayor a promedio:  88116\n",
      "Publicaciones con precio menor o igual a promedio:  151477\n"
     ]
    }
   ],
   "source": [
    "print('Precio maximo: ', features.precio.max())\n",
    "print('Precio minimo: ', features.precio.min())\n",
    "print('Precio median: ', features.precio.median())\n",
    "print('Precio prmdio: ', features.precio.mean())\n",
    "print('Publicaciones con precio mayor a promedio: ', len(features.loc[features.precio > features.precio.mean(),:]))\n",
    "print('Publicaciones con precio menor o igual a promedio: ', len(features.loc[features.precio <= features.precio.mean(),:]))"
   ]
  },
  {
   "cell_type": "markdown",
   "metadata": {},
   "source": [
    "# Features a CSV"
   ]
  },
  {
   "cell_type": "code",
   "execution_count": 88,
   "metadata": {},
   "outputs": [],
   "source": [
    "cols_dropped = ['lat', 'lng', 'id', 'idzona', 'tot-cub','region','provincia', 'tipodepropiedad']\n",
    "cols_string = ['titulo', 'descripcion','direccion', 'ciudad','fecha']\n",
    "features_to_export = features.drop(cols_dropped + cols_string, axis=1)"
   ]
  },
  {
   "cell_type": "code",
   "execution_count": 89,
   "metadata": {},
   "outputs": [],
   "source": [
    "cols_dropped = ['lat', 'lng', 'idzona', 'tot-cub','region','provincia', 'tipodepropiedad']\n",
    "test_to_export = df_test.drop(cols_dropped + cols_string, axis=1)"
   ]
  },
  {
   "cell_type": "code",
   "execution_count": 90,
   "metadata": {},
   "outputs": [
    {
     "data": {
      "text/plain": [
       "id                               60000\n",
       "antiguedad                       60000\n",
       "habitaciones                     60000\n",
       "garages                          60000\n",
       "banos                            60000\n",
       "metroscubiertos                  60000\n",
       "metrostotales                    60000\n",
       "gimnasio                         60000\n",
       "usosmultiples                    60000\n",
       "piscina                          60000\n",
       "escuelascercanas                 60000\n",
       "centroscomercialescercanos       60000\n",
       "anio                             60000\n",
       "mes                              60000\n",
       "Centronorte                      60000\n",
       "Centrosur                        60000\n",
       "Este                             60000\n",
       "Noreste                          60000\n",
       "Noroeste                         60000\n",
       "Oeste                            60000\n",
       "Sureste                          60000\n",
       "Suroeste                         60000\n",
       "Apartamento                      60000\n",
       "Bodega comercial                 60000\n",
       "Casa                             60000\n",
       "Casa en condominio               60000\n",
       "Casa uso de suelo                60000\n",
       "Departamento Compartido          60000\n",
       "Duplex                           60000\n",
       "Edificio                         60000\n",
       "Huerta                           60000\n",
       "Inmuebles productivos urbanos    60000\n",
       "Local Comercial                  60000\n",
       "Local en centro comercial        60000\n",
       "Nave industrial                  60000\n",
       "Oficina comercial                60000\n",
       "Otros                            60000\n",
       "Quinta Vacacional                60000\n",
       "Rancho                           60000\n",
       "Terreno                          60000\n",
       "Terreno comercial                60000\n",
       "Terreno industrial               60000\n",
       "Villa                            60000\n",
       "Valor dolar                      60000\n",
       "valor m2 tipodepropiedad         60000\n",
       "valor m2 ciudad                  60000\n",
       "dtype: int64"
      ]
     },
     "execution_count": 90,
     "metadata": {},
     "output_type": "execute_result"
    }
   ],
   "source": [
    "test_to_export.count()"
   ]
  },
  {
   "cell_type": "code",
   "execution_count": 91,
   "metadata": {},
   "outputs": [],
   "source": [
    "features_to_export.to_csv('data/features.csv', index=False)\n",
    "test_to_export.to_csv('data/testModified.csv', index=False)"
   ]
  }
 ],
 "metadata": {
  "kernelspec": {
   "display_name": "Python 3",
   "language": "python",
   "name": "python3"
  },
  "language_info": {
   "codemirror_mode": {
    "name": "ipython",
    "version": 3
   },
   "file_extension": ".py",
   "mimetype": "text/x-python",
   "name": "python",
   "nbconvert_exporter": "python",
   "pygments_lexer": "ipython3",
   "version": "3.7.3"
  }
 },
 "nbformat": 4,
 "nbformat_minor": 4
}
