{
 "cells": [
  {
   "cell_type": "code",
   "execution_count": 1,
   "metadata": {},
   "outputs": [],
   "source": [
    "# Importacion de librerias y de visualizacion (matplotlib y seaborn)\n",
    "import pandas as pd\n",
    "import numpy as np\n",
    "import matplotlib.pyplot as plt\n",
    "import seaborn as sns\n",
    "import datetime as dt\n",
    "\n",
    "%matplotlib inline\n",
    "\n",
    "plt.style.use('default') # para graficos matplotlib\n",
    "plt.rcParams['figure.figsize'] = (10, 8)\n",
    "\n",
    "sns.set(style=\"whitegrid\") # grid seaborn\n",
    "\n",
    "# pd.options.display.float_format = '{:20,.0f}'.format # notacion output"
   ]
  },
  {
   "cell_type": "markdown",
   "metadata": {},
   "source": [
    "# Acceso a set de datos"
   ]
  },
  {
   "cell_type": "code",
   "execution_count": 2,
   "metadata": {},
   "outputs": [],
   "source": [
    "path = \"data/\"\n",
    "df_props_full = pd.read_csv(path + \"train_medium_provinces.csv\")\n",
    "df_test = pd.read_csv(path + \"test_medium_provinces.csv\")"
   ]
  },
  {
   "cell_type": "code",
   "execution_count": 3,
   "metadata": {},
   "outputs": [
    {
     "data": {
      "text/plain": [
       "Index(['id', 'titulo', 'descripcion', 'tipodepropiedad', 'direccion', 'ciudad',\n",
       "       'provincia', 'antiguedad', 'habitaciones', 'garages', 'banos',\n",
       "       'metroscubiertos', 'metrostotales', 'idzona', 'lat', 'lng', 'fecha',\n",
       "       'gimnasio', 'usosmultiples', 'piscina', 'escuelascercanas',\n",
       "       'centroscomercialescercanos', 'precio'],\n",
       "      dtype='object')"
      ]
     },
     "execution_count": 3,
     "metadata": {},
     "output_type": "execute_result"
    }
   ],
   "source": [
    "df_props_full.columns"
   ]
  },
  {
   "cell_type": "code",
   "execution_count": 4,
   "metadata": {},
   "outputs": [
    {
     "data": {
      "text/plain": [
       "Index(['Unnamed: 0', 'id', 'titulo', 'descripcion', 'tipodepropiedad',\n",
       "       'direccion', 'ciudad', 'provincia', 'antiguedad', 'habitaciones',\n",
       "       'garages', 'banos', 'metroscubiertos', 'metrostotales', 'idzona', 'lat',\n",
       "       'lng', 'fecha', 'gimnasio', 'usosmultiples', 'piscina',\n",
       "       'escuelascercanas', 'centroscomercialescercanos'],\n",
       "      dtype='object')"
      ]
     },
     "execution_count": 4,
     "metadata": {},
     "output_type": "execute_result"
    }
   ],
   "source": [
    "df_test.columns"
   ]
  },
  {
   "cell_type": "code",
   "execution_count": 5,
   "metadata": {},
   "outputs": [
    {
     "data": {
      "text/plain": [
       "15113        11\n",
       "1437         30\n",
       "12600        79\n",
       "1732         87\n",
       "1924        106\n",
       "          ...  \n",
       "9061     299943\n",
       "12609    299946\n",
       "2055     299955\n",
       "13082    299957\n",
       "1885     299983\n",
       "Name: id, Length: 18177, dtype: int64"
      ]
     },
     "execution_count": 5,
     "metadata": {},
     "output_type": "execute_result"
    }
   ],
   "source": [
    "df_test.id.sort_values()"
   ]
  },
  {
   "cell_type": "code",
   "execution_count": 6,
   "metadata": {},
   "outputs": [
    {
     "data": {
      "text/plain": [
       "6898          4\n",
       "5754         10\n",
       "46105        14\n",
       "67607        18\n",
       "57301        19\n",
       "          ...  \n",
       "21133    299975\n",
       "71466    299977\n",
       "42507    299979\n",
       "13045    299997\n",
       "8273     299999\n",
       "Name: id, Length: 72576, dtype: int64"
      ]
     },
     "execution_count": 6,
     "metadata": {},
     "output_type": "execute_result"
    }
   ],
   "source": [
    "df_props_full.id.sort_values()"
   ]
  },
  {
   "cell_type": "markdown",
   "metadata": {},
   "source": [
    "# Conversión de tipos"
   ]
  },
  {
   "cell_type": "code",
   "execution_count": 7,
   "metadata": {},
   "outputs": [],
   "source": [
    "df_props_full['fecha'] = pd.to_datetime(df_props_full['fecha'])\n",
    "df_test['fecha'] = pd.to_datetime(df_test['fecha'])"
   ]
  },
  {
   "cell_type": "code",
   "execution_count": 8,
   "metadata": {},
   "outputs": [],
   "source": [
    "# Convierto todos los valores 1/0 a uint8\n",
    "df_props_full['gimnasio'] = df_props_full['gimnasio'].astype('uint8')\n",
    "df_props_full['usosmultiples'] = df_props_full['usosmultiples'].astype('uint8')\n",
    "df_props_full['piscina'] = df_props_full['piscina'].astype('uint8')\n",
    "df_props_full['escuelascercanas'] = df_props_full['escuelascercanas'].astype('uint8')\n",
    "df_props_full['centroscomercialescercanos'] = df_props_full['centroscomercialescercanos'].astype('uint8')\n",
    "\n",
    "df_test['gimnasio'] = df_test['gimnasio'].astype('uint8')\n",
    "df_test['usosmultiples'] = df_test['usosmultiples'].astype('uint8')\n",
    "df_test['piscina'] = df_test['piscina'].astype('uint8')\n",
    "df_test['escuelascercanas'] = df_test['escuelascercanas'].astype('uint8')\n",
    "df_test['centroscomercialescercanos'] = df_test['centroscomercialescercanos'].astype('uint8')"
   ]
  },
  {
   "cell_type": "code",
   "execution_count": 9,
   "metadata": {},
   "outputs": [],
   "source": [
    "# Convierto los representables en uint8. Utilizo el tipo de pandas UInt8Dtype para evitar conflicto con NaN\n",
    "df_props_full['antiguedad'] = df_props_full['antiguedad'].astype(pd.UInt8Dtype())\n",
    "df_props_full['habitaciones'] = df_props_full['habitaciones'].astype(pd.UInt8Dtype())\n",
    "df_props_full['garages'] = df_props_full['garages'].astype(pd.UInt8Dtype())\n",
    "df_props_full['banos'] = df_props_full['banos'].astype(pd.UInt8Dtype())\n",
    "\n",
    "df_test['antiguedad'] = df_test['antiguedad'].astype(pd.UInt8Dtype())\n",
    "df_test['habitaciones'] = df_test['habitaciones'].astype(pd.UInt8Dtype())\n",
    "df_test['garages'] = df_test['garages'].astype(pd.UInt8Dtype())\n",
    "df_test['banos'] = df_test['banos'].astype(pd.UInt8Dtype())"
   ]
  },
  {
   "cell_type": "code",
   "execution_count": 10,
   "metadata": {},
   "outputs": [],
   "source": [
    "# Convierto los representables en uint16. Utilizo el tipo de pandas UInt16Dtype para evitar conflicto con NaN\n",
    "df_props_full['metroscubiertos'] = df_props_full['metroscubiertos'].astype(pd.UInt16Dtype())\n",
    "df_props_full['metrostotales'] = df_props_full['metrostotales'].astype(pd.UInt16Dtype())\n",
    "\n",
    "df_test['metroscubiertos'] = df_test['metroscubiertos'].astype(pd.UInt16Dtype())\n",
    "df_test['metrostotales'] = df_test['metrostotales'].astype(pd.UInt16Dtype())"
   ]
  },
  {
   "cell_type": "code",
   "execution_count": 11,
   "metadata": {},
   "outputs": [],
   "source": [
    "# Convierto los representables en uint32. Utilizo el tipo de pandas UInt32Dtype para evitar conflicto con NaN\n",
    "df_props_full['id'] = df_props_full['id'].astype(pd.UInt32Dtype())\n",
    "df_props_full['idzona'] = df_props_full['idzona'].astype(pd.UInt32Dtype())\n",
    "# df_props_full['Precio_MEX'] = df_props_full['Precio_MEX'].astype(pd.UInt32Dtype())\n",
    "# df_props_full['Precio_USD'] = df_props_full['Precio_USD'].astype(pd.UInt32Dtype())\n",
    "df_props_full['precio'] = df_props_full['precio'].astype('float32')\n",
    "\n",
    "df_test['id'] = df_test['id'].astype(pd.UInt32Dtype())\n",
    "df_test['idzona'] = df_test['idzona'].astype(pd.UInt32Dtype())"
   ]
  },
  {
   "cell_type": "markdown",
   "metadata": {},
   "source": [
    "# Habitaciones"
   ]
  },
  {
   "cell_type": "markdown",
   "metadata": {},
   "source": [
    "Basado en información obtenida del TP1 elimino habitaciones con valores nulos"
   ]
  },
  {
   "cell_type": "code",
   "execution_count": 12,
   "metadata": {},
   "outputs": [
    {
     "data": {
      "text/plain": [
       "False    65628\n",
       "True      6948\n",
       "Name: habitaciones, dtype: int64"
      ]
     },
     "execution_count": 12,
     "metadata": {},
     "output_type": "execute_result"
    }
   ],
   "source": [
    "df_props_full.habitaciones.isna().value_counts()"
   ]
  },
  {
   "cell_type": "code",
   "execution_count": 13,
   "metadata": {},
   "outputs": [
    {
     "data": {
      "text/plain": [
       "3     39202\n",
       "2     15367\n",
       "4      7707\n",
       "5      1334\n",
       "1      1263\n",
       "6       444\n",
       "7       121\n",
       "8        87\n",
       "10       62\n",
       "9        41\n",
       "Name: habitaciones, dtype: int64"
      ]
     },
     "execution_count": 13,
     "metadata": {},
     "output_type": "execute_result"
    }
   ],
   "source": [
    "df_props_full.habitaciones.value_counts()"
   ]
  },
  {
   "cell_type": "code",
   "execution_count": 14,
   "metadata": {},
   "outputs": [
    {
     "data": {
      "text/plain": [
       "72576"
      ]
     },
     "execution_count": 14,
     "metadata": {},
     "output_type": "execute_result"
    }
   ],
   "source": [
    "features = df_props_full\n",
    "len(features)"
   ]
  },
  {
   "cell_type": "code",
   "execution_count": 15,
   "metadata": {},
   "outputs": [
    {
     "data": {
      "text/html": [
       "<div>\n",
       "<style scoped>\n",
       "    .dataframe tbody tr th:only-of-type {\n",
       "        vertical-align: middle;\n",
       "    }\n",
       "\n",
       "    .dataframe tbody tr th {\n",
       "        vertical-align: top;\n",
       "    }\n",
       "\n",
       "    .dataframe thead tr th {\n",
       "        text-align: left;\n",
       "    }\n",
       "\n",
       "    .dataframe thead tr:last-of-type th {\n",
       "        text-align: right;\n",
       "    }\n",
       "</style>\n",
       "<table border=\"1\" class=\"dataframe\">\n",
       "  <thead>\n",
       "    <tr>\n",
       "      <th></th>\n",
       "      <th colspan=\"10\" halign=\"left\">0</th>\n",
       "    </tr>\n",
       "    <tr>\n",
       "      <th>habitaciones</th>\n",
       "      <th>1</th>\n",
       "      <th>2</th>\n",
       "      <th>3</th>\n",
       "      <th>4</th>\n",
       "      <th>5</th>\n",
       "      <th>6</th>\n",
       "      <th>7</th>\n",
       "      <th>8</th>\n",
       "      <th>9</th>\n",
       "      <th>10</th>\n",
       "    </tr>\n",
       "    <tr>\n",
       "      <th>tipodepropiedad</th>\n",
       "      <th></th>\n",
       "      <th></th>\n",
       "      <th></th>\n",
       "      <th></th>\n",
       "      <th></th>\n",
       "      <th></th>\n",
       "      <th></th>\n",
       "      <th></th>\n",
       "      <th></th>\n",
       "      <th></th>\n",
       "    </tr>\n",
       "  </thead>\n",
       "  <tbody>\n",
       "    <tr>\n",
       "      <td>Apartamento</td>\n",
       "      <td>423.0</td>\n",
       "      <td>3509.0</td>\n",
       "      <td>3495.0</td>\n",
       "      <td>278.0</td>\n",
       "      <td>18.0</td>\n",
       "      <td>12.0</td>\n",
       "      <td>1.0</td>\n",
       "      <td>3.0</td>\n",
       "      <td>3.0</td>\n",
       "      <td>1.0</td>\n",
       "    </tr>\n",
       "    <tr>\n",
       "      <td>Bodega comercial</td>\n",
       "      <td>10.0</td>\n",
       "      <td>5.0</td>\n",
       "      <td>6.0</td>\n",
       "      <td>4.0</td>\n",
       "      <td>3.0</td>\n",
       "      <td>1.0</td>\n",
       "      <td>NaN</td>\n",
       "      <td>NaN</td>\n",
       "      <td>NaN</td>\n",
       "      <td>NaN</td>\n",
       "    </tr>\n",
       "    <tr>\n",
       "      <td>Casa</td>\n",
       "      <td>646.0</td>\n",
       "      <td>10816.0</td>\n",
       "      <td>32739.0</td>\n",
       "      <td>6891.0</td>\n",
       "      <td>1226.0</td>\n",
       "      <td>377.0</td>\n",
       "      <td>108.0</td>\n",
       "      <td>58.0</td>\n",
       "      <td>24.0</td>\n",
       "      <td>26.0</td>\n",
       "    </tr>\n",
       "    <tr>\n",
       "      <td>Casa en condominio</td>\n",
       "      <td>64.0</td>\n",
       "      <td>794.0</td>\n",
       "      <td>2655.0</td>\n",
       "      <td>421.0</td>\n",
       "      <td>37.0</td>\n",
       "      <td>10.0</td>\n",
       "      <td>2.0</td>\n",
       "      <td>2.0</td>\n",
       "      <td>1.0</td>\n",
       "      <td>1.0</td>\n",
       "    </tr>\n",
       "    <tr>\n",
       "      <td>Casa uso de suelo</td>\n",
       "      <td>4.0</td>\n",
       "      <td>11.0</td>\n",
       "      <td>29.0</td>\n",
       "      <td>25.0</td>\n",
       "      <td>9.0</td>\n",
       "      <td>6.0</td>\n",
       "      <td>2.0</td>\n",
       "      <td>3.0</td>\n",
       "      <td>1.0</td>\n",
       "      <td>3.0</td>\n",
       "    </tr>\n",
       "    <tr>\n",
       "      <td>Departamento Compartido</td>\n",
       "      <td>1.0</td>\n",
       "      <td>6.0</td>\n",
       "      <td>3.0</td>\n",
       "      <td>NaN</td>\n",
       "      <td>NaN</td>\n",
       "      <td>1.0</td>\n",
       "      <td>NaN</td>\n",
       "      <td>NaN</td>\n",
       "      <td>NaN</td>\n",
       "      <td>NaN</td>\n",
       "    </tr>\n",
       "    <tr>\n",
       "      <td>Duplex</td>\n",
       "      <td>4.0</td>\n",
       "      <td>29.0</td>\n",
       "      <td>14.0</td>\n",
       "      <td>2.0</td>\n",
       "      <td>1.0</td>\n",
       "      <td>1.0</td>\n",
       "      <td>NaN</td>\n",
       "      <td>1.0</td>\n",
       "      <td>NaN</td>\n",
       "      <td>NaN</td>\n",
       "    </tr>\n",
       "    <tr>\n",
       "      <td>Edificio</td>\n",
       "      <td>1.0</td>\n",
       "      <td>2.0</td>\n",
       "      <td>9.0</td>\n",
       "      <td>6.0</td>\n",
       "      <td>7.0</td>\n",
       "      <td>18.0</td>\n",
       "      <td>3.0</td>\n",
       "      <td>7.0</td>\n",
       "      <td>4.0</td>\n",
       "      <td>15.0</td>\n",
       "    </tr>\n",
       "    <tr>\n",
       "      <td>Huerta</td>\n",
       "      <td>NaN</td>\n",
       "      <td>3.0</td>\n",
       "      <td>1.0</td>\n",
       "      <td>NaN</td>\n",
       "      <td>NaN</td>\n",
       "      <td>NaN</td>\n",
       "      <td>NaN</td>\n",
       "      <td>NaN</td>\n",
       "      <td>NaN</td>\n",
       "      <td>NaN</td>\n",
       "    </tr>\n",
       "    <tr>\n",
       "      <td>Inmuebles productivos urbanos</td>\n",
       "      <td>2.0</td>\n",
       "      <td>NaN</td>\n",
       "      <td>5.0</td>\n",
       "      <td>4.0</td>\n",
       "      <td>1.0</td>\n",
       "      <td>1.0</td>\n",
       "      <td>NaN</td>\n",
       "      <td>1.0</td>\n",
       "      <td>2.0</td>\n",
       "      <td>9.0</td>\n",
       "    </tr>\n",
       "    <tr>\n",
       "      <td>Local Comercial</td>\n",
       "      <td>25.0</td>\n",
       "      <td>29.0</td>\n",
       "      <td>23.0</td>\n",
       "      <td>15.0</td>\n",
       "      <td>10.0</td>\n",
       "      <td>7.0</td>\n",
       "      <td>1.0</td>\n",
       "      <td>4.0</td>\n",
       "      <td>3.0</td>\n",
       "      <td>4.0</td>\n",
       "    </tr>\n",
       "    <tr>\n",
       "      <td>Local en centro comercial</td>\n",
       "      <td>2.0</td>\n",
       "      <td>3.0</td>\n",
       "      <td>NaN</td>\n",
       "      <td>NaN</td>\n",
       "      <td>NaN</td>\n",
       "      <td>NaN</td>\n",
       "      <td>NaN</td>\n",
       "      <td>NaN</td>\n",
       "      <td>NaN</td>\n",
       "      <td>NaN</td>\n",
       "    </tr>\n",
       "    <tr>\n",
       "      <td>Nave industrial</td>\n",
       "      <td>1.0</td>\n",
       "      <td>1.0</td>\n",
       "      <td>NaN</td>\n",
       "      <td>NaN</td>\n",
       "      <td>NaN</td>\n",
       "      <td>NaN</td>\n",
       "      <td>NaN</td>\n",
       "      <td>NaN</td>\n",
       "      <td>NaN</td>\n",
       "      <td>NaN</td>\n",
       "    </tr>\n",
       "    <tr>\n",
       "      <td>Oficina comercial</td>\n",
       "      <td>5.0</td>\n",
       "      <td>5.0</td>\n",
       "      <td>9.0</td>\n",
       "      <td>5.0</td>\n",
       "      <td>4.0</td>\n",
       "      <td>4.0</td>\n",
       "      <td>NaN</td>\n",
       "      <td>5.0</td>\n",
       "      <td>1.0</td>\n",
       "      <td>1.0</td>\n",
       "    </tr>\n",
       "    <tr>\n",
       "      <td>Otros</td>\n",
       "      <td>2.0</td>\n",
       "      <td>3.0</td>\n",
       "      <td>2.0</td>\n",
       "      <td>NaN</td>\n",
       "      <td>NaN</td>\n",
       "      <td>NaN</td>\n",
       "      <td>NaN</td>\n",
       "      <td>NaN</td>\n",
       "      <td>NaN</td>\n",
       "      <td>NaN</td>\n",
       "    </tr>\n",
       "    <tr>\n",
       "      <td>Quinta Vacacional</td>\n",
       "      <td>10.0</td>\n",
       "      <td>28.0</td>\n",
       "      <td>38.0</td>\n",
       "      <td>18.0</td>\n",
       "      <td>3.0</td>\n",
       "      <td>1.0</td>\n",
       "      <td>2.0</td>\n",
       "      <td>NaN</td>\n",
       "      <td>1.0</td>\n",
       "      <td>NaN</td>\n",
       "    </tr>\n",
       "    <tr>\n",
       "      <td>Rancho</td>\n",
       "      <td>18.0</td>\n",
       "      <td>17.0</td>\n",
       "      <td>26.0</td>\n",
       "      <td>3.0</td>\n",
       "      <td>5.0</td>\n",
       "      <td>1.0</td>\n",
       "      <td>NaN</td>\n",
       "      <td>NaN</td>\n",
       "      <td>NaN</td>\n",
       "      <td>NaN</td>\n",
       "    </tr>\n",
       "    <tr>\n",
       "      <td>Terreno</td>\n",
       "      <td>27.0</td>\n",
       "      <td>41.0</td>\n",
       "      <td>28.0</td>\n",
       "      <td>8.0</td>\n",
       "      <td>5.0</td>\n",
       "      <td>2.0</td>\n",
       "      <td>2.0</td>\n",
       "      <td>1.0</td>\n",
       "      <td>NaN</td>\n",
       "      <td>1.0</td>\n",
       "    </tr>\n",
       "    <tr>\n",
       "      <td>Terreno comercial</td>\n",
       "      <td>3.0</td>\n",
       "      <td>2.0</td>\n",
       "      <td>7.0</td>\n",
       "      <td>1.0</td>\n",
       "      <td>1.0</td>\n",
       "      <td>NaN</td>\n",
       "      <td>NaN</td>\n",
       "      <td>NaN</td>\n",
       "      <td>NaN</td>\n",
       "      <td>1.0</td>\n",
       "    </tr>\n",
       "    <tr>\n",
       "      <td>Terreno industrial</td>\n",
       "      <td>NaN</td>\n",
       "      <td>NaN</td>\n",
       "      <td>NaN</td>\n",
       "      <td>NaN</td>\n",
       "      <td>NaN</td>\n",
       "      <td>NaN</td>\n",
       "      <td>NaN</td>\n",
       "      <td>NaN</td>\n",
       "      <td>1.0</td>\n",
       "      <td>NaN</td>\n",
       "    </tr>\n",
       "    <tr>\n",
       "      <td>Villa</td>\n",
       "      <td>15.0</td>\n",
       "      <td>57.0</td>\n",
       "      <td>96.0</td>\n",
       "      <td>23.0</td>\n",
       "      <td>3.0</td>\n",
       "      <td>2.0</td>\n",
       "      <td>NaN</td>\n",
       "      <td>2.0</td>\n",
       "      <td>NaN</td>\n",
       "      <td>NaN</td>\n",
       "    </tr>\n",
       "  </tbody>\n",
       "</table>\n",
       "</div>"
      ],
      "text/plain": [
       "                                   0                                           \\\n",
       "habitaciones                      1        2        3       4       5      6    \n",
       "tipodepropiedad                                                                 \n",
       "Apartamento                    423.0   3509.0   3495.0   278.0    18.0   12.0   \n",
       "Bodega comercial                10.0      5.0      6.0     4.0     3.0    1.0   \n",
       "Casa                           646.0  10816.0  32739.0  6891.0  1226.0  377.0   \n",
       "Casa en condominio              64.0    794.0   2655.0   421.0    37.0   10.0   \n",
       "Casa uso de suelo                4.0     11.0     29.0    25.0     9.0    6.0   \n",
       "Departamento Compartido          1.0      6.0      3.0     NaN     NaN    1.0   \n",
       "Duplex                           4.0     29.0     14.0     2.0     1.0    1.0   \n",
       "Edificio                         1.0      2.0      9.0     6.0     7.0   18.0   \n",
       "Huerta                           NaN      3.0      1.0     NaN     NaN    NaN   \n",
       "Inmuebles productivos urbanos    2.0      NaN      5.0     4.0     1.0    1.0   \n",
       "Local Comercial                 25.0     29.0     23.0    15.0    10.0    7.0   \n",
       "Local en centro comercial        2.0      3.0      NaN     NaN     NaN    NaN   \n",
       "Nave industrial                  1.0      1.0      NaN     NaN     NaN    NaN   \n",
       "Oficina comercial                5.0      5.0      9.0     5.0     4.0    4.0   \n",
       "Otros                            2.0      3.0      2.0     NaN     NaN    NaN   \n",
       "Quinta Vacacional               10.0     28.0     38.0    18.0     3.0    1.0   \n",
       "Rancho                          18.0     17.0     26.0     3.0     5.0    1.0   \n",
       "Terreno                         27.0     41.0     28.0     8.0     5.0    2.0   \n",
       "Terreno comercial                3.0      2.0      7.0     1.0     1.0    NaN   \n",
       "Terreno industrial               NaN      NaN      NaN     NaN     NaN    NaN   \n",
       "Villa                           15.0     57.0     96.0    23.0     3.0    2.0   \n",
       "\n",
       "                                                        \n",
       "habitaciones                      7     8     9     10  \n",
       "tipodepropiedad                                         \n",
       "Apartamento                      1.0   3.0   3.0   1.0  \n",
       "Bodega comercial                 NaN   NaN   NaN   NaN  \n",
       "Casa                           108.0  58.0  24.0  26.0  \n",
       "Casa en condominio               2.0   2.0   1.0   1.0  \n",
       "Casa uso de suelo                2.0   3.0   1.0   3.0  \n",
       "Departamento Compartido          NaN   NaN   NaN   NaN  \n",
       "Duplex                           NaN   1.0   NaN   NaN  \n",
       "Edificio                         3.0   7.0   4.0  15.0  \n",
       "Huerta                           NaN   NaN   NaN   NaN  \n",
       "Inmuebles productivos urbanos    NaN   1.0   2.0   9.0  \n",
       "Local Comercial                  1.0   4.0   3.0   4.0  \n",
       "Local en centro comercial        NaN   NaN   NaN   NaN  \n",
       "Nave industrial                  NaN   NaN   NaN   NaN  \n",
       "Oficina comercial                NaN   5.0   1.0   1.0  \n",
       "Otros                            NaN   NaN   NaN   NaN  \n",
       "Quinta Vacacional                2.0   NaN   1.0   NaN  \n",
       "Rancho                           NaN   NaN   NaN   NaN  \n",
       "Terreno                          2.0   1.0   NaN   1.0  \n",
       "Terreno comercial                NaN   NaN   NaN   1.0  \n",
       "Terreno industrial               NaN   NaN   1.0   NaN  \n",
       "Villa                            NaN   2.0   NaN   NaN  "
      ]
     },
     "execution_count": 15,
     "metadata": {},
     "output_type": "execute_result"
    }
   ],
   "source": [
    "pd.pivot_table(df_props_full.groupby(['tipodepropiedad','habitaciones']).size().to_frame(), index='tipodepropiedad',columns=['habitaciones'])"
   ]
  },
  {
   "cell_type": "code",
   "execution_count": 16,
   "metadata": {},
   "outputs": [
    {
     "name": "stdout",
     "output_type": "stream",
     "text": [
      "<class 'pandas.core.frame.DataFrame'>\n"
     ]
    },
    {
     "data": {
      "text/plain": [
       "28878"
      ]
     },
     "execution_count": 16,
     "metadata": {},
     "output_type": "execute_result"
    }
   ],
   "source": [
    "features = features.dropna(subset=['lat', 'lng', 'habitaciones'])\n",
    "\n",
    "print(type(features))\n",
    "len(features)"
   ]
  },
  {
   "cell_type": "markdown",
   "metadata": {},
   "source": [
    "# Baños"
   ]
  },
  {
   "cell_type": "markdown",
   "metadata": {},
   "source": [
    "Basado en información obtenida del TP1 elimino baños con valores nulos"
   ]
  },
  {
   "cell_type": "code",
   "execution_count": 17,
   "metadata": {},
   "outputs": [
    {
     "data": {
      "text/plain": [
       "False    64397\n",
       "True      8179\n",
       "Name: banos, dtype: int64"
      ]
     },
     "execution_count": 17,
     "metadata": {},
     "output_type": "execute_result"
    }
   ],
   "source": [
    "df_props_full.banos.isna().value_counts()"
   ]
  },
  {
   "cell_type": "code",
   "execution_count": 18,
   "metadata": {},
   "outputs": [
    {
     "data": {
      "text/plain": [
       "False    27811\n",
       "True      1067\n",
       "Name: banos, dtype: int64"
      ]
     },
     "execution_count": 18,
     "metadata": {},
     "output_type": "execute_result"
    }
   ],
   "source": [
    "features.banos.isna().value_counts()"
   ]
  },
  {
   "cell_type": "code",
   "execution_count": 19,
   "metadata": {},
   "outputs": [
    {
     "data": {
      "text/plain": [
       "2    11330\n",
       "1     7812\n",
       "3     6311\n",
       "4     2358\n",
       "Name: banos, dtype: int64"
      ]
     },
     "execution_count": 19,
     "metadata": {},
     "output_type": "execute_result"
    }
   ],
   "source": [
    "features.banos.value_counts()"
   ]
  },
  {
   "cell_type": "code",
   "execution_count": 20,
   "metadata": {},
   "outputs": [
    {
     "data": {
      "text/html": [
       "<div>\n",
       "<style scoped>\n",
       "    .dataframe tbody tr th:only-of-type {\n",
       "        vertical-align: middle;\n",
       "    }\n",
       "\n",
       "    .dataframe tbody tr th {\n",
       "        vertical-align: top;\n",
       "    }\n",
       "\n",
       "    .dataframe thead tr th {\n",
       "        text-align: left;\n",
       "    }\n",
       "\n",
       "    .dataframe thead tr:last-of-type th {\n",
       "        text-align: right;\n",
       "    }\n",
       "</style>\n",
       "<table border=\"1\" class=\"dataframe\">\n",
       "  <thead>\n",
       "    <tr>\n",
       "      <th></th>\n",
       "      <th colspan=\"4\" halign=\"left\">0</th>\n",
       "    </tr>\n",
       "    <tr>\n",
       "      <th>banos</th>\n",
       "      <th>1</th>\n",
       "      <th>2</th>\n",
       "      <th>3</th>\n",
       "      <th>4</th>\n",
       "    </tr>\n",
       "    <tr>\n",
       "      <th>tipodepropiedad</th>\n",
       "      <th></th>\n",
       "      <th></th>\n",
       "      <th></th>\n",
       "      <th></th>\n",
       "    </tr>\n",
       "  </thead>\n",
       "  <tbody>\n",
       "    <tr>\n",
       "      <td>Apartamento</td>\n",
       "      <td>2071.0</td>\n",
       "      <td>3822.0</td>\n",
       "      <td>1343.0</td>\n",
       "      <td>395.0</td>\n",
       "    </tr>\n",
       "    <tr>\n",
       "      <td>Bodega comercial</td>\n",
       "      <td>91.0</td>\n",
       "      <td>46.0</td>\n",
       "      <td>7.0</td>\n",
       "      <td>9.0</td>\n",
       "    </tr>\n",
       "    <tr>\n",
       "      <td>Casa</td>\n",
       "      <td>13486.0</td>\n",
       "      <td>20311.0</td>\n",
       "      <td>12553.0</td>\n",
       "      <td>4826.0</td>\n",
       "    </tr>\n",
       "    <tr>\n",
       "      <td>Casa en condominio</td>\n",
       "      <td>789.0</td>\n",
       "      <td>1644.0</td>\n",
       "      <td>1058.0</td>\n",
       "      <td>400.0</td>\n",
       "    </tr>\n",
       "    <tr>\n",
       "      <td>Casa uso de suelo</td>\n",
       "      <td>32.0</td>\n",
       "      <td>69.0</td>\n",
       "      <td>28.0</td>\n",
       "      <td>18.0</td>\n",
       "    </tr>\n",
       "    <tr>\n",
       "      <td>Departamento Compartido</td>\n",
       "      <td>4.0</td>\n",
       "      <td>5.0</td>\n",
       "      <td>3.0</td>\n",
       "      <td>NaN</td>\n",
       "    </tr>\n",
       "    <tr>\n",
       "      <td>Duplex</td>\n",
       "      <td>42.0</td>\n",
       "      <td>8.0</td>\n",
       "      <td>1.0</td>\n",
       "      <td>NaN</td>\n",
       "    </tr>\n",
       "    <tr>\n",
       "      <td>Edificio</td>\n",
       "      <td>13.0</td>\n",
       "      <td>23.0</td>\n",
       "      <td>30.0</td>\n",
       "      <td>22.0</td>\n",
       "    </tr>\n",
       "    <tr>\n",
       "      <td>Huerta</td>\n",
       "      <td>3.0</td>\n",
       "      <td>2.0</td>\n",
       "      <td>NaN</td>\n",
       "      <td>NaN</td>\n",
       "    </tr>\n",
       "    <tr>\n",
       "      <td>Inmuebles productivos urbanos</td>\n",
       "      <td>1.0</td>\n",
       "      <td>6.0</td>\n",
       "      <td>5.0</td>\n",
       "      <td>4.0</td>\n",
       "    </tr>\n",
       "    <tr>\n",
       "      <td>Local Comercial</td>\n",
       "      <td>192.0</td>\n",
       "      <td>170.0</td>\n",
       "      <td>63.0</td>\n",
       "      <td>46.0</td>\n",
       "    </tr>\n",
       "    <tr>\n",
       "      <td>Local en centro comercial</td>\n",
       "      <td>4.0</td>\n",
       "      <td>2.0</td>\n",
       "      <td>NaN</td>\n",
       "      <td>1.0</td>\n",
       "    </tr>\n",
       "    <tr>\n",
       "      <td>Nave industrial</td>\n",
       "      <td>4.0</td>\n",
       "      <td>2.0</td>\n",
       "      <td>3.0</td>\n",
       "      <td>1.0</td>\n",
       "    </tr>\n",
       "    <tr>\n",
       "      <td>Oficina comercial</td>\n",
       "      <td>57.0</td>\n",
       "      <td>64.0</td>\n",
       "      <td>28.0</td>\n",
       "      <td>28.0</td>\n",
       "    </tr>\n",
       "    <tr>\n",
       "      <td>Otros</td>\n",
       "      <td>3.0</td>\n",
       "      <td>3.0</td>\n",
       "      <td>2.0</td>\n",
       "      <td>NaN</td>\n",
       "    </tr>\n",
       "    <tr>\n",
       "      <td>Quinta Vacacional</td>\n",
       "      <td>14.0</td>\n",
       "      <td>42.0</td>\n",
       "      <td>29.0</td>\n",
       "      <td>11.0</td>\n",
       "    </tr>\n",
       "    <tr>\n",
       "      <td>Rancho</td>\n",
       "      <td>37.0</td>\n",
       "      <td>23.0</td>\n",
       "      <td>7.0</td>\n",
       "      <td>3.0</td>\n",
       "    </tr>\n",
       "    <tr>\n",
       "      <td>Terreno</td>\n",
       "      <td>72.0</td>\n",
       "      <td>42.0</td>\n",
       "      <td>10.0</td>\n",
       "      <td>3.0</td>\n",
       "    </tr>\n",
       "    <tr>\n",
       "      <td>Terreno comercial</td>\n",
       "      <td>33.0</td>\n",
       "      <td>17.0</td>\n",
       "      <td>5.0</td>\n",
       "      <td>1.0</td>\n",
       "    </tr>\n",
       "    <tr>\n",
       "      <td>Terreno industrial</td>\n",
       "      <td>NaN</td>\n",
       "      <td>3.0</td>\n",
       "      <td>NaN</td>\n",
       "      <td>NaN</td>\n",
       "    </tr>\n",
       "    <tr>\n",
       "      <td>Villa</td>\n",
       "      <td>48.0</td>\n",
       "      <td>63.0</td>\n",
       "      <td>61.0</td>\n",
       "      <td>16.0</td>\n",
       "    </tr>\n",
       "  </tbody>\n",
       "</table>\n",
       "</div>"
      ],
      "text/plain": [
       "                                     0                          \n",
       "banos                                1        2        3       4\n",
       "tipodepropiedad                                                 \n",
       "Apartamento                     2071.0   3822.0   1343.0   395.0\n",
       "Bodega comercial                  91.0     46.0      7.0     9.0\n",
       "Casa                           13486.0  20311.0  12553.0  4826.0\n",
       "Casa en condominio               789.0   1644.0   1058.0   400.0\n",
       "Casa uso de suelo                 32.0     69.0     28.0    18.0\n",
       "Departamento Compartido            4.0      5.0      3.0     NaN\n",
       "Duplex                            42.0      8.0      1.0     NaN\n",
       "Edificio                          13.0     23.0     30.0    22.0\n",
       "Huerta                             3.0      2.0      NaN     NaN\n",
       "Inmuebles productivos urbanos      1.0      6.0      5.0     4.0\n",
       "Local Comercial                  192.0    170.0     63.0    46.0\n",
       "Local en centro comercial          4.0      2.0      NaN     1.0\n",
       "Nave industrial                    4.0      2.0      3.0     1.0\n",
       "Oficina comercial                 57.0     64.0     28.0    28.0\n",
       "Otros                              3.0      3.0      2.0     NaN\n",
       "Quinta Vacacional                 14.0     42.0     29.0    11.0\n",
       "Rancho                            37.0     23.0      7.0     3.0\n",
       "Terreno                           72.0     42.0     10.0     3.0\n",
       "Terreno comercial                 33.0     17.0      5.0     1.0\n",
       "Terreno industrial                 NaN      3.0      NaN     NaN\n",
       "Villa                             48.0     63.0     61.0    16.0"
      ]
     },
     "execution_count": 20,
     "metadata": {},
     "output_type": "execute_result"
    }
   ],
   "source": [
    "pd.pivot_table(df_props_full.groupby(['tipodepropiedad','banos']).size().to_frame(), index='tipodepropiedad',columns=['banos'])"
   ]
  },
  {
   "cell_type": "code",
   "execution_count": 21,
   "metadata": {},
   "outputs": [
    {
     "name": "stdout",
     "output_type": "stream",
     "text": [
      "<class 'pandas.core.frame.DataFrame'>\n"
     ]
    },
    {
     "data": {
      "text/plain": [
       "27811"
      ]
     },
     "execution_count": 21,
     "metadata": {},
     "output_type": "execute_result"
    }
   ],
   "source": [
    "features = features.dropna(subset=['banos'])\n",
    "\n",
    "print(type(features))\n",
    "len(features)"
   ]
  },
  {
   "cell_type": "markdown",
   "metadata": {},
   "source": [
    "# Garages"
   ]
  },
  {
   "cell_type": "code",
   "execution_count": 22,
   "metadata": {},
   "outputs": [
    {
     "data": {
      "text/plain": [
       "False    59016\n",
       "True     13560\n",
       "Name: garages, dtype: int64"
      ]
     },
     "execution_count": 22,
     "metadata": {},
     "output_type": "execute_result"
    }
   ],
   "source": [
    "df_props_full.garages.isna().value_counts()"
   ]
  },
  {
   "cell_type": "code",
   "execution_count": 23,
   "metadata": {},
   "outputs": [
    {
     "data": {
      "text/plain": [
       "False    23255\n",
       "True      4556\n",
       "Name: garages, dtype: int64"
      ]
     },
     "execution_count": 23,
     "metadata": {},
     "output_type": "execute_result"
    }
   ],
   "source": [
    "features.garages.isna().value_counts()"
   ]
  },
  {
   "cell_type": "code",
   "execution_count": 24,
   "metadata": {},
   "outputs": [
    {
     "data": {
      "text/plain": [
       "2    12949\n",
       "1     7336\n",
       "3     1670\n",
       "0     1300\n",
       "Name: garages, dtype: int64"
      ]
     },
     "execution_count": 24,
     "metadata": {},
     "output_type": "execute_result"
    }
   ],
   "source": [
    "features.garages.value_counts()"
   ]
  },
  {
   "cell_type": "code",
   "execution_count": 25,
   "metadata": {},
   "outputs": [
    {
     "data": {
      "text/html": [
       "<div>\n",
       "<style scoped>\n",
       "    .dataframe tbody tr th:only-of-type {\n",
       "        vertical-align: middle;\n",
       "    }\n",
       "\n",
       "    .dataframe tbody tr th {\n",
       "        vertical-align: top;\n",
       "    }\n",
       "\n",
       "    .dataframe thead tr th {\n",
       "        text-align: left;\n",
       "    }\n",
       "\n",
       "    .dataframe thead tr:last-of-type th {\n",
       "        text-align: right;\n",
       "    }\n",
       "</style>\n",
       "<table border=\"1\" class=\"dataframe\">\n",
       "  <thead>\n",
       "    <tr>\n",
       "      <th></th>\n",
       "      <th colspan=\"4\" halign=\"left\">0</th>\n",
       "    </tr>\n",
       "    <tr>\n",
       "      <th>garages</th>\n",
       "      <th>0</th>\n",
       "      <th>1</th>\n",
       "      <th>2</th>\n",
       "      <th>3</th>\n",
       "    </tr>\n",
       "    <tr>\n",
       "      <th>tipodepropiedad</th>\n",
       "      <th></th>\n",
       "      <th></th>\n",
       "      <th></th>\n",
       "      <th></th>\n",
       "    </tr>\n",
       "  </thead>\n",
       "  <tbody>\n",
       "    <tr>\n",
       "      <td>Apartamento</td>\n",
       "      <td>481.0</td>\n",
       "      <td>3077.0</td>\n",
       "      <td>3301.0</td>\n",
       "      <td>164.0</td>\n",
       "    </tr>\n",
       "    <tr>\n",
       "      <td>Bodega comercial</td>\n",
       "      <td>145.0</td>\n",
       "      <td>11.0</td>\n",
       "      <td>18.0</td>\n",
       "      <td>14.0</td>\n",
       "    </tr>\n",
       "    <tr>\n",
       "      <td>Casa</td>\n",
       "      <td>3683.0</td>\n",
       "      <td>11940.0</td>\n",
       "      <td>25359.0</td>\n",
       "      <td>3625.0</td>\n",
       "    </tr>\n",
       "    <tr>\n",
       "      <td>Casa en condominio</td>\n",
       "      <td>88.0</td>\n",
       "      <td>961.0</td>\n",
       "      <td>2056.0</td>\n",
       "      <td>267.0</td>\n",
       "    </tr>\n",
       "    <tr>\n",
       "      <td>Casa uso de suelo</td>\n",
       "      <td>33.0</td>\n",
       "      <td>29.0</td>\n",
       "      <td>41.0</td>\n",
       "      <td>15.0</td>\n",
       "    </tr>\n",
       "    <tr>\n",
       "      <td>Departamento Compartido</td>\n",
       "      <td>5.0</td>\n",
       "      <td>3.0</td>\n",
       "      <td>3.0</td>\n",
       "      <td>NaN</td>\n",
       "    </tr>\n",
       "    <tr>\n",
       "      <td>Duplex</td>\n",
       "      <td>3.0</td>\n",
       "      <td>36.0</td>\n",
       "      <td>10.0</td>\n",
       "      <td>2.0</td>\n",
       "    </tr>\n",
       "    <tr>\n",
       "      <td>Edificio</td>\n",
       "      <td>119.0</td>\n",
       "      <td>16.0</td>\n",
       "      <td>25.0</td>\n",
       "      <td>21.0</td>\n",
       "    </tr>\n",
       "    <tr>\n",
       "      <td>Huerta</td>\n",
       "      <td>10.0</td>\n",
       "      <td>NaN</td>\n",
       "      <td>NaN</td>\n",
       "      <td>NaN</td>\n",
       "    </tr>\n",
       "    <tr>\n",
       "      <td>Inmuebles productivos urbanos</td>\n",
       "      <td>21.0</td>\n",
       "      <td>1.0</td>\n",
       "      <td>6.0</td>\n",
       "      <td>1.0</td>\n",
       "    </tr>\n",
       "    <tr>\n",
       "      <td>Local Comercial</td>\n",
       "      <td>355.0</td>\n",
       "      <td>65.0</td>\n",
       "      <td>94.0</td>\n",
       "      <td>31.0</td>\n",
       "    </tr>\n",
       "    <tr>\n",
       "      <td>Local en centro comercial</td>\n",
       "      <td>13.0</td>\n",
       "      <td>2.0</td>\n",
       "      <td>NaN</td>\n",
       "      <td>2.0</td>\n",
       "    </tr>\n",
       "    <tr>\n",
       "      <td>Lote</td>\n",
       "      <td>1.0</td>\n",
       "      <td>NaN</td>\n",
       "      <td>NaN</td>\n",
       "      <td>NaN</td>\n",
       "    </tr>\n",
       "    <tr>\n",
       "      <td>Nave industrial</td>\n",
       "      <td>5.0</td>\n",
       "      <td>NaN</td>\n",
       "      <td>2.0</td>\n",
       "      <td>2.0</td>\n",
       "    </tr>\n",
       "    <tr>\n",
       "      <td>Oficina comercial</td>\n",
       "      <td>84.0</td>\n",
       "      <td>40.0</td>\n",
       "      <td>50.0</td>\n",
       "      <td>22.0</td>\n",
       "    </tr>\n",
       "    <tr>\n",
       "      <td>Otros</td>\n",
       "      <td>2.0</td>\n",
       "      <td>3.0</td>\n",
       "      <td>1.0</td>\n",
       "      <td>1.0</td>\n",
       "    </tr>\n",
       "    <tr>\n",
       "      <td>Quinta Vacacional</td>\n",
       "      <td>22.0</td>\n",
       "      <td>3.0</td>\n",
       "      <td>17.0</td>\n",
       "      <td>7.0</td>\n",
       "    </tr>\n",
       "    <tr>\n",
       "      <td>Rancho</td>\n",
       "      <td>30.0</td>\n",
       "      <td>7.0</td>\n",
       "      <td>4.0</td>\n",
       "      <td>4.0</td>\n",
       "    </tr>\n",
       "    <tr>\n",
       "      <td>Terreno</td>\n",
       "      <td>2153.0</td>\n",
       "      <td>12.0</td>\n",
       "      <td>17.0</td>\n",
       "      <td>7.0</td>\n",
       "    </tr>\n",
       "    <tr>\n",
       "      <td>Terreno comercial</td>\n",
       "      <td>198.0</td>\n",
       "      <td>1.0</td>\n",
       "      <td>2.0</td>\n",
       "      <td>1.0</td>\n",
       "    </tr>\n",
       "    <tr>\n",
       "      <td>Villa</td>\n",
       "      <td>9.0</td>\n",
       "      <td>48.0</td>\n",
       "      <td>80.0</td>\n",
       "      <td>15.0</td>\n",
       "    </tr>\n",
       "  </tbody>\n",
       "</table>\n",
       "</div>"
      ],
      "text/plain": [
       "                                    0                          \n",
       "garages                             0        1        2       3\n",
       "tipodepropiedad                                                \n",
       "Apartamento                     481.0   3077.0   3301.0   164.0\n",
       "Bodega comercial                145.0     11.0     18.0    14.0\n",
       "Casa                           3683.0  11940.0  25359.0  3625.0\n",
       "Casa en condominio               88.0    961.0   2056.0   267.0\n",
       "Casa uso de suelo                33.0     29.0     41.0    15.0\n",
       "Departamento Compartido           5.0      3.0      3.0     NaN\n",
       "Duplex                            3.0     36.0     10.0     2.0\n",
       "Edificio                        119.0     16.0     25.0    21.0\n",
       "Huerta                           10.0      NaN      NaN     NaN\n",
       "Inmuebles productivos urbanos    21.0      1.0      6.0     1.0\n",
       "Local Comercial                 355.0     65.0     94.0    31.0\n",
       "Local en centro comercial        13.0      2.0      NaN     2.0\n",
       "Lote                              1.0      NaN      NaN     NaN\n",
       "Nave industrial                   5.0      NaN      2.0     2.0\n",
       "Oficina comercial                84.0     40.0     50.0    22.0\n",
       "Otros                             2.0      3.0      1.0     1.0\n",
       "Quinta Vacacional                22.0      3.0     17.0     7.0\n",
       "Rancho                           30.0      7.0      4.0     4.0\n",
       "Terreno                        2153.0     12.0     17.0     7.0\n",
       "Terreno comercial               198.0      1.0      2.0     1.0\n",
       "Villa                             9.0     48.0     80.0    15.0"
      ]
     },
     "execution_count": 25,
     "metadata": {},
     "output_type": "execute_result"
    }
   ],
   "source": [
    "pd.pivot_table(df_props_full.groupby(['tipodepropiedad','garages']).size().to_frame(), index='tipodepropiedad',columns=['garages'])"
   ]
  },
  {
   "cell_type": "code",
   "execution_count": 26,
   "metadata": {},
   "outputs": [
    {
     "data": {
      "text/html": [
       "<div>\n",
       "<style scoped>\n",
       "    .dataframe tbody tr th:only-of-type {\n",
       "        vertical-align: middle;\n",
       "    }\n",
       "\n",
       "    .dataframe tbody tr th {\n",
       "        vertical-align: top;\n",
       "    }\n",
       "\n",
       "    .dataframe thead tr th {\n",
       "        text-align: left;\n",
       "    }\n",
       "\n",
       "    .dataframe thead tr:last-of-type th {\n",
       "        text-align: right;\n",
       "    }\n",
       "</style>\n",
       "<table border=\"1\" class=\"dataframe\">\n",
       "  <thead>\n",
       "    <tr>\n",
       "      <th></th>\n",
       "      <th colspan=\"4\" halign=\"left\">0</th>\n",
       "    </tr>\n",
       "    <tr>\n",
       "      <th>garages</th>\n",
       "      <th>0</th>\n",
       "      <th>1</th>\n",
       "      <th>2</th>\n",
       "      <th>3</th>\n",
       "    </tr>\n",
       "    <tr>\n",
       "      <th>tipodepropiedad</th>\n",
       "      <th></th>\n",
       "      <th></th>\n",
       "      <th></th>\n",
       "      <th></th>\n",
       "    </tr>\n",
       "  </thead>\n",
       "  <tbody>\n",
       "    <tr>\n",
       "      <td>Apartamento</td>\n",
       "      <td>481.0</td>\n",
       "      <td>3077.0</td>\n",
       "      <td>3301.0</td>\n",
       "      <td>164.0</td>\n",
       "    </tr>\n",
       "    <tr>\n",
       "      <td>Bodega comercial</td>\n",
       "      <td>145.0</td>\n",
       "      <td>11.0</td>\n",
       "      <td>18.0</td>\n",
       "      <td>14.0</td>\n",
       "    </tr>\n",
       "    <tr>\n",
       "      <td>Casa</td>\n",
       "      <td>3683.0</td>\n",
       "      <td>11940.0</td>\n",
       "      <td>25359.0</td>\n",
       "      <td>3625.0</td>\n",
       "    </tr>\n",
       "    <tr>\n",
       "      <td>Casa en condominio</td>\n",
       "      <td>88.0</td>\n",
       "      <td>961.0</td>\n",
       "      <td>2056.0</td>\n",
       "      <td>267.0</td>\n",
       "    </tr>\n",
       "    <tr>\n",
       "      <td>Casa uso de suelo</td>\n",
       "      <td>33.0</td>\n",
       "      <td>29.0</td>\n",
       "      <td>41.0</td>\n",
       "      <td>15.0</td>\n",
       "    </tr>\n",
       "    <tr>\n",
       "      <td>Departamento Compartido</td>\n",
       "      <td>5.0</td>\n",
       "      <td>3.0</td>\n",
       "      <td>3.0</td>\n",
       "      <td>NaN</td>\n",
       "    </tr>\n",
       "    <tr>\n",
       "      <td>Duplex</td>\n",
       "      <td>3.0</td>\n",
       "      <td>36.0</td>\n",
       "      <td>10.0</td>\n",
       "      <td>2.0</td>\n",
       "    </tr>\n",
       "    <tr>\n",
       "      <td>Edificio</td>\n",
       "      <td>119.0</td>\n",
       "      <td>16.0</td>\n",
       "      <td>25.0</td>\n",
       "      <td>21.0</td>\n",
       "    </tr>\n",
       "    <tr>\n",
       "      <td>Huerta</td>\n",
       "      <td>10.0</td>\n",
       "      <td>NaN</td>\n",
       "      <td>NaN</td>\n",
       "      <td>NaN</td>\n",
       "    </tr>\n",
       "    <tr>\n",
       "      <td>Inmuebles productivos urbanos</td>\n",
       "      <td>21.0</td>\n",
       "      <td>1.0</td>\n",
       "      <td>6.0</td>\n",
       "      <td>1.0</td>\n",
       "    </tr>\n",
       "    <tr>\n",
       "      <td>Local Comercial</td>\n",
       "      <td>355.0</td>\n",
       "      <td>65.0</td>\n",
       "      <td>94.0</td>\n",
       "      <td>31.0</td>\n",
       "    </tr>\n",
       "    <tr>\n",
       "      <td>Local en centro comercial</td>\n",
       "      <td>13.0</td>\n",
       "      <td>2.0</td>\n",
       "      <td>NaN</td>\n",
       "      <td>2.0</td>\n",
       "    </tr>\n",
       "    <tr>\n",
       "      <td>Lote</td>\n",
       "      <td>1.0</td>\n",
       "      <td>NaN</td>\n",
       "      <td>NaN</td>\n",
       "      <td>NaN</td>\n",
       "    </tr>\n",
       "    <tr>\n",
       "      <td>Nave industrial</td>\n",
       "      <td>5.0</td>\n",
       "      <td>NaN</td>\n",
       "      <td>2.0</td>\n",
       "      <td>2.0</td>\n",
       "    </tr>\n",
       "    <tr>\n",
       "      <td>Oficina comercial</td>\n",
       "      <td>84.0</td>\n",
       "      <td>40.0</td>\n",
       "      <td>50.0</td>\n",
       "      <td>22.0</td>\n",
       "    </tr>\n",
       "    <tr>\n",
       "      <td>Otros</td>\n",
       "      <td>2.0</td>\n",
       "      <td>3.0</td>\n",
       "      <td>1.0</td>\n",
       "      <td>1.0</td>\n",
       "    </tr>\n",
       "    <tr>\n",
       "      <td>Quinta Vacacional</td>\n",
       "      <td>22.0</td>\n",
       "      <td>3.0</td>\n",
       "      <td>17.0</td>\n",
       "      <td>7.0</td>\n",
       "    </tr>\n",
       "    <tr>\n",
       "      <td>Rancho</td>\n",
       "      <td>30.0</td>\n",
       "      <td>7.0</td>\n",
       "      <td>4.0</td>\n",
       "      <td>4.0</td>\n",
       "    </tr>\n",
       "    <tr>\n",
       "      <td>Terreno</td>\n",
       "      <td>2153.0</td>\n",
       "      <td>12.0</td>\n",
       "      <td>17.0</td>\n",
       "      <td>7.0</td>\n",
       "    </tr>\n",
       "    <tr>\n",
       "      <td>Terreno comercial</td>\n",
       "      <td>198.0</td>\n",
       "      <td>1.0</td>\n",
       "      <td>2.0</td>\n",
       "      <td>1.0</td>\n",
       "    </tr>\n",
       "    <tr>\n",
       "      <td>Villa</td>\n",
       "      <td>9.0</td>\n",
       "      <td>48.0</td>\n",
       "      <td>80.0</td>\n",
       "      <td>15.0</td>\n",
       "    </tr>\n",
       "  </tbody>\n",
       "</table>\n",
       "</div>"
      ],
      "text/plain": [
       "                                    0                          \n",
       "garages                             0        1        2       3\n",
       "tipodepropiedad                                                \n",
       "Apartamento                     481.0   3077.0   3301.0   164.0\n",
       "Bodega comercial                145.0     11.0     18.0    14.0\n",
       "Casa                           3683.0  11940.0  25359.0  3625.0\n",
       "Casa en condominio               88.0    961.0   2056.0   267.0\n",
       "Casa uso de suelo                33.0     29.0     41.0    15.0\n",
       "Departamento Compartido           5.0      3.0      3.0     NaN\n",
       "Duplex                            3.0     36.0     10.0     2.0\n",
       "Edificio                        119.0     16.0     25.0    21.0\n",
       "Huerta                           10.0      NaN      NaN     NaN\n",
       "Inmuebles productivos urbanos    21.0      1.0      6.0     1.0\n",
       "Local Comercial                 355.0     65.0     94.0    31.0\n",
       "Local en centro comercial        13.0      2.0      NaN     2.0\n",
       "Lote                              1.0      NaN      NaN     NaN\n",
       "Nave industrial                   5.0      NaN      2.0     2.0\n",
       "Oficina comercial                84.0     40.0     50.0    22.0\n",
       "Otros                             2.0      3.0      1.0     1.0\n",
       "Quinta Vacacional                22.0      3.0     17.0     7.0\n",
       "Rancho                           30.0      7.0      4.0     4.0\n",
       "Terreno                        2153.0     12.0     17.0     7.0\n",
       "Terreno comercial               198.0      1.0      2.0     1.0\n",
       "Villa                             9.0     48.0     80.0    15.0"
      ]
     },
     "execution_count": 26,
     "metadata": {},
     "output_type": "execute_result"
    }
   ],
   "source": [
    "pd.pivot_table(df_props_full.groupby(['tipodepropiedad','garages']).size().to_frame(), index='tipodepropiedad',columns=['garages'])"
   ]
  },
  {
   "cell_type": "markdown",
   "metadata": {},
   "source": [
    "Basado en informacion del TP1 completo con 0 aquellas propiedades que muestren una tendencia a este valor y elimino el resto"
   ]
  },
  {
   "cell_type": "code",
   "execution_count": 27,
   "metadata": {},
   "outputs": [
    {
     "data": {
      "text/plain": [
       "27811"
      ]
     },
     "execution_count": 27,
     "metadata": {},
     "output_type": "execute_result"
    }
   ],
   "source": [
    "aCompletar = ['Edificio','Bodega comercial','Terreno comercial','Local comercial','Terreno','Rancho','Inmuebles productivos urbanos','Nave industrial','Local en centro comercial']\n",
    "features.loc[(features.tipodepropiedad.isin(aCompletar)), 'garages'] = features.loc[(features.tipodepropiedad.isin(aCompletar)), 'garages'].fillna(0)\n",
    "df_test.loc[(df_test.tipodepropiedad.isin(aCompletar)), 'garages'] = df_test.loc[(df_test.tipodepropiedad.isin(aCompletar)), 'garages'].fillna(0)\n",
    "\n",
    "\n",
    "len(features)"
   ]
  },
  {
   "cell_type": "code",
   "execution_count": 28,
   "metadata": {},
   "outputs": [
    {
     "data": {
      "text/plain": [
       "False    18439\n",
       "True      3701\n",
       "Name: garages, dtype: int64"
      ]
     },
     "execution_count": 28,
     "metadata": {},
     "output_type": "execute_result"
    }
   ],
   "source": [
    "features.loc[(features['tipodepropiedad']=='Casa'),:].garages.isna().value_counts()"
   ]
  },
  {
   "cell_type": "code",
   "execution_count": 29,
   "metadata": {},
   "outputs": [
    {
     "data": {
      "text/plain": [
       "False    1378\n",
       "True      368\n",
       "Name: garages, dtype: int64"
      ]
     },
     "execution_count": 29,
     "metadata": {},
     "output_type": "execute_result"
    }
   ],
   "source": [
    "features.loc[(features['tipodepropiedad']=='Casa en condominio'),:].garages.isna().value_counts()"
   ]
  },
  {
   "cell_type": "code",
   "execution_count": 30,
   "metadata": {},
   "outputs": [
    {
     "data": {
      "text/plain": [
       "False    61\n",
       "True     18\n",
       "Name: garages, dtype: int64"
      ]
     },
     "execution_count": 30,
     "metadata": {},
     "output_type": "execute_result"
    }
   ],
   "source": [
    "features.loc[(features['tipodepropiedad']=='Villa'),:].garages.isna().value_counts()"
   ]
  },
  {
   "cell_type": "markdown",
   "metadata": {},
   "source": [
    "Completo estas tres propiedades con valor 2 que tiene mayor cantidad de publicaciones"
   ]
  },
  {
   "cell_type": "code",
   "execution_count": 31,
   "metadata": {},
   "outputs": [
    {
     "data": {
      "text/plain": [
       "27811"
      ]
     },
     "execution_count": 31,
     "metadata": {},
     "output_type": "execute_result"
    }
   ],
   "source": [
    "aCompletar2 = ['Casa', 'Casa en condominio', 'Villa']\n",
    "features.loc[(features.tipodepropiedad.isin(aCompletar2)), 'garages'] = features.loc[(features.tipodepropiedad.isin(aCompletar2)), 'garages'].fillna(2)\n",
    "df_test.loc[(df_test.tipodepropiedad.isin(aCompletar2)), 'garages'] = df_test.loc[(df_test.tipodepropiedad.isin(aCompletar2)), 'garages'].fillna(2)\n",
    "\n",
    "len(features)"
   ]
  },
  {
   "cell_type": "code",
   "execution_count": 32,
   "metadata": {},
   "outputs": [
    {
     "data": {
      "text/plain": [
       "False    27404\n",
       "True       407\n",
       "Name: garages, dtype: int64"
      ]
     },
     "execution_count": 32,
     "metadata": {},
     "output_type": "execute_result"
    }
   ],
   "source": [
    "features.garages.isna().value_counts()"
   ]
  },
  {
   "cell_type": "code",
   "execution_count": 33,
   "metadata": {},
   "outputs": [
    {
     "data": {
      "text/plain": [
       "27404"
      ]
     },
     "execution_count": 33,
     "metadata": {},
     "output_type": "execute_result"
    }
   ],
   "source": [
    "features = features.dropna(subset=['garages'])\n",
    "\n",
    "len(features)"
   ]
  },
  {
   "cell_type": "markdown",
   "metadata": {},
   "source": [
    "# Metros"
   ]
  },
  {
   "cell_type": "code",
   "execution_count": 34,
   "metadata": {},
   "outputs": [],
   "source": [
    "from sklearn.impute import SimpleImputer"
   ]
  },
  {
   "cell_type": "code",
   "execution_count": 35,
   "metadata": {},
   "outputs": [],
   "source": [
    "imp = SimpleImputer()\n",
    "features['metroscubiertos'] = imp.fit_transform(features[['metroscubiertos']])\n",
    "features['metrostotales'] = imp.fit_transform(features[['metrostotales']])\n",
    "\n",
    "df_test['metroscubiertos'] = imp.fit_transform(df_test[['metroscubiertos']])\n",
    "df_test['metrostotales'] = imp.fit_transform(df_test[['metrostotales']])"
   ]
  },
  {
   "cell_type": "markdown",
   "metadata": {},
   "source": [
    "# Antiguedad"
   ]
  },
  {
   "cell_type": "code",
   "execution_count": 36,
   "metadata": {},
   "outputs": [],
   "source": [
    "features['antiguedad'] = imp.fit_transform(features[['antiguedad']])\n",
    "\n",
    "df_test['antiguedad'] = imp.fit_transform(df_test[['antiguedad']])"
   ]
  },
  {
   "cell_type": "markdown",
   "metadata": {},
   "source": [
    "# Tipo de propiedad"
   ]
  },
  {
   "cell_type": "code",
   "execution_count": 37,
   "metadata": {},
   "outputs": [
    {
     "data": {
      "text/plain": [
       "False    27399\n",
       "True         5\n",
       "Name: tipodepropiedad, dtype: int64"
      ]
     },
     "execution_count": 37,
     "metadata": {},
     "output_type": "execute_result"
    }
   ],
   "source": [
    "features.tipodepropiedad.isna().value_counts()"
   ]
  },
  {
   "cell_type": "code",
   "execution_count": 38,
   "metadata": {},
   "outputs": [
    {
     "data": {
      "text/plain": [
       "27399"
      ]
     },
     "execution_count": 38,
     "metadata": {},
     "output_type": "execute_result"
    }
   ],
   "source": [
    "# Drop de datos sin tipo\n",
    "features = features.dropna(subset=['tipodepropiedad'])\n",
    "len(features)"
   ]
  },
  {
   "cell_type": "markdown",
   "metadata": {},
   "source": [
    "# Ciudad"
   ]
  },
  {
   "cell_type": "code",
   "execution_count": 39,
   "metadata": {},
   "outputs": [],
   "source": [
    "def ciudadesByProvinciaMap(df):\n",
    "    provs_ciudades = {}\n",
    "    for i in range(0,len(df)):\n",
    "        prov = df.loc[i,'provincia']\n",
    "        city = df.loc[i,'ciudad']\n",
    "        if ((not pd.isna(prov)) and (not pd.isna(city))):\n",
    "            if (not prov in provs_ciudades):\n",
    "                provs_ciudades[prov] = []\n",
    "            if (not city in provs_ciudades[prov]):\n",
    "                provs_ciudades[prov].append(city)\n",
    "    return provs_ciudades"
   ]
  },
  {
   "cell_type": "code",
   "execution_count": 40,
   "metadata": {},
   "outputs": [],
   "source": [
    "def provinciaByIdZonaMap(df):\n",
    "    id_prov = {}\n",
    "    for i in range(0,len(df)):\n",
    "        prov = df.loc[i,'provincia']\n",
    "        idzona = df.loc[i,'idzona']\n",
    "        if ((not pd.isna(prov)) and (not pd.isna(idzona))):\n",
    "            if (not idzona in id_prov):\n",
    "                id_prov[idzona] = []\n",
    "            if (not prov in id_prov[idzona]):\n",
    "                id_prov[idzona].append(prov)\n",
    "    return id_prov"
   ]
  },
  {
   "cell_type": "markdown",
   "metadata": {},
   "source": [
    "# Provincia"
   ]
  },
  {
   "cell_type": "markdown",
   "metadata": {},
   "source": [
    "One hot encoding"
   ]
  },
  {
   "cell_type": "code",
   "execution_count": 41,
   "metadata": {},
   "outputs": [],
   "source": [
    "one_hot = pd.get_dummies(features.provincia)\n",
    "features = features.drop('provincia',axis = 1)\n",
    "features = features.join(one_hot)\n",
    "\n",
    "one_hot_test = pd.get_dummies(df_test.provincia)\n",
    "df_test = df_test.drop('provincia',axis = 1)\n",
    "df_test = df_test.join(one_hot_test)"
   ]
  },
  {
   "cell_type": "markdown",
   "metadata": {},
   "source": [
    "features = features.reset_index(drop=True)  # Corrijo index con rows eliminadas para que funcione el for"
   ]
  },
  {
   "cell_type": "raw",
   "metadata": {},
   "source": [
    "# Evaluo cuantas publicaciones no tienen ni propiedad ni ciudad ni idzona\n",
    "features.loc[(features.provincia.isna() & features.ciudad.isna() & features.idzona.isna()),:].shape"
   ]
  },
  {
   "cell_type": "raw",
   "metadata": {},
   "source": [
    "# Evaluo cuantas publicaciones (test) no tienen ni propiedad ni ciudad ni idzona\n",
    "df_test.loc[(df_test.provincia.isna() & df_test.ciudad.isna() & df_test.idzona.isna()),:].shape"
   ]
  },
  {
   "cell_type": "raw",
   "metadata": {},
   "source": [
    "features.provincia.isna().value_counts()"
   ]
  },
  {
   "cell_type": "raw",
   "metadata": {},
   "source": [
    "# Descarto todas las publicaciones sin provincia, que son las mismas que no tienen idzona ni ciudad\n",
    "features = features.dropna(subset=['provincia'])\n",
    "features.shape"
   ]
  },
  {
   "cell_type": "raw",
   "metadata": {},
   "source": [
    "df_test.provincia.isna().value_counts()"
   ]
  },
  {
   "cell_type": "raw",
   "metadata": {},
   "source": [
    "provincias_por_idzona = provinciaByIdZonaMap(df_test)\n",
    "ciudades_por_provincia = ciudadesByProvinciaMap(df_test)"
   ]
  },
  {
   "cell_type": "raw",
   "metadata": {},
   "source": [
    "provincia_count = features.provincia.value_counts()\n",
    "test_provincia_count = df_test.provincia.value_counts()"
   ]
  },
  {
   "cell_type": "raw",
   "metadata": {},
   "source": [
    "test_provincia_count"
   ]
  },
  {
   "cell_type": "raw",
   "metadata": {},
   "source": [
    "import random \n",
    "\n",
    "# Completo id zona con valor random de los que tengo datos para luego llenar provincia y ciudad\n",
    "df_test.idzona = df_test.idzona.fillna(random.choice(list(provincias_por_idzona.keys())))"
   ]
  },
  {
   "cell_type": "raw",
   "metadata": {},
   "source": [
    "# Completo valores ausentes de provincia\n",
    "for i in range(0,len(df_test)):\n",
    "    if (pd.isna(df_test.loc[i,'provincia'])):\n",
    "        df_test.loc[i,'provincia'] =  provincias_por_idzona.get(df_test.loc[i,'idzona'])[0]"
   ]
  },
  {
   "cell_type": "raw",
   "metadata": {},
   "source": [
    "# Completo valores ausentes de ciudad (random)\n",
    "for i in range(0,len(df_test)):\n",
    "    if (pd.isna(df_test.loc[i,'ciudad'])):\n",
    "        ciudades = ciudades_por_provincia.get(df_test.loc[i,'provincia'])\n",
    "        df_test.loc[i,'ciudad'] =  ciudades[random.choice(range(1,len(ciudades)))]"
   ]
  },
  {
   "cell_type": "raw",
   "metadata": {},
   "source": [
    "df_test.ciudad.isna().value_counts()"
   ]
  },
  {
   "cell_type": "raw",
   "metadata": {},
   "source": [
    "features.provincia = features.provincia.apply(lambda x: provincia_count[x])\n",
    "df_test.provincia = df_test.provincia.apply(lambda x: test_provincia_count[x])"
   ]
  },
  {
   "cell_type": "markdown",
   "metadata": {},
   "source": [
    "# Fix Test data set"
   ]
  },
  {
   "cell_type": "code",
   "execution_count": 42,
   "metadata": {
    "jupyter": {
     "source_hidden": true
    }
   },
   "outputs": [
    {
     "data": {
      "text/plain": [
       "18177"
      ]
     },
     "execution_count": 42,
     "metadata": {},
     "output_type": "execute_result"
    }
   ],
   "source": [
    "len(df_test)"
   ]
  },
  {
   "cell_type": "code",
   "execution_count": 43,
   "metadata": {},
   "outputs": [
    {
     "data": {
      "text/plain": [
       "Unnamed: 0                    18177\n",
       "antiguedad                    18177\n",
       "habitaciones                  16470\n",
       "garages                       17737\n",
       "banos                         16119\n",
       "metroscubiertos               18177\n",
       "metrostotales                 18177\n",
       "lat                            8071\n",
       "lng                            8071\n",
       "gimnasio                      18177\n",
       "usosmultiples                 18177\n",
       "piscina                       18177\n",
       "escuelascercanas              18177\n",
       "centroscomercialescercanos    18177\n",
       "Aguascalientes                18177\n",
       "Baja California Norte         18177\n",
       "Baja California Sur           18177\n",
       "Chiapas                       18177\n",
       "Chihuahua                     18177\n",
       "Coahuila                      18177\n",
       "Colima                        18177\n",
       "Durango                       18177\n",
       "Guanajuato                    18177\n",
       "Guerrero                      18177\n",
       "Hidalgo                       18177\n",
       "Michoacán                     18177\n",
       "Morelos                       18177\n",
       "Nayarit                       18177\n",
       "Quintana Roo                  18177\n",
       "San luis Potosí               18177\n",
       "Sinaloa                       18177\n",
       "Sonora                        18177\n",
       "Tamaulipas                    18177\n",
       "Veracruz                      18177\n",
       "Yucatán                       18177\n",
       "dtype: int64"
      ]
     },
     "execution_count": 43,
     "metadata": {},
     "output_type": "execute_result"
    }
   ],
   "source": [
    "cols_dropped = ['fecha', 'id', 'idzona']\n",
    "cols_string = ['titulo', 'descripcion','tipodepropiedad','direccion', 'ciudad']\n",
    "df_test.drop(cols_dropped + cols_string, axis=1).count()"
   ]
  },
  {
   "cell_type": "code",
   "execution_count": 44,
   "metadata": {},
   "outputs": [],
   "source": [
    "df_test['habitaciones'] = imp.fit_transform(df_test[['habitaciones']])\n",
    "df_test['garages'] = imp.fit_transform(df_test[['garages']])\n",
    "df_test['banos'] = imp.fit_transform(df_test[['banos']])"
   ]
  },
  {
   "cell_type": "code",
   "execution_count": 45,
   "metadata": {},
   "outputs": [
    {
     "data": {
      "text/plain": [
       "Unnamed: 0                    18177\n",
       "id                            18177\n",
       "antiguedad                    18177\n",
       "habitaciones                  18177\n",
       "garages                       18177\n",
       "banos                         18177\n",
       "metroscubiertos               18177\n",
       "metrostotales                 18177\n",
       "lat                            8071\n",
       "lng                            8071\n",
       "gimnasio                      18177\n",
       "usosmultiples                 18177\n",
       "piscina                       18177\n",
       "escuelascercanas              18177\n",
       "centroscomercialescercanos    18177\n",
       "Aguascalientes                18177\n",
       "Baja California Norte         18177\n",
       "Baja California Sur           18177\n",
       "Chiapas                       18177\n",
       "Chihuahua                     18177\n",
       "Coahuila                      18177\n",
       "Colima                        18177\n",
       "Durango                       18177\n",
       "Guanajuato                    18177\n",
       "Guerrero                      18177\n",
       "Hidalgo                       18177\n",
       "Michoacán                     18177\n",
       "Morelos                       18177\n",
       "Nayarit                       18177\n",
       "Quintana Roo                  18177\n",
       "San luis Potosí               18177\n",
       "Sinaloa                       18177\n",
       "Sonora                        18177\n",
       "Tamaulipas                    18177\n",
       "Veracruz                      18177\n",
       "Yucatán                       18177\n",
       "dtype: int64"
      ]
     },
     "execution_count": 45,
     "metadata": {},
     "output_type": "execute_result"
    }
   ],
   "source": [
    "cols_dropped = ['fecha', 'idzona']\n",
    "cols_string = ['titulo', 'descripcion','tipodepropiedad','direccion', 'ciudad']\n",
    "df_test.drop(cols_dropped + cols_string, axis=1).count()"
   ]
  },
  {
   "cell_type": "markdown",
   "metadata": {},
   "source": [
    "# Features a CSV"
   ]
  },
  {
   "cell_type": "code",
   "execution_count": 46,
   "metadata": {},
   "outputs": [],
   "source": [
    "cols_dropped = ['lat', 'lng','fecha', 'id', 'idzona']\n",
    "cols_string = ['titulo', 'descripcion','tipodepropiedad','direccion', 'ciudad']\n",
    "features = features.drop(cols_dropped + cols_string, axis=1)\n",
    "cols_dropped = ['lat', 'lng', 'fecha', 'idzona']\n",
    "df_test = df_test.drop(cols_dropped + cols_string, axis=1)"
   ]
  },
  {
   "cell_type": "code",
   "execution_count": 47,
   "metadata": {},
   "outputs": [],
   "source": [
    "features.to_csv('data/features_medium_provinces.csv', index=False)\n",
    "df_test.to_csv('data/test_medium_provinces_modified.csv', index=True)"
   ]
  },
  {
   "cell_type": "code",
   "execution_count": null,
   "metadata": {},
   "outputs": [],
   "source": []
  }
 ],
 "metadata": {
  "kernelspec": {
   "display_name": "Python 3",
   "language": "python",
   "name": "python3"
  },
  "language_info": {
   "codemirror_mode": {
    "name": "ipython",
    "version": 3
   },
   "file_extension": ".py",
   "mimetype": "text/x-python",
   "name": "python",
   "nbconvert_exporter": "python",
   "pygments_lexer": "ipython3",
   "version": "3.7.4"
  }
 },
 "nbformat": 4,
 "nbformat_minor": 4
}
